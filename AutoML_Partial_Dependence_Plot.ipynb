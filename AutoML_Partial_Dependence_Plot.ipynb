{
 "cells": [
  {
   "cell_type": "markdown",
   "metadata": {},
   "source": [
    "### Regression -  Weather of Seized(2006-2016)"
   ]
  },
  {
   "cell_type": "markdown",
   "metadata": {
    "collapsed": true
   },
   "source": [
    "H2O’s AutoML can be used for automating the machine learning workflow, which includes automatic training and tuning of many models within a user-specified time-limit. The user can also use a performance metric-based stopping criterion for the AutoML process rather than a specific time constraint. Stacked Ensembles will be automatically trained on the collection individual models to produce a highly predictive ensemble model which, in most cases, will be the top performing model in the AutoML Leaderboard. Stacked ensembles are not yet available for multiclass classification problems, so in that case, only singleton models will be trained.\n",
    "\n",
    "\n",
    "# Gradient Boosting Machine (GBM)\n",
    "\n",
    "Gradient Boosting Machine (for Regression and Classification) is a forward learning ensemble method. The guiding heuristic is that good predictive results can be obtained through increasingly refined approximations. H2O’s GBM sequentially builds regression trees on all the features of the dataset in a fully distributed way - each tree is built in parallel.\n",
    "\n",
    "### Interpreting the GBM Model:\n",
    "\n",
    "The output for GBM includes the following:\n",
    "\n",
    "-  Model parameters (hidden)\n",
    "- A graph of the scoring history (training MSE vs number of trees)\n",
    "- A graph of the variable importances\n",
    "- Output (model category, validation metrics, initf)\n",
    "- Model summary (number of trees, min. depth, max. depth, mean depth, min. leaves, max. leaves, mean leaves)\n",
    "- Scoring history in tabular format\n",
    "- Training metrics (model name, model checksum name, frame name, description, model category, duration in ms, scoring time, predictions, MSE, R2)\n",
    "- Variable importances in tabular format\n",
    "\n",
    "\n",
    "# Generalized Linear Model (GLM)\n",
    "\n",
    "Generalized Linear Models (GLM) estimate regression models for outcomes following exponential distributions. In addition to the Gaussian (i.e. normal) distribution, these include Poisson, binomial, and gamma distributions. Each serves a different purpose, and depending on distribution and link function choice, can be used either for prediction or classification.\n",
    "\n",
    "References:\n",
    "\n",
    "http://docs.h2o.ai/h2o/latest-stable/h2o-py/docs/model_categories.html#module-h2o.model.regression\n",
    "\n",
    "https://github.com/nikbearbrown/CSYE_7245/tree/master/H2O\n",
    "\n",
    "http://docs.h2o.ai/h2o/latest-stable/h2o-docs/data-science/gbm.html\n",
    "\n",
    "https://h2o-release.s3.amazonaws.com/h2o/master/3888/docs-website/h2o-docs/automl.html"
   ]
  },
  {
   "cell_type": "code",
   "execution_count": 2,
   "metadata": {
    "collapsed": true
   },
   "outputs": [],
   "source": [
    "import h2o\n",
    "from h2o.automl import H2OAutoML\n",
    "import random, os, sys\n",
    "from datetime import datetime\n",
    "import pandas as pd\n",
    "import logging\n",
    "import csv\n",
    "import optparse\n",
    "import time\n",
    "import json\n",
    "from distutils.util import strtobool\n",
    "import matplotlib.pyplot as plt\n",
    "%matplotlib inline"
   ]
  },
  {
   "cell_type": "code",
   "execution_count": 3,
   "metadata": {
    "collapsed": true
   },
   "outputs": [],
   "source": [
    "data_path=None\n",
    "all_variables=None\n",
    "test_path=None\n",
    "target='Humidity'\n",
    "nthreads=1 \n",
    "min_mem_size=6 \n",
    "run_time=600\n",
    "classification=False\n",
    "scale=False\n",
    "max_models=9    \n",
    "model_path=None\n",
    "balance_y=False \n",
    "balance_threshold=0.2\n",
    "name=None \n",
    "server_path=None  \n",
    "analysis=0 "
   ]
  },
  {
   "cell_type": "code",
   "execution_count": 4,
   "metadata": {
    "collapsed": true
   },
   "outputs": [],
   "source": [
    "data_path='weatherHistory.csv'"
   ]
  },
  {
   "cell_type": "code",
   "execution_count": 5,
   "metadata": {
    "collapsed": true
   },
   "outputs": [],
   "source": [
    "data_path = os.path.join(os.path.abspath(os.curdir),data_path)"
   ]
  },
  {
   "cell_type": "code",
   "execution_count": 6,
   "metadata": {
    "collapsed": true
   },
   "outputs": [],
   "source": [
    "all_variables=None"
   ]
  },
  {
   "cell_type": "code",
   "execution_count": 7,
   "metadata": {},
   "outputs": [
    {
     "name": "stdout",
     "output_type": "stream",
     "text": [
      "co6h3rrAE\n"
     ]
    }
   ],
   "source": [
    "run_id=alphabet(9)\n",
    "# run_id to std out\n",
    "print (run_id) "
   ]
  },
  {
   "cell_type": "code",
   "execution_count": 8,
   "metadata": {
    "collapsed": true
   },
   "outputs": [],
   "source": [
    "server_path=os.path.abspath(os.curdir)\n",
    "os.chdir(server_path) \n",
    "run_dir = os.path.join(server_path,run_id)\n",
    "os.mkdir(run_dir)\n",
    "os.chdir(run_dir) "
   ]
  },
  {
   "cell_type": "code",
   "execution_count": 3,
   "metadata": {
    "scrolled": true
   },
   "outputs": [
    {
     "name": "stdout",
     "output_type": "stream",
     "text": [
      "Checking whether there is an H2O instance running at http://localhost:54321..... not found.\n",
      "Attempting to start a local H2O server...\n",
      "; Java HotSpot(TM) 64-Bit Server VM (build 25.181-b13, mixed mode)\n",
      "  Starting server from C:\\Users\\manan\\Anaconda3\\lib\\site-packages\\h2o\\backend\\bin\\h2o.jar\n",
      "  Ice root: C:\\Users\\manan\\AppData\\Local\\Temp\\tmp4exuzlpv\n",
      "  JVM stdout: C:\\Users\\manan\\AppData\\Local\\Temp\\tmp4exuzlpv\\h2o_Manan_Shukla_started_from_python.out\n",
      "  JVM stderr: C:\\Users\\manan\\AppData\\Local\\Temp\\tmp4exuzlpv\\h2o_Manan_Shukla_started_from_python.err\n",
      "  Server is running at http://127.0.0.1:54321\n",
      "Connecting to H2O server at http://127.0.0.1:54321... successful.\n"
     ]
    },
    {
     "data": {
      "text/html": [
       "<div style=\"overflow:auto\"><table style=\"width:50%\"><tr><td>H2O cluster uptime:</td>\n",
       "<td>02 secs</td></tr>\n",
       "<tr><td>H2O cluster timezone:</td>\n",
       "<td>America/New_York</td></tr>\n",
       "<tr><td>H2O data parsing timezone:</td>\n",
       "<td>UTC</td></tr>\n",
       "<tr><td>H2O cluster version:</td>\n",
       "<td>3.20.0.9</td></tr>\n",
       "<tr><td>H2O cluster version age:</td>\n",
       "<td>2 months and 8 days </td></tr>\n",
       "<tr><td>H2O cluster name:</td>\n",
       "<td>H2O_from_python_Manan_Shukla_my4xh7</td></tr>\n",
       "<tr><td>H2O cluster total nodes:</td>\n",
       "<td>1</td></tr>\n",
       "<tr><td>H2O cluster free memory:</td>\n",
       "<td>3.530 Gb</td></tr>\n",
       "<tr><td>H2O cluster total cores:</td>\n",
       "<td>4</td></tr>\n",
       "<tr><td>H2O cluster allowed cores:</td>\n",
       "<td>4</td></tr>\n",
       "<tr><td>H2O cluster status:</td>\n",
       "<td>accepting new members, healthy</td></tr>\n",
       "<tr><td>H2O connection url:</td>\n",
       "<td>http://127.0.0.1:54321</td></tr>\n",
       "<tr><td>H2O connection proxy:</td>\n",
       "<td>None</td></tr>\n",
       "<tr><td>H2O internal security:</td>\n",
       "<td>False</td></tr>\n",
       "<tr><td>H2O API Extensions:</td>\n",
       "<td>Algos, AutoML, Core V3, Core V4</td></tr>\n",
       "<tr><td>Python version:</td>\n",
       "<td>3.6.3 final</td></tr></table></div>"
      ],
      "text/plain": [
       "--------------------------  -----------------------------------\n",
       "H2O cluster uptime:         02 secs\n",
       "H2O cluster timezone:       America/New_York\n",
       "H2O data parsing timezone:  UTC\n",
       "H2O cluster version:        3.20.0.9\n",
       "H2O cluster version age:    2 months and 8 days\n",
       "H2O cluster name:           H2O_from_python_Manan_Shukla_my4xh7\n",
       "H2O cluster total nodes:    1\n",
       "H2O cluster free memory:    3.530 Gb\n",
       "H2O cluster total cores:    4\n",
       "H2O cluster allowed cores:  4\n",
       "H2O cluster status:         accepting new members, healthy\n",
       "H2O connection url:         http://127.0.0.1:54321\n",
       "H2O connection proxy:\n",
       "H2O internal security:      False\n",
       "H2O API Extensions:         Algos, AutoML, Core V3, Core V4\n",
       "Python version:             3.6.3 final\n",
       "--------------------------  -----------------------------------"
      ]
     },
     "metadata": {},
     "output_type": "display_data"
    }
   ],
   "source": [
    "# 65535 Highest port no\n",
    "#port_no=random.randint(5555,55555)\n",
    "h2o.init()"
   ]
  },
  {
   "cell_type": "code",
   "execution_count": 9,
   "metadata": {},
   "outputs": [
    {
     "name": "stdout",
     "output_type": "stream",
     "text": [
      "{'run_id': 'co6h3rrAE', 'start_time': 1543901242.9459176, 'target': 'Humidity', 'max_models': 9, 'run_time': 600, 'scale': False, 'classification': False, 'balance': False, 'balance_threshold': 0.2, 'project': None, 'end_time': 1543901242.9459176, 'execution_time': 0.0, 'nthreads': 1, 'min_mem_size': 6, 'analysis': 0}\n"
     ]
    }
   ],
   "source": [
    "# meta data\n",
    "meta_data = set_meta_data(run_id,analysis,target,run_time,classification,scale,max_models,balance_y,balance_threshold,name,nthreads,min_mem_size)\n",
    "print(meta_data)  "
   ]
  },
  {
   "cell_type": "code",
   "execution_count": 10,
   "metadata": {},
   "outputs": [
    {
     "name": "stdout",
     "output_type": "stream",
     "text": [
      "C:\\Users\\raghu\\OneDrive\\Desktop\\Manan\\Assignment_2\\weatherHistory.csv\n"
     ]
    }
   ],
   "source": [
    "print(data_path)"
   ]
  },
  {
   "cell_type": "code",
   "execution_count": 15,
   "metadata": {},
   "outputs": [
    {
     "name": "stdout",
     "output_type": "stream",
     "text": [
      "Parse progress: |█████████████████████████████████████████████████████████| 100%\n"
     ]
    }
   ],
   "source": [
    "df = h2o.import_file(data_path)"
   ]
  },
  {
   "cell_type": "code",
   "execution_count": 16,
   "metadata": {
    "collapsed": true
   },
   "outputs": [],
   "source": [
    "# h2o.connect()"
   ]
  },
  {
   "cell_type": "code",
   "execution_count": 17,
   "metadata": {
    "scrolled": true
   },
   "outputs": [
    {
     "name": "stdout",
     "output_type": "stream",
     "text": [
      "Rows:96453\n",
      "Cols:12\n",
      "\n",
      "\n"
     ]
    },
    {
     "data": {
      "text/html": [
       "<table>\n",
       "<thead>\n",
       "<tr><th>       </th><th>Formatted Date               </th><th>Summary      </th><th>Precip Type  </th><th>Temperature (C)    </th><th>Apparent Temperature (C)  </th><th>Humidity          </th><th>Wind Speed (km/h)  </th><th>Wind Bearing (degrees)  </th><th>Visibility (km)   </th><th>Loud Cover  </th><th>Pressure (millibars)  </th><th>Daily Summary                    </th></tr>\n",
       "</thead>\n",
       "<tbody>\n",
       "<tr><td>type   </td><td>string                       </td><td>enum         </td><td>enum         </td><td>real               </td><td>real                      </td><td>real              </td><td>real               </td><td>int                     </td><td>real              </td><td>int         </td><td>real                  </td><td>enum                             </td></tr>\n",
       "<tr><td>mins   </td><td>NaN                          </td><td>             </td><td>             </td><td>-21.822222222222223</td><td>-27.716666666666665       </td><td>0.0               </td><td>0.0                </td><td>0.0                     </td><td>0.0               </td><td>0.0         </td><td>0.0                   </td><td>                                 </td></tr>\n",
       "<tr><td>mean   </td><td>NaN                          </td><td>             </td><td>             </td><td>11.932678437511877 </td><td>10.855028874166695        </td><td>0.7348989663359355</td><td>10.810640140793952 </td><td>187.50923247592107      </td><td>10.347324929240152</td><td>0.0         </td><td>1003.2359558541469    </td><td>                                 </td></tr>\n",
       "<tr><td>maxs   </td><td>NaN                          </td><td>             </td><td>             </td><td>39.90555555555555  </td><td>39.34444444444444         </td><td>1.0               </td><td>63.852599999999995 </td><td>359.0                   </td><td>16.1              </td><td>0.0         </td><td>1046.38               </td><td>                                 </td></tr>\n",
       "<tr><td>sigma  </td><td>NaN                          </td><td>             </td><td>             </td><td>9.551546320657028  </td><td>10.69684739211919         </td><td>0.1954727390672154</td><td>6.913571012591992  </td><td>107.38342838070582      </td><td>4.192123191422782 </td><td>0.0         </td><td>116.96990568258003    </td><td>                                 </td></tr>\n",
       "<tr><td>zeros  </td><td>0                            </td><td>             </td><td>             </td><td>325                </td><td>69                        </td><td>22                </td><td>1297               </td><td>2264                    </td><td>450               </td><td>96453       </td><td>1288                  </td><td>                                 </td></tr>\n",
       "<tr><td>missing</td><td>0                            </td><td>0            </td><td>0            </td><td>0                  </td><td>0                         </td><td>0                 </td><td>0                  </td><td>0                       </td><td>0                 </td><td>0           </td><td>0                     </td><td>0                                </td></tr>\n",
       "<tr><td>0      </td><td>2006-04-01 00:00:00.000 +0200</td><td>Partly Cloudy</td><td>rain         </td><td>9.47222222222222   </td><td>7.388888888888888         </td><td>0.89              </td><td>14.1197            </td><td>251.0                   </td><td>15.826300000000002</td><td>0.0         </td><td>1015.13               </td><td>Partly cloudy throughout the day.</td></tr>\n",
       "<tr><td>1      </td><td>2006-04-01 01:00:00.000 +0200</td><td>Partly Cloudy</td><td>rain         </td><td>9.355555555555558  </td><td>7.227777777777776         </td><td>0.86              </td><td>14.2646            </td><td>259.0                   </td><td>15.826300000000002</td><td>0.0         </td><td>1015.63               </td><td>Partly cloudy throughout the day.</td></tr>\n",
       "<tr><td>2      </td><td>2006-04-01 02:00:00.000 +0200</td><td>Mostly Cloudy</td><td>rain         </td><td>9.377777777777778  </td><td>9.377777777777778         </td><td>0.89              </td><td>3.9284             </td><td>204.0                   </td><td>14.9569           </td><td>0.0         </td><td>1015.94               </td><td>Partly cloudy throughout the day.</td></tr>\n",
       "<tr><td>3      </td><td>2006-04-01 03:00:00.000 +0200</td><td>Partly Cloudy</td><td>rain         </td><td>8.28888888888889   </td><td>5.944444444444446         </td><td>0.83              </td><td>14.1036            </td><td>269.0                   </td><td>15.826300000000002</td><td>0.0         </td><td>1016.41               </td><td>Partly cloudy throughout the day.</td></tr>\n",
       "<tr><td>4      </td><td>2006-04-01 04:00:00.000 +0200</td><td>Mostly Cloudy</td><td>rain         </td><td>8.755555555555553  </td><td>6.977777777777779         </td><td>0.83              </td><td>11.0446            </td><td>259.0                   </td><td>15.826300000000002</td><td>0.0         </td><td>1016.51               </td><td>Partly cloudy throughout the day.</td></tr>\n",
       "<tr><td>5      </td><td>2006-04-01 05:00:00.000 +0200</td><td>Partly Cloudy</td><td>rain         </td><td>9.22222222222222   </td><td>7.11111111111111          </td><td>0.85              </td><td>13.9587            </td><td>258.0                   </td><td>14.9569           </td><td>0.0         </td><td>1016.66               </td><td>Partly cloudy throughout the day.</td></tr>\n",
       "<tr><td>6      </td><td>2006-04-01 06:00:00.000 +0200</td><td>Partly Cloudy</td><td>rain         </td><td>7.733333333333334  </td><td>5.522222222222221         </td><td>0.95              </td><td>12.3648            </td><td>259.0                   </td><td>9.982             </td><td>0.0         </td><td>1016.72               </td><td>Partly cloudy throughout the day.</td></tr>\n",
       "<tr><td>7      </td><td>2006-04-01 07:00:00.000 +0200</td><td>Partly Cloudy</td><td>rain         </td><td>8.77222222222222   </td><td>6.527777777777778         </td><td>0.89              </td><td>14.1519            </td><td>260.0                   </td><td>9.982             </td><td>0.0         </td><td>1016.84               </td><td>Partly cloudy throughout the day.</td></tr>\n",
       "<tr><td>8      </td><td>2006-04-01 08:00:00.000 +0200</td><td>Partly Cloudy</td><td>rain         </td><td>10.82222222222222  </td><td>10.82222222222222         </td><td>0.82              </td><td>11.3183            </td><td>259.0                   </td><td>9.982             </td><td>0.0         </td><td>1017.37               </td><td>Partly cloudy throughout the day.</td></tr>\n",
       "<tr><td>9      </td><td>2006-04-01 09:00:00.000 +0200</td><td>Partly Cloudy</td><td>rain         </td><td>13.77222222222222  </td><td>13.77222222222222         </td><td>0.72              </td><td>12.525800000000002 </td><td>279.0                   </td><td>9.982             </td><td>0.0         </td><td>1017.22               </td><td>Partly cloudy throughout the day.</td></tr>\n",
       "</tbody>\n",
       "</table>"
      ]
     },
     "metadata": {},
     "output_type": "display_data"
    }
   ],
   "source": [
    "df.describe()"
   ]
  },
  {
   "cell_type": "markdown",
   "metadata": {},
   "source": [
    "describe()[source]\n",
    "Generate an in-depth description of this H2OFrame.\n",
    "\n",
    "The description is a tabular print of the type, min, max, sigma, number of zeros, and number of missing elements for each H2OVec in this H2OFrame.\n",
    "\n",
    "Returns:\tNone (print to stdout) "
   ]
  },
  {
   "cell_type": "code",
   "execution_count": 18,
   "metadata": {
    "collapsed": true
   },
   "outputs": [],
   "source": [
    "# dependent variable\n",
    "# assign target and inputs for classification or regression\n",
    "if target==None:\n",
    "    target=df.columns[-1]   \n",
    "y = target"
   ]
  },
  {
   "cell_type": "code",
   "execution_count": 19,
   "metadata": {},
   "outputs": [
    {
     "name": "stdout",
     "output_type": "stream",
     "text": [
      "Humidity\n"
     ]
    }
   ],
   "source": [
    "print(y)"
   ]
  },
  {
   "cell_type": "code",
   "execution_count": 20,
   "metadata": {
    "scrolled": true
   },
   "outputs": [
    {
     "name": "stdout",
     "output_type": "stream",
     "text": [
      "None\n"
     ]
    }
   ],
   "source": [
    "print(all_variables)"
   ]
  },
  {
   "cell_type": "code",
   "execution_count": 21,
   "metadata": {
    "collapsed": true
   },
   "outputs": [],
   "source": [
    "if all_variables is not None:\n",
    "    ivd=get_all_variables_csv(all_variables)\n",
    "    print(ivd)    \n",
    "    X=check_all_variables(df,ivd,y)\n",
    "    print(X)"
   ]
  },
  {
   "cell_type": "code",
   "execution_count": 22,
   "metadata": {},
   "outputs": [
    {
     "name": "stdout",
     "output_type": "stream",
     "text": [
      "Rows:96453\n",
      "Cols:12\n",
      "\n",
      "\n"
     ]
    },
    {
     "data": {
      "text/html": [
       "<table>\n",
       "<thead>\n",
       "<tr><th>       </th><th>Formatted Date               </th><th>Summary      </th><th>Precip Type  </th><th>Temperature (C)    </th><th>Apparent Temperature (C)  </th><th>Humidity          </th><th>Wind Speed (km/h)  </th><th>Wind Bearing (degrees)  </th><th>Visibility (km)   </th><th>Loud Cover  </th><th>Pressure (millibars)  </th><th>Daily Summary                    </th></tr>\n",
       "</thead>\n",
       "<tbody>\n",
       "<tr><td>type   </td><td>string                       </td><td>enum         </td><td>enum         </td><td>real               </td><td>real                      </td><td>real              </td><td>real               </td><td>int                     </td><td>real              </td><td>int         </td><td>real                  </td><td>enum                             </td></tr>\n",
       "<tr><td>mins   </td><td>NaN                          </td><td>             </td><td>             </td><td>-21.822222222222223</td><td>-27.716666666666665       </td><td>0.0               </td><td>0.0                </td><td>0.0                     </td><td>0.0               </td><td>0.0         </td><td>0.0                   </td><td>                                 </td></tr>\n",
       "<tr><td>mean   </td><td>NaN                          </td><td>             </td><td>             </td><td>11.932678437511877 </td><td>10.855028874166695        </td><td>0.7348989663359355</td><td>10.810640140793952 </td><td>187.50923247592107      </td><td>10.347324929240152</td><td>0.0         </td><td>1003.2359558541469    </td><td>                                 </td></tr>\n",
       "<tr><td>maxs   </td><td>NaN                          </td><td>             </td><td>             </td><td>39.90555555555555  </td><td>39.34444444444444         </td><td>1.0               </td><td>63.852599999999995 </td><td>359.0                   </td><td>16.1              </td><td>0.0         </td><td>1046.38               </td><td>                                 </td></tr>\n",
       "<tr><td>sigma  </td><td>NaN                          </td><td>             </td><td>             </td><td>9.551546320657028  </td><td>10.69684739211919         </td><td>0.1954727390672154</td><td>6.913571012591992  </td><td>107.38342838070582      </td><td>4.192123191422782 </td><td>0.0         </td><td>116.96990568258003    </td><td>                                 </td></tr>\n",
       "<tr><td>zeros  </td><td>0                            </td><td>             </td><td>             </td><td>325                </td><td>69                        </td><td>22                </td><td>1297               </td><td>2264                    </td><td>450               </td><td>96453       </td><td>1288                  </td><td>                                 </td></tr>\n",
       "<tr><td>missing</td><td>0                            </td><td>0            </td><td>0            </td><td>0                  </td><td>0                         </td><td>0                 </td><td>0                  </td><td>0                       </td><td>0                 </td><td>0           </td><td>0                     </td><td>0                                </td></tr>\n",
       "<tr><td>0      </td><td>2006-04-01 00:00:00.000 +0200</td><td>Partly Cloudy</td><td>rain         </td><td>9.47222222222222   </td><td>7.388888888888888         </td><td>0.89              </td><td>14.1197            </td><td>251.0                   </td><td>15.826300000000002</td><td>0.0         </td><td>1015.13               </td><td>Partly cloudy throughout the day.</td></tr>\n",
       "<tr><td>1      </td><td>2006-04-01 01:00:00.000 +0200</td><td>Partly Cloudy</td><td>rain         </td><td>9.355555555555558  </td><td>7.227777777777776         </td><td>0.86              </td><td>14.2646            </td><td>259.0                   </td><td>15.826300000000002</td><td>0.0         </td><td>1015.63               </td><td>Partly cloudy throughout the day.</td></tr>\n",
       "<tr><td>2      </td><td>2006-04-01 02:00:00.000 +0200</td><td>Mostly Cloudy</td><td>rain         </td><td>9.377777777777778  </td><td>9.377777777777778         </td><td>0.89              </td><td>3.9284             </td><td>204.0                   </td><td>14.9569           </td><td>0.0         </td><td>1015.94               </td><td>Partly cloudy throughout the day.</td></tr>\n",
       "<tr><td>3      </td><td>2006-04-01 03:00:00.000 +0200</td><td>Partly Cloudy</td><td>rain         </td><td>8.28888888888889   </td><td>5.944444444444446         </td><td>0.83              </td><td>14.1036            </td><td>269.0                   </td><td>15.826300000000002</td><td>0.0         </td><td>1016.41               </td><td>Partly cloudy throughout the day.</td></tr>\n",
       "<tr><td>4      </td><td>2006-04-01 04:00:00.000 +0200</td><td>Mostly Cloudy</td><td>rain         </td><td>8.755555555555553  </td><td>6.977777777777779         </td><td>0.83              </td><td>11.0446            </td><td>259.0                   </td><td>15.826300000000002</td><td>0.0         </td><td>1016.51               </td><td>Partly cloudy throughout the day.</td></tr>\n",
       "<tr><td>5      </td><td>2006-04-01 05:00:00.000 +0200</td><td>Partly Cloudy</td><td>rain         </td><td>9.22222222222222   </td><td>7.11111111111111          </td><td>0.85              </td><td>13.9587            </td><td>258.0                   </td><td>14.9569           </td><td>0.0         </td><td>1016.66               </td><td>Partly cloudy throughout the day.</td></tr>\n",
       "<tr><td>6      </td><td>2006-04-01 06:00:00.000 +0200</td><td>Partly Cloudy</td><td>rain         </td><td>7.733333333333334  </td><td>5.522222222222221         </td><td>0.95              </td><td>12.3648            </td><td>259.0                   </td><td>9.982             </td><td>0.0         </td><td>1016.72               </td><td>Partly cloudy throughout the day.</td></tr>\n",
       "<tr><td>7      </td><td>2006-04-01 07:00:00.000 +0200</td><td>Partly Cloudy</td><td>rain         </td><td>8.77222222222222   </td><td>6.527777777777778         </td><td>0.89              </td><td>14.1519            </td><td>260.0                   </td><td>9.982             </td><td>0.0         </td><td>1016.84               </td><td>Partly cloudy throughout the day.</td></tr>\n",
       "<tr><td>8      </td><td>2006-04-01 08:00:00.000 +0200</td><td>Partly Cloudy</td><td>rain         </td><td>10.82222222222222  </td><td>10.82222222222222         </td><td>0.82              </td><td>11.3183            </td><td>259.0                   </td><td>9.982             </td><td>0.0         </td><td>1017.37               </td><td>Partly cloudy throughout the day.</td></tr>\n",
       "<tr><td>9      </td><td>2006-04-01 09:00:00.000 +0200</td><td>Partly Cloudy</td><td>rain         </td><td>13.77222222222222  </td><td>13.77222222222222         </td><td>0.72              </td><td>12.525800000000002 </td><td>279.0                   </td><td>9.982             </td><td>0.0         </td><td>1017.22               </td><td>Partly cloudy throughout the day.</td></tr>\n",
       "</tbody>\n",
       "</table>"
      ]
     },
     "metadata": {},
     "output_type": "display_data"
    }
   ],
   "source": [
    "df.describe()"
   ]
  },
  {
   "cell_type": "code",
   "execution_count": 23,
   "metadata": {
    "collapsed": true
   },
   "outputs": [],
   "source": [
    "# independent variables\n",
    "\n",
    "X = []  \n",
    "if all_variables is None:\n",
    "    X=get_independent_variables(df, target)  \n",
    "else: \n",
    "    ivd=get_all_variables_csv(all_variables)    \n",
    "    X=check_all_variables(df, ivd)\n",
    "\n",
    "\n",
    "X=check_X(X,df)\n",
    "\n",
    "\n",
    "# Add independent variables\n",
    "\n",
    "meta_data['X']=X  \n",
    "\n",
    "\n",
    "# impute missing values\n",
    "\n",
    "_=impute_missing_values(df,X, scale)"
   ]
  },
  {
   "cell_type": "code",
   "execution_count": 24,
   "metadata": {
    "collapsed": true
   },
   "outputs": [],
   "source": [
    "if analysis == 3:\n",
    "    classification=False\n",
    "elif analysis == 2:\n",
    "    classification=True\n",
    "elif analysis == 1:\n",
    "    classification=True"
   ]
  },
  {
   "cell_type": "code",
   "execution_count": 25,
   "metadata": {},
   "outputs": [
    {
     "name": "stdout",
     "output_type": "stream",
     "text": [
      "False\n"
     ]
    }
   ],
   "source": [
    "print(classification)"
   ]
  },
  {
   "cell_type": "code",
   "execution_count": 26,
   "metadata": {
    "collapsed": true
   },
   "outputs": [],
   "source": [
    "# Force target to be factors\n",
    "# Only 'int' or 'string' are allowed for asfactor(), got Target (Total orders):real \n",
    "\n",
    "if classification:\n",
    "    df[y] = df[y].asfactor()"
   ]
  },
  {
   "cell_type": "code",
   "execution_count": 27,
   "metadata": {},
   "outputs": [
    {
     "data": {
      "text/plain": [
       "dict_items([('Formatted Date', 'string'), ('Summary', 'enum'), ('Precip Type', 'enum'), ('Temperature (C)', 'real'), ('Apparent Temperature (C)', 'real'), ('Humidity', 'real'), ('Wind Speed (km/h)', 'real'), ('Wind Bearing (degrees)', 'int'), ('Visibility (km)', 'real'), ('Loud Cover', 'int'), ('Pressure (millibars)', 'real'), ('Daily Summary', 'enum')])"
      ]
     },
     "execution_count": 27,
     "metadata": {},
     "output_type": "execute_result"
    }
   ],
   "source": [
    "df.types.items()"
   ]
  },
  {
   "cell_type": "code",
   "execution_count": 28,
   "metadata": {
    "collapsed": true
   },
   "outputs": [],
   "source": [
    "def check_y(y,df):\n",
    "    ok=False\n",
    "    C = [name for name in df.columns if name == y]\n",
    "    for key, val in df.types.items():\n",
    "        if key in C:\n",
    "            if val in ['real','int','enum']:        \n",
    "                ok=True         \n",
    "                return ok, val   "
   ]
  },
  {
   "cell_type": "code",
   "execution_count": 29,
   "metadata": {
    "collapsed": true
   },
   "outputs": [],
   "source": [
    "ok,val=check_y(y,df)"
   ]
  },
  {
   "cell_type": "code",
   "execution_count": 30,
   "metadata": {},
   "outputs": [
    {
     "name": "stdout",
     "output_type": "stream",
     "text": [
      "real\n"
     ]
    }
   ],
   "source": [
    "print(val)"
   ]
  },
  {
   "cell_type": "code",
   "execution_count": 31,
   "metadata": {},
   "outputs": [
    {
     "name": "stdout",
     "output_type": "stream",
     "text": [
      "True\n"
     ]
    }
   ],
   "source": [
    "print(ok)"
   ]
  },
  {
   "cell_type": "code",
   "execution_count": 32,
   "metadata": {
    "collapsed": true
   },
   "outputs": [],
   "source": [
    "if val=='enum':\n",
    "    print(df[y].levels())"
   ]
  },
  {
   "cell_type": "code",
   "execution_count": 33,
   "metadata": {},
   "outputs": [
    {
     "name": "stdout",
     "output_type": "stream",
     "text": [
      "Rows:96453\n",
      "Cols:12\n",
      "\n",
      "\n"
     ]
    },
    {
     "data": {
      "text/html": [
       "<table>\n",
       "<thead>\n",
       "<tr><th>       </th><th>Formatted Date               </th><th>Summary      </th><th>Precip Type  </th><th>Temperature (C)    </th><th>Apparent Temperature (C)  </th><th>Humidity          </th><th>Wind Speed (km/h)  </th><th>Wind Bearing (degrees)  </th><th>Visibility (km)   </th><th>Loud Cover  </th><th>Pressure (millibars)  </th><th>Daily Summary                    </th></tr>\n",
       "</thead>\n",
       "<tbody>\n",
       "<tr><td>type   </td><td>string                       </td><td>enum         </td><td>enum         </td><td>real               </td><td>real                      </td><td>real              </td><td>real               </td><td>int                     </td><td>real              </td><td>int         </td><td>real                  </td><td>enum                             </td></tr>\n",
       "<tr><td>mins   </td><td>NaN                          </td><td>             </td><td>             </td><td>-21.822222222222223</td><td>-27.716666666666665       </td><td>0.0               </td><td>0.0                </td><td>0.0                     </td><td>0.0               </td><td>0.0         </td><td>0.0                   </td><td>                                 </td></tr>\n",
       "<tr><td>mean   </td><td>NaN                          </td><td>             </td><td>             </td><td>11.932678437511877 </td><td>10.855028874166695        </td><td>0.7348989663359355</td><td>10.810640140793952 </td><td>187.50923247592107      </td><td>10.347324929240152</td><td>0.0         </td><td>1003.2359558541469    </td><td>                                 </td></tr>\n",
       "<tr><td>maxs   </td><td>NaN                          </td><td>             </td><td>             </td><td>39.90555555555555  </td><td>39.34444444444444         </td><td>1.0               </td><td>63.852599999999995 </td><td>359.0                   </td><td>16.1              </td><td>0.0         </td><td>1046.38               </td><td>                                 </td></tr>\n",
       "<tr><td>sigma  </td><td>NaN                          </td><td>             </td><td>             </td><td>9.551546320657028  </td><td>10.69684739211919         </td><td>0.1954727390672154</td><td>6.913571012591992  </td><td>107.38342838070582      </td><td>4.192123191422782 </td><td>0.0         </td><td>116.96990568258003    </td><td>                                 </td></tr>\n",
       "<tr><td>zeros  </td><td>0                            </td><td>             </td><td>             </td><td>325                </td><td>69                        </td><td>22                </td><td>1297               </td><td>2264                    </td><td>450               </td><td>96453       </td><td>1288                  </td><td>                                 </td></tr>\n",
       "<tr><td>missing</td><td>0                            </td><td>0            </td><td>0            </td><td>0                  </td><td>0                         </td><td>0                 </td><td>0                  </td><td>0                       </td><td>0                 </td><td>0           </td><td>0                     </td><td>0                                </td></tr>\n",
       "<tr><td>0      </td><td>2006-04-01 00:00:00.000 +0200</td><td>Partly Cloudy</td><td>rain         </td><td>9.47222222222222   </td><td>7.388888888888888         </td><td>0.89              </td><td>14.1197            </td><td>251.0                   </td><td>15.826300000000002</td><td>0.0         </td><td>1015.13               </td><td>Partly cloudy throughout the day.</td></tr>\n",
       "<tr><td>1      </td><td>2006-04-01 01:00:00.000 +0200</td><td>Partly Cloudy</td><td>rain         </td><td>9.355555555555558  </td><td>7.227777777777776         </td><td>0.86              </td><td>14.2646            </td><td>259.0                   </td><td>15.826300000000002</td><td>0.0         </td><td>1015.63               </td><td>Partly cloudy throughout the day.</td></tr>\n",
       "<tr><td>2      </td><td>2006-04-01 02:00:00.000 +0200</td><td>Mostly Cloudy</td><td>rain         </td><td>9.377777777777778  </td><td>9.377777777777778         </td><td>0.89              </td><td>3.9284             </td><td>204.0                   </td><td>14.9569           </td><td>0.0         </td><td>1015.94               </td><td>Partly cloudy throughout the day.</td></tr>\n",
       "<tr><td>3      </td><td>2006-04-01 03:00:00.000 +0200</td><td>Partly Cloudy</td><td>rain         </td><td>8.28888888888889   </td><td>5.944444444444446         </td><td>0.83              </td><td>14.1036            </td><td>269.0                   </td><td>15.826300000000002</td><td>0.0         </td><td>1016.41               </td><td>Partly cloudy throughout the day.</td></tr>\n",
       "<tr><td>4      </td><td>2006-04-01 04:00:00.000 +0200</td><td>Mostly Cloudy</td><td>rain         </td><td>8.755555555555553  </td><td>6.977777777777779         </td><td>0.83              </td><td>11.0446            </td><td>259.0                   </td><td>15.826300000000002</td><td>0.0         </td><td>1016.51               </td><td>Partly cloudy throughout the day.</td></tr>\n",
       "<tr><td>5      </td><td>2006-04-01 05:00:00.000 +0200</td><td>Partly Cloudy</td><td>rain         </td><td>9.22222222222222   </td><td>7.11111111111111          </td><td>0.85              </td><td>13.9587            </td><td>258.0                   </td><td>14.9569           </td><td>0.0         </td><td>1016.66               </td><td>Partly cloudy throughout the day.</td></tr>\n",
       "<tr><td>6      </td><td>2006-04-01 06:00:00.000 +0200</td><td>Partly Cloudy</td><td>rain         </td><td>7.733333333333334  </td><td>5.522222222222221         </td><td>0.95              </td><td>12.3648            </td><td>259.0                   </td><td>9.982             </td><td>0.0         </td><td>1016.72               </td><td>Partly cloudy throughout the day.</td></tr>\n",
       "<tr><td>7      </td><td>2006-04-01 07:00:00.000 +0200</td><td>Partly Cloudy</td><td>rain         </td><td>8.77222222222222   </td><td>6.527777777777778         </td><td>0.89              </td><td>14.1519            </td><td>260.0                   </td><td>9.982             </td><td>0.0         </td><td>1016.84               </td><td>Partly cloudy throughout the day.</td></tr>\n",
       "<tr><td>8      </td><td>2006-04-01 08:00:00.000 +0200</td><td>Partly Cloudy</td><td>rain         </td><td>10.82222222222222  </td><td>10.82222222222222         </td><td>0.82              </td><td>11.3183            </td><td>259.0                   </td><td>9.982             </td><td>0.0         </td><td>1017.37               </td><td>Partly cloudy throughout the day.</td></tr>\n",
       "<tr><td>9      </td><td>2006-04-01 09:00:00.000 +0200</td><td>Partly Cloudy</td><td>rain         </td><td>13.77222222222222  </td><td>13.77222222222222         </td><td>0.72              </td><td>12.525800000000002 </td><td>279.0                   </td><td>9.982             </td><td>0.0         </td><td>1017.22               </td><td>Partly cloudy throughout the day.</td></tr>\n",
       "</tbody>\n",
       "</table>"
      ]
     },
     "metadata": {},
     "output_type": "display_data"
    }
   ],
   "source": [
    "df.describe()"
   ]
  },
  {
   "cell_type": "code",
   "execution_count": 34,
   "metadata": {},
   "outputs": [
    {
     "data": {
      "text/plain": [
       "{'Apparent Temperature (C)': 'real',\n",
       " 'Daily Summary': 'enum',\n",
       " 'Formatted Date': 'string',\n",
       " 'Humidity': 'real',\n",
       " 'Loud Cover': 'int',\n",
       " 'Precip Type': 'enum',\n",
       " 'Pressure (millibars)': 'real',\n",
       " 'Summary': 'enum',\n",
       " 'Temperature (C)': 'real',\n",
       " 'Visibility (km)': 'real',\n",
       " 'Wind Bearing (degrees)': 'int',\n",
       " 'Wind Speed (km/h)': 'real'}"
      ]
     },
     "execution_count": 34,
     "metadata": {},
     "output_type": "execute_result"
    }
   ],
   "source": [
    "allV=get_variables_types(df)\n",
    "allV"
   ]
  },
  {
   "cell_type": "code",
   "execution_count": 35,
   "metadata": {
    "collapsed": true
   },
   "outputs": [],
   "source": [
    "meta_data['variables']=allV"
   ]
  },
  {
   "cell_type": "code",
   "execution_count": 36,
   "metadata": {
    "collapsed": true
   },
   "outputs": [],
   "source": [
    "# split into training and test for showing how to predict\n",
    "train, test = df.split_frame([0.9])"
   ]
  },
  {
   "cell_type": "markdown",
   "metadata": {},
   "source": [
    "### Set up AutoML"
   ]
  },
  {
   "cell_type": "code",
   "execution_count": 42,
   "metadata": {
    "collapsed": true
   },
   "outputs": [],
   "source": [
    "aml = H2OAutoML(max_runtime_secs=run_time,project_name = name)"
   ]
  },
  {
   "cell_type": "code",
   "execution_count": 43,
   "metadata": {
    "collapsed": true
   },
   "outputs": [],
   "source": [
    "model_start_time = time.time()"
   ]
  },
  {
   "cell_type": "code",
   "execution_count": 44,
   "metadata": {},
   "outputs": [
    {
     "name": "stdout",
     "output_type": "stream",
     "text": [
      "AutoML progress: |████████████████████████████████████████████████████████| 100%\n"
     ]
    }
   ],
   "source": [
    "aml.train(x=X,y=y,training_frame=train)"
   ]
  },
  {
   "cell_type": "code",
   "execution_count": 45,
   "metadata": {
    "collapsed": true
   },
   "outputs": [],
   "source": [
    "meta_data['model_execution_time'] = time.time() - model_start_time"
   ]
  },
  {
   "cell_type": "code",
   "execution_count": 96,
   "metadata": {
    "collapsed": true
   },
   "outputs": [],
   "source": [
    "# get leaderboard\n",
    "aml_leaderboard_df=aml.leaderboard.as_data_frame()"
   ]
  },
  {
   "cell_type": "code",
   "execution_count": 97,
   "metadata": {},
   "outputs": [
    {
     "data": {
      "text/html": [
       "<div>\n",
       "<style scoped>\n",
       "    .dataframe tbody tr th:only-of-type {\n",
       "        vertical-align: middle;\n",
       "    }\n",
       "\n",
       "    .dataframe tbody tr th {\n",
       "        vertical-align: top;\n",
       "    }\n",
       "\n",
       "    .dataframe thead th {\n",
       "        text-align: right;\n",
       "    }\n",
       "</style>\n",
       "<table border=\"1\" class=\"dataframe\">\n",
       "  <thead>\n",
       "    <tr style=\"text-align: right;\">\n",
       "      <th></th>\n",
       "      <th>model_id</th>\n",
       "      <th>mean_residual_deviance</th>\n",
       "      <th>rmse</th>\n",
       "      <th>mse</th>\n",
       "      <th>mae</th>\n",
       "      <th>rmsle</th>\n",
       "    </tr>\n",
       "  </thead>\n",
       "  <tbody>\n",
       "    <tr>\n",
       "      <th>0</th>\n",
       "      <td>StackedEnsemble_AllModels_0_AutoML_20181015_20...</td>\n",
       "      <td>0.007832</td>\n",
       "      <td>0.088500</td>\n",
       "      <td>0.007832</td>\n",
       "      <td>0.063720</td>\n",
       "      <td>0.053632</td>\n",
       "    </tr>\n",
       "    <tr>\n",
       "      <th>1</th>\n",
       "      <td>GBM_grid_0_AutoML_20181015_203332_model_2</td>\n",
       "      <td>0.007965</td>\n",
       "      <td>0.089244</td>\n",
       "      <td>0.007965</td>\n",
       "      <td>0.064542</td>\n",
       "      <td>0.054073</td>\n",
       "    </tr>\n",
       "    <tr>\n",
       "      <th>2</th>\n",
       "      <td>GBM_grid_0_AutoML_20181015_203332_model_3</td>\n",
       "      <td>0.008270</td>\n",
       "      <td>0.090942</td>\n",
       "      <td>0.008270</td>\n",
       "      <td>0.065706</td>\n",
       "      <td>0.055115</td>\n",
       "    </tr>\n",
       "    <tr>\n",
       "      <th>3</th>\n",
       "      <td>GBM_grid_0_AutoML_20181015_203332_model_1</td>\n",
       "      <td>0.008328</td>\n",
       "      <td>0.091260</td>\n",
       "      <td>0.008328</td>\n",
       "      <td>0.066379</td>\n",
       "      <td>0.055318</td>\n",
       "    </tr>\n",
       "    <tr>\n",
       "      <th>4</th>\n",
       "      <td>GBM_grid_0_AutoML_20181015_203332_model_0</td>\n",
       "      <td>0.008359</td>\n",
       "      <td>0.091426</td>\n",
       "      <td>0.008359</td>\n",
       "      <td>0.066495</td>\n",
       "      <td>0.055436</td>\n",
       "    </tr>\n",
       "    <tr>\n",
       "      <th>5</th>\n",
       "      <td>StackedEnsemble_AllModels_0_AutoML_20181015_20...</td>\n",
       "      <td>0.008465</td>\n",
       "      <td>0.092007</td>\n",
       "      <td>0.008465</td>\n",
       "      <td>0.066180</td>\n",
       "      <td>0.055784</td>\n",
       "    </tr>\n",
       "    <tr>\n",
       "      <th>6</th>\n",
       "      <td>StackedEnsemble_BestOfFamily_0_AutoML_20181015...</td>\n",
       "      <td>0.008465</td>\n",
       "      <td>0.092007</td>\n",
       "      <td>0.008465</td>\n",
       "      <td>0.066180</td>\n",
       "      <td>0.055784</td>\n",
       "    </tr>\n",
       "    <tr>\n",
       "      <th>7</th>\n",
       "      <td>DRF_0_AutoML_20181015_202529</td>\n",
       "      <td>0.008501</td>\n",
       "      <td>0.092200</td>\n",
       "      <td>0.008501</td>\n",
       "      <td>0.066679</td>\n",
       "      <td>0.055922</td>\n",
       "    </tr>\n",
       "    <tr>\n",
       "      <th>8</th>\n",
       "      <td>DRF_0_AutoML_20181015_203332</td>\n",
       "      <td>0.008548</td>\n",
       "      <td>0.092454</td>\n",
       "      <td>0.008548</td>\n",
       "      <td>0.066701</td>\n",
       "      <td>0.056101</td>\n",
       "    </tr>\n",
       "    <tr>\n",
       "      <th>9</th>\n",
       "      <td>XRT_0_AutoML_20181015_202529</td>\n",
       "      <td>0.009502</td>\n",
       "      <td>0.097476</td>\n",
       "      <td>0.009502</td>\n",
       "      <td>0.071532</td>\n",
       "      <td>0.059201</td>\n",
       "    </tr>\n",
       "    <tr>\n",
       "      <th>10</th>\n",
       "      <td>XRT_0_AutoML_20181015_203332</td>\n",
       "      <td>0.009502</td>\n",
       "      <td>0.097479</td>\n",
       "      <td>0.009502</td>\n",
       "      <td>0.071472</td>\n",
       "      <td>0.059188</td>\n",
       "    </tr>\n",
       "    <tr>\n",
       "      <th>11</th>\n",
       "      <td>GLM_grid_0_AutoML_20181015_203332_model_0</td>\n",
       "      <td>0.016562</td>\n",
       "      <td>0.128693</td>\n",
       "      <td>0.016562</td>\n",
       "      <td>0.101295</td>\n",
       "      <td>0.077529</td>\n",
       "    </tr>\n",
       "  </tbody>\n",
       "</table>\n",
       "</div>"
      ],
      "text/plain": [
       "                                             model_id  mean_residual_deviance  \\\n",
       "0   StackedEnsemble_AllModels_0_AutoML_20181015_20...                0.007832   \n",
       "1           GBM_grid_0_AutoML_20181015_203332_model_2                0.007965   \n",
       "2           GBM_grid_0_AutoML_20181015_203332_model_3                0.008270   \n",
       "3           GBM_grid_0_AutoML_20181015_203332_model_1                0.008328   \n",
       "4           GBM_grid_0_AutoML_20181015_203332_model_0                0.008359   \n",
       "5   StackedEnsemble_AllModels_0_AutoML_20181015_20...                0.008465   \n",
       "6   StackedEnsemble_BestOfFamily_0_AutoML_20181015...                0.008465   \n",
       "7                        DRF_0_AutoML_20181015_202529                0.008501   \n",
       "8                        DRF_0_AutoML_20181015_203332                0.008548   \n",
       "9                        XRT_0_AutoML_20181015_202529                0.009502   \n",
       "10                       XRT_0_AutoML_20181015_203332                0.009502   \n",
       "11          GLM_grid_0_AutoML_20181015_203332_model_0                0.016562   \n",
       "\n",
       "        rmse       mse       mae     rmsle  \n",
       "0   0.088500  0.007832  0.063720  0.053632  \n",
       "1   0.089244  0.007965  0.064542  0.054073  \n",
       "2   0.090942  0.008270  0.065706  0.055115  \n",
       "3   0.091260  0.008328  0.066379  0.055318  \n",
       "4   0.091426  0.008359  0.066495  0.055436  \n",
       "5   0.092007  0.008465  0.066180  0.055784  \n",
       "6   0.092007  0.008465  0.066180  0.055784  \n",
       "7   0.092200  0.008501  0.066679  0.055922  \n",
       "8   0.092454  0.008548  0.066701  0.056101  \n",
       "9   0.097476  0.009502  0.071532  0.059201  \n",
       "10  0.097479  0.009502  0.071472  0.059188  \n",
       "11  0.128693  0.016562  0.101295  0.077529  "
      ]
     },
     "execution_count": 97,
     "metadata": {},
     "output_type": "execute_result"
    }
   ],
   "source": [
    "aml_leaderboard_df"
   ]
  },
  {
   "cell_type": "code",
   "execution_count": 98,
   "metadata": {
    "collapsed": true
   },
   "outputs": [],
   "source": [
    "# STart best model as first model\n",
    "model_set=aml_leaderboard_df['model_id']\n",
    "mod_best=h2o.get_model(model_set[0])"
   ]
  },
  {
   "cell_type": "code",
   "execution_count": 99,
   "metadata": {},
   "outputs": [
    {
     "data": {
      "text/plain": [
       "'StackedEnsemble_AllModels_0_AutoML_20181015_203332'"
      ]
     },
     "execution_count": 99,
     "metadata": {},
     "output_type": "execute_result"
    }
   ],
   "source": [
    "mod_best._id"
   ]
  },
  {
   "cell_type": "code",
   "execution_count": 100,
   "metadata": {
    "collapsed": true
   },
   "outputs": [],
   "source": [
    "# Get stacked ensemble  \n",
    "se=.get_stacked_ensemble(model_set)"
   ]
  },
  {
   "cell_type": "code",
   "execution_count": 101,
   "metadata": {},
   "outputs": [
    {
     "name": "stdout",
     "output_type": "stream",
     "text": [
      "StackedEnsemble_BestOfFamily_0_AutoML_20181015_202529\n"
     ]
    }
   ],
   "source": [
    "print(se)"
   ]
  },
  {
   "cell_type": "code",
   "execution_count": 102,
   "metadata": {
    "collapsed": true
   },
   "outputs": [],
   "source": [
    "if se is not None:\n",
    "    mod_best=h2o.get_model(se)"
   ]
  },
  {
   "cell_type": "code",
   "execution_count": 103,
   "metadata": {},
   "outputs": [
    {
     "data": {
      "text/plain": [
       "'StackedEnsemble_BestOfFamily_0_AutoML_20181015_202529'"
      ]
     },
     "execution_count": 103,
     "metadata": {},
     "output_type": "execute_result"
    }
   ],
   "source": [
    "mod_best._id"
   ]
  },
  {
   "cell_type": "code",
   "execution_count": 159,
   "metadata": {
    "collapsed": true
   },
   "outputs": [],
   "source": [
    "import numpy as np\n",
    "bestmod_pred = mod_best.predict(test_data=test)\n",
    "bestmod_rmse = np.sqrt(((bestmod_pred['predict']-test['Humidity'])**2).mean())"
   ]
  },
  {
   "cell_type": "code",
   "execution_count": 160,
   "metadata": {},
   "outputs": [
    {
     "data": {
      "text/plain": [
       "array([0.08907098])"
      ]
     },
     "execution_count": 160,
     "metadata": {},
     "output_type": "execute_result"
    }
   ],
   "source": [
    "bestmod_rmse"
   ]
  },
  {
   "cell_type": "code",
   "execution_count": 104,
   "metadata": {},
   "outputs": [
    {
     "data": {
      "text/plain": [
       "<function h2o.model.model_base.ModelBase._get_metrics(o, train, valid, xval)>"
      ]
     },
     "execution_count": 104,
     "metadata": {},
     "output_type": "execute_result"
    }
   ],
   "source": [
    "mod_best._get_metrics"
   ]
  },
  {
   "cell_type": "code",
   "execution_count": null,
   "metadata": {
    "collapsed": true
   },
   "outputs": [],
   "source": []
  },
  {
   "cell_type": "code",
   "execution_count": 105,
   "metadata": {},
   "outputs": [
    {
     "data": {
      "text/plain": [
       "h2o.estimators.stackedensemble.H2OStackedEnsembleEstimator"
      ]
     },
     "execution_count": 105,
     "metadata": {},
     "output_type": "execute_result"
    }
   ],
   "source": [
    "type(mod_best)"
   ]
  },
  {
   "cell_type": "code",
   "execution_count": 106,
   "metadata": {},
   "outputs": [
    {
     "name": "stdout",
     "output_type": "stream",
     "text": [
      "Model Details\n",
      "=============\n",
      "H2OStackedEnsembleEstimator :  Stacked Ensemble\n",
      "Model Key:  StackedEnsemble_BestOfFamily_0_AutoML_20181015_202529\n",
      "No model summary for this model\n",
      "\n",
      "\n",
      "ModelMetricsRegressionGLM: stackedensemble\n",
      "** Reported on train data. **\n",
      "\n",
      "MSE: 0.0019913573429538043\n",
      "RMSE: 0.04462462709036126\n",
      "MAE: 0.03208603572501131\n",
      "RMSLE: 0.026991160069685292\n",
      "R^2: 0.9478478226395249\n",
      "Mean Residual Deviance: 0.0019913573429538043\n",
      "Null degrees of freedom: 69521\n",
      "Residual degrees of freedom: 69520\n",
      "Null deviance: 2654.5995240026555\n",
      "Residual deviance: 138.4431451968344\n",
      "AIC: -235052.17320805998\n",
      "\n",
      "ModelMetricsRegressionGLM: stackedensemble\n",
      "** Reported on validation data. **\n",
      "\n",
      "MSE: 0.008735531460662572\n",
      "RMSE: 0.09346406507670513\n",
      "MAE: 0.0672522070968295\n",
      "RMSLE: 0.05692680253897736\n",
      "R^2: 0.7738328645401157\n",
      "Mean Residual Deviance: 0.008735531460662572\n",
      "Null degrees of freedom: 17302\n",
      "Residual degrees of freedom: 17301\n",
      "Null deviance: 668.3241584761549\n",
      "Residual deviance: 151.15090086384447\n",
      "AIC: -32912.6015457028\n",
      "\n",
      "ModelMetricsRegressionGLM: stackedensemble\n",
      "** Reported on cross-validation data. **\n",
      "\n",
      "MSE: 0.008465199657734427\n",
      "RMSE: 0.09200651964798162\n",
      "MAE: 0.06618015397823722\n",
      "RMSLE: 0.05578420221099185\n",
      "R^2: 0.7783026760595282\n",
      "Mean Residual Deviance: 0.008465199657734427\n",
      "Null degrees of freedom: 69521\n",
      "Residual degrees of freedom: 69519\n",
      "Null deviance: 2654.681352809006\n",
      "Residual deviance: 588.5176106050128\n",
      "AIC: -134441.61158599085\n",
      "<bound method ModelBase.coef_norm of >\n"
     ]
    }
   ],
   "source": [
    "mods=mod_best.coef_norm\n",
    "print(mods)"
   ]
  },
  {
   "cell_type": "code",
   "execution_count": 107,
   "metadata": {
    "collapsed": true
   },
   "outputs": [],
   "source": [
    "bm=stackedensemble_df(aml_leaderboard_df)"
   ]
  },
  {
   "cell_type": "code",
   "execution_count": 108,
   "metadata": {},
   "outputs": [
    {
     "data": {
      "text/plain": [
       "['GBM_grid_0_AutoML_20181015_203332_model_2',\n",
       " 'GLM_grid_0_AutoML_20181015_203332_model_0',\n",
       " 'DRF_0_AutoML_20181015_202529',\n",
       " 'XRT_0_AutoML_20181015_202529']"
      ]
     },
     "execution_count": 108,
     "metadata": {},
     "output_type": "execute_result"
    }
   ],
   "source": [
    "bm"
   ]
  },
  {
   "cell_type": "code",
   "execution_count": 93,
   "metadata": {},
   "outputs": [
    {
     "data": {
      "text/html": [
       "<div>\n",
       "<style scoped>\n",
       "    .dataframe tbody tr th:only-of-type {\n",
       "        vertical-align: middle;\n",
       "    }\n",
       "\n",
       "    .dataframe tbody tr th {\n",
       "        vertical-align: top;\n",
       "    }\n",
       "\n",
       "    .dataframe thead th {\n",
       "        text-align: right;\n",
       "    }\n",
       "</style>\n",
       "<table border=\"1\" class=\"dataframe\">\n",
       "  <thead>\n",
       "    <tr style=\"text-align: right;\">\n",
       "      <th></th>\n",
       "      <th>model_id</th>\n",
       "      <th>mean_residual_deviance</th>\n",
       "      <th>rmse</th>\n",
       "      <th>mse</th>\n",
       "      <th>mae</th>\n",
       "      <th>rmsle</th>\n",
       "    </tr>\n",
       "  </thead>\n",
       "  <tbody>\n",
       "    <tr>\n",
       "      <th>0</th>\n",
       "      <td>StackedEnsemble_AllModels_0_AutoML_20181015_20...</td>\n",
       "      <td>0.007832</td>\n",
       "      <td>0.088500</td>\n",
       "      <td>0.007832</td>\n",
       "      <td>0.063720</td>\n",
       "      <td>0.053632</td>\n",
       "    </tr>\n",
       "    <tr>\n",
       "      <th>1</th>\n",
       "      <td>GBM_grid_0_AutoML_20181015_203332_model_2</td>\n",
       "      <td>0.007965</td>\n",
       "      <td>0.089244</td>\n",
       "      <td>0.007965</td>\n",
       "      <td>0.064542</td>\n",
       "      <td>0.054073</td>\n",
       "    </tr>\n",
       "    <tr>\n",
       "      <th>2</th>\n",
       "      <td>GBM_grid_0_AutoML_20181015_203332_model_3</td>\n",
       "      <td>0.008270</td>\n",
       "      <td>0.090942</td>\n",
       "      <td>0.008270</td>\n",
       "      <td>0.065706</td>\n",
       "      <td>0.055115</td>\n",
       "    </tr>\n",
       "    <tr>\n",
       "      <th>3</th>\n",
       "      <td>GBM_grid_0_AutoML_20181015_203332_model_1</td>\n",
       "      <td>0.008328</td>\n",
       "      <td>0.091260</td>\n",
       "      <td>0.008328</td>\n",
       "      <td>0.066379</td>\n",
       "      <td>0.055318</td>\n",
       "    </tr>\n",
       "    <tr>\n",
       "      <th>4</th>\n",
       "      <td>GBM_grid_0_AutoML_20181015_203332_model_0</td>\n",
       "      <td>0.008359</td>\n",
       "      <td>0.091426</td>\n",
       "      <td>0.008359</td>\n",
       "      <td>0.066495</td>\n",
       "      <td>0.055436</td>\n",
       "    </tr>\n",
       "    <tr>\n",
       "      <th>5</th>\n",
       "      <td>StackedEnsemble_AllModels_0_AutoML_20181015_20...</td>\n",
       "      <td>0.008465</td>\n",
       "      <td>0.092007</td>\n",
       "      <td>0.008465</td>\n",
       "      <td>0.066180</td>\n",
       "      <td>0.055784</td>\n",
       "    </tr>\n",
       "    <tr>\n",
       "      <th>6</th>\n",
       "      <td>StackedEnsemble_BestOfFamily_0_AutoML_20181015...</td>\n",
       "      <td>0.008465</td>\n",
       "      <td>0.092007</td>\n",
       "      <td>0.008465</td>\n",
       "      <td>0.066180</td>\n",
       "      <td>0.055784</td>\n",
       "    </tr>\n",
       "    <tr>\n",
       "      <th>7</th>\n",
       "      <td>DRF_0_AutoML_20181015_202529</td>\n",
       "      <td>0.008501</td>\n",
       "      <td>0.092200</td>\n",
       "      <td>0.008501</td>\n",
       "      <td>0.066679</td>\n",
       "      <td>0.055922</td>\n",
       "    </tr>\n",
       "    <tr>\n",
       "      <th>8</th>\n",
       "      <td>DRF_0_AutoML_20181015_203332</td>\n",
       "      <td>0.008548</td>\n",
       "      <td>0.092454</td>\n",
       "      <td>0.008548</td>\n",
       "      <td>0.066701</td>\n",
       "      <td>0.056101</td>\n",
       "    </tr>\n",
       "    <tr>\n",
       "      <th>9</th>\n",
       "      <td>XRT_0_AutoML_20181015_202529</td>\n",
       "      <td>0.009502</td>\n",
       "      <td>0.097476</td>\n",
       "      <td>0.009502</td>\n",
       "      <td>0.071532</td>\n",
       "      <td>0.059201</td>\n",
       "    </tr>\n",
       "    <tr>\n",
       "      <th>10</th>\n",
       "      <td>XRT_0_AutoML_20181015_203332</td>\n",
       "      <td>0.009502</td>\n",
       "      <td>0.097479</td>\n",
       "      <td>0.009502</td>\n",
       "      <td>0.071472</td>\n",
       "      <td>0.059188</td>\n",
       "    </tr>\n",
       "    <tr>\n",
       "      <th>11</th>\n",
       "      <td>GLM_grid_0_AutoML_20181015_203332_model_0</td>\n",
       "      <td>0.016562</td>\n",
       "      <td>0.128693</td>\n",
       "      <td>0.016562</td>\n",
       "      <td>0.101295</td>\n",
       "      <td>0.077529</td>\n",
       "    </tr>\n",
       "  </tbody>\n",
       "</table>\n",
       "</div>"
      ],
      "text/plain": [
       "                                             model_id  mean_residual_deviance  \\\n",
       "0   StackedEnsemble_AllModels_0_AutoML_20181015_20...                0.007832   \n",
       "1           GBM_grid_0_AutoML_20181015_203332_model_2                0.007965   \n",
       "2           GBM_grid_0_AutoML_20181015_203332_model_3                0.008270   \n",
       "3           GBM_grid_0_AutoML_20181015_203332_model_1                0.008328   \n",
       "4           GBM_grid_0_AutoML_20181015_203332_model_0                0.008359   \n",
       "5   StackedEnsemble_AllModels_0_AutoML_20181015_20...                0.008465   \n",
       "6   StackedEnsemble_BestOfFamily_0_AutoML_20181015...                0.008465   \n",
       "7                        DRF_0_AutoML_20181015_202529                0.008501   \n",
       "8                        DRF_0_AutoML_20181015_203332                0.008548   \n",
       "9                        XRT_0_AutoML_20181015_202529                0.009502   \n",
       "10                       XRT_0_AutoML_20181015_203332                0.009502   \n",
       "11          GLM_grid_0_AutoML_20181015_203332_model_0                0.016562   \n",
       "\n",
       "        rmse       mse       mae     rmsle  \n",
       "0   0.088500  0.007832  0.063720  0.053632  \n",
       "1   0.089244  0.007965  0.064542  0.054073  \n",
       "2   0.090942  0.008270  0.065706  0.055115  \n",
       "3   0.091260  0.008328  0.066379  0.055318  \n",
       "4   0.091426  0.008359  0.066495  0.055436  \n",
       "5   0.092007  0.008465  0.066180  0.055784  \n",
       "6   0.092007  0.008465  0.066180  0.055784  \n",
       "7   0.092200  0.008501  0.066679  0.055922  \n",
       "8   0.092454  0.008548  0.066701  0.056101  \n",
       "9   0.097476  0.009502  0.071532  0.059201  \n",
       "10  0.097479  0.009502  0.071472  0.059188  \n",
       "11  0.128693  0.016562  0.101295  0.077529  "
      ]
     },
     "execution_count": 93,
     "metadata": {},
     "output_type": "execute_result"
    }
   ],
   "source": [
    "aml_leaderboard_df"
   ]
  },
  {
   "cell_type": "code",
   "execution_count": null,
   "metadata": {
    "collapsed": true
   },
   "outputs": [],
   "source": []
  },
  {
   "cell_type": "code",
   "execution_count": 137,
   "metadata": {},
   "outputs": [
    {
     "name": "stdout",
     "output_type": "stream",
     "text": [
      "No metalearner for this model\n"
     ]
    }
   ],
   "source": [
    "#  Get best_models and coef_norm()\n",
    "best_models={}\n",
    "best_models=stackedensemble(mod_best)\n",
    "bm=[]\n",
    "if best_models is not None: \n",
    "    if 'Intercept' in best_models.keys():\n",
    "        del best_models['Intercept']\n",
    "    bm=list(best_models.keys())\n",
    "else:\n",
    "    best_models={}\n",
    "    bm=stackedensemble_df(aml_leaderboard_df)   \n",
    "    for b in bm:   \n",
    "        best_models[b]=None\n",
    "\n",
    "if mod_best.model_id not in bm:\n",
    "    bm.append(mod_best.model_id)"
   ]
  },
  {
   "cell_type": "code",
   "execution_count": 138,
   "metadata": {},
   "outputs": [
    {
     "data": {
      "text/plain": [
       "['GBM_grid_0_AutoML_20181015_203332_model_2',\n",
       " 'GLM_grid_0_AutoML_20181015_203332_model_0',\n",
       " 'DRF_0_AutoML_20181015_202529',\n",
       " 'XRT_0_AutoML_20181015_202529']"
      ]
     },
     "execution_count": 138,
     "metadata": {},
     "output_type": "execute_result"
    }
   ],
   "source": [
    "bm"
   ]
  },
  {
   "cell_type": "code",
   "execution_count": 139,
   "metadata": {
    "collapsed": true
   },
   "outputs": [],
   "source": [
    "# Best of Family leaderboard\n",
    "aml_leaderboard_df=aml_leaderboard_df.loc[aml_leaderboard_df['model_id'].isin(bm)]"
   ]
  },
  {
   "cell_type": "code",
   "execution_count": 140,
   "metadata": {},
   "outputs": [
    {
     "data": {
      "text/html": [
       "<div>\n",
       "<style scoped>\n",
       "    .dataframe tbody tr th:only-of-type {\n",
       "        vertical-align: middle;\n",
       "    }\n",
       "\n",
       "    .dataframe tbody tr th {\n",
       "        vertical-align: top;\n",
       "    }\n",
       "\n",
       "    .dataframe thead th {\n",
       "        text-align: right;\n",
       "    }\n",
       "</style>\n",
       "<table border=\"1\" class=\"dataframe\">\n",
       "  <thead>\n",
       "    <tr style=\"text-align: right;\">\n",
       "      <th></th>\n",
       "      <th>model_id</th>\n",
       "      <th>mean_residual_deviance</th>\n",
       "      <th>rmse</th>\n",
       "      <th>mse</th>\n",
       "      <th>mae</th>\n",
       "      <th>rmsle</th>\n",
       "    </tr>\n",
       "  </thead>\n",
       "  <tbody>\n",
       "    <tr>\n",
       "      <th>1</th>\n",
       "      <td>GBM_grid_0_AutoML_20181015_203332_model_2</td>\n",
       "      <td>0.007965</td>\n",
       "      <td>0.089244</td>\n",
       "      <td>0.007965</td>\n",
       "      <td>0.064542</td>\n",
       "      <td>0.054073</td>\n",
       "    </tr>\n",
       "    <tr>\n",
       "      <th>7</th>\n",
       "      <td>DRF_0_AutoML_20181015_202529</td>\n",
       "      <td>0.008501</td>\n",
       "      <td>0.092200</td>\n",
       "      <td>0.008501</td>\n",
       "      <td>0.066679</td>\n",
       "      <td>0.055922</td>\n",
       "    </tr>\n",
       "    <tr>\n",
       "      <th>9</th>\n",
       "      <td>XRT_0_AutoML_20181015_202529</td>\n",
       "      <td>0.009502</td>\n",
       "      <td>0.097476</td>\n",
       "      <td>0.009502</td>\n",
       "      <td>0.071532</td>\n",
       "      <td>0.059201</td>\n",
       "    </tr>\n",
       "    <tr>\n",
       "      <th>11</th>\n",
       "      <td>GLM_grid_0_AutoML_20181015_203332_model_0</td>\n",
       "      <td>0.016562</td>\n",
       "      <td>0.128693</td>\n",
       "      <td>0.016562</td>\n",
       "      <td>0.101295</td>\n",
       "      <td>0.077529</td>\n",
       "    </tr>\n",
       "  </tbody>\n",
       "</table>\n",
       "</div>"
      ],
      "text/plain": [
       "                                     model_id  mean_residual_deviance  \\\n",
       "1   GBM_grid_0_AutoML_20181015_203332_model_2                0.007965   \n",
       "7                DRF_0_AutoML_20181015_202529                0.008501   \n",
       "9                XRT_0_AutoML_20181015_202529                0.009502   \n",
       "11  GLM_grid_0_AutoML_20181015_203332_model_0                0.016562   \n",
       "\n",
       "        rmse       mse       mae     rmsle  \n",
       "1   0.089244  0.007965  0.064542  0.054073  \n",
       "7   0.092200  0.008501  0.066679  0.055922  \n",
       "9   0.097476  0.009502  0.071532  0.059201  \n",
       "11  0.128693  0.016562  0.101295  0.077529  "
      ]
     },
     "execution_count": 140,
     "metadata": {},
     "output_type": "execute_result"
    }
   ],
   "source": [
    "aml_leaderboard_df"
   ]
  },
  {
   "cell_type": "code",
   "execution_count": 141,
   "metadata": {
    "collapsed": true
   },
   "outputs": [],
   "source": [
    "# save leaderboard\n",
    "leaderboard_stats=run_id+'_leaderboard.csv'\n",
    "aml_leaderboard_df.to_csv(leaderboard_stats)"
   ]
  },
  {
   "cell_type": "code",
   "execution_count": 142,
   "metadata": {},
   "outputs": [
    {
     "name": "stdout",
     "output_type": "stream",
     "text": [
      "GBM_grid_0_AutoML_20181015_203332_model_2\n"
     ]
    }
   ],
   "source": [
    "top=aml_leaderboard_df.iloc[0]['model_id']\n",
    "print(top)"
   ]
  },
  {
   "cell_type": "code",
   "execution_count": 143,
   "metadata": {},
   "outputs": [
    {
     "name": "stdout",
     "output_type": "stream",
     "text": [
      "GBM_grid_0_AutoML_20181015_203332_model_2\n",
      "gbm\n"
     ]
    }
   ],
   "source": [
    "mod_best=h2o.get_model(top)\n",
    "print(mod_best._id)\n",
    "print(mod_best.algo)"
   ]
  },
  {
   "cell_type": "code",
   "execution_count": 144,
   "metadata": {
    "collapsed": true
   },
   "outputs": [],
   "source": [
    "meta_data['mod_best']=mod_best._id\n",
    "meta_data['mod_best_algo']=mod_best.algo"
   ]
  },
  {
   "cell_type": "code",
   "execution_count": 145,
   "metadata": {
    "collapsed": true
   },
   "outputs": [],
   "source": [
    "meta_data['models']=bm"
   ]
  },
  {
   "cell_type": "code",
   "execution_count": 146,
   "metadata": {
    "collapsed": true
   },
   "outputs": [],
   "source": [
    "models_path=os.path.join(run_dir,'models')\n",
    "for mod in bm:\n",
    "    try:   \n",
    "        m=h2o.get_model(mod) \n",
    "        h2o.save_model(m, path = models_path)\n",
    "    except:    \n",
    "        pass    "
   ]
  },
  {
   "cell_type": "code",
   "execution_count": null,
   "metadata": {
    "collapsed": true
   },
   "outputs": [],
   "source": []
  },
  {
   "cell_type": "markdown",
   "metadata": {},
   "source": [
    "### Individual Models"
   ]
  },
  {
   "cell_type": "markdown",
   "metadata": {},
   "source": [
    "#### Gradient Boosting Machine"
   ]
  },
  {
   "cell_type": "code",
   "execution_count": 134,
   "metadata": {},
   "outputs": [
    {
     "name": "stdout",
     "output_type": "stream",
     "text": [
      "{'algo': 'gbm', 'model_id': 'GBM_grid_0_AutoML_20181015_203332_model_2', 'varimp': [('Temperature (C)', 3707.857666015625, 1.0, 0.34944264064131936), ('Apparent Temperature (C)', 2522.54443359375, 0.680323966239086, 0.23773420325416197), ('Visibility (km)', 1630.780029296875, 0.43981732207354984, 0.1536909264251749), ('Daily Summary', 1192.1846923828125, 0.3215292494395842, 0.11235602996758975), ('Wind Speed (km/h)', 560.8402709960938, 0.15125722762674418, 0.0528557250379746), ('Summary', 486.37030029296875, 0.13117286155582414, 0.04583739112254538), ('Pressure (millibars)', 295.47412109375, 0.07968863632547671, 0.027846607506680342), ('Wind Bearing (degrees)', 205.4799041748047, 0.055417419621613596, 0.01936520945010472), ('Precip Type', 9.2448148727417, 0.0024933036015581354, 0.0008712665944489868)]}\n"
     ]
    }
   ],
   "source": [
    "gbm_mod,mod_id=get_model_by_algo(\"GBM\",best_models)\n",
    "if mod is not None:\n",
    "    try:     \n",
    "        sh_df=mod.scoring_history()\n",
    "        sh_df.to_csv(run_id+'_gbm_scoring_history.csv') \n",
    "    except:\n",
    "        pass   \n",
    "    try:     \n",
    "        stats_gbm={}\n",
    "        stats_gbm=gbm_stats(mod)\n",
    "        n=run_id+'_gbm_stats.json'\n",
    "        dict_to_json(stats_gbm,n)\n",
    "        print(stats_gbm)\n",
    "    except:\n",
    "        pass        "
   ]
  },
  {
   "cell_type": "markdown",
   "metadata": {},
   "source": [
    "#### Gradient Random Tree"
   ]
  },
  {
   "cell_type": "code",
   "execution_count": 152,
   "metadata": {},
   "outputs": [
    {
     "name": "stdout",
     "output_type": "stream",
     "text": [
      "Warning: This model doesn't have variable importances\n"
     ]
    }
   ],
   "source": [
    "xrt_mod,mod_id=get_model_by_algo(\"XRT\",best_models)\n",
    "if mod is not None:\n",
    "    try:     \n",
    "        sh_df=mod.scoring_history()\n",
    "        sh_df.to_csv(run_id+'_xrt_scoring_history.csv')\n",
    "    except:\n",
    "        pass     \n",
    "    try:        \n",
    "        stats_xrt={}\n",
    "        stats_xrt=xrt_stats(mod)\n",
    "        n=run_id+'_xrt_stats.json'\n",
    "        dict_to_json(stats_xrt,n)\n",
    "        print(stats_xrt)\n",
    "    except:\n",
    "        pass   "
   ]
  },
  {
   "cell_type": "markdown",
   "metadata": {},
   "source": [
    "#### Generalized Linear Models"
   ]
  },
  {
   "cell_type": "code",
   "execution_count": 151,
   "metadata": {},
   "outputs": [
    {
     "name": "stdout",
     "output_type": "stream",
     "text": [
      "{'algo': 'glm', 'model_id': 'GLM_grid_0_AutoML_20181015_203332_model_0', 'coef': {'Intercept': 0.9844063052057124, 'Daily Summary.Breezy and foggy starting in the evening.': 0.17834156761485634, 'Daily Summary.Breezy and foggy until morning.': -0.015051057125364444, 'Daily Summary.Breezy and mostly cloudy overnight.': -0.019043427145699805, 'Daily Summary.Breezy and partly cloudy in the afternoon.': -0.055075045612789315, 'Daily Summary.Breezy in the morning and foggy in the evening.': 0.04253605281130495, 'Daily Summary.Breezy in the morning and mostly cloudy starting in the evening.': -0.06242537447873812, 'Daily Summary.Breezy in the morning and mostly cloudy starting in the morning.': -0.12169368279575561, 'Daily Summary.Breezy in the morning and partly cloudy starting in the evening continuing until night.': -0.035747893038265526, 'Daily Summary.Breezy overnight and mostly cloudy throughout the day.': 0.10335978168768328, 'Daily Summary.Breezy overnight and overcast throughout the day.': -0.003244482258672465, 'Daily Summary.Breezy overnight and partly cloudy throughout the day.': 0.08069864846364941, 'Daily Summary.Breezy overnight and partly cloudy until evening.': -0.014841650680475842, 'Daily Summary.Breezy starting in the afternoon continuing until evening and foggy in the evening.': 0.04237601961999406, 'Daily Summary.Breezy starting in the afternoon continuing until evening and foggy starting in the evening.': 0.10972606062986998, 'Daily Summary.Breezy starting in the afternoon continuing until night and mostly cloudy starting in the evening.': -0.0658965474980631, 'Daily Summary.Breezy starting in the morning continuing until afternoon and mostly cloudy starting in the morning.': -0.135528941363502, 'Daily Summary.Breezy starting in the morning continuing until afternoon and partly cloudy starting in the morning.': -0.16898978490761388, 'Daily Summary.Breezy starting in the morning continuing until night.': -0.023841099009114082, 'Daily Summary.Breezy starting overnight continuing until afternoon and foggy starting in the morning continuing until evening.': 0.15239842574931411, 'Daily Summary.Breezy starting overnight continuing until afternoon and mostly cloudy starting overnight continuing until evening.': 0.09624728396795415, 'Daily Summary.Breezy starting overnight continuing until morning and foggy in the evening.': -0.003350915740269133, 'Daily Summary.Breezy starting overnight continuing until morning and foggy overnight.': 0.11005206006179688, 'Daily Summary.Breezy starting overnight continuing until morning and partly cloudy starting in the morning.': -0.16312086194192074, 'Daily Summary.Breezy starting overnight continuing until morning and partly cloudy starting overnight continuing until evening.': -0.1327396337087214, 'Daily Summary.Breezy starting overnight continuing until morning.': -0.08495579558648224, 'Daily Summary.Breezy until afternoon and mostly cloudy throughout the day.': 0.08220392215598842, 'Daily Summary.Breezy until afternoon and overcast throughout the day.': 0.15689320426821185, 'Daily Summary.Breezy until evening and foggy in the morning.': 0.03357450193912511, 'Daily Summary.Breezy until morning and mostly cloudy throughout the day.': 0.07142944450979084, 'Daily Summary.Clear throughout the day.': -0.12804676713485788, 'Daily Summary.Drizzle starting in the evening.': -0.004454379325576578, 'Daily Summary.Drizzle until morning.': 0.06147594751883602, 'Daily Summary.Foggy in the afternoon.': 0.09080884289533529, 'Daily Summary.Foggy in the evening.': 0.006486508933267719, 'Daily Summary.Foggy in the morning and breezy starting in the afternoon continuing until night.': 0.003325427295389167, 'Daily Summary.Foggy in the morning.': 0.024864306538863044, 'Daily Summary.Foggy overnight and breezy in the morning.': 0.06193477842978471, 'Daily Summary.Foggy overnight.': 0.03498893825805415, 'Daily Summary.Foggy starting in the afternoon and breezy starting in the afternoon continuing until evening.': 0.08509885624692864, 'Daily Summary.Foggy starting in the afternoon continuing until evening.': 0.03306495927708218, 'Daily Summary.Foggy starting in the afternoon continuing until night.': 0.010694370731147474, 'Daily Summary.Foggy starting in the afternoon.': 0.03010464769659804, 'Daily Summary.Foggy starting in the evening continuing until night.': 0.09732688571701344, 'Daily Summary.Foggy starting in the evening.': 0.018483945356068253, 'Daily Summary.Foggy starting in the morning continuing until afternoon and breezy starting in the evening.': 0.04708753404502748, 'Daily Summary.Foggy starting in the morning continuing until afternoon.': 0.06231908042488582, 'Daily Summary.Foggy starting in the morning continuing until evening and breezy in the evening.': 0.0922871588078533, 'Daily Summary.Foggy starting in the morning continuing until evening.': 0.03248029301185301, 'Daily Summary.Foggy starting in the morning continuing until night.': -0.024804161977518363, 'Daily Summary.Foggy starting in the morning.': -0.022471017045135676, 'Daily Summary.Foggy starting overnight continuing until afternoon and breezy in the morning.': 0.12427827473168966, 'Daily Summary.Foggy starting overnight continuing until afternoon.': -0.002144806699374948, 'Daily Summary.Foggy starting overnight continuing until evening.': 0.02400570983988775, 'Daily Summary.Foggy starting overnight continuing until morning and breezy in the afternoon.': -0.035189175207345116, 'Daily Summary.Foggy starting overnight continuing until morning and breezy starting in the evening continuing until night.': 0.1330128523608535, 'Daily Summary.Foggy starting overnight continuing until morning and breezy starting in the evening.': 0.05013761830687208, 'Daily Summary.Foggy starting overnight continuing until morning and breezy starting in the morning continuing until afternoon.': 0.09856798585225798, 'Daily Summary.Foggy starting overnight continuing until morning.': 0.019286881543368217, 'Daily Summary.Foggy starting overnight continuing until night.': 0.03830245651314444, 'Daily Summary.Foggy starting overnight.': 0.01039766023192869, 'Daily Summary.Foggy throughout the day.': 0.0408404055833807, 'Daily Summary.Foggy until afternoon.': 0.04182636911651508, 'Daily Summary.Foggy until evening.': -0.009295357603605506, 'Daily Summary.Foggy until morning.': 0.021148730586625628, 'Daily Summary.Foggy until night.': 0.031069942654006484, 'Daily Summary.Light rain in the morning and afternoon.': 0.10651388267751884, 'Daily Summary.Light rain in the morning.': -0.06482500030947486, 'Daily Summary.Light rain overnight.': 0.11694278937134071, 'Daily Summary.Light rain starting overnight.': 0.08117150735810406, 'Daily Summary.Light rain until morning.': 0.11450883436783119, 'Daily Summary.Mostly cloudy overnight.': -0.1774636702003314, 'Daily Summary.Mostly cloudy starting in the afternoon continuing until night.': 0.011560890877013305, 'Daily Summary.Mostly cloudy starting in the afternoon.': -0.08491470850132143, 'Daily Summary.Mostly cloudy starting in the evening.': 0.030595866711496025, 'Daily Summary.Mostly cloudy starting in the morning and breezy in the afternoon.': -0.030169617593170446, 'Daily Summary.Mostly cloudy starting in the morning and breezy in the evening.': -0.16559284753702214, 'Daily Summary.Mostly cloudy starting in the morning and breezy overnight.': -0.0559489901645819, 'Daily Summary.Mostly cloudy starting in the morning and breezy starting in the afternoon continuing until evening.': -0.12040378199597587, 'Daily Summary.Mostly cloudy starting in the morning and windy in the evening.': -0.11495258244741824, 'Daily Summary.Mostly cloudy starting in the morning continuing until afternoon.': -0.06644392491478886, 'Daily Summary.Mostly cloudy starting in the morning continuing until evening.': -0.06651451218470224, 'Daily Summary.Mostly cloudy starting in the morning continuing until night and breezy in the afternoon.': 0.13466248599410116, 'Daily Summary.Mostly cloudy starting in the morning continuing until night.': 0.0338533268775385, 'Daily Summary.Mostly cloudy starting in the morning.': -0.04218199896379382, 'Daily Summary.Mostly cloudy starting overnight and breezy in the afternoon.': -0.042357199959680986, 'Daily Summary.Mostly cloudy starting overnight and breezy in the morning.': 0.007491416339639216, 'Daily Summary.Mostly cloudy starting overnight and breezy starting in the afternoon continuing until evening.': -0.16057107428125184, 'Daily Summary.Mostly cloudy starting overnight and breezy starting in the evening.': 0.10094691037168407, 'Daily Summary.Mostly cloudy starting overnight and breezy starting in the morning continuing until afternoon.': -0.04603996260501973, 'Daily Summary.Mostly cloudy starting overnight continuing until afternoon.': -0.13098682272011328, 'Daily Summary.Mostly cloudy starting overnight continuing until evening and breezy starting overnight continuing until morning.': 0.006472154379242557, 'Daily Summary.Mostly cloudy starting overnight continuing until evening.': -0.043792091145671314, 'Daily Summary.Mostly cloudy starting overnight continuing until morning.': -0.09464137177982422, 'Daily Summary.Mostly cloudy starting overnight continuing until night and breezy starting in the morning continuing until evening.': 0.0776818062632842, 'Daily Summary.Mostly cloudy starting overnight continuing until night.': -0.0009041270854778747, 'Daily Summary.Mostly cloudy starting overnight.': 0.0011215845760294935, 'Daily Summary.Mostly cloudy throughout the day and breezy in the afternoon.': 0.0029745990945116677, 'Daily Summary.Mostly cloudy throughout the day and breezy in the evening.': 0.06710012980762138, 'Daily Summary.Mostly cloudy throughout the day and breezy in the morning.': 0.054753904175669325, 'Daily Summary.Mostly cloudy throughout the day and breezy overnight.': -0.023876423703282246, 'Daily Summary.Mostly cloudy throughout the day and breezy starting in the afternoon continuing until evening.': 0.019373653762163507, 'Daily Summary.Mostly cloudy throughout the day and breezy starting in the afternoon.': -0.005963221401993144, 'Daily Summary.Mostly cloudy throughout the day and breezy starting in the evening continuing until night.': 0.05571890742636393, 'Daily Summary.Mostly cloudy throughout the day and breezy starting in the evening.': 0.04169460935841444, 'Daily Summary.Mostly cloudy throughout the day and breezy starting in the morning continuing until afternoon.': 0.02936047165960217, 'Daily Summary.Mostly cloudy throughout the day and breezy starting in the morning continuing until evening.': 0.038845400316692785, 'Daily Summary.Mostly cloudy throughout the day and breezy starting in the morning continuing until night.': 0.033751962295028665, 'Daily Summary.Mostly cloudy throughout the day and breezy starting overnight continuing until afternoon.': 0.03891287887903899, 'Daily Summary.Mostly cloudy throughout the day and breezy starting overnight continuing until morning.': 0.0691365114518438, 'Daily Summary.Mostly cloudy throughout the day and windy starting in the morning continuing until evening.': -0.02420056450576072, 'Daily Summary.Mostly cloudy throughout the day and windy starting in the morning continuing until night.': 0.005579679912858747, 'Daily Summary.Mostly cloudy throughout the day.': 0.03898079104892231, 'Daily Summary.Mostly cloudy until afternoon.': -0.06817597412625098, 'Daily Summary.Mostly cloudy until evening and breezy in the afternoon.': -0.07931256626090508, 'Daily Summary.Mostly cloudy until evening and breezy in the evening.': 0.009660517650518776, 'Daily Summary.Mostly cloudy until evening and breezy starting in the morning continuing until afternoon.': -0.0741088845665627, 'Daily Summary.Mostly cloudy until evening and breezy starting overnight continuing until morning.': 0.015891141904367065, 'Daily Summary.Mostly cloudy until evening and windy starting in the morning continuing until afternoon.': 0.087022811390431, 'Daily Summary.Mostly cloudy until evening.': 0.0005464977209310174, 'Daily Summary.Mostly cloudy until morning.': -0.015490311143881264, 'Daily Summary.Mostly cloudy until night and breezy in the afternoon.': 0.027863899926554508, 'Daily Summary.Mostly cloudy until night and breezy in the evening.': -0.01703383093755931, 'Daily Summary.Mostly cloudy until night and breezy overnight.': 0.06123385259714651, 'Daily Summary.Mostly cloudy until night and breezy starting in the afternoon continuing until evening.': -0.006504385985503578, 'Daily Summary.Mostly cloudy until night and breezy starting in the afternoon continuing until night.': 0.07454254194919203, 'Daily Summary.Mostly cloudy until night and breezy starting in the afternoon.': 0.1321405501563891, 'Daily Summary.Mostly cloudy until night and breezy starting in the evening continuing until night.': 0.11599590720307244, 'Daily Summary.Mostly cloudy until night and breezy starting in the evening.': -0.014501887689349258, 'Daily Summary.Mostly cloudy until night and breezy starting in the morning continuing until afternoon.': 0.08826674803660414, 'Daily Summary.Mostly cloudy until night and breezy starting in the morning continuing until evening.': -0.18954319468403594, 'Daily Summary.Mostly cloudy until night and breezy starting overnight continuing until morning.': -0.07072472048820809, 'Daily Summary.Mostly cloudy until night and windy starting in the morning continuing until afternoon.': -0.04474827140973929, 'Daily Summary.Mostly cloudy until night.': 0.026428122406409224, 'Daily Summary.Overcast starting in the afternoon.': 0.01247630003614972, 'Daily Summary.Overcast starting in the morning.': -0.016077705470723524, 'Daily Summary.Overcast throughout the day and breezy in the afternoon.': 0.13304349180926117, 'Daily Summary.Overcast throughout the day and breezy in the evening.': 0.047993791870020404, 'Daily Summary.Overcast throughout the day and breezy in the morning.': 0.015296785435865119, 'Daily Summary.Overcast throughout the day and breezy overnight.': 0.10965634945908151, 'Daily Summary.Overcast throughout the day and breezy starting in the evening.': 0.13371515390287464, 'Daily Summary.Overcast throughout the day and breezy starting in the morning continuing until evening.': 0.14184579517497817, 'Daily Summary.Overcast throughout the day and breezy starting overnight continuing until afternoon.': 0.13772961511964155, 'Daily Summary.Overcast throughout the day and breezy starting overnight continuing until morning.': 0.07326563381683993, 'Daily Summary.Overcast throughout the day.': 0.042490529864336865, 'Daily Summary.Overcast until evening.': 0.05447389169988754, 'Daily Summary.Overcast until morning.': -0.09727014544450001, 'Daily Summary.Overcast until night and breezy overnight.': 0.06901323309864056, 'Daily Summary.Overcast until night.': 0.03539890329282356, 'Daily Summary.Partly cloudy in the afternoon.': -0.07309197359739134, 'Daily Summary.Partly cloudy in the evening.': -0.08387517658363611, 'Daily Summary.Partly cloudy in the morning.': -0.07602237806208896, 'Daily Summary.Partly cloudy overnight and breezy starting in the morning continuing until afternoon.': -0.014774590627341261, 'Daily Summary.Partly cloudy overnight.': 0.010153507154004883, 'Daily Summary.Partly cloudy starting in the afternoon and breezy in the afternoon.': -0.038241171250588485, 'Daily Summary.Partly cloudy starting in the afternoon continuing until evening.': -0.07488799433174739, 'Daily Summary.Partly cloudy starting in the afternoon continuing until night.': -0.043286980078270684, 'Daily Summary.Partly cloudy starting in the afternoon.': -0.04840576295390441, 'Daily Summary.Partly cloudy starting in the evening continuing until night.': -0.10370941795646937, 'Daily Summary.Partly cloudy starting in the evening.': -0.077261072108255, 'Daily Summary.Partly cloudy starting in the morning and breezy in the evening.': 0.022670070704450877, 'Daily Summary.Partly cloudy starting in the morning and breezy starting in the afternoon continuing until evening.': 0.05770918869323826, 'Daily Summary.Partly cloudy starting in the morning and breezy starting in the morning continuing until afternoon.': -0.013495446511008972, 'Daily Summary.Partly cloudy starting in the morning continuing until afternoon.': -0.12374355115854617, 'Daily Summary.Partly cloudy starting in the morning continuing until evening and breezy in the afternoon.': -0.015089597734314505, 'Daily Summary.Partly cloudy starting in the morning continuing until evening and breezy starting in the afternoon continuing until evening.': -0.02739575147088931, 'Daily Summary.Partly cloudy starting in the morning continuing until evening and breezy starting in the morning continuing until afternoon.': -0.01678507460995472, 'Daily Summary.Partly cloudy starting in the morning continuing until evening.': -0.061602675334515404, 'Daily Summary.Partly cloudy starting in the morning continuing until night and breezy starting in the afternoon continuing until evening.': -0.23680894668120736, 'Daily Summary.Partly cloudy starting in the morning continuing until night and breezy starting in the morning continuing until afternoon.': -0.113961770926594, 'Daily Summary.Partly cloudy starting in the morning continuing until night.': -0.021165178665540338, 'Daily Summary.Partly cloudy starting in the morning.': -0.011442252403127962, 'Daily Summary.Partly cloudy starting overnight and breezy in the afternoon.': 0.1057653934044386, 'Daily Summary.Partly cloudy starting overnight and breezy starting in the evening.': -0.06263896498647355, 'Daily Summary.Partly cloudy starting overnight and breezy starting in the morning continuing until afternoon.': -0.15624549850373834, 'Daily Summary.Partly cloudy starting overnight continuing until afternoon and breezy in the afternoon.': 0.031244958212402852, 'Daily Summary.Partly cloudy starting overnight continuing until afternoon.': -0.06924254646839724, 'Daily Summary.Partly cloudy starting overnight continuing until evening and breezy in the evening.': -0.022037018028480522, 'Daily Summary.Partly cloudy starting overnight continuing until evening and breezy in the morning.': 0.009700339125854296, 'Daily Summary.Partly cloudy starting overnight continuing until evening and breezy starting in the morning continuing until afternoon.': -0.014135795901611913, 'Daily Summary.Partly cloudy starting overnight continuing until evening and breezy starting in the morning continuing until evening.': 0.0032430523404831974, 'Daily Summary.Partly cloudy starting overnight continuing until evening and windy starting in the morning continuing until evening.': -0.1804827995151193, 'Daily Summary.Partly cloudy starting overnight continuing until evening.': -0.06433788974360583, 'Daily Summary.Partly cloudy starting overnight continuing until morning and breezy starting in the morning continuing until afternoon.': -0.04307003139331976, 'Daily Summary.Partly cloudy starting overnight continuing until morning.': -0.0588958723821591, 'Daily Summary.Partly cloudy starting overnight continuing until night and breezy in the afternoon.': 0.027148961853920107, 'Daily Summary.Partly cloudy starting overnight continuing until night and breezy in the morning.': 0.03299093609998672, 'Daily Summary.Partly cloudy starting overnight continuing until night and windy starting in the morning continuing until afternoon.': -0.11654296442070332, 'Daily Summary.Partly cloudy starting overnight continuing until night.': 0.011965034141134416, 'Daily Summary.Partly cloudy starting overnight.': -0.016702923699734033, 'Daily Summary.Partly cloudy throughout the day and breezy in the afternoon.': 0.1547577468297207, 'Daily Summary.Partly cloudy throughout the day and breezy in the evening.': 0.08200202767973294, 'Daily Summary.Partly cloudy throughout the day and breezy in the morning.': 0.021140544657685122, 'Daily Summary.Partly cloudy throughout the day and breezy starting in the afternoon continuing until evening.': 0.08954652339934562, 'Daily Summary.Partly cloudy throughout the day and breezy starting in the morning continuing until afternoon.': -0.016971869571497423, 'Daily Summary.Partly cloudy throughout the day and breezy starting in the morning continuing until evening.': -0.08668923750490541, 'Daily Summary.Partly cloudy throughout the day and breezy starting in the morning continuing until night.': 0.07148883125386414, 'Daily Summary.Partly cloudy throughout the day and windy starting in the morning continuing until afternoon.': -0.07864052544482789, 'Daily Summary.Partly cloudy throughout the day.': 0.028991678021823314, 'Daily Summary.Partly cloudy until afternoon.': -0.034677380002625276, 'Daily Summary.Partly cloudy until evening and breezy in the afternoon.': 0.030844653762176044, 'Daily Summary.Partly cloudy until evening and breezy in the morning.': -0.06450643185334042, 'Daily Summary.Partly cloudy until evening and breezy overnight.': -0.050812305243257534, 'Daily Summary.Partly cloudy until evening and breezy starting in the morning continuing until afternoon.': -0.02833655070907504, 'Daily Summary.Partly cloudy until evening and breezy starting in the morning continuing until evening.': -0.12089515105825087, 'Daily Summary.Partly cloudy until evening.': -0.027554598549233027, 'Daily Summary.Partly cloudy until morning.': -0.04197035030025843, 'Daily Summary.Partly cloudy until night and breezy in the afternoon.': 0.16576406690810655, 'Daily Summary.Partly cloudy until night and breezy in the morning.': -0.11172391493097797, 'Daily Summary.Partly cloudy until night and breezy starting in the morning continuing until afternoon.': -0.05593050315497524, 'Daily Summary.Partly cloudy until night.': 0.004397536357187955, 'Daily Summary.Rain throughout the day.': 0.06377623129047609, 'Daily Summary.Rain until afternoon.': 0.05388572152115392, 'Daily Summary.Rain until morning.': -0.006692266682245145, 'Daily Summary.Windy in the afternoon.': -0.0902898395948022, 'Summary.Breezy': 0.018360710123463395, 'Summary.Breezy and Dry': -0.08630463687934194, 'Summary.Breezy and Foggy': 0.18417603423164425, 'Summary.Breezy and Mostly Cloudy': -0.002875777200132496, 'Summary.Breezy and Overcast': 0.06492174588784844, 'Summary.Breezy and Partly Cloudy': -0.03969516013124093, 'Summary.Clear': 0.0032728642192778163, 'Summary.Dangerously Windy and Partly Cloudy': 0.030319431685299596, 'Summary.Drizzle': 0.016264757266947476, 'Summary.Dry': -0.18626412564462916, 'Summary.Dry and Mostly Cloudy': -0.2658960353389495, 'Summary.Dry and Partly Cloudy': -0.28708733408331616, 'Summary.Foggy': 0.02553457131564355, 'Summary.Humid and Mostly Cloudy': 0.17384221162306834, 'Summary.Humid and Overcast': 0.170061660693763, 'Summary.Humid and Partly Cloudy': 0.1460257991528247, 'Summary.Light Rain': 0.04329642519513605, 'Summary.Mostly Cloudy': -0.03917668015178426, 'Summary.Overcast': 0.009670127862439882, 'Summary.Partly Cloudy': -0.05944981166160187, 'Summary.Rain': 0.04861732813213945, 'Summary.Windy': 0.007335271732688738, 'Summary.Windy and Dry': -0.008619912979787514, 'Summary.Windy and Foggy': 0.19958903178872756, 'Summary.Windy and Mostly Cloudy': 0.04996139557327265, 'Summary.Windy and Overcast': 0.09482832302862297, 'Summary.Windy and Partly Cloudy': 0.016506977308262158, 'Precip Type.null': 0.031160520404877042, 'Precip Type.rain': 0.055221649887493646, 'Precip Type.snow': -0.06179641973909668, 'Temperature (C)': -0.023668485238962634, 'Apparent Temperature (C)': 0.00996127286777126, 'Wind Speed (km/h)': -0.006196293469217102, 'Wind Bearing (degrees)': 8.215268091947481e-05, 'Visibility (km)': -0.0029978567784390312, 'Pressure (millibars)': -1.5898637163010056e-05}, 'coef_norm': {'Intercept': 0.7115148529678038, 'Daily Summary.Breezy and foggy starting in the evening.': 0.17834156761485634, 'Daily Summary.Breezy and foggy until morning.': -0.015051057125364444, 'Daily Summary.Breezy and mostly cloudy overnight.': -0.019043427145699805, 'Daily Summary.Breezy and partly cloudy in the afternoon.': -0.055075045612789315, 'Daily Summary.Breezy in the morning and foggy in the evening.': 0.04253605281130495, 'Daily Summary.Breezy in the morning and mostly cloudy starting in the evening.': -0.06242537447873812, 'Daily Summary.Breezy in the morning and mostly cloudy starting in the morning.': -0.12169368279575561, 'Daily Summary.Breezy in the morning and partly cloudy starting in the evening continuing until night.': -0.035747893038265526, 'Daily Summary.Breezy overnight and mostly cloudy throughout the day.': 0.10335978168768328, 'Daily Summary.Breezy overnight and overcast throughout the day.': -0.003244482258672465, 'Daily Summary.Breezy overnight and partly cloudy throughout the day.': 0.08069864846364941, 'Daily Summary.Breezy overnight and partly cloudy until evening.': -0.014841650680475842, 'Daily Summary.Breezy starting in the afternoon continuing until evening and foggy in the evening.': 0.04237601961999406, 'Daily Summary.Breezy starting in the afternoon continuing until evening and foggy starting in the evening.': 0.10972606062986998, 'Daily Summary.Breezy starting in the afternoon continuing until night and mostly cloudy starting in the evening.': -0.0658965474980631, 'Daily Summary.Breezy starting in the morning continuing until afternoon and mostly cloudy starting in the morning.': -0.135528941363502, 'Daily Summary.Breezy starting in the morning continuing until afternoon and partly cloudy starting in the morning.': -0.16898978490761388, 'Daily Summary.Breezy starting in the morning continuing until night.': -0.023841099009114082, 'Daily Summary.Breezy starting overnight continuing until afternoon and foggy starting in the morning continuing until evening.': 0.15239842574931411, 'Daily Summary.Breezy starting overnight continuing until afternoon and mostly cloudy starting overnight continuing until evening.': 0.09624728396795415, 'Daily Summary.Breezy starting overnight continuing until morning and foggy in the evening.': -0.003350915740269133, 'Daily Summary.Breezy starting overnight continuing until morning and foggy overnight.': 0.11005206006179688, 'Daily Summary.Breezy starting overnight continuing until morning and partly cloudy starting in the morning.': -0.16312086194192074, 'Daily Summary.Breezy starting overnight continuing until morning and partly cloudy starting overnight continuing until evening.': -0.1327396337087214, 'Daily Summary.Breezy starting overnight continuing until morning.': -0.08495579558648224, 'Daily Summary.Breezy until afternoon and mostly cloudy throughout the day.': 0.08220392215598842, 'Daily Summary.Breezy until afternoon and overcast throughout the day.': 0.15689320426821185, 'Daily Summary.Breezy until evening and foggy in the morning.': 0.03357450193912511, 'Daily Summary.Breezy until morning and mostly cloudy throughout the day.': 0.07142944450979084, 'Daily Summary.Clear throughout the day.': -0.12804676713485788, 'Daily Summary.Drizzle starting in the evening.': -0.004454379325576578, 'Daily Summary.Drizzle until morning.': 0.06147594751883602, 'Daily Summary.Foggy in the afternoon.': 0.09080884289533529, 'Daily Summary.Foggy in the evening.': 0.006486508933267719, 'Daily Summary.Foggy in the morning and breezy starting in the afternoon continuing until night.': 0.003325427295389167, 'Daily Summary.Foggy in the morning.': 0.024864306538863044, 'Daily Summary.Foggy overnight and breezy in the morning.': 0.06193477842978471, 'Daily Summary.Foggy overnight.': 0.03498893825805415, 'Daily Summary.Foggy starting in the afternoon and breezy starting in the afternoon continuing until evening.': 0.08509885624692864, 'Daily Summary.Foggy starting in the afternoon continuing until evening.': 0.03306495927708218, 'Daily Summary.Foggy starting in the afternoon continuing until night.': 0.010694370731147474, 'Daily Summary.Foggy starting in the afternoon.': 0.03010464769659804, 'Daily Summary.Foggy starting in the evening continuing until night.': 0.09732688571701344, 'Daily Summary.Foggy starting in the evening.': 0.018483945356068253, 'Daily Summary.Foggy starting in the morning continuing until afternoon and breezy starting in the evening.': 0.04708753404502748, 'Daily Summary.Foggy starting in the morning continuing until afternoon.': 0.06231908042488582, 'Daily Summary.Foggy starting in the morning continuing until evening and breezy in the evening.': 0.0922871588078533, 'Daily Summary.Foggy starting in the morning continuing until evening.': 0.03248029301185301, 'Daily Summary.Foggy starting in the morning continuing until night.': -0.024804161977518363, 'Daily Summary.Foggy starting in the morning.': -0.022471017045135676, 'Daily Summary.Foggy starting overnight continuing until afternoon and breezy in the morning.': 0.12427827473168966, 'Daily Summary.Foggy starting overnight continuing until afternoon.': -0.002144806699374948, 'Daily Summary.Foggy starting overnight continuing until evening.': 0.02400570983988775, 'Daily Summary.Foggy starting overnight continuing until morning and breezy in the afternoon.': -0.035189175207345116, 'Daily Summary.Foggy starting overnight continuing until morning and breezy starting in the evening continuing until night.': 0.1330128523608535, 'Daily Summary.Foggy starting overnight continuing until morning and breezy starting in the evening.': 0.05013761830687208, 'Daily Summary.Foggy starting overnight continuing until morning and breezy starting in the morning continuing until afternoon.': 0.09856798585225798, 'Daily Summary.Foggy starting overnight continuing until morning.': 0.019286881543368217, 'Daily Summary.Foggy starting overnight continuing until night.': 0.03830245651314444, 'Daily Summary.Foggy starting overnight.': 0.01039766023192869, 'Daily Summary.Foggy throughout the day.': 0.0408404055833807, 'Daily Summary.Foggy until afternoon.': 0.04182636911651508, 'Daily Summary.Foggy until evening.': -0.009295357603605506, 'Daily Summary.Foggy until morning.': 0.021148730586625628, 'Daily Summary.Foggy until night.': 0.031069942654006484, 'Daily Summary.Light rain in the morning and afternoon.': 0.10651388267751884, 'Daily Summary.Light rain in the morning.': -0.06482500030947486, 'Daily Summary.Light rain overnight.': 0.11694278937134071, 'Daily Summary.Light rain starting overnight.': 0.08117150735810406, 'Daily Summary.Light rain until morning.': 0.11450883436783119, 'Daily Summary.Mostly cloudy overnight.': -0.1774636702003314, 'Daily Summary.Mostly cloudy starting in the afternoon continuing until night.': 0.011560890877013305, 'Daily Summary.Mostly cloudy starting in the afternoon.': -0.08491470850132143, 'Daily Summary.Mostly cloudy starting in the evening.': 0.030595866711496025, 'Daily Summary.Mostly cloudy starting in the morning and breezy in the afternoon.': -0.030169617593170446, 'Daily Summary.Mostly cloudy starting in the morning and breezy in the evening.': -0.16559284753702214, 'Daily Summary.Mostly cloudy starting in the morning and breezy overnight.': -0.0559489901645819, 'Daily Summary.Mostly cloudy starting in the morning and breezy starting in the afternoon continuing until evening.': -0.12040378199597587, 'Daily Summary.Mostly cloudy starting in the morning and windy in the evening.': -0.11495258244741824, 'Daily Summary.Mostly cloudy starting in the morning continuing until afternoon.': -0.06644392491478886, 'Daily Summary.Mostly cloudy starting in the morning continuing until evening.': -0.06651451218470224, 'Daily Summary.Mostly cloudy starting in the morning continuing until night and breezy in the afternoon.': 0.13466248599410116, 'Daily Summary.Mostly cloudy starting in the morning continuing until night.': 0.0338533268775385, 'Daily Summary.Mostly cloudy starting in the morning.': -0.04218199896379382, 'Daily Summary.Mostly cloudy starting overnight and breezy in the afternoon.': -0.042357199959680986, 'Daily Summary.Mostly cloudy starting overnight and breezy in the morning.': 0.007491416339639216, 'Daily Summary.Mostly cloudy starting overnight and breezy starting in the afternoon continuing until evening.': -0.16057107428125184, 'Daily Summary.Mostly cloudy starting overnight and breezy starting in the evening.': 0.10094691037168407, 'Daily Summary.Mostly cloudy starting overnight and breezy starting in the morning continuing until afternoon.': -0.04603996260501973, 'Daily Summary.Mostly cloudy starting overnight continuing until afternoon.': -0.13098682272011328, 'Daily Summary.Mostly cloudy starting overnight continuing until evening and breezy starting overnight continuing until morning.': 0.006472154379242557, 'Daily Summary.Mostly cloudy starting overnight continuing until evening.': -0.043792091145671314, 'Daily Summary.Mostly cloudy starting overnight continuing until morning.': -0.09464137177982422, 'Daily Summary.Mostly cloudy starting overnight continuing until night and breezy starting in the morning continuing until evening.': 0.0776818062632842, 'Daily Summary.Mostly cloudy starting overnight continuing until night.': -0.0009041270854778747, 'Daily Summary.Mostly cloudy starting overnight.': 0.0011215845760294935, 'Daily Summary.Mostly cloudy throughout the day and breezy in the afternoon.': 0.0029745990945116677, 'Daily Summary.Mostly cloudy throughout the day and breezy in the evening.': 0.06710012980762138, 'Daily Summary.Mostly cloudy throughout the day and breezy in the morning.': 0.054753904175669325, 'Daily Summary.Mostly cloudy throughout the day and breezy overnight.': -0.023876423703282246, 'Daily Summary.Mostly cloudy throughout the day and breezy starting in the afternoon continuing until evening.': 0.019373653762163507, 'Daily Summary.Mostly cloudy throughout the day and breezy starting in the afternoon.': -0.005963221401993144, 'Daily Summary.Mostly cloudy throughout the day and breezy starting in the evening continuing until night.': 0.05571890742636393, 'Daily Summary.Mostly cloudy throughout the day and breezy starting in the evening.': 0.04169460935841444, 'Daily Summary.Mostly cloudy throughout the day and breezy starting in the morning continuing until afternoon.': 0.02936047165960217, 'Daily Summary.Mostly cloudy throughout the day and breezy starting in the morning continuing until evening.': 0.038845400316692785, 'Daily Summary.Mostly cloudy throughout the day and breezy starting in the morning continuing until night.': 0.033751962295028665, 'Daily Summary.Mostly cloudy throughout the day and breezy starting overnight continuing until afternoon.': 0.03891287887903899, 'Daily Summary.Mostly cloudy throughout the day and breezy starting overnight continuing until morning.': 0.0691365114518438, 'Daily Summary.Mostly cloudy throughout the day and windy starting in the morning continuing until evening.': -0.02420056450576072, 'Daily Summary.Mostly cloudy throughout the day and windy starting in the morning continuing until night.': 0.005579679912858747, 'Daily Summary.Mostly cloudy throughout the day.': 0.03898079104892231, 'Daily Summary.Mostly cloudy until afternoon.': -0.06817597412625098, 'Daily Summary.Mostly cloudy until evening and breezy in the afternoon.': -0.07931256626090508, 'Daily Summary.Mostly cloudy until evening and breezy in the evening.': 0.009660517650518776, 'Daily Summary.Mostly cloudy until evening and breezy starting in the morning continuing until afternoon.': -0.0741088845665627, 'Daily Summary.Mostly cloudy until evening and breezy starting overnight continuing until morning.': 0.015891141904367065, 'Daily Summary.Mostly cloudy until evening and windy starting in the morning continuing until afternoon.': 0.087022811390431, 'Daily Summary.Mostly cloudy until evening.': 0.0005464977209310174, 'Daily Summary.Mostly cloudy until morning.': -0.015490311143881264, 'Daily Summary.Mostly cloudy until night and breezy in the afternoon.': 0.027863899926554508, 'Daily Summary.Mostly cloudy until night and breezy in the evening.': -0.01703383093755931, 'Daily Summary.Mostly cloudy until night and breezy overnight.': 0.06123385259714651, 'Daily Summary.Mostly cloudy until night and breezy starting in the afternoon continuing until evening.': -0.006504385985503578, 'Daily Summary.Mostly cloudy until night and breezy starting in the afternoon continuing until night.': 0.07454254194919203, 'Daily Summary.Mostly cloudy until night and breezy starting in the afternoon.': 0.1321405501563891, 'Daily Summary.Mostly cloudy until night and breezy starting in the evening continuing until night.': 0.11599590720307244, 'Daily Summary.Mostly cloudy until night and breezy starting in the evening.': -0.014501887689349258, 'Daily Summary.Mostly cloudy until night and breezy starting in the morning continuing until afternoon.': 0.08826674803660414, 'Daily Summary.Mostly cloudy until night and breezy starting in the morning continuing until evening.': -0.18954319468403594, 'Daily Summary.Mostly cloudy until night and breezy starting overnight continuing until morning.': -0.07072472048820809, 'Daily Summary.Mostly cloudy until night and windy starting in the morning continuing until afternoon.': -0.04474827140973929, 'Daily Summary.Mostly cloudy until night.': 0.026428122406409224, 'Daily Summary.Overcast starting in the afternoon.': 0.01247630003614972, 'Daily Summary.Overcast starting in the morning.': -0.016077705470723524, 'Daily Summary.Overcast throughout the day and breezy in the afternoon.': 0.13304349180926117, 'Daily Summary.Overcast throughout the day and breezy in the evening.': 0.047993791870020404, 'Daily Summary.Overcast throughout the day and breezy in the morning.': 0.015296785435865119, 'Daily Summary.Overcast throughout the day and breezy overnight.': 0.10965634945908151, 'Daily Summary.Overcast throughout the day and breezy starting in the evening.': 0.13371515390287464, 'Daily Summary.Overcast throughout the day and breezy starting in the morning continuing until evening.': 0.14184579517497817, 'Daily Summary.Overcast throughout the day and breezy starting overnight continuing until afternoon.': 0.13772961511964155, 'Daily Summary.Overcast throughout the day and breezy starting overnight continuing until morning.': 0.07326563381683993, 'Daily Summary.Overcast throughout the day.': 0.042490529864336865, 'Daily Summary.Overcast until evening.': 0.05447389169988754, 'Daily Summary.Overcast until morning.': -0.09727014544450001, 'Daily Summary.Overcast until night and breezy overnight.': 0.06901323309864056, 'Daily Summary.Overcast until night.': 0.03539890329282356, 'Daily Summary.Partly cloudy in the afternoon.': -0.07309197359739134, 'Daily Summary.Partly cloudy in the evening.': -0.08387517658363611, 'Daily Summary.Partly cloudy in the morning.': -0.07602237806208896, 'Daily Summary.Partly cloudy overnight and breezy starting in the morning continuing until afternoon.': -0.014774590627341261, 'Daily Summary.Partly cloudy overnight.': 0.010153507154004883, 'Daily Summary.Partly cloudy starting in the afternoon and breezy in the afternoon.': -0.038241171250588485, 'Daily Summary.Partly cloudy starting in the afternoon continuing until evening.': -0.07488799433174739, 'Daily Summary.Partly cloudy starting in the afternoon continuing until night.': -0.043286980078270684, 'Daily Summary.Partly cloudy starting in the afternoon.': -0.04840576295390441, 'Daily Summary.Partly cloudy starting in the evening continuing until night.': -0.10370941795646937, 'Daily Summary.Partly cloudy starting in the evening.': -0.077261072108255, 'Daily Summary.Partly cloudy starting in the morning and breezy in the evening.': 0.022670070704450877, 'Daily Summary.Partly cloudy starting in the morning and breezy starting in the afternoon continuing until evening.': 0.05770918869323826, 'Daily Summary.Partly cloudy starting in the morning and breezy starting in the morning continuing until afternoon.': -0.013495446511008972, 'Daily Summary.Partly cloudy starting in the morning continuing until afternoon.': -0.12374355115854617, 'Daily Summary.Partly cloudy starting in the morning continuing until evening and breezy in the afternoon.': -0.015089597734314505, 'Daily Summary.Partly cloudy starting in the morning continuing until evening and breezy starting in the afternoon continuing until evening.': -0.02739575147088931, 'Daily Summary.Partly cloudy starting in the morning continuing until evening and breezy starting in the morning continuing until afternoon.': -0.01678507460995472, 'Daily Summary.Partly cloudy starting in the morning continuing until evening.': -0.061602675334515404, 'Daily Summary.Partly cloudy starting in the morning continuing until night and breezy starting in the afternoon continuing until evening.': -0.23680894668120736, 'Daily Summary.Partly cloudy starting in the morning continuing until night and breezy starting in the morning continuing until afternoon.': -0.113961770926594, 'Daily Summary.Partly cloudy starting in the morning continuing until night.': -0.021165178665540338, 'Daily Summary.Partly cloudy starting in the morning.': -0.011442252403127962, 'Daily Summary.Partly cloudy starting overnight and breezy in the afternoon.': 0.1057653934044386, 'Daily Summary.Partly cloudy starting overnight and breezy starting in the evening.': -0.06263896498647355, 'Daily Summary.Partly cloudy starting overnight and breezy starting in the morning continuing until afternoon.': -0.15624549850373834, 'Daily Summary.Partly cloudy starting overnight continuing until afternoon and breezy in the afternoon.': 0.031244958212402852, 'Daily Summary.Partly cloudy starting overnight continuing until afternoon.': -0.06924254646839724, 'Daily Summary.Partly cloudy starting overnight continuing until evening and breezy in the evening.': -0.022037018028480522, 'Daily Summary.Partly cloudy starting overnight continuing until evening and breezy in the morning.': 0.009700339125854296, 'Daily Summary.Partly cloudy starting overnight continuing until evening and breezy starting in the morning continuing until afternoon.': -0.014135795901611913, 'Daily Summary.Partly cloudy starting overnight continuing until evening and breezy starting in the morning continuing until evening.': 0.0032430523404831974, 'Daily Summary.Partly cloudy starting overnight continuing until evening and windy starting in the morning continuing until evening.': -0.1804827995151193, 'Daily Summary.Partly cloudy starting overnight continuing until evening.': -0.06433788974360583, 'Daily Summary.Partly cloudy starting overnight continuing until morning and breezy starting in the morning continuing until afternoon.': -0.04307003139331976, 'Daily Summary.Partly cloudy starting overnight continuing until morning.': -0.0588958723821591, 'Daily Summary.Partly cloudy starting overnight continuing until night and breezy in the afternoon.': 0.027148961853920107, 'Daily Summary.Partly cloudy starting overnight continuing until night and breezy in the morning.': 0.03299093609998672, 'Daily Summary.Partly cloudy starting overnight continuing until night and windy starting in the morning continuing until afternoon.': -0.11654296442070332, 'Daily Summary.Partly cloudy starting overnight continuing until night.': 0.011965034141134416, 'Daily Summary.Partly cloudy starting overnight.': -0.016702923699734033, 'Daily Summary.Partly cloudy throughout the day and breezy in the afternoon.': 0.1547577468297207, 'Daily Summary.Partly cloudy throughout the day and breezy in the evening.': 0.08200202767973294, 'Daily Summary.Partly cloudy throughout the day and breezy in the morning.': 0.021140544657685122, 'Daily Summary.Partly cloudy throughout the day and breezy starting in the afternoon continuing until evening.': 0.08954652339934562, 'Daily Summary.Partly cloudy throughout the day and breezy starting in the morning continuing until afternoon.': -0.016971869571497423, 'Daily Summary.Partly cloudy throughout the day and breezy starting in the morning continuing until evening.': -0.08668923750490541, 'Daily Summary.Partly cloudy throughout the day and breezy starting in the morning continuing until night.': 0.07148883125386414, 'Daily Summary.Partly cloudy throughout the day and windy starting in the morning continuing until afternoon.': -0.07864052544482789, 'Daily Summary.Partly cloudy throughout the day.': 0.028991678021823314, 'Daily Summary.Partly cloudy until afternoon.': -0.034677380002625276, 'Daily Summary.Partly cloudy until evening and breezy in the afternoon.': 0.030844653762176044, 'Daily Summary.Partly cloudy until evening and breezy in the morning.': -0.06450643185334042, 'Daily Summary.Partly cloudy until evening and breezy overnight.': -0.050812305243257534, 'Daily Summary.Partly cloudy until evening and breezy starting in the morning continuing until afternoon.': -0.02833655070907504, 'Daily Summary.Partly cloudy until evening and breezy starting in the morning continuing until evening.': -0.12089515105825087, 'Daily Summary.Partly cloudy until evening.': -0.027554598549233027, 'Daily Summary.Partly cloudy until morning.': -0.04197035030025843, 'Daily Summary.Partly cloudy until night and breezy in the afternoon.': 0.16576406690810655, 'Daily Summary.Partly cloudy until night and breezy in the morning.': -0.11172391493097797, 'Daily Summary.Partly cloudy until night and breezy starting in the morning continuing until afternoon.': -0.05593050315497524, 'Daily Summary.Partly cloudy until night.': 0.004397536357187955, 'Daily Summary.Rain throughout the day.': 0.06377623129047609, 'Daily Summary.Rain until afternoon.': 0.05388572152115392, 'Daily Summary.Rain until morning.': -0.006692266682245145, 'Daily Summary.Windy in the afternoon.': -0.0902898395948022, 'Summary.Breezy': 0.018360710123463395, 'Summary.Breezy and Dry': -0.08630463687934194, 'Summary.Breezy and Foggy': 0.18417603423164425, 'Summary.Breezy and Mostly Cloudy': -0.002875777200132496, 'Summary.Breezy and Overcast': 0.06492174588784844, 'Summary.Breezy and Partly Cloudy': -0.03969516013124093, 'Summary.Clear': 0.0032728642192778163, 'Summary.Dangerously Windy and Partly Cloudy': 0.030319431685299596, 'Summary.Drizzle': 0.016264757266947476, 'Summary.Dry': -0.18626412564462916, 'Summary.Dry and Mostly Cloudy': -0.2658960353389495, 'Summary.Dry and Partly Cloudy': -0.28708733408331616, 'Summary.Foggy': 0.02553457131564355, 'Summary.Humid and Mostly Cloudy': 0.17384221162306834, 'Summary.Humid and Overcast': 0.170061660693763, 'Summary.Humid and Partly Cloudy': 0.1460257991528247, 'Summary.Light Rain': 0.04329642519513605, 'Summary.Mostly Cloudy': -0.03917668015178426, 'Summary.Overcast': 0.009670127862439882, 'Summary.Partly Cloudy': -0.05944981166160187, 'Summary.Rain': 0.04861732813213945, 'Summary.Windy': 0.007335271732688738, 'Summary.Windy and Dry': -0.008619912979787514, 'Summary.Windy and Foggy': 0.19958903178872756, 'Summary.Windy and Mostly Cloudy': 0.04996139557327265, 'Summary.Windy and Overcast': 0.09482832302862297, 'Summary.Windy and Partly Cloudy': 0.016506977308262158, 'Precip Type.null': 0.031160520404877042, 'Precip Type.rain': 0.055221649887493646, 'Precip Type.snow': -0.06179641973909668, 'Temperature (C)': -0.22602989488872915, 'Apparent Temperature (C)': 0.10661543388621324, 'Wind Speed (km/h)': -0.042906436375661064, 'Wind Bearing (degrees)': 0.008828540025425068, 'Visibility (km)': -0.0125729440121768, 'Pressure (millibars)': -0.001841441917557359}}"
     ]
    },
    {
     "name": "stdout",
     "output_type": "stream",
     "text": [
      "\n"
     ]
    }
   ],
   "source": [
    "glm_mod,mod_id=get_model_by_algo(\"GLM\",best_models)\n",
    "if mod is not None:\n",
    "    try:     \n",
    "        stats_glm={}\n",
    "        stats_glm=glm_stats(mod)\n",
    "        n=run_id+'_glm_stats.json'\n",
    "        dict_to_json(stats_glm,n)\n",
    "        print(stats_glm)\n",
    "    except:\n",
    "         pass     "
   ]
  },
  {
   "cell_type": "markdown",
   "metadata": {},
   "source": [
    "#### Statistics for Gradient Boosting Machine"
   ]
  },
  {
   "cell_type": "code",
   "execution_count": 164,
   "metadata": {},
   "outputs": [
    {
     "name": "stdout",
     "output_type": "stream",
     "text": [
      "gbm prediction progress: |████████████████████████████████████████████████| 100%\n",
      "RMSE value of GBM model is:  [0.08907098]\n"
     ]
    }
   ],
   "source": [
    "gbm_pred = gbm_mod.predict(test_data=test)\n",
    "gbm_rmse = np.sqrt(((gbm_pred['predict']-test['Humidity'])**2).mean())\n",
    "print('RMSE value of GBM model is: ',gbm_rmse)"
   ]
  },
  {
   "cell_type": "code",
   "execution_count": 162,
   "metadata": {},
   "outputs": [
    {
     "name": "stdout",
     "output_type": "stream",
     "text": [
      "Model Details\n",
      "=============\n",
      "H2OGradientBoostingEstimator :  Gradient Boosting Machine\n",
      "Model Key:  GBM_grid_0_AutoML_20181015_203332_model_2\n",
      "\n",
      "\n",
      "ModelMetricsRegression: gbm\n",
      "** Reported on train data. **\n",
      "\n",
      "MSE: 0.006198028056959668\n",
      "RMSE: 0.07872755589347143\n",
      "MAE: 0.05617399607504773\n",
      "RMSLE: 0.047625882064780106\n",
      "Mean Residual Deviance: 0.006198028056959668\n",
      "\n",
      "ModelMetricsRegression: gbm\n",
      "** Reported on validation data. **\n",
      "\n",
      "MSE: 0.008170635799971977\n",
      "RMSE: 0.09039156929698686\n",
      "MAE: 0.06581081226700904\n",
      "RMSLE: 0.05504585661573072\n",
      "Mean Residual Deviance: 0.008170635799971977\n",
      "\n",
      "ModelMetricsRegression: gbm\n",
      "** Reported on cross-validation data. **\n",
      "\n",
      "MSE: 0.00796451494615675\n",
      "RMSE: 0.08924413115805852\n",
      "MAE: 0.0645419806723096\n",
      "RMSLE: 0.0540734232429073\n",
      "Mean Residual Deviance: 0.00796451494615675\n",
      "Cross-Validation Metrics Summary: \n"
     ]
    },
    {
     "data": {
      "text/html": [
       "<div style=\"overflow:auto\"><table style=\"width:50%\"><tr><td><b></b></td>\n",
       "<td><b>mean</b></td>\n",
       "<td><b>sd</b></td>\n",
       "<td><b>cv_1_valid</b></td>\n",
       "<td><b>cv_2_valid</b></td>\n",
       "<td><b>cv_3_valid</b></td>\n",
       "<td><b>cv_4_valid</b></td>\n",
       "<td><b>cv_5_valid</b></td></tr>\n",
       "<tr><td>mae</td>\n",
       "<td>0.0645420</td>\n",
       "<td>0.0004045</td>\n",
       "<td>0.0644370</td>\n",
       "<td>0.0641779</td>\n",
       "<td>0.0637270</td>\n",
       "<td>0.0651380</td>\n",
       "<td>0.0652300</td></tr>\n",
       "<tr><td>mean_residual_deviance</td>\n",
       "<td>0.0079645</td>\n",
       "<td>0.0000534</td>\n",
       "<td>0.0079383</td>\n",
       "<td>0.0079085</td>\n",
       "<td>0.0078711</td>\n",
       "<td>0.0080352</td>\n",
       "<td>0.0080695</td></tr>\n",
       "<tr><td>mse</td>\n",
       "<td>0.0079645</td>\n",
       "<td>0.0000534</td>\n",
       "<td>0.0079383</td>\n",
       "<td>0.0079085</td>\n",
       "<td>0.0078711</td>\n",
       "<td>0.0080352</td>\n",
       "<td>0.0080695</td></tr>\n",
       "<tr><td>r2</td>\n",
       "<td>0.7914136</td>\n",
       "<td>0.0014373</td>\n",
       "<td>0.7915611</td>\n",
       "<td>0.7930189</td>\n",
       "<td>0.7941545</td>\n",
       "<td>0.7896414</td>\n",
       "<td>0.7886919</td></tr>\n",
       "<tr><td>residual_deviance</td>\n",
       "<td>0.0079645</td>\n",
       "<td>0.0000534</td>\n",
       "<td>0.0079383</td>\n",
       "<td>0.0079085</td>\n",
       "<td>0.0078711</td>\n",
       "<td>0.0080352</td>\n",
       "<td>0.0080695</td></tr>\n",
       "<tr><td>rmse</td>\n",
       "<td>0.0892431</td>\n",
       "<td>0.0002993</td>\n",
       "<td>0.0890970</td>\n",
       "<td>0.0889300</td>\n",
       "<td>0.0887192</td>\n",
       "<td>0.0896390</td>\n",
       "<td>0.0898304</td></tr>\n",
       "<tr><td>rmsle</td>\n",
       "<td>0.0540731</td>\n",
       "<td>0.0001285</td>\n",
       "<td>0.0540174</td>\n",
       "<td>0.0539793</td>\n",
       "<td>0.0538141</td>\n",
       "<td>0.0542407</td>\n",
       "<td>0.0543141</td></tr></table></div>"
      ],
      "text/plain": [
       "                        mean        sd           cv_1_valid    cv_2_valid    cv_3_valid    cv_4_valid    cv_5_valid\n",
       "----------------------  ----------  -----------  ------------  ------------  ------------  ------------  ------------\n",
       "mae                     0.064542    0.00040453   0.064437      0.0641779     0.063727      0.065138      0.06523\n",
       "mean_residual_deviance  0.00796452  5.34417e-05  0.00793827    0.00790854    0.0078711     0.00803515    0.00806951\n",
       "mse                     0.00796452  5.34417e-05  0.00793827    0.00790854    0.0078711     0.00803515    0.00806951\n",
       "r2                      0.791414    0.00143733   0.791561      0.793019      0.794154      0.789641      0.788692\n",
       "residual_deviance       0.00796452  5.34417e-05  0.00793827    0.00790854    0.0078711     0.00803515    0.00806951\n",
       "rmse                    0.0892431   0.000299253  0.089097      0.08893       0.0887192     0.089639      0.0898304\n",
       "rmsle                   0.0540731   0.000128514  0.0540174     0.0539793     0.0538141     0.0542407     0.0543141"
      ]
     },
     "metadata": {},
     "output_type": "display_data"
    },
    {
     "name": "stdout",
     "output_type": "stream",
     "text": [
      "Scoring History: \n"
     ]
    },
    {
     "data": {
      "text/html": [
       "<div style=\"overflow:auto\"><table style=\"width:50%\"><tr><td><b></b></td>\n",
       "<td><b>timestamp</b></td>\n",
       "<td><b>duration</b></td>\n",
       "<td><b>number_of_trees</b></td>\n",
       "<td><b>training_rmse</b></td>\n",
       "<td><b>training_mae</b></td>\n",
       "<td><b>training_deviance</b></td>\n",
       "<td><b>validation_rmse</b></td>\n",
       "<td><b>validation_mae</b></td>\n",
       "<td><b>validation_deviance</b></td></tr>\n",
       "<tr><td></td>\n",
       "<td>2018-10-15 20:43:00</td>\n",
       "<td> 1 min  1.698 sec</td>\n",
       "<td>0.0</td>\n",
       "<td>0.1954062</td>\n",
       "<td>0.1628521</td>\n",
       "<td>0.0381836</td>\n",
       "<td>0.1965318</td>\n",
       "<td>0.1633483</td>\n",
       "<td>0.0386248</td></tr>\n",
       "<tr><td></td>\n",
       "<td>2018-10-15 20:43:00</td>\n",
       "<td> 1 min  1.967 sec</td>\n",
       "<td>5.0</td>\n",
       "<td>0.1452737</td>\n",
       "<td>0.1209995</td>\n",
       "<td>0.0211044</td>\n",
       "<td>0.1475300</td>\n",
       "<td>0.1223592</td>\n",
       "<td>0.0217651</td></tr>\n",
       "<tr><td></td>\n",
       "<td>2018-10-15 20:43:00</td>\n",
       "<td> 1 min  2.237 sec</td>\n",
       "<td>10.0</td>\n",
       "<td>0.1194522</td>\n",
       "<td>0.0974155</td>\n",
       "<td>0.0142688</td>\n",
       "<td>0.1225773</td>\n",
       "<td>0.0994852</td>\n",
       "<td>0.0150252</td></tr>\n",
       "<tr><td></td>\n",
       "<td>2018-10-15 20:43:01</td>\n",
       "<td> 1 min  2.495 sec</td>\n",
       "<td>15.0</td>\n",
       "<td>0.1064595</td>\n",
       "<td>0.0838722</td>\n",
       "<td>0.0113336</td>\n",
       "<td>0.1104974</td>\n",
       "<td>0.0866987</td>\n",
       "<td>0.0122097</td></tr>\n",
       "<tr><td></td>\n",
       "<td>2018-10-15 20:43:01</td>\n",
       "<td> 1 min  2.744 sec</td>\n",
       "<td>20.0</td>\n",
       "<td>0.0996176</td>\n",
       "<td>0.0762119</td>\n",
       "<td>0.0099237</td>\n",
       "<td>0.1042317</td>\n",
       "<td>0.0796355</td>\n",
       "<td>0.0108642</td></tr>\n",
       "<tr><td>---</td>\n",
       "<td>---</td>\n",
       "<td>---</td>\n",
       "<td>---</td>\n",
       "<td>---</td>\n",
       "<td>---</td>\n",
       "<td>---</td>\n",
       "<td>---</td>\n",
       "<td>---</td>\n",
       "<td>---</td></tr>\n",
       "<tr><td></td>\n",
       "<td>2018-10-15 20:43:09</td>\n",
       "<td> 1 min 10.796 sec</td>\n",
       "<td>180.0</td>\n",
       "<td>0.0795361</td>\n",
       "<td>0.0567883</td>\n",
       "<td>0.0063260</td>\n",
       "<td>0.0906362</td>\n",
       "<td>0.0660083</td>\n",
       "<td>0.0082149</td></tr>\n",
       "<tr><td></td>\n",
       "<td>2018-10-15 20:43:09</td>\n",
       "<td> 1 min 11.060 sec</td>\n",
       "<td>185.0</td>\n",
       "<td>0.0793046</td>\n",
       "<td>0.0566056</td>\n",
       "<td>0.0062892</td>\n",
       "<td>0.0905600</td>\n",
       "<td>0.0659478</td>\n",
       "<td>0.0082011</td></tr>\n",
       "<tr><td></td>\n",
       "<td>2018-10-15 20:43:09</td>\n",
       "<td> 1 min 11.317 sec</td>\n",
       "<td>190.0</td>\n",
       "<td>0.0790785</td>\n",
       "<td>0.0564350</td>\n",
       "<td>0.0062534</td>\n",
       "<td>0.0904830</td>\n",
       "<td>0.0658839</td>\n",
       "<td>0.0081872</td></tr>\n",
       "<tr><td></td>\n",
       "<td>2018-10-15 20:43:10</td>\n",
       "<td> 1 min 11.562 sec</td>\n",
       "<td>195.0</td>\n",
       "<td>0.0789300</td>\n",
       "<td>0.0563217</td>\n",
       "<td>0.0062299</td>\n",
       "<td>0.0904538</td>\n",
       "<td>0.0658654</td>\n",
       "<td>0.0081819</td></tr>\n",
       "<tr><td></td>\n",
       "<td>2018-10-15 20:43:10</td>\n",
       "<td> 1 min 11.815 sec</td>\n",
       "<td>200.0</td>\n",
       "<td>0.0787276</td>\n",
       "<td>0.0561740</td>\n",
       "<td>0.0061980</td>\n",
       "<td>0.0903916</td>\n",
       "<td>0.0658108</td>\n",
       "<td>0.0081706</td></tr></table></div>"
      ],
      "text/plain": [
       "     timestamp            duration          number_of_trees    training_rmse        training_mae         training_deviance     validation_rmse      validation_mae       validation_deviance\n",
       "---  -------------------  ----------------  -----------------  -------------------  -------------------  --------------------  -------------------  -------------------  ---------------------\n",
       "     2018-10-15 20:43:00  1 min  1.698 sec  0.0                0.1954062171801273   0.16285211251744827  0.03818358971264708   0.19653182010187523  0.163348253408255    0.03862475631255585\n",
       "     2018-10-15 20:43:00  1 min  1.967 sec  5.0                0.14527369274173185  0.12099954198059623  0.021104445802819116  0.14753001974055246  0.12235924856929803  0.021765106724647796\n",
       "     2018-10-15 20:43:00  1 min  2.237 sec  10.0               0.11945215223095734  0.09741545273050271  0.014268816672607806  0.12257725635591732  0.09948520053266079  0.015025183775744272\n",
       "     2018-10-15 20:43:01  1 min  2.495 sec  15.0               0.10645947915850754  0.08387219481915428  0.0113336207027007    0.11049735732408521  0.08669874863380678  0.012209665975606566\n",
       "     2018-10-15 20:43:01  1 min  2.744 sec  20.0               0.09961760569886244  0.07621192048137376  0.009923667365174029  0.10423170978972894  0.0796355078155388   0.010864249325690276\n",
       "---  ---                  ---               ---                ---                  ---                  ---                   ---                  ---                  ---\n",
       "     2018-10-15 20:43:09  1 min 10.796 sec  180.0              0.07953613772017158  0.05678829872163392  0.0063259972034421    0.09063624455284842  0.06600829587971879  0.008214928826643745\n",
       "     2018-10-15 20:43:09  1 min 11.060 sec  185.0              0.07930459408895606  0.05660557702562243  0.006289218643614083  0.09055996982690112  0.06594782515632619  0.008201108135049241\n",
       "     2018-10-15 20:43:09  1 min 11.317 sec  190.0              0.07907853366802273  0.05643498633553177  0.006253414487084604  0.09048302257323396  0.06588394421347553  0.008187177373988365\n",
       "     2018-10-15 20:43:10  1 min 11.562 sec  195.0              0.0789300236636845   0.05632174412190841  0.006229948635549796  0.09045375176644684  0.06586543861085113  0.008181881208625983\n",
       "     2018-10-15 20:43:10  1 min 11.815 sec  200.0              0.07872755589347143  0.05617399607504773  0.006198028056959668  0.09039156929698686  0.06581081226700904  0.008170635799971977"
      ]
     },
     "metadata": {},
     "output_type": "display_data"
    },
    {
     "name": "stdout",
     "output_type": "stream",
     "text": [
      "\n",
      "See the whole table with table.as_data_frame()\n",
      "Variable Importances: \n"
     ]
    },
    {
     "data": {
      "text/html": [
       "<div style=\"overflow:auto\"><table style=\"width:50%\"><tr><td><b>variable</b></td>\n",
       "<td><b>relative_importance</b></td>\n",
       "<td><b>scaled_importance</b></td>\n",
       "<td><b>percentage</b></td></tr>\n",
       "<tr><td>Temperature (C)</td>\n",
       "<td>3707.8576660</td>\n",
       "<td>1.0</td>\n",
       "<td>0.3494426</td></tr>\n",
       "<tr><td>Apparent Temperature (C)</td>\n",
       "<td>2522.5444336</td>\n",
       "<td>0.6803240</td>\n",
       "<td>0.2377342</td></tr>\n",
       "<tr><td>Visibility (km)</td>\n",
       "<td>1630.7800293</td>\n",
       "<td>0.4398173</td>\n",
       "<td>0.1536909</td></tr>\n",
       "<tr><td>Daily Summary</td>\n",
       "<td>1192.1846924</td>\n",
       "<td>0.3215292</td>\n",
       "<td>0.1123560</td></tr>\n",
       "<tr><td>Wind Speed (km/h)</td>\n",
       "<td>560.8402710</td>\n",
       "<td>0.1512572</td>\n",
       "<td>0.0528557</td></tr>\n",
       "<tr><td>Summary</td>\n",
       "<td>486.3703003</td>\n",
       "<td>0.1311729</td>\n",
       "<td>0.0458374</td></tr>\n",
       "<tr><td>Pressure (millibars)</td>\n",
       "<td>295.4741211</td>\n",
       "<td>0.0796886</td>\n",
       "<td>0.0278466</td></tr>\n",
       "<tr><td>Wind Bearing (degrees)</td>\n",
       "<td>205.4799042</td>\n",
       "<td>0.0554174</td>\n",
       "<td>0.0193652</td></tr>\n",
       "<tr><td>Precip Type</td>\n",
       "<td>9.2448149</td>\n",
       "<td>0.0024933</td>\n",
       "<td>0.0008713</td></tr></table></div>"
      ],
      "text/plain": [
       "variable                  relative_importance    scaled_importance    percentage\n",
       "------------------------  ---------------------  -------------------  ------------\n",
       "Temperature (C)           3707.86                1                    0.349443\n",
       "Apparent Temperature (C)  2522.54                0.680324             0.237734\n",
       "Visibility (km)           1630.78                0.439817             0.153691\n",
       "Daily Summary             1192.18                0.321529             0.112356\n",
       "Wind Speed (km/h)         560.84                 0.151257             0.0528557\n",
       "Summary                   486.37                 0.131173             0.0458374\n",
       "Pressure (millibars)      295.474                0.0796886            0.0278466\n",
       "Wind Bearing (degrees)    205.48                 0.0554174            0.0193652\n",
       "Precip Type               9.24481                0.0024933            0.000871267"
      ]
     },
     "metadata": {},
     "output_type": "display_data"
    },
    {
     "data": {
      "text/plain": []
     },
     "execution_count": 162,
     "metadata": {},
     "output_type": "execute_result"
    }
   ],
   "source": [
    "gbm_mod"
   ]
  },
  {
   "cell_type": "code",
   "execution_count": 161,
   "metadata": {
    "scrolled": false
   },
   "outputs": [
    {
     "data": {
      "image/png": "[encoded data removed]",
      "text/plain": [
       "<Figure size 1008x720 with 1 Axes>"
      ]
     },
     "metadata": {},
     "output_type": "display_data"
    }
   ],
   "source": [
    "gbm_mod.varimp_plot()"
   ]
  },
  {
   "cell_type": "code",
   "execution_count": 74,
   "metadata": {
    "scrolled": false
   },
   "outputs": [
    {
     "name": "stdout",
     "output_type": "stream",
     "text": [
      "PartialDependencePlot progress: |█████████████████████████████████████████| 100%\n",
      "PartialDependence: Partial Dependence Plot of model GBM_grid_0_AutoML_20181011_214137_model_1 on column 'Temperature (C)'\n",
      "\n"
     ]
    },
    {
     "data": {
      "text/html": [
       "<div style=\"overflow:auto\"><table style=\"width:50%\"><tr><td><b>temperature_c</b></td>\n",
       "<td><b>mean_response</b></td>\n",
       "<td><b>stddev_response</b></td>\n",
       "<td><b>std_error_mean_response</b></td></tr>\n",
       "<tr><td>-21.8222222</td>\n",
       "<td>0.7490935</td>\n",
       "<td>0.1068602</td>\n",
       "<td>0.0003441</td></tr>\n",
       "<tr><td>-18.5733918</td>\n",
       "<td>0.7444041</td>\n",
       "<td>0.1067466</td>\n",
       "<td>0.0003437</td></tr>\n",
       "<tr><td>-15.3245614</td>\n",
       "<td>0.7241533</td>\n",
       "<td>0.1039941</td>\n",
       "<td>0.0003349</td></tr>\n",
       "<tr><td>-12.0757310</td>\n",
       "<td>0.7648939</td>\n",
       "<td>0.1108020</td>\n",
       "<td>0.0003568</td></tr>\n",
       "<tr><td>-8.8269006</td>\n",
       "<td>0.7693803</td>\n",
       "<td>0.1142210</td>\n",
       "<td>0.0003678</td></tr>\n",
       "<tr><td>-5.5780702</td>\n",
       "<td>0.7740865</td>\n",
       "<td>0.1144113</td>\n",
       "<td>0.0003684</td></tr>\n",
       "<tr><td>-2.3292398</td>\n",
       "<td>0.7788718</td>\n",
       "<td>0.1195266</td>\n",
       "<td>0.0003849</td></tr>\n",
       "<tr><td>0.9195906</td>\n",
       "<td>0.7740516</td>\n",
       "<td>0.1195497</td>\n",
       "<td>0.0003849</td></tr>\n",
       "<tr><td>4.1684211</td>\n",
       "<td>0.7778143</td>\n",
       "<td>0.1216594</td>\n",
       "<td>0.0003917</td></tr>\n",
       "<tr><td>7.4172515</td>\n",
       "<td>0.7641221</td>\n",
       "<td>0.1283063</td>\n",
       "<td>0.0004131</td></tr>\n",
       "<tr><td>10.6660819</td>\n",
       "<td>0.7553497</td>\n",
       "<td>0.1282873</td>\n",
       "<td>0.0004131</td></tr>\n",
       "<tr><td>13.9149123</td>\n",
       "<td>0.7442913</td>\n",
       "<td>0.1326156</td>\n",
       "<td>0.0004270</td></tr>\n",
       "<tr><td>17.1637427</td>\n",
       "<td>0.7334354</td>\n",
       "<td>0.1363606</td>\n",
       "<td>0.0004391</td></tr>\n",
       "<tr><td>20.4125731</td>\n",
       "<td>0.7084454</td>\n",
       "<td>0.1259890</td>\n",
       "<td>0.0004057</td></tr>\n",
       "<tr><td>23.6614035</td>\n",
       "<td>0.6625797</td>\n",
       "<td>0.1155877</td>\n",
       "<td>0.0003722</td></tr>\n",
       "<tr><td>26.9102339</td>\n",
       "<td>0.6343088</td>\n",
       "<td>0.1145007</td>\n",
       "<td>0.0003687</td></tr>\n",
       "<tr><td>30.1590643</td>\n",
       "<td>0.5381873</td>\n",
       "<td>0.1217123</td>\n",
       "<td>0.0003919</td></tr>\n",
       "<tr><td>33.4078947</td>\n",
       "<td>0.4999271</td>\n",
       "<td>0.1317458</td>\n",
       "<td>0.0004242</td></tr>\n",
       "<tr><td>36.6567251</td>\n",
       "<td>0.4857476</td>\n",
       "<td>0.1395868</td>\n",
       "<td>0.0004495</td></tr>\n",
       "<tr><td>39.9055556</td>\n",
       "<td>0.4789438</td>\n",
       "<td>0.1441285</td>\n",
       "<td>0.0004641</td></tr></table></div>"
      ],
      "text/plain": [
       "temperature_c    mean_response    stddev_response    std_error_mean_response\n",
       "---------------  ---------------  -----------------  -------------------------\n",
       "-21.8222         0.749094         0.10686            0.000344079\n",
       "-18.5734         0.744404         0.106747           0.000343713\n",
       "-15.3246         0.724153         0.103994           0.00033485\n",
       "-12.0757         0.764894         0.110802           0.000356771\n",
       "-8.8269          0.76938          0.114221           0.00036778\n",
       "-5.57807         0.774087         0.114411           0.000368393\n",
       "-2.32924         0.778872         0.119527           0.000384863\n",
       "0.919591         0.774052         0.11955            0.000384938\n",
       "4.16842          0.777814         0.121659           0.000391731\n",
       "7.41725          0.764122         0.128306           0.000413133\n",
       "10.6661          0.75535          0.128287           0.000413072\n",
       "13.9149          0.744291         0.132616           0.000427009\n",
       "17.1637          0.733435         0.136361           0.000439067\n",
       "20.4126          0.708445         0.125989           0.000405672\n",
       "23.6614          0.66258          0.115588           0.000372181\n",
       "26.9102          0.634309         0.114501           0.000368681\n",
       "30.1591          0.538187         0.121712           0.000391901\n",
       "33.4079          0.499927         0.131746           0.000424208\n",
       "36.6567          0.485748         0.139587           0.000449455\n",
       "39.9056          0.478944         0.144129           0.000464079"
      ]
     },
     "metadata": {},
     "output_type": "display_data"
    },
    {
     "name": "stdout",
     "output_type": "stream",
     "text": [
      "PartialDependence: Partial Dependence Plot of model GBM_grid_0_AutoML_20181011_214137_model_1 on column 'Wind Speed (km/h)'\n",
      "\n"
     ]
    },
    {
     "data": {
      "text/html": [
       "<div style=\"overflow:auto\"><table style=\"width:50%\"><tr><td><b>wind_speed_kmh</b></td>\n",
       "<td><b>mean_response</b></td>\n",
       "<td><b>stddev_response</b></td>\n",
       "<td><b>std_error_mean_response</b></td></tr>\n",
       "<tr><td>0.0</td>\n",
       "<td>0.7810238</td>\n",
       "<td>0.1433506</td>\n",
       "<td>0.0004616</td></tr>\n",
       "<tr><td>3.3606632</td>\n",
       "<td>0.7727810</td>\n",
       "<td>0.1579627</td>\n",
       "<td>0.0005086</td></tr>\n",
       "<tr><td>6.7213263</td>\n",
       "<td>0.7627563</td>\n",
       "<td>0.1596483</td>\n",
       "<td>0.0005141</td></tr>\n",
       "<tr><td>10.0819895</td>\n",
       "<td>0.7382279</td>\n",
       "<td>0.1638857</td>\n",
       "<td>0.0005277</td></tr>\n",
       "<tr><td>13.4426526</td>\n",
       "<td>0.7164114</td>\n",
       "<td>0.1667069</td>\n",
       "<td>0.0005368</td></tr>\n",
       "<tr><td>16.8033158</td>\n",
       "<td>0.7006891</td>\n",
       "<td>0.1698710</td>\n",
       "<td>0.0005470</td></tr>\n",
       "<tr><td>20.1639789</td>\n",
       "<td>0.6881766</td>\n",
       "<td>0.1713880</td>\n",
       "<td>0.0005519</td></tr>\n",
       "<tr><td>23.5246421</td>\n",
       "<td>0.6683175</td>\n",
       "<td>0.1750769</td>\n",
       "<td>0.0005637</td></tr>\n",
       "<tr><td>26.8853053</td>\n",
       "<td>0.6601707</td>\n",
       "<td>0.1751525</td>\n",
       "<td>0.0005640</td></tr>\n",
       "<tr><td>30.2459684</td>\n",
       "<td>0.6478971</td>\n",
       "<td>0.1754904</td>\n",
       "<td>0.0005651</td></tr>\n",
       "<tr><td>33.6066316</td>\n",
       "<td>0.6486380</td>\n",
       "<td>0.1750175</td>\n",
       "<td>0.0005635</td></tr>\n",
       "<tr><td>36.9672947</td>\n",
       "<td>0.6495232</td>\n",
       "<td>0.1749868</td>\n",
       "<td>0.0005634</td></tr>\n",
       "<tr><td>40.3279579</td>\n",
       "<td>0.6499407</td>\n",
       "<td>0.1749804</td>\n",
       "<td>0.0005634</td></tr>\n",
       "<tr><td>43.6886211</td>\n",
       "<td>0.6500408</td>\n",
       "<td>0.1749300</td>\n",
       "<td>0.0005633</td></tr>\n",
       "<tr><td>47.0492842</td>\n",
       "<td>0.6500408</td>\n",
       "<td>0.1749300</td>\n",
       "<td>0.0005633</td></tr>\n",
       "<tr><td>50.4099474</td>\n",
       "<td>0.6500408</td>\n",
       "<td>0.1749300</td>\n",
       "<td>0.0005633</td></tr>\n",
       "<tr><td>53.7706105</td>\n",
       "<td>0.6500408</td>\n",
       "<td>0.1749300</td>\n",
       "<td>0.0005633</td></tr>\n",
       "<tr><td>57.1312737</td>\n",
       "<td>0.6500408</td>\n",
       "<td>0.1749300</td>\n",
       "<td>0.0005633</td></tr>\n",
       "<tr><td>60.4919368</td>\n",
       "<td>0.6500408</td>\n",
       "<td>0.1749300</td>\n",
       "<td>0.0005633</td></tr>\n",
       "<tr><td>63.8526000</td>\n",
       "<td>0.6500408</td>\n",
       "<td>0.1749300</td>\n",
       "<td>0.0005633</td></tr></table></div>"
      ],
      "text/plain": [
       "wind_speed_kmh    mean_response    stddev_response    std_error_mean_response\n",
       "----------------  ---------------  -----------------  -------------------------\n",
       "0                 0.781024         0.143351           0.000461574\n",
       "3.36066           0.772781         0.157963           0.000508624\n",
       "6.72133           0.762756         0.159648           0.000514051\n",
       "10.082            0.738228         0.163886           0.000527695\n",
       "13.4427           0.716411         0.166707           0.000536779\n",
       "16.8033           0.700689         0.169871           0.000546967\n",
       "20.164            0.688177         0.171388           0.000551852\n",
       "23.5246           0.668318         0.175077           0.00056373\n",
       "26.8853           0.660171         0.175152           0.000563973\n",
       "30.246            0.647897         0.17549            0.000565061\n",
       "33.6066           0.648638         0.175018           0.000563539\n",
       "36.9673           0.649523         0.174987           0.00056344\n",
       "40.328            0.649941         0.17498            0.000563419\n",
       "43.6886           0.650041         0.17493            0.000563257\n",
       "47.0493           0.650041         0.17493            0.000563257\n",
       "50.4099           0.650041         0.17493            0.000563257\n",
       "53.7706           0.650041         0.17493            0.000563257\n",
       "57.1313           0.650041         0.17493            0.000563257\n",
       "60.4919           0.650041         0.17493            0.000563257\n",
       "63.8526           0.650041         0.17493            0.000563257"
      ]
     },
     "metadata": {},
     "output_type": "display_data"
    },
    {
     "data": {
      "text/plain": [
       "[, ]"
      ]
     },
     "execution_count": 74,
     "metadata": {},
     "output_type": "execute_result"
    },
    {
     "data": {
      "image/png": "[encoded data removed]",
      "text/plain": [
       "<Figure size 504x720 with 2 Axes>"
      ]
     },
     "metadata": {},
     "output_type": "display_data"
    }
   ],
   "source": [
    "\n",
    "mod.partial_plot(data=df,cols=['Temperature (C)','Wind Speed (km/h)'])"
   ]
  },
  {
   "cell_type": "markdown",
   "metadata": {},
   "source": [
    "#### Statistics for Gradient Random Tree"
   ]
  },
  {
   "cell_type": "code",
   "execution_count": 166,
   "metadata": {},
   "outputs": [
    {
     "name": "stdout",
     "output_type": "stream",
     "text": [
      "drf prediction progress: |████████████████████████████████████████████████| 100%\n",
      "RMSE value of GBM model is:  [0.09681685]\n"
     ]
    }
   ],
   "source": [
    "xrt_pred = xrt_mod.predict(test_data=test)\n",
    "xrt_rmse = np.sqrt(((xrt_pred['predict']-test['Humidity'])**2).mean())\n",
    "print('RMSE value of GBM model is: ',xrt_rmse)"
   ]
  },
  {
   "cell_type": "code",
   "execution_count": 167,
   "metadata": {},
   "outputs": [
    {
     "name": "stdout",
     "output_type": "stream",
     "text": [
      "Model Details\n",
      "=============\n",
      "H2ORandomForestEstimator :  Distributed Random Forest\n",
      "Model Key:  XRT_0_AutoML_20181015_202529\n",
      "\n",
      "\n",
      "ModelMetricsRegression: drf\n",
      "** Reported on train data. **\n",
      "\n",
      "MSE: 0.009800587542690432\n",
      "RMSE: 0.09899791686035839\n",
      "MAE: 0.07256004115145867\n",
      "RMSLE: 0.06007781252912462\n",
      "Mean Residual Deviance: 0.009800587542690432\n",
      "\n",
      "ModelMetricsRegression: drf\n",
      "** Reported on validation data. **\n",
      "\n",
      "MSE: 0.00981266951468527\n",
      "RMSE: 0.09905891941004237\n",
      "MAE: 0.0725682224803065\n",
      "RMSLE: 0.06044062381300979\n",
      "Mean Residual Deviance: 0.00981266951468527\n",
      "\n",
      "ModelMetricsRegression: drf\n",
      "** Reported on cross-validation data. **\n",
      "\n",
      "MSE: 0.009501533545596368\n",
      "RMSE: 0.09747581005355312\n",
      "MAE: 0.0715322623068607\n",
      "RMSLE: 0.05920093880695985\n",
      "Mean Residual Deviance: 0.009501533545596368\n",
      "Cross-Validation Metrics Summary: \n"
     ]
    },
    {
     "data": {
      "text/html": [
       "<div style=\"overflow:auto\"><table style=\"width:50%\"><tr><td><b></b></td>\n",
       "<td><b>mean</b></td>\n",
       "<td><b>sd</b></td>\n",
       "<td><b>cv_1_valid</b></td>\n",
       "<td><b>cv_2_valid</b></td>\n",
       "<td><b>cv_3_valid</b></td>\n",
       "<td><b>cv_4_valid</b></td>\n",
       "<td><b>cv_5_valid</b></td></tr>\n",
       "<tr><td>mae</td>\n",
       "<td>0.0715323</td>\n",
       "<td>0.0001950</td>\n",
       "<td>0.0720438</td>\n",
       "<td>0.0712319</td>\n",
       "<td>0.0714025</td>\n",
       "<td>0.0714278</td>\n",
       "<td>0.0715553</td></tr>\n",
       "<tr><td>mean_residual_deviance</td>\n",
       "<td>0.0095015</td>\n",
       "<td>0.0000583</td>\n",
       "<td>0.0096451</td>\n",
       "<td>0.0094158</td>\n",
       "<td>0.0095067</td>\n",
       "<td>0.0094251</td>\n",
       "<td>0.0095149</td></tr>\n",
       "<tr><td>mse</td>\n",
       "<td>0.0095015</td>\n",
       "<td>0.0000583</td>\n",
       "<td>0.0096451</td>\n",
       "<td>0.0094158</td>\n",
       "<td>0.0095067</td>\n",
       "<td>0.0094251</td>\n",
       "<td>0.0095149</td></tr>\n",
       "<tr><td>r2</td>\n",
       "<td>0.7511579</td>\n",
       "<td>0.0017277</td>\n",
       "<td>0.7467434</td>\n",
       "<td>0.7535714</td>\n",
       "<td>0.7513806</td>\n",
       "<td>0.7532525</td>\n",
       "<td>0.7508419</td></tr>\n",
       "<tr><td>residual_deviance</td>\n",
       "<td>0.0095015</td>\n",
       "<td>0.0000583</td>\n",
       "<td>0.0096451</td>\n",
       "<td>0.0094158</td>\n",
       "<td>0.0095067</td>\n",
       "<td>0.0094251</td>\n",
       "<td>0.0095149</td></tr>\n",
       "<tr><td>rmse</td>\n",
       "<td>0.0974749</td>\n",
       "<td>0.0002987</td>\n",
       "<td>0.0982096</td>\n",
       "<td>0.097035</td>\n",
       "<td>0.0975023</td>\n",
       "<td>0.0970830</td>\n",
       "<td>0.0975445</td></tr>\n",
       "<tr><td>rmsle</td>\n",
       "<td>0.0592003</td>\n",
       "<td>0.0001911</td>\n",
       "<td>0.0597034</td>\n",
       "<td>0.0590675</td>\n",
       "<td>0.0592228</td>\n",
       "<td>0.0589121</td>\n",
       "<td>0.0590957</td></tr></table></div>"
      ],
      "text/plain": [
       "                        mean        sd           cv_1_valid    cv_2_valid    cv_3_valid    cv_4_valid    cv_5_valid\n",
       "----------------------  ----------  -----------  ------------  ------------  ------------  ------------  ------------\n",
       "mae                     0.0715323   0.00019499   0.0720438     0.0712319     0.0714025     0.0714278     0.0715553\n",
       "mean_residual_deviance  0.00950153  5.83239e-05  0.00964513    0.00941579    0.00950669    0.00942512    0.00951494\n",
       "mse                     0.00950153  5.83239e-05  0.00964513    0.00941579    0.00950669    0.00942512    0.00951494\n",
       "r2                      0.751158    0.00172771   0.746743      0.753571      0.751381      0.753252      0.750842\n",
       "residual_deviance       0.00950153  5.83239e-05  0.00964513    0.00941579    0.00950669    0.00942512    0.00951494\n",
       "rmse                    0.0974749   0.000298741  0.0982096     0.097035      0.0975023     0.097083      0.0975445\n",
       "rmsle                   0.0592003   0.000191111  0.0597034     0.0590675     0.0592228     0.0589121     0.0590957"
      ]
     },
     "metadata": {},
     "output_type": "display_data"
    },
    {
     "name": "stdout",
     "output_type": "stream",
     "text": [
      "Scoring History: \n"
     ]
    },
    {
     "data": {
      "text/html": [
       "<div style=\"overflow:auto\"><table style=\"width:50%\"><tr><td><b></b></td>\n",
       "<td><b>timestamp</b></td>\n",
       "<td><b>duration</b></td>\n",
       "<td><b>number_of_trees</b></td>\n",
       "<td><b>training_rmse</b></td>\n",
       "<td><b>training_mae</b></td>\n",
       "<td><b>training_deviance</b></td>\n",
       "<td><b>validation_rmse</b></td>\n",
       "<td><b>validation_mae</b></td>\n",
       "<td><b>validation_deviance</b></td></tr>\n",
       "<tr><td></td>\n",
       "<td>2018-10-15 20:31:30</td>\n",
       "<td> 2 min 41.237 sec</td>\n",
       "<td>0.0</td>\n",
       "<td>nan</td>\n",
       "<td>nan</td>\n",
       "<td>nan</td>\n",
       "<td>nan</td>\n",
       "<td>nan</td>\n",
       "<td>nan</td></tr>\n",
       "<tr><td></td>\n",
       "<td>2018-10-15 20:31:30</td>\n",
       "<td> 2 min 41.848 sec</td>\n",
       "<td>1.0</td>\n",
       "<td>0.1296936</td>\n",
       "<td>0.0913896</td>\n",
       "<td>0.0168204</td>\n",
       "<td>0.1310527</td>\n",
       "<td>0.0920809</td>\n",
       "<td>0.0171748</td></tr>\n",
       "<tr><td></td>\n",
       "<td>2018-10-15 20:31:31</td>\n",
       "<td> 2 min 42.531 sec</td>\n",
       "<td>2.0</td>\n",
       "<td>0.1265253</td>\n",
       "<td>0.0896385</td>\n",
       "<td>0.0160086</td>\n",
       "<td>0.1166508</td>\n",
       "<td>0.0833754</td>\n",
       "<td>0.0136074</td></tr>\n",
       "<tr><td></td>\n",
       "<td>2018-10-15 20:31:32</td>\n",
       "<td> 2 min 43.195 sec</td>\n",
       "<td>3.0</td>\n",
       "<td>0.1232784</td>\n",
       "<td>0.0873842</td>\n",
       "<td>0.0151976</td>\n",
       "<td>0.1103848</td>\n",
       "<td>0.0798043</td>\n",
       "<td>0.0121848</td></tr>\n",
       "<tr><td></td>\n",
       "<td>2018-10-15 20:31:32</td>\n",
       "<td> 2 min 43.788 sec</td>\n",
       "<td>4.0</td>\n",
       "<td>0.1202243</td>\n",
       "<td>0.0854929</td>\n",
       "<td>0.0144539</td>\n",
       "<td>0.1070220</td>\n",
       "<td>0.0776439</td>\n",
       "<td>0.0114537</td></tr>\n",
       "<tr><td></td>\n",
       "<td>2018-10-15 20:31:33</td>\n",
       "<td> 2 min 44.462 sec</td>\n",
       "<td>5.0</td>\n",
       "<td>0.1183243</td>\n",
       "<td>0.0843424</td>\n",
       "<td>0.0140006</td>\n",
       "<td>0.1060967</td>\n",
       "<td>0.0772150</td>\n",
       "<td>0.0112565</td></tr>\n",
       "<tr><td></td>\n",
       "<td>2018-10-15 20:31:34</td>\n",
       "<td> 2 min 45.174 sec</td>\n",
       "<td>6.0</td>\n",
       "<td>0.1161146</td>\n",
       "<td>0.0830032</td>\n",
       "<td>0.0134826</td>\n",
       "<td>0.1048936</td>\n",
       "<td>0.0763548</td>\n",
       "<td>0.0110027</td></tr>\n",
       "<tr><td></td>\n",
       "<td>2018-10-15 20:31:38</td>\n",
       "<td> 2 min 49.863 sec</td>\n",
       "<td>11.0</td>\n",
       "<td>0.1081432</td>\n",
       "<td>0.0782948</td>\n",
       "<td>0.0116949</td>\n",
       "<td>0.1017149</td>\n",
       "<td>0.0742290</td>\n",
       "<td>0.0103459</td></tr>\n",
       "<tr><td></td>\n",
       "<td>2018-10-15 20:31:43</td>\n",
       "<td> 2 min 54.192 sec</td>\n",
       "<td>18.0</td>\n",
       "<td>0.1035807</td>\n",
       "<td>0.0756948</td>\n",
       "<td>0.0107290</td>\n",
       "<td>0.1004720</td>\n",
       "<td>0.0735261</td>\n",
       "<td>0.0100946</td></tr>\n",
       "<tr><td></td>\n",
       "<td>2018-10-15 20:31:48</td>\n",
       "<td> 2 min 59.100 sec</td>\n",
       "<td>25.0</td>\n",
       "<td>0.1014148</td>\n",
       "<td>0.0742497</td>\n",
       "<td>0.0102850</td>\n",
       "<td>0.0999341</td>\n",
       "<td>0.0731523</td>\n",
       "<td>0.0099868</td></tr>\n",
       "<tr><td></td>\n",
       "<td>2018-10-15 20:31:52</td>\n",
       "<td> 3 min  3.545 sec</td>\n",
       "<td>32.0</td>\n",
       "<td>0.1004343</td>\n",
       "<td>0.0735637</td>\n",
       "<td>0.0100870</td>\n",
       "<td>0.0995785</td>\n",
       "<td>0.0728905</td>\n",
       "<td>0.0099159</td></tr>\n",
       "<tr><td></td>\n",
       "<td>2018-10-15 20:31:57</td>\n",
       "<td> 3 min  7.979 sec</td>\n",
       "<td>39.0</td>\n",
       "<td>0.0998129</td>\n",
       "<td>0.0731529</td>\n",
       "<td>0.0099626</td>\n",
       "<td>0.0994281</td>\n",
       "<td>0.0728340</td>\n",
       "<td>0.0098859</td></tr>\n",
       "<tr><td></td>\n",
       "<td>2018-10-15 20:32:01</td>\n",
       "<td> 3 min 12.006 sec</td>\n",
       "<td>45.0</td>\n",
       "<td>0.0993449</td>\n",
       "<td>0.0728392</td>\n",
       "<td>0.0098694</td>\n",
       "<td>0.0992286</td>\n",
       "<td>0.0727329</td>\n",
       "<td>0.0098463</td></tr>\n",
       "<tr><td></td>\n",
       "<td>2018-10-15 20:32:04</td>\n",
       "<td> 3 min 15.776 sec</td>\n",
       "<td>50.0</td>\n",
       "<td>0.0989979</td>\n",
       "<td>0.0725600</td>\n",
       "<td>0.0098006</td>\n",
       "<td>0.0990589</td>\n",
       "<td>0.0725682</td>\n",
       "<td>0.0098127</td></tr></table></div>"
      ],
      "text/plain": [
       "    timestamp            duration          number_of_trees    training_rmse    training_mae    training_deviance    validation_rmse    validation_mae    validation_deviance\n",
       "--  -------------------  ----------------  -----------------  ---------------  --------------  -------------------  -----------------  ----------------  ---------------------\n",
       "    2018-10-15 20:31:30  2 min 41.237 sec  0                  nan              nan             nan                  nan                nan               nan\n",
       "    2018-10-15 20:31:30  2 min 41.848 sec  1                  0.129694         0.0913896       0.0168204            0.131053           0.0920809         0.0171748\n",
       "    2018-10-15 20:31:31  2 min 42.531 sec  2                  0.126525         0.0896385       0.0160086            0.116651           0.0833754         0.0136074\n",
       "    2018-10-15 20:31:32  2 min 43.195 sec  3                  0.123278         0.0873842       0.0151976            0.110385           0.0798043         0.0121848\n",
       "    2018-10-15 20:31:32  2 min 43.788 sec  4                  0.120224         0.0854929       0.0144539            0.107022           0.0776439         0.0114537\n",
       "    2018-10-15 20:31:33  2 min 44.462 sec  5                  0.118324         0.0843424       0.0140006            0.106097           0.077215          0.0112565\n",
       "    2018-10-15 20:31:34  2 min 45.174 sec  6                  0.116115         0.0830032       0.0134826            0.104894           0.0763548         0.0110027\n",
       "    2018-10-15 20:31:38  2 min 49.863 sec  11                 0.108143         0.0782948       0.0116949            0.101715           0.074229          0.0103459\n",
       "    2018-10-15 20:31:43  2 min 54.192 sec  18                 0.103581         0.0756948       0.010729             0.100472           0.0735261         0.0100946\n",
       "    2018-10-15 20:31:48  2 min 59.100 sec  25                 0.101415         0.0742497       0.010285             0.0999341          0.0731523         0.00998683\n",
       "    2018-10-15 20:31:52  3 min  3.545 sec  32                 0.100434         0.0735637       0.010087             0.0995785          0.0728905         0.00991589\n",
       "    2018-10-15 20:31:57  3 min  7.979 sec  39                 0.0998129        0.0731529       0.00996262           0.0994281          0.072834          0.00988594\n",
       "    2018-10-15 20:32:01  3 min 12.006 sec  45                 0.0993449        0.0728392       0.00986941           0.0992286          0.0727329         0.00984631\n",
       "    2018-10-15 20:32:04  3 min 15.776 sec  50                 0.0989979        0.07256         0.00980059           0.0990589          0.0725682         0.00981267"
      ]
     },
     "metadata": {},
     "output_type": "display_data"
    },
    {
     "name": "stdout",
     "output_type": "stream",
     "text": [
      "Variable Importances: \n"
     ]
    },
    {
     "data": {
      "text/html": [
       "<div style=\"overflow:auto\"><table style=\"width:50%\"><tr><td><b>variable</b></td>\n",
       "<td><b>relative_importance</b></td>\n",
       "<td><b>scaled_importance</b></td>\n",
       "<td><b>percentage</b></td></tr>\n",
       "<tr><td>Temperature (C)</td>\n",
       "<td>25819.8183594</td>\n",
       "<td>1.0</td>\n",
       "<td>0.2397373</td></tr>\n",
       "<tr><td>Apparent Temperature (C)</td>\n",
       "<td>22853.3652344</td>\n",
       "<td>0.8851095</td>\n",
       "<td>0.2121938</td></tr>\n",
       "<tr><td>Visibility (km)</td>\n",
       "<td>20599.3515625</td>\n",
       "<td>0.7978116</td>\n",
       "<td>0.1912652</td></tr>\n",
       "<tr><td>Daily Summary</td>\n",
       "<td>19718.9843750</td>\n",
       "<td>0.7637151</td>\n",
       "<td>0.1830910</td></tr>\n",
       "<tr><td>Summary</td>\n",
       "<td>6565.5424805</td>\n",
       "<td>0.2542831</td>\n",
       "<td>0.0609611</td></tr>\n",
       "<tr><td>Wind Speed (km/h)</td>\n",
       "<td>5992.2294922</td>\n",
       "<td>0.2320787</td>\n",
       "<td>0.0556379</td></tr>\n",
       "<tr><td>Wind Bearing (degrees)</td>\n",
       "<td>3132.2292480</td>\n",
       "<td>0.1213110</td>\n",
       "<td>0.0290828</td></tr>\n",
       "<tr><td>Pressure (millibars)</td>\n",
       "<td>2537.5803223</td>\n",
       "<td>0.0982803</td>\n",
       "<td>0.0235615</td></tr>\n",
       "<tr><td>Precip Type</td>\n",
       "<td>481.3542175</td>\n",
       "<td>0.0186428</td>\n",
       "<td>0.0044694</td></tr></table></div>"
      ],
      "text/plain": [
       "variable                  relative_importance    scaled_importance    percentage\n",
       "------------------------  ---------------------  -------------------  ------------\n",
       "Temperature (C)           25819.8                1                    0.239737\n",
       "Apparent Temperature (C)  22853.4                0.885109             0.212194\n",
       "Visibility (km)           20599.4                0.797812             0.191265\n",
       "Daily Summary             19719                  0.763715             0.183091\n",
       "Summary                   6565.54                0.254283             0.0609611\n",
       "Wind Speed (km/h)         5992.23                0.232079             0.0556379\n",
       "Wind Bearing (degrees)    3132.23                0.121311             0.0290828\n",
       "Pressure (millibars)      2537.58                0.0982803            0.0235615\n",
       "Precip Type               481.354                0.0186428            0.00446938"
      ]
     },
     "metadata": {},
     "output_type": "display_data"
    },
    {
     "data": {
      "text/plain": []
     },
     "execution_count": 167,
     "metadata": {},
     "output_type": "execute_result"
    }
   ],
   "source": [
    "xrt_mod"
   ]
  },
  {
   "cell_type": "code",
   "execution_count": 154,
   "metadata": {},
   "outputs": [
    {
     "data": {
      "image/png": "[encoded data removed]",
      "text/plain": [
       "<Figure size 1008x720 with 1 Axes>"
      ]
     },
     "metadata": {},
     "output_type": "display_data"
    }
   ],
   "source": [
    "xrt_mod.varimp_plot()"
   ]
  },
  {
   "cell_type": "code",
   "execution_count": 81,
   "metadata": {
    "scrolled": false
   },
   "outputs": [
    {
     "name": "stdout",
     "output_type": "stream",
     "text": [
      "PartialDependencePlot progress: |█████████████████████████████████████████| 100%\n",
      "PartialDependence: Partial Dependence Plot of model DRF_0_AutoML_20181011_214137 on column 'Temperature (C)'\n",
      "\n"
     ]
    },
    {
     "data": {
      "text/html": [
       "<div style=\"overflow:auto\"><table style=\"width:50%\"><tr><td><b>temperature_c</b></td>\n",
       "<td><b>mean_response</b></td>\n",
       "<td><b>stddev_response</b></td>\n",
       "<td><b>std_error_mean_response</b></td></tr>\n",
       "<tr><td>-21.8222222</td>\n",
       "<td>0.7191022</td>\n",
       "<td>0.0956830</td>\n",
       "<td>0.0003081</td></tr>\n",
       "<tr><td>-18.5733918</td>\n",
       "<td>0.7191770</td>\n",
       "<td>0.0958195</td>\n",
       "<td>0.0003085</td></tr>\n",
       "<tr><td>-15.3245614</td>\n",
       "<td>0.7275437</td>\n",
       "<td>0.1032117</td>\n",
       "<td>0.0003323</td></tr>\n",
       "<tr><td>-12.0757310</td>\n",
       "<td>0.7475001</td>\n",
       "<td>0.1124809</td>\n",
       "<td>0.0003622</td></tr>\n",
       "<tr><td>-8.8269006</td>\n",
       "<td>0.7602262</td>\n",
       "<td>0.1134276</td>\n",
       "<td>0.0003652</td></tr>\n",
       "<tr><td>-5.5780702</td>\n",
       "<td>0.7630374</td>\n",
       "<td>0.1151949</td>\n",
       "<td>0.0003709</td></tr>\n",
       "<tr><td>-2.3292398</td>\n",
       "<td>0.7668264</td>\n",
       "<td>0.1199527</td>\n",
       "<td>0.0003862</td></tr>\n",
       "<tr><td>0.9195906</td>\n",
       "<td>0.7668080</td>\n",
       "<td>0.1198658</td>\n",
       "<td>0.0003860</td></tr>\n",
       "<tr><td>4.1684211</td>\n",
       "<td>0.7678405</td>\n",
       "<td>0.1226986</td>\n",
       "<td>0.0003951</td></tr>\n",
       "<tr><td>7.4172515</td>\n",
       "<td>0.7605764</td>\n",
       "<td>0.1249488</td>\n",
       "<td>0.0004023</td></tr>\n",
       "<tr><td>10.6660819</td>\n",
       "<td>0.7549072</td>\n",
       "<td>0.1264463</td>\n",
       "<td>0.0004071</td></tr>\n",
       "<tr><td>13.9149123</td>\n",
       "<td>0.7468888</td>\n",
       "<td>0.1312795</td>\n",
       "<td>0.0004227</td></tr>\n",
       "<tr><td>17.1637427</td>\n",
       "<td>0.7381417</td>\n",
       "<td>0.1354258</td>\n",
       "<td>0.0004361</td></tr>\n",
       "<tr><td>20.4125731</td>\n",
       "<td>0.7248627</td>\n",
       "<td>0.1302050</td>\n",
       "<td>0.0004192</td></tr>\n",
       "<tr><td>23.6614035</td>\n",
       "<td>0.6789864</td>\n",
       "<td>0.1147171</td>\n",
       "<td>0.0003694</td></tr>\n",
       "<tr><td>26.9102339</td>\n",
       "<td>0.6456963</td>\n",
       "<td>0.1192952</td>\n",
       "<td>0.0003841</td></tr>\n",
       "<tr><td>30.1590643</td>\n",
       "<td>0.6073252</td>\n",
       "<td>0.1365878</td>\n",
       "<td>0.0004398</td></tr>\n",
       "<tr><td>33.4078947</td>\n",
       "<td>0.5932080</td>\n",
       "<td>0.1487674</td>\n",
       "<td>0.0004790</td></tr>\n",
       "<tr><td>36.6567251</td>\n",
       "<td>0.5883153</td>\n",
       "<td>0.1535606</td>\n",
       "<td>0.0004944</td></tr>\n",
       "<tr><td>39.9055556</td>\n",
       "<td>0.5865915</td>\n",
       "<td>0.1560391</td>\n",
       "<td>0.0005024</td></tr></table></div>"
      ],
      "text/plain": [
       "temperature_c    mean_response    stddev_response    std_error_mean_response\n",
       "---------------  ---------------  -----------------  -------------------------\n",
       "-21.8222         0.719102         0.095683           0.00030809\n",
       "-18.5734         0.719177         0.0958195          0.000308529\n",
       "-15.3246         0.727544         0.103212           0.000332331\n",
       "-12.0757         0.7475           0.112481           0.000362177\n",
       "-8.8269          0.760226         0.113428           0.000365225\n",
       "-5.57807         0.763037         0.115195           0.000370916\n",
       "-2.32924         0.766826         0.119953           0.000386235\n",
       "0.919591         0.766808         0.119866           0.000385956\n",
       "4.16842          0.767841         0.122699           0.000395077\n",
       "7.41725          0.760576         0.124949           0.000402322\n",
       "10.6661          0.754907         0.126446           0.000407144\n",
       "13.9149          0.746889         0.131279           0.000422706\n",
       "17.1637          0.738142         0.135426           0.000436057\n",
       "20.4126          0.724863         0.130205           0.000419247\n",
       "23.6614          0.678986         0.114717           0.000369377\n",
       "26.9102          0.645696         0.119295           0.000384118\n",
       "30.1591          0.607325         0.136588           0.000439799\n",
       "33.4079          0.593208         0.148767           0.000479016\n",
       "36.6567          0.588315         0.153561           0.000494449\n",
       "39.9056          0.586592         0.156039           0.00050243"
      ]
     },
     "metadata": {},
     "output_type": "display_data"
    },
    {
     "name": "stdout",
     "output_type": "stream",
     "text": [
      "PartialDependence: Partial Dependence Plot of model DRF_0_AutoML_20181011_214137 on column 'Wind Speed (km/h)'\n",
      "\n"
     ]
    },
    {
     "data": {
      "text/html": [
       "<div style=\"overflow:auto\"><table style=\"width:50%\"><tr><td><b>wind_speed_kmh</b></td>\n",
       "<td><b>mean_response</b></td>\n",
       "<td><b>stddev_response</b></td>\n",
       "<td><b>std_error_mean_response</b></td></tr>\n",
       "<tr><td>0.0</td>\n",
       "<td>0.7631558</td>\n",
       "<td>0.1472062</td>\n",
       "<td>0.0004740</td></tr>\n",
       "<tr><td>3.3606632</td>\n",
       "<td>0.7659575</td>\n",
       "<td>0.1567093</td>\n",
       "<td>0.0005046</td></tr>\n",
       "<tr><td>6.7213263</td>\n",
       "<td>0.7620149</td>\n",
       "<td>0.1572351</td>\n",
       "<td>0.0005063</td></tr>\n",
       "<tr><td>10.0819895</td>\n",
       "<td>0.7361930</td>\n",
       "<td>0.1617563</td>\n",
       "<td>0.0005208</td></tr>\n",
       "<tr><td>13.4426526</td>\n",
       "<td>0.7148406</td>\n",
       "<td>0.1647304</td>\n",
       "<td>0.0005304</td></tr>\n",
       "<tr><td>16.8033158</td>\n",
       "<td>0.6998723</td>\n",
       "<td>0.1677282</td>\n",
       "<td>0.0005401</td></tr>\n",
       "<tr><td>20.1639789</td>\n",
       "<td>0.6892985</td>\n",
       "<td>0.1689295</td>\n",
       "<td>0.0005439</td></tr>\n",
       "<tr><td>23.5246421</td>\n",
       "<td>0.6782025</td>\n",
       "<td>0.1707027</td>\n",
       "<td>0.0005496</td></tr>\n",
       "<tr><td>26.8853053</td>\n",
       "<td>0.6737308</td>\n",
       "<td>0.1708641</td>\n",
       "<td>0.0005502</td></tr>\n",
       "<tr><td>30.2459684</td>\n",
       "<td>0.6722554</td>\n",
       "<td>0.1695711</td>\n",
       "<td>0.0005460</td></tr>\n",
       "<tr><td>33.6066316</td>\n",
       "<td>0.6708862</td>\n",
       "<td>0.1688512</td>\n",
       "<td>0.0005437</td></tr>\n",
       "<tr><td>36.9672947</td>\n",
       "<td>0.6709806</td>\n",
       "<td>0.1684199</td>\n",
       "<td>0.0005423</td></tr>\n",
       "<tr><td>40.3279579</td>\n",
       "<td>0.6702162</td>\n",
       "<td>0.1683203</td>\n",
       "<td>0.0005420</td></tr>\n",
       "<tr><td>43.6886211</td>\n",
       "<td>0.6705210</td>\n",
       "<td>0.1683315</td>\n",
       "<td>0.0005420</td></tr>\n",
       "<tr><td>47.0492842</td>\n",
       "<td>0.6705203</td>\n",
       "<td>0.1683209</td>\n",
       "<td>0.0005420</td></tr>\n",
       "<tr><td>50.4099474</td>\n",
       "<td>0.6697257</td>\n",
       "<td>0.1675697</td>\n",
       "<td>0.0005396</td></tr>\n",
       "<tr><td>53.7706105</td>\n",
       "<td>0.6698061</td>\n",
       "<td>0.1675961</td>\n",
       "<td>0.0005396</td></tr>\n",
       "<tr><td>57.1312737</td>\n",
       "<td>0.6698057</td>\n",
       "<td>0.1675961</td>\n",
       "<td>0.0005396</td></tr>\n",
       "<tr><td>60.4919368</td>\n",
       "<td>0.6698057</td>\n",
       "<td>0.1675961</td>\n",
       "<td>0.0005396</td></tr>\n",
       "<tr><td>63.8526000</td>\n",
       "<td>0.6698057</td>\n",
       "<td>0.1675961</td>\n",
       "<td>0.0005396</td></tr></table></div>"
      ],
      "text/plain": [
       "wind_speed_kmh    mean_response    stddev_response    std_error_mean_response\n",
       "----------------  ---------------  -----------------  -------------------------\n",
       "0                 0.763156         0.147206           0.000473989\n",
       "3.36066           0.765957         0.156709           0.000504588\n",
       "6.72133           0.762015         0.157235           0.000506281\n",
       "10.082            0.736193         0.161756           0.000520839\n",
       "13.4427           0.714841         0.16473            0.000530415\n",
       "16.8033           0.699872         0.167728           0.000540068\n",
       "20.164            0.689299         0.168929           0.000543936\n",
       "23.5246           0.678203         0.170703           0.000549645\n",
       "26.8853           0.673731         0.170864           0.000550165\n",
       "30.246            0.672255         0.169571           0.000546002\n",
       "33.6066           0.670886         0.168851           0.000543684\n",
       "36.9673           0.670981         0.16842            0.000542295\n",
       "40.328            0.670216         0.16832            0.000541974\n",
       "43.6886           0.670521         0.168332           0.00054201\n",
       "47.0493           0.67052          0.168321           0.000541976\n",
       "50.4099           0.669726         0.16757            0.000539557\n",
       "53.7706           0.669806         0.167596           0.000539642\n",
       "57.1313           0.669806         0.167596           0.000539642\n",
       "60.4919           0.669806         0.167596           0.000539642\n",
       "63.8526           0.669806         0.167596           0.000539642"
      ]
     },
     "metadata": {},
     "output_type": "display_data"
    },
    {
     "data": {
      "text/plain": [
       "[, ]"
      ]
     },
     "execution_count": 81,
     "metadata": {},
     "output_type": "execute_result"
    },
    {
     "data": {
      "image/png": "[encoded data removed]",
      "text/plain": [
       "<Figure size 504x720 with 2 Axes>"
      ]
     },
     "metadata": {},
     "output_type": "display_data"
    }
   ],
   "source": [
    "mod.partial_plot(data=df,cols=['Temperature (C)','Wind Speed (km/h)'])"
   ]
  },
  {
   "cell_type": "markdown",
   "metadata": {},
   "source": [
    "#### Statistics for Generelized Linear Model"
   ]
  },
  {
   "cell_type": "code",
   "execution_count": 169,
   "metadata": {},
   "outputs": [
    {
     "name": "stdout",
     "output_type": "stream",
     "text": [
      "glm prediction progress: |████████████████████████████████████████████████| 100%\n",
      "RMSE value of GLM model is:  [0.12797623]\n"
     ]
    }
   ],
   "source": [
    "glm_pred = glm_mod.predict(test_data=test)\n",
    "glm_rmse = np.sqrt(((glm_pred['predict']-test['Humidity'])**2).mean())\n",
    "print('RMSE value of GLM model is: ',glm_rmse)"
   ]
  },
  {
   "cell_type": "code",
   "execution_count": 87,
   "metadata": {},
   "outputs": [
    {
     "name": "stdout",
     "output_type": "stream",
     "text": [
      "PartialDependencePlot progress: |█████████████████████████████████████████| 100%\n",
      "PartialDependence: Partial Dependence Plot of model GLM_grid_0_AutoML_20181011_214137_model_0 on column 'Temperature (C)'\n",
      "\n"
     ]
    },
    {
     "data": {
      "text/html": [
       "<div style=\"overflow:auto\"><table style=\"width:50%\"><tr><td><b>temperature_c</b></td>\n",
       "<td><b>mean_response</b></td>\n",
       "<td><b>stddev_response</b></td>\n",
       "<td><b>std_error_mean_response</b></td></tr>\n",
       "<tr><td>-21.8222222</td>\n",
       "<td>1.5364479</td>\n",
       "<td>0.1295020</td>\n",
       "<td>0.0004170</td></tr>\n",
       "<tr><td>-18.5733918</td>\n",
       "<td>1.4592993</td>\n",
       "<td>0.1295020</td>\n",
       "<td>0.0004170</td></tr>\n",
       "<tr><td>-15.3245614</td>\n",
       "<td>1.3821507</td>\n",
       "<td>0.1295020</td>\n",
       "<td>0.0004170</td></tr>\n",
       "<tr><td>-12.0757310</td>\n",
       "<td>1.3050021</td>\n",
       "<td>0.1295020</td>\n",
       "<td>0.0004170</td></tr>\n",
       "<tr><td>-8.8269006</td>\n",
       "<td>1.2278535</td>\n",
       "<td>0.1295020</td>\n",
       "<td>0.0004170</td></tr>\n",
       "<tr><td>-5.5780702</td>\n",
       "<td>1.1507050</td>\n",
       "<td>0.1295020</td>\n",
       "<td>0.0004170</td></tr>\n",
       "<tr><td>-2.3292398</td>\n",
       "<td>1.0735564</td>\n",
       "<td>0.1295020</td>\n",
       "<td>0.0004170</td></tr>\n",
       "<tr><td>0.9195906</td>\n",
       "<td>0.9964078</td>\n",
       "<td>0.1295020</td>\n",
       "<td>0.0004170</td></tr>\n",
       "<tr><td>4.1684211</td>\n",
       "<td>0.9192592</td>\n",
       "<td>0.1295020</td>\n",
       "<td>0.0004170</td></tr>\n",
       "<tr><td>7.4172515</td>\n",
       "<td>0.8421106</td>\n",
       "<td>0.1295020</td>\n",
       "<td>0.0004170</td></tr>\n",
       "<tr><td>10.6660819</td>\n",
       "<td>0.7649621</td>\n",
       "<td>0.1295020</td>\n",
       "<td>0.0004170</td></tr>\n",
       "<tr><td>13.9149123</td>\n",
       "<td>0.6878135</td>\n",
       "<td>0.1295020</td>\n",
       "<td>0.0004170</td></tr>\n",
       "<tr><td>17.1637427</td>\n",
       "<td>0.6106649</td>\n",
       "<td>0.1295020</td>\n",
       "<td>0.0004170</td></tr>\n",
       "<tr><td>20.4125731</td>\n",
       "<td>0.5335163</td>\n",
       "<td>0.1295020</td>\n",
       "<td>0.0004170</td></tr>\n",
       "<tr><td>23.6614035</td>\n",
       "<td>0.4563678</td>\n",
       "<td>0.1295020</td>\n",
       "<td>0.0004170</td></tr>\n",
       "<tr><td>26.9102339</td>\n",
       "<td>0.3792192</td>\n",
       "<td>0.1295020</td>\n",
       "<td>0.0004170</td></tr>\n",
       "<tr><td>30.1590643</td>\n",
       "<td>0.3020706</td>\n",
       "<td>0.1295020</td>\n",
       "<td>0.0004170</td></tr>\n",
       "<tr><td>33.4078947</td>\n",
       "<td>0.2249220</td>\n",
       "<td>0.1295020</td>\n",
       "<td>0.0004170</td></tr>\n",
       "<tr><td>36.6567251</td>\n",
       "<td>0.1477734</td>\n",
       "<td>0.1295020</td>\n",
       "<td>0.0004170</td></tr>\n",
       "<tr><td>39.9055556</td>\n",
       "<td>0.0706249</td>\n",
       "<td>0.1295020</td>\n",
       "<td>0.0004170</td></tr></table></div>"
      ],
      "text/plain": [
       "temperature_c    mean_response    stddev_response    std_error_mean_response\n",
       "---------------  ---------------  -----------------  -------------------------\n",
       "-21.8222         1.53645          0.129502           0.000416983\n",
       "-18.5734         1.4593           0.129502           0.000416983\n",
       "-15.3246         1.38215          0.129502           0.000416983\n",
       "-12.0757         1.305            0.129502           0.000416983\n",
       "-8.8269          1.22785          0.129502           0.000416983\n",
       "-5.57807         1.1507           0.129502           0.000416983\n",
       "-2.32924         1.07356          0.129502           0.000416983\n",
       "0.919591         0.996408         0.129502           0.000416983\n",
       "4.16842          0.919259         0.129502           0.000416983\n",
       "7.41725          0.842111         0.129502           0.000416983\n",
       "10.6661          0.764962         0.129502           0.000416983\n",
       "13.9149          0.687813         0.129502           0.000416983\n",
       "17.1637          0.610665         0.129502           0.000416983\n",
       "20.4126          0.533516         0.129502           0.000416983\n",
       "23.6614          0.456368         0.129502           0.000416983\n",
       "26.9102          0.379219         0.129502           0.000416983\n",
       "30.1591          0.302071         0.129502           0.000416983\n",
       "33.4079          0.224922         0.129502           0.000416983\n",
       "36.6567          0.147773         0.129502           0.000416983\n",
       "39.9056          0.0706249        0.129502           0.000416983"
      ]
     },
     "metadata": {},
     "output_type": "display_data"
    },
    {
     "name": "stdout",
     "output_type": "stream",
     "text": [
      "PartialDependence: Partial Dependence Plot of model GLM_grid_0_AutoML_20181011_214137_model_0 on column 'Wind Speed (km/h)'\n",
      "\n"
     ]
    },
    {
     "data": {
      "text/html": [
       "<div style=\"overflow:auto\"><table style=\"width:50%\"><tr><td><b>wind_speed_kmh</b></td>\n",
       "<td><b>mean_response</b></td>\n",
       "<td><b>stddev_response</b></td>\n",
       "<td><b>std_error_mean_response</b></td></tr>\n",
       "<tr><td>0.0</td>\n",
       "<td>0.8017611</td>\n",
       "<td>0.1399040</td>\n",
       "<td>0.0004505</td></tr>\n",
       "<tr><td>3.3606632</td>\n",
       "<td>0.7809715</td>\n",
       "<td>0.1399040</td>\n",
       "<td>0.0004505</td></tr>\n",
       "<tr><td>6.7213263</td>\n",
       "<td>0.7601819</td>\n",
       "<td>0.1399040</td>\n",
       "<td>0.0004505</td></tr>\n",
       "<tr><td>10.0819895</td>\n",
       "<td>0.7393923</td>\n",
       "<td>0.1399040</td>\n",
       "<td>0.0004505</td></tr>\n",
       "<tr><td>13.4426526</td>\n",
       "<td>0.7186027</td>\n",
       "<td>0.1399040</td>\n",
       "<td>0.0004505</td></tr>\n",
       "<tr><td>16.8033158</td>\n",
       "<td>0.6978131</td>\n",
       "<td>0.1399040</td>\n",
       "<td>0.0004505</td></tr>\n",
       "<tr><td>20.1639789</td>\n",
       "<td>0.6770235</td>\n",
       "<td>0.1399040</td>\n",
       "<td>0.0004505</td></tr>\n",
       "<tr><td>23.5246421</td>\n",
       "<td>0.6562339</td>\n",
       "<td>0.1399040</td>\n",
       "<td>0.0004505</td></tr>\n",
       "<tr><td>26.8853053</td>\n",
       "<td>0.6354443</td>\n",
       "<td>0.1399040</td>\n",
       "<td>0.0004505</td></tr>\n",
       "<tr><td>30.2459684</td>\n",
       "<td>0.6146548</td>\n",
       "<td>0.1399040</td>\n",
       "<td>0.0004505</td></tr>\n",
       "<tr><td>33.6066316</td>\n",
       "<td>0.5938652</td>\n",
       "<td>0.1399040</td>\n",
       "<td>0.0004505</td></tr>\n",
       "<tr><td>36.9672947</td>\n",
       "<td>0.5730756</td>\n",
       "<td>0.1399040</td>\n",
       "<td>0.0004505</td></tr>\n",
       "<tr><td>40.3279579</td>\n",
       "<td>0.5522860</td>\n",
       "<td>0.1399040</td>\n",
       "<td>0.0004505</td></tr>\n",
       "<tr><td>43.6886211</td>\n",
       "<td>0.5314964</td>\n",
       "<td>0.1399040</td>\n",
       "<td>0.0004505</td></tr>\n",
       "<tr><td>47.0492842</td>\n",
       "<td>0.5107068</td>\n",
       "<td>0.1399040</td>\n",
       "<td>0.0004505</td></tr>\n",
       "<tr><td>50.4099474</td>\n",
       "<td>0.4899172</td>\n",
       "<td>0.1399040</td>\n",
       "<td>0.0004505</td></tr>\n",
       "<tr><td>53.7706105</td>\n",
       "<td>0.4691276</td>\n",
       "<td>0.1399040</td>\n",
       "<td>0.0004505</td></tr>\n",
       "<tr><td>57.1312737</td>\n",
       "<td>0.4483381</td>\n",
       "<td>0.1399040</td>\n",
       "<td>0.0004505</td></tr>\n",
       "<tr><td>60.4919368</td>\n",
       "<td>0.4275485</td>\n",
       "<td>0.1399040</td>\n",
       "<td>0.0004505</td></tr>\n",
       "<tr><td>63.8526000</td>\n",
       "<td>0.4067589</td>\n",
       "<td>0.1399040</td>\n",
       "<td>0.0004505</td></tr></table></div>"
      ],
      "text/plain": [
       "wind_speed_kmh    mean_response    stddev_response    std_error_mean_response\n",
       "----------------  ---------------  -----------------  -------------------------\n",
       "0                 0.801761         0.139904           0.000450477\n",
       "3.36066           0.780971         0.139904           0.000450477\n",
       "6.72133           0.760182         0.139904           0.000450477\n",
       "10.082            0.739392         0.139904           0.000450477\n",
       "13.4427           0.718603         0.139904           0.000450477\n",
       "16.8033           0.697813         0.139904           0.000450477\n",
       "20.164            0.677024         0.139904           0.000450477\n",
       "23.5246           0.656234         0.139904           0.000450477\n",
       "26.8853           0.635444         0.139904           0.000450477\n",
       "30.246            0.614655         0.139904           0.000450477\n",
       "33.6066           0.593865         0.139904           0.000450477\n",
       "36.9673           0.573076         0.139904           0.000450477\n",
       "40.328            0.552286         0.139904           0.000450477\n",
       "43.6886           0.531496         0.139904           0.000450477\n",
       "47.0493           0.510707         0.139904           0.000450477\n",
       "50.4099           0.489917         0.139904           0.000450477\n",
       "53.7706           0.469128         0.139904           0.000450477\n",
       "57.1313           0.448338         0.139904           0.000450477\n",
       "60.4919           0.427548         0.139904           0.000450477\n",
       "63.8526           0.406759         0.139904           0.000450477"
      ]
     },
     "metadata": {},
     "output_type": "display_data"
    },
    {
     "data": {
      "text/plain": [
       "[, ]"
      ]
     },
     "execution_count": 87,
     "metadata": {},
     "output_type": "execute_result"
    },
    {
     "data": {
      "image/png": "[encoded data removed]",
      "text/plain": [
       "<Figure size 504x720 with 2 Axes>"
      ]
     },
     "metadata": {},
     "output_type": "display_data"
    }
   ],
   "source": [
    "mod.partial_plot(data=df,cols=['Temperature (C)','Wind Speed (km/h)'])"
   ]
  },
  {
   "cell_type": "markdown",
   "metadata": {},
   "source": [
    "### Predictions"
   ]
  },
  {
   "cell_type": "code",
   "execution_count": 88,
   "metadata": {},
   "outputs": [
    {
     "name": "stdout",
     "output_type": "stream",
     "text": [
      "stackedensemble prediction progress: |████████████████████████████████████| 100%\n"
     ]
    }
   ],
   "source": [
    "predictions_df=predictions_test(mod_best,test,run_id)"
   ]
  },
  {
   "cell_type": "code",
   "execution_count": 89,
   "metadata": {},
   "outputs": [
    {
     "data": {
      "text/html": [
       "<table>\n",
       "<thead>\n",
       "<tr><th style=\"text-align: right;\">  predict</th></tr>\n",
       "</thead>\n",
       "<tbody>\n",
       "<tr><td style=\"text-align: right;\"> 0.79534 </td></tr>\n",
       "<tr><td style=\"text-align: right;\"> 0.763116</td></tr>\n",
       "<tr><td style=\"text-align: right;\"> 0.68357 </td></tr>\n",
       "<tr><td style=\"text-align: right;\"> 0.605276</td></tr>\n",
       "<tr><td style=\"text-align: right;\"> 0.773588</td></tr>\n",
       "<tr><td style=\"text-align: right;\"> 0.856591</td></tr>\n",
       "<tr><td style=\"text-align: right;\"> 0.522423</td></tr>\n",
       "<tr><td style=\"text-align: right;\"> 0.889351</td></tr>\n",
       "<tr><td style=\"text-align: right;\"> 0.868121</td></tr>\n",
       "<tr><td style=\"text-align: right;\"> 0.887346</td></tr>\n",
       "</tbody>\n",
       "</table>"
      ]
     },
     "metadata": {},
     "output_type": "display_data"
    },
    {
     "data": {
      "text/plain": []
     },
     "execution_count": 89,
     "metadata": {},
     "output_type": "execute_result"
    }
   ],
   "source": [
    "predictions_df.head()"
   ]
  },
  {
   "cell_type": "code",
   "execution_count": 172,
   "metadata": {},
   "outputs": [
    {
     "name": "stdout",
     "output_type": "stream",
     "text": [
      "gbm prediction progress: |████████████████████████████████████████████████| 100%\n",
      "RMSE value for GBM model is:  [0.08907098]\n"
     ]
    }
   ],
   "source": [
    "gbm_pred = gbm_mod.predict(test_data=test)\n",
    "gbm_rmse = np.sqrt(((gbm_pred['predict']-test['Humidity'])**2).mean())\n",
    "print('RMSE value for GBM model is: ',gbm_rmse)"
   ]
  },
  {
   "cell_type": "code",
   "execution_count": 174,
   "metadata": {},
   "outputs": [
    {
     "name": "stdout",
     "output_type": "stream",
     "text": [
      "drf prediction progress: |████████████████████████████████████████████████| 100%\n",
      "RMSE value for best model is:  [0.09681685]\n"
     ]
    }
   ],
   "source": [
    "xrt_pred = xrt_mod.predict(test_data=test)\n",
    "xrt_rmse = np.sqrt(((xrt_pred['predict']-test['Humidity'])**2).mean())\n",
    "print('RMSE value for best model is: ',xrt_rmse)"
   ]
  },
  {
   "cell_type": "code",
   "execution_count": 175,
   "metadata": {},
   "outputs": [
    {
     "name": "stdout",
     "output_type": "stream",
     "text": [
      "glm prediction progress: |████████████████████████████████████████████████| 100%\n",
      "RMSE value for best model is:  [0.12797623]\n"
     ]
    }
   ],
   "source": [
    "glm_pred = glm_mod.predict(test_data=test)\n",
    "glm_rmse = np.sqrt(((glm_pred['predict']-test['Humidity'])**2).mean())\n",
    "print('RMSE value for best model is: ',glm_rmse)"
   ]
  },
  {
   "cell_type": "markdown",
   "metadata": {},
   "source": [
    "## Prediction Analysis:\n",
    "\n",
    "\n",
    "| Algorithms                         | Accuracy     |\n",
    "|------------- ------------          | ------------ |\n",
    "| GBM Model                          |**0.0890**    |\n",
    "| GLM Model                          |**0.1279**    |\n",
    "| XRT Model                          |**0.096**    |\n",
    "\n",
    "* Based on the above table we can infer that the GBM model is giving us the best results.\n",
    "* Even though the mean square error was lest for Best of family model, but when comes to prediction the GBM is performing better.\n"
   ]
  },
  {
   "cell_type": "code",
   "execution_count": 176,
   "metadata": {
    "collapsed": true
   },
   "outputs": [],
   "source": [
    "# Update and save meta data\n",
    "meta_data['end_time'] = time.time()\n",
    "meta_data['execution_time'] = meta_data['end_time'] - meta_data['start_time']\n",
    "  \n",
    "n=run_id+'_meta_data.json'\n",
    "dict_to_json(meta_data,n)    \n"
   ]
  },
  {
   "cell_type": "code",
   "execution_count": 177,
   "metadata": {
    "scrolled": true
   },
   "outputs": [
    {
     "data": {
      "text/plain": [
       "{'run_id': 'i6ENVuJA3',\n",
       " 'start_time': 1539649512.7711866,\n",
       " 'target': 'Humidity',\n",
       " 'max_models': 9,\n",
       " 'run_time': 333,\n",
       " 'scale': False,\n",
       " 'classification': False,\n",
       " 'balance': False,\n",
       " 'balance_threshold': 0.2,\n",
       " 'project': None,\n",
       " 'end_time': 1539653108.9373126,\n",
       " 'execution_time': 3596.166126012802,\n",
       " 'nthreads': 1,\n",
       " 'min_mem_size': 6,\n",
       " 'analysis': 0,\n",
       " 'X': ['Wind Bearing (degrees)',\n",
       "  'Loud Cover',\n",
       "  'Summary',\n",
       "  'Precip Type',\n",
       "  'Daily Summary',\n",
       "  'Formatted Date',\n",
       "  'Temperature (C)',\n",
       "  'Apparent Temperature (C)',\n",
       "  'Wind Speed (km/h)',\n",
       "  'Visibility (km)',\n",
       "  'Pressure (millibars)'],\n",
       " 'variables': {'Formatted Date': 'string',\n",
       "  'Summary': 'enum',\n",
       "  'Precip Type': 'enum',\n",
       "  'Temperature (C)': 'real',\n",
       "  'Apparent Temperature (C)': 'real',\n",
       "  'Humidity': 'real',\n",
       "  'Wind Speed (km/h)': 'real',\n",
       "  'Wind Bearing (degrees)': 'int',\n",
       "  'Visibility (km)': 'real',\n",
       "  'Loud Cover': 'int',\n",
       "  'Pressure (millibars)': 'real',\n",
       "  'Daily Summary': 'enum'},\n",
       " 'model_execution_time': 657.7590003013611,\n",
       " 'mod_best': 'GBM_grid_0_AutoML_20181015_203332_model_2',\n",
       " 'mod_best_algo': 'gbm',\n",
       " 'models': ['GBM_grid_0_AutoML_20181015_203332_model_2',\n",
       "  'GLM_grid_0_AutoML_20181015_203332_model_0',\n",
       "  'DRF_0_AutoML_20181015_202529',\n",
       "  'XRT_0_AutoML_20181015_202529']}"
      ]
     },
     "execution_count": 177,
     "metadata": {},
     "output_type": "execute_result"
    }
   ],
   "source": [
    "meta_data"
   ]
  },
  {
   "cell_type": "code",
   "execution_count": null,
   "metadata": {
    "collapsed": true
   },
   "outputs": [],
   "source": [
    "# Clean up\n",
    "os.chdir(server_path)"
   ]
  },
  {
   "cell_type": "code",
   "execution_count": null,
   "metadata": {
    "collapsed": true,
    "scrolled": true
   },
   "outputs": [],
   "source": [
    "h2o.cluster().shutdown()"
   ]
  }
 ],
 "metadata": {
  "kernelspec": {
   "display_name": "Python 3",
   "language": "python",
   "name": "python3"
  },
  "language_info": {
   "codemirror_mode": {
    "name": "ipython",
    "version": 3
   },
   "file_extension": ".py",
   "mimetype": "text/x-python",
   "name": "python",
   "nbconvert_exporter": "python",
   "pygments_lexer": "ipython3",
   "version": "3.6.3"
  }
 },
 "nbformat": 4,
 "nbformat_minor": 2
}
