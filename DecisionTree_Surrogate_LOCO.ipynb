{
 "cells": [
  {
   "cell_type": "markdown",
   "metadata": {},
   "source": [
    "Copyright 2018 Manan Shukla\n",
    "\n",
    "Licensed under the Apache License, Version 2.0 (the \"License\");\n",
    "you may not use this file except in compliance with the License.\n",
    "You may obtain a copy of the License at\n",
    "\n",
    "    http://www.apache.org/licenses/LICENSE-2.0\n",
    "    \n",
    "\n",
    "Unless required by applicable law or agreed to in writing, software\n",
    "distributed under the License is distributed on an \"AS IS\" BASIS,\n",
    "WITHOUT WARRANTIES OR CONDITIONS OF ANY KIND, either express or implied.\n",
    "See the License for the specific language governing permissions and\n",
    "limitations under the License."
   ]
  },
  {
   "cell_type": "markdown",
   "metadata": {},
   "source": [
    "This library is distributed under the [MIT License](https://graphviz.readthedocs.io/en/stable/license.html)"
   ]
  },
  {
   "cell_type": "markdown",
   "metadata": {},
   "source": [
    "# Decision Tree Surrogate Models\n",
    "\n",
    "The decision tree surrogate model increases the transparency of the Driverless AI model by displaying an approximate flow-chart of the complex Driverless AI model’s decision making process. The decision tree surrogate model also displays the most important variables in the Driverless AI model and the most important interactions in the Driverless AI model. The decision tree surrogate model can be used for visualizing, validating, and debugging the Driverless AI model by comparing the displayed decision-process, important variables, and important interactions to known standards, domain knowledge, and reasonable expectations.\n",
    "\n",
    "A surrogate model is a data mining and engineering technique in which a generally simpler model is used to explain another, usually more complex, model or phenomenon.The decision tree surrogate model here is trained to predict the predictions of the more complex Driverless AI model using the of original model inputs. The trained surrogate model enables a heuristic understanding of the mechanisms of the highly complex and nonlinear Driverless AI model.\n",
    "\n",
    "Reference:\n",
    "\n",
    "https://www.h2o.ai/wp-content/uploads/2017/09/driverlessai/interpreting.html"
   ]
  },
  {
   "cell_type": "code",
   "execution_count": 1,
   "metadata": {
    "collapsed": true
   },
   "outputs": [],
   "source": [
    "# Python Imports\n",
    "import h2o                                        \n",
    "from h2o.estimators.gbm import H2OGradientBoostingEstimator       # for GBM\n",
    "from h2o.estimators.random_forest import H2ORandomForestEstimator # for single tree\n",
    "from h2o.backend import H2OLocalServer                            # for plotting local tree in-notebook\n",
    "\n",
    "import numpy as np   # array, vector, matrix calculations\n",
    "import pandas as pd  # DataFrame handling\n",
    "\n",
    "# system packages for calling external graphviz processes\n",
    "import os\n",
    "import re\n",
    "import subprocess\n",
    "\n",
    "# in-notebook display\n",
    "from IPython.display import Image\n",
    "from IPython.display import display\n",
    "%matplotlib inline"
   ]
  },
  {
   "cell_type": "code",
   "execution_count": 2,
   "metadata": {},
   "outputs": [
    {
     "name": "stdout",
     "output_type": "stream",
     "text": [
      "Checking whether there is an H2O instance running at http://localhost:54321..... not found.\n",
      "Attempting to start a local H2O server...\n",
      "; Java HotSpot(TM) 64-Bit Server VM (build 25.181-b13, mixed mode)\n",
      "  Starting server from C:\\Users\\manan\\Anaconda3\\lib\\site-packages\\h2o\\backend\\bin\\h2o.jar\n",
      "  Ice root: C:\\Users\\manan\\AppData\\Local\\Temp\\tmpsht90k88\n",
      "  JVM stdout: C:\\Users\\manan\\AppData\\Local\\Temp\\tmpsht90k88\\h2o_Manan_Shukla_started_from_python.out\n",
      "  JVM stderr: C:\\Users\\manan\\AppData\\Local\\Temp\\tmpsht90k88\\h2o_Manan_Shukla_started_from_python.err\n",
      "  Server is running at http://127.0.0.1:54321\n",
      "Connecting to H2O server at http://127.0.0.1:54321... successful.\n"
     ]
    },
    {
     "data": {
      "text/html": [
       "<div style=\"overflow:auto\"><table style=\"width:50%\"><tr><td>H2O cluster uptime:</td>\n",
       "<td>02 secs</td></tr>\n",
       "<tr><td>H2O cluster timezone:</td>\n",
       "<td>America/New_York</td></tr>\n",
       "<tr><td>H2O data parsing timezone:</td>\n",
       "<td>UTC</td></tr>\n",
       "<tr><td>H2O cluster version:</td>\n",
       "<td>3.20.0.9</td></tr>\n",
       "<tr><td>H2O cluster version age:</td>\n",
       "<td>2 months and 5 days </td></tr>\n",
       "<tr><td>H2O cluster name:</td>\n",
       "<td>H2O_from_python_Manan_Shukla_4noulc</td></tr>\n",
       "<tr><td>H2O cluster total nodes:</td>\n",
       "<td>1</td></tr>\n",
       "<tr><td>H2O cluster free memory:</td>\n",
       "<td>3.530 Gb</td></tr>\n",
       "<tr><td>H2O cluster total cores:</td>\n",
       "<td>4</td></tr>\n",
       "<tr><td>H2O cluster allowed cores:</td>\n",
       "<td>4</td></tr>\n",
       "<tr><td>H2O cluster status:</td>\n",
       "<td>accepting new members, healthy</td></tr>\n",
       "<tr><td>H2O connection url:</td>\n",
       "<td>http://127.0.0.1:54321</td></tr>\n",
       "<tr><td>H2O connection proxy:</td>\n",
       "<td>None</td></tr>\n",
       "<tr><td>H2O internal security:</td>\n",
       "<td>False</td></tr>\n",
       "<tr><td>H2O API Extensions:</td>\n",
       "<td>Algos, AutoML, Core V3, Core V4</td></tr>\n",
       "<tr><td>Python version:</td>\n",
       "<td>3.6.3 final</td></tr></table></div>"
      ],
      "text/plain": [
       "--------------------------  -----------------------------------\n",
       "H2O cluster uptime:         02 secs\n",
       "H2O cluster timezone:       America/New_York\n",
       "H2O data parsing timezone:  UTC\n",
       "H2O cluster version:        3.20.0.9\n",
       "H2O cluster version age:    2 months and 5 days\n",
       "H2O cluster name:           H2O_from_python_Manan_Shukla_4noulc\n",
       "H2O cluster total nodes:    1\n",
       "H2O cluster free memory:    3.530 Gb\n",
       "H2O cluster total cores:    4\n",
       "H2O cluster allowed cores:  4\n",
       "H2O cluster status:         accepting new members, healthy\n",
       "H2O connection url:         http://127.0.0.1:54321\n",
       "H2O connection proxy:\n",
       "H2O internal security:      False\n",
       "H2O API Extensions:         Algos, AutoML, Core V3, Core V4\n",
       "Python version:             3.6.3 final\n",
       "--------------------------  -----------------------------------"
      ]
     },
     "metadata": {},
     "output_type": "display_data"
    }
   ],
   "source": [
    "# Initiate H2O\n",
    "h2o.init()"
   ]
  },
  {
   "cell_type": "markdown",
   "metadata": {},
   "source": [
    "### Import Data "
   ]
  },
  {
   "cell_type": "markdown",
   "metadata": {},
   "source": [
    "The credit card default data is available as an .xls file. Pandas reads .csv files automatically, so it's used to load the credit card default data and give the prediction target a shorter name: DEFAULT_NEXT_MONTH."
   ]
  },
  {
   "cell_type": "code",
   "execution_count": 3,
   "metadata": {
    "collapsed": true
   },
   "outputs": [],
   "source": [
    "#Importing the data\n",
    "path = 'C:/Users/manan/Desktop/Engineering Management/Fall 2018/Independent Study/Dataset/default of credit card clients.csv'\n",
    "data = pd.read_csv(path,skiprows=1)\n",
    "\n",
    "# remove spaces from target column name \n",
    "data = data.rename(columns={'default payment next month': 'DEFAULT_NEXT_MONTH'})"
   ]
  },
  {
   "cell_type": "markdown",
   "metadata": {},
   "source": [
    "### Assign modeling roles\n",
    "The shorthand name y is assigned to the prediction target. X is assigned to all other input variables in the credit card default data except the row indentifier, ID"
   ]
  },
  {
   "cell_type": "code",
   "execution_count": 5,
   "metadata": {},
   "outputs": [
    {
     "name": "stdout",
     "output_type": "stream",
     "text": [
      "y = DEFAULT_NEXT_MONTH\n",
      "X = ['LIMIT_BAL', 'SEX', 'EDUCATION', 'MARRIAGE', 'AGE', 'PAY_0', 'PAY_2', 'PAY_3', 'PAY_4', 'PAY_5', 'PAY_6', 'BILL_AMT1', 'BILL_AMT2', 'BILL_AMT3', 'BILL_AMT4', 'BILL_AMT5', 'BILL_AMT6', 'PAY_AMT1', 'PAY_AMT2', 'PAY_AMT3', 'PAY_AMT4', 'PAY_AMT5', 'PAY_AMT6']\n"
     ]
    }
   ],
   "source": [
    "# assign target and inputs for GBM\n",
    "y = 'DEFAULT_NEXT_MONTH'\n",
    "X = [name for name in data.columns if name not in [y, 'ID']]\n",
    "print('y =', y)\n",
    "print('X =', X)"
   ]
  },
  {
   "cell_type": "code",
   "execution_count": 6,
   "metadata": {},
   "outputs": [
    {
     "name": "stdout",
     "output_type": "stream",
     "text": [
      "Parse progress: |█████████████████████████████████████████████████████████| 100%\n"
     ]
    }
   ],
   "source": [
    "def recode_cc_data(frame):\n",
    "    \n",
    "    \"\"\" Recodes numeric categorical variables into categorical character variables\n",
    "    with more transparent values. \n",
    "    \n",
    "    Args:\n",
    "        frame: Pandas DataFrame version of UCI credit card default data.\n",
    "        \n",
    "    Returns: \n",
    "        H2OFrame with recoded values.\n",
    "        \n",
    "    \"\"\"\n",
    "    \n",
    "    # define recoded values\n",
    "    sex_dict = {1:'male', 2:'female'}\n",
    "    education_dict = {0:'other', 1:'graduate school', 2:'university', 3:'high school', \n",
    "                      4:'other', 5:'other', 6:'other'}\n",
    "    marriage_dict = {0:'other', 1:'married', 2:'single', 3:'divorced'}\n",
    "    pay_dict = {-2:'no consumption', -1:'pay duly', 0:'use of revolving credit', 1:'1 month delay', \n",
    "                2:'2 month delay', 3:'3 month delay', 4:'4 month delay', 5:'5 month delay', 6:'6 month delay', \n",
    "                7:'7 month delay', 8:'8 month delay', 9:'9+ month delay'}\n",
    "    \n",
    "    # recode values using Pandas apply() and anonymous function\n",
    "    frame['SEX'] = frame['SEX'].apply(lambda i: sex_dict[i])\n",
    "    frame['EDUCATION'] = frame['EDUCATION'].apply(lambda i: education_dict[i])    \n",
    "    frame['MARRIAGE'] = frame['MARRIAGE'].apply(lambda i: marriage_dict[i]) \n",
    "    for name in frame.columns:\n",
    "        if name in ['PAY_0', 'PAY_2', 'PAY_3', 'PAY_4', 'PAY_5', 'PAY_6']:\n",
    "            frame[name] = frame[name].apply(lambda i: pay_dict[i])            \n",
    "                \n",
    "    return h2o.H2OFrame(frame)\n",
    "\n",
    "data = recode_cc_data(data)"
   ]
  },
  {
   "cell_type": "markdown",
   "metadata": {},
   "source": [
    "### Ensure target is handled as a categorical variable\n",
    "In h2o, a numeric variable can be treated as numeric or categorical. The target variable DEFAULT_NEXT_MONTH takes on values of 0 or  1. To ensure this numeric variable is treated as a categorical variable, the asfactor() function is used to explicitly declare that it is a categorical variable."
   ]
  },
  {
   "cell_type": "code",
   "execution_count": 7,
   "metadata": {
    "collapsed": true
   },
   "outputs": [],
   "source": [
    "data[y] = data[y].asfactor()"
   ]
  },
  {
   "cell_type": "code",
   "execution_count": 8,
   "metadata": {},
   "outputs": [
    {
     "name": "stdout",
     "output_type": "stream",
     "text": [
      "Rows:30000\n",
      "Cols:24\n",
      "\n",
      "\n"
     ]
    },
    {
     "data": {
      "text/html": [
       "<table>\n",
       "<thead>\n",
       "<tr><th>       </th><th>LIMIT_BAL         </th><th>SEX   </th><th>EDUCATION      </th><th>MARRIAGE  </th><th>AGE              </th><th>PAY_0                  </th><th>PAY_2                  </th><th>PAY_3                  </th><th>PAY_4                  </th><th>PAY_5                  </th><th>PAY_6                  </th><th>BILL_AMT1        </th><th>BILL_AMT2        </th><th>BILL_AMT3        </th><th>BILL_AMT4        </th><th>BILL_AMT5         </th><th>BILL_AMT6        </th><th>PAY_AMT1          </th><th>PAY_AMT2          </th><th>PAY_AMT3          </th><th>PAY_AMT4          </th><th>PAY_AMT5          </th><th>PAY_AMT6          </th><th>DEFAULT_NEXT_MONTH  </th></tr>\n",
       "</thead>\n",
       "<tbody>\n",
       "<tr><td>type   </td><td>int               </td><td>enum  </td><td>enum           </td><td>enum      </td><td>int              </td><td>enum                   </td><td>enum                   </td><td>enum                   </td><td>enum                   </td><td>enum                   </td><td>enum                   </td><td>int              </td><td>int              </td><td>int              </td><td>int              </td><td>int               </td><td>int              </td><td>int               </td><td>int               </td><td>int               </td><td>int               </td><td>int               </td><td>int               </td><td>enum                </td></tr>\n",
       "<tr><td>mins   </td><td>10000.0           </td><td>      </td><td>               </td><td>          </td><td>21.0             </td><td>                       </td><td>                       </td><td>                       </td><td>                       </td><td>                       </td><td>                       </td><td>-165580.0        </td><td>-69777.0         </td><td>-157264.0        </td><td>-170000.0        </td><td>-81334.0          </td><td>-339603.0        </td><td>0.0               </td><td>0.0               </td><td>0.0               </td><td>0.0               </td><td>0.0               </td><td>0.0               </td><td>                    </td></tr>\n",
       "<tr><td>mean   </td><td>167484.32266666615</td><td>      </td><td>               </td><td>          </td><td>35.48549999999997</td><td>                       </td><td>                       </td><td>                       </td><td>                       </td><td>                       </td><td>                       </td><td>51223.33089999999</td><td>49179.07516666671</td><td>47013.15479999975</td><td>43262.94896666657</td><td>40311.40096666653 </td><td>38871.76039999989</td><td>5663.580500000012 </td><td>5921.163500000002 </td><td>5225.6815000000115</td><td>4826.076866666665 </td><td>4799.387633333305 </td><td>5215.502566666666 </td><td>                    </td></tr>\n",
       "<tr><td>maxs   </td><td>1000000.0         </td><td>      </td><td>               </td><td>          </td><td>79.0             </td><td>                       </td><td>                       </td><td>                       </td><td>                       </td><td>                       </td><td>                       </td><td>964511.0         </td><td>983931.0         </td><td>1664089.0        </td><td>891586.0         </td><td>927171.0          </td><td>961664.0         </td><td>873552.0          </td><td>1684259.0         </td><td>896040.0          </td><td>621000.0          </td><td>426529.0          </td><td>528666.0          </td><td>                    </td></tr>\n",
       "<tr><td>sigma  </td><td>129747.66156720235</td><td>      </td><td>               </td><td>          </td><td>9.217904068090167</td><td>                       </td><td>                       </td><td>                       </td><td>                       </td><td>                       </td><td>                       </td><td>73635.86057552959</td><td>71173.76878252836</td><td>69349.38742703672</td><td>64332.85613391646</td><td>60797.155770264806</td><td>59554.10753674582</td><td>16563.280354025756</td><td>23040.870402057226</td><td>17606.961469803104</td><td>15666.159744031977</td><td>15278.305679144802</td><td>17777.465775435325</td><td>                    </td></tr>\n",
       "<tr><td>zeros  </td><td>0                 </td><td>      </td><td>               </td><td>          </td><td>0                </td><td>                       </td><td>                       </td><td>                       </td><td>                       </td><td>                       </td><td>                       </td><td>2008             </td><td>2506             </td><td>2870             </td><td>3195             </td><td>3506              </td><td>4020             </td><td>5249              </td><td>5396              </td><td>5968              </td><td>6408              </td><td>6703              </td><td>7173              </td><td>                    </td></tr>\n",
       "<tr><td>missing</td><td>0                 </td><td>0     </td><td>0              </td><td>0         </td><td>0                </td><td>0                      </td><td>0                      </td><td>0                      </td><td>0                      </td><td>0                      </td><td>0                      </td><td>0                </td><td>0                </td><td>0                </td><td>0                </td><td>0                 </td><td>0                </td><td>0                 </td><td>0                 </td><td>0                 </td><td>0                 </td><td>0                 </td><td>0                 </td><td>0                   </td></tr>\n",
       "<tr><td>0      </td><td>20000.0           </td><td>female</td><td>university     </td><td>married   </td><td>24.0             </td><td>2 month delay          </td><td>2 month delay          </td><td>pay duly               </td><td>pay duly               </td><td>no consumption         </td><td>no consumption         </td><td>3913.0           </td><td>3102.0           </td><td>689.0            </td><td>0.0              </td><td>0.0               </td><td>0.0              </td><td>0.0               </td><td>689.0             </td><td>0.0               </td><td>0.0               </td><td>0.0               </td><td>0.0               </td><td>1                   </td></tr>\n",
       "<tr><td>1      </td><td>120000.0          </td><td>female</td><td>university     </td><td>single    </td><td>26.0             </td><td>pay duly               </td><td>2 month delay          </td><td>use of revolving credit</td><td>use of revolving credit</td><td>use of revolving credit</td><td>2 month delay          </td><td>2682.0           </td><td>1725.0           </td><td>2682.0           </td><td>3272.0           </td><td>3455.0            </td><td>3261.0           </td><td>0.0               </td><td>1000.0            </td><td>1000.0            </td><td>1000.0            </td><td>0.0               </td><td>2000.0            </td><td>1                   </td></tr>\n",
       "<tr><td>2      </td><td>90000.0           </td><td>female</td><td>university     </td><td>single    </td><td>34.0             </td><td>use of revolving credit</td><td>use of revolving credit</td><td>use of revolving credit</td><td>use of revolving credit</td><td>use of revolving credit</td><td>use of revolving credit</td><td>29239.0          </td><td>14027.0          </td><td>13559.0          </td><td>14331.0          </td><td>14948.0           </td><td>15549.0          </td><td>1518.0            </td><td>1500.0            </td><td>1000.0            </td><td>1000.0            </td><td>1000.0            </td><td>5000.0            </td><td>0                   </td></tr>\n",
       "<tr><td>3      </td><td>50000.0           </td><td>female</td><td>university     </td><td>married   </td><td>37.0             </td><td>use of revolving credit</td><td>use of revolving credit</td><td>use of revolving credit</td><td>use of revolving credit</td><td>use of revolving credit</td><td>use of revolving credit</td><td>46990.0          </td><td>48233.0          </td><td>49291.0          </td><td>28314.0          </td><td>28959.0           </td><td>29547.0          </td><td>2000.0            </td><td>2019.0            </td><td>1200.0            </td><td>1100.0            </td><td>1069.0            </td><td>1000.0            </td><td>0                   </td></tr>\n",
       "<tr><td>4      </td><td>50000.0           </td><td>male  </td><td>university     </td><td>married   </td><td>57.0             </td><td>pay duly               </td><td>use of revolving credit</td><td>pay duly               </td><td>use of revolving credit</td><td>use of revolving credit</td><td>use of revolving credit</td><td>8617.0           </td><td>5670.0           </td><td>35835.0          </td><td>20940.0          </td><td>19146.0           </td><td>19131.0          </td><td>2000.0            </td><td>36681.0           </td><td>10000.0           </td><td>9000.0            </td><td>689.0             </td><td>679.0             </td><td>0                   </td></tr>\n",
       "<tr><td>5      </td><td>50000.0           </td><td>male  </td><td>graduate school</td><td>single    </td><td>37.0             </td><td>use of revolving credit</td><td>use of revolving credit</td><td>use of revolving credit</td><td>use of revolving credit</td><td>use of revolving credit</td><td>use of revolving credit</td><td>64400.0          </td><td>57069.0          </td><td>57608.0          </td><td>19394.0          </td><td>19619.0           </td><td>20024.0          </td><td>2500.0            </td><td>1815.0            </td><td>657.0             </td><td>1000.0            </td><td>1000.0            </td><td>800.0             </td><td>0                   </td></tr>\n",
       "<tr><td>6      </td><td>500000.0          </td><td>male  </td><td>graduate school</td><td>single    </td><td>29.0             </td><td>use of revolving credit</td><td>use of revolving credit</td><td>use of revolving credit</td><td>use of revolving credit</td><td>use of revolving credit</td><td>use of revolving credit</td><td>367965.0         </td><td>412023.0         </td><td>445007.0         </td><td>542653.0         </td><td>483003.0          </td><td>473944.0         </td><td>55000.0           </td><td>40000.0           </td><td>38000.0           </td><td>20239.0           </td><td>13750.0           </td><td>13770.0           </td><td>0                   </td></tr>\n",
       "<tr><td>7      </td><td>100000.0          </td><td>female</td><td>university     </td><td>single    </td><td>23.0             </td><td>use of revolving credit</td><td>pay duly               </td><td>pay duly               </td><td>use of revolving credit</td><td>use of revolving credit</td><td>pay duly               </td><td>11876.0          </td><td>380.0            </td><td>601.0            </td><td>221.0            </td><td>-159.0            </td><td>567.0            </td><td>380.0             </td><td>601.0             </td><td>0.0               </td><td>581.0             </td><td>1687.0            </td><td>1542.0            </td><td>0                   </td></tr>\n",
       "<tr><td>8      </td><td>140000.0          </td><td>female</td><td>high school    </td><td>married   </td><td>28.0             </td><td>use of revolving credit</td><td>use of revolving credit</td><td>2 month delay          </td><td>use of revolving credit</td><td>use of revolving credit</td><td>use of revolving credit</td><td>11285.0          </td><td>14096.0          </td><td>12108.0          </td><td>12211.0          </td><td>11793.0           </td><td>3719.0           </td><td>3329.0            </td><td>0.0               </td><td>432.0             </td><td>1000.0            </td><td>1000.0            </td><td>1000.0            </td><td>0                   </td></tr>\n",
       "<tr><td>9      </td><td>20000.0           </td><td>male  </td><td>high school    </td><td>single    </td><td>35.0             </td><td>no consumption         </td><td>no consumption         </td><td>no consumption         </td><td>no consumption         </td><td>pay duly               </td><td>pay duly               </td><td>0.0              </td><td>0.0              </td><td>0.0              </td><td>0.0              </td><td>13007.0           </td><td>13912.0          </td><td>0.0               </td><td>0.0               </td><td>0.0               </td><td>13007.0           </td><td>1122.0            </td><td>0.0               </td><td>0                   </td></tr>\n",
       "</tbody>\n",
       "</table>"
      ]
     },
     "metadata": {},
     "output_type": "display_data"
    }
   ],
   "source": [
    "data[X + [y]].describe()\n"
   ]
  },
  {
   "cell_type": "markdown",
   "metadata": {},
   "source": [
    "### Training the H2O GBM classifier"
   ]
  },
  {
   "cell_type": "code",
   "execution_count": 9,
   "metadata": {},
   "outputs": [
    {
     "name": "stdout",
     "output_type": "stream",
     "text": [
      "Train data rows = 21060, columns = 25\n",
      "Test data rows = 8940, columns = 25\n"
     ]
    }
   ],
   "source": [
    "# split into training and validation\n",
    "train, test = data.split_frame([0.7], seed=12345)\n",
    "\n",
    "# summarize split\n",
    "print('Train data rows = %d, columns = %d' % (train.shape[0], train.shape[1]))\n",
    "print('Test data rows = %d, columns = %d' % (test.shape[0], test.shape[1]))"
   ]
  },
  {
   "cell_type": "markdown",
   "metadata": {},
   "source": [
    "### Train h2o GBM classifier\n",
    "Many tuning parameters must be specified to train a GBM using h2o. Typically a grid search would be performed to identify the best parameters for a given modeling task using the H2OGridSearch class.Gradient boosting methods typically resample training data, an additional random seed is also specified for the h2o GBM using the seed parameter to create reproducible predictions, error rates, and variable importance values. To avoid overfitting, the stopping_rounds parameter is used to stop the training process after the test error fails to decrease for 5 iterations.\n",
    "\n",
    "The balance_classes parameter ensures the positive and negative classes of the target variable are seen by the model in equal proportions during training. This can be very important for the LOCO calculations in section 5 and 6 for unbalanced data.balance_classes is commented below because the row explained in this notebook has a minority class label (e.g., 1)."
   ]
  },
  {
   "cell_type": "code",
   "execution_count": 10,
   "metadata": {},
   "outputs": [
    {
     "name": "stdout",
     "output_type": "stream",
     "text": [
      "gbm Model Build progress: |███████████████████████████████████████████████| 100%\n",
      "GBM Test AUC = 0.78\n"
     ]
    }
   ],
   "source": [
    "# initialize GBM model\n",
    "model = H2OGradientBoostingEstimator(ntrees=150,            # maximum 150 trees in GBM\n",
    "                                     max_depth=4,           # trees can have maximum depth of 4\n",
    "                                     sample_rate=0.9,       # use 90% of rows in each iteration (tree)\n",
    "                                     col_sample_rate=0.9,   # use 90% of variables in each iteration (tree)\n",
    "                                     #balance_classes=True, # sample to balance 0/1 distribution of target - can help LOCO\n",
    "                                     stopping_rounds=5,     # stop if validation error does not decrease for 5 iterations (trees)\n",
    "                                     score_tree_interval=1, # for reproducibility, set higher for bigger data\n",
    "                                     seed=12345)            # for reproducibility\n",
    "\n",
    "# train a GBM model\n",
    "model.train(y=y, x=X, training_frame=train, validation_frame=test)\n",
    "\n",
    "# print AUC\n",
    "print('GBM Test AUC = %.2f' % model.auc(valid=True))\n",
    "\n",
    "# print(model)\n"
   ]
  },
  {
   "cell_type": "markdown",
   "metadata": {},
   "source": [
    "### Display variable importance\n",
    "\n",
    "During training, the h2o GBM aggregates the improvement in error caused by each split in each decision tree across all the decision trees in the ensemble classifier. These values are attributed to the input variable used in each split and give an indication of the contribution each input variable makes toward the model's predictions. The variable importance ranking should be parsimonious with human domain knowledge and reasonable expectations. In this case, a customer's most recent payment behavior, PAY_0, is by far the most important variable followed by their second most recent payment, PAY_2, and third most recent payment, PAY_3, behavior. This result is well-aligned with business practices in credit lending: people who miss their most recent payments are likely to default soon."
   ]
  },
  {
   "cell_type": "code",
   "execution_count": 11,
   "metadata": {},
   "outputs": [
    {
     "data": {
      "image/png": "[encoded data removed]",
      "text/plain": [
       "<matplotlib.figure.Figure at 0x212f18bbcc0>"
      ]
     },
     "metadata": {},
     "output_type": "display_data"
    }
   ],
   "source": [
    "model.varimp_plot()"
   ]
  },
  {
   "cell_type": "markdown",
   "metadata": {},
   "source": [
    "###  Train a decision tree surrogate model to describe GBM\n",
    "\n",
    "A single decision tree will be trained on the original inputs and predictions of the h2o GBM model and the tree will be visualized using special functionality in h2o and GraphViz. The variable importance, interactions, and decision paths displayed in the directed graph of the trained decision tree surrogate model are then assumed to be indicative of the internal mechanisms of the more complex GBM model, creating an approximate, overall flowchart for the GBM.\n",
    "\n",
    "Since surrogate models alone do not gaurantee accurate transparency, they will be used along with GBM variable importance and LOCO to build a cohesive narrative about the mechansims within the GBM\n",
    "\n",
    "Reference:  \n",
    "https://papers.nips.cc/paper/1152-extracting-tree-structured-representations-of-trained-networks.pdf\n",
    "\n",
    "https://arxiv.org/pdf/1705.08504.pdf."
   ]
  },
  {
   "cell_type": "markdown",
   "metadata": {},
   "source": [
    "### Create dataset for surrogate model\n",
    "\n",
    "To train a surrogate model, the predictions and original inputs of the complex model to be explained need to be in the same dataset. The test data is used here to see how the model behaves on holdout data, which should be closer to its behavior on new data than analyzing the surrogate model for the training inputs and predictions"
   ]
  },
  {
   "cell_type": "code",
   "execution_count": 12,
   "metadata": {},
   "outputs": [
    {
     "name": "stdout",
     "output_type": "stream",
     "text": [
      "gbm prediction progress: |████████████████████████████████████████████████| 100%\n"
     ]
    }
   ],
   "source": [
    "# cbind predictions to training frame\n",
    "\n",
    "yhat = 'p_DEFAULT_NEXT_MONTH'\n",
    "preds1 = test['ID'].cbind(model.predict(test).drop(['predict', 'p0']))\n",
    "preds1.columns = ['ID', yhat]\n",
    "test_yhat = test.cbind(preds1[yhat])"
   ]
  },
  {
   "cell_type": "markdown",
   "metadata": {},
   "source": [
    "### Training single h2o decision tree\n",
    "\n",
    "To simulate a single decision tree in h2o, the H2ORandomForestEstimator class is used, but only one tree is trained instead of a forest of decision trees. Setting the mtry parameter to -2 tells the H2ORandomForestEstimator to consider all variables in all splits of a tree, instead of considering a random subset of columns. It is also recommended to set a random seed for reproducibility and to set max_depth to a lower number, say less than 6, so that the surrogate model will not become overly complex and hard to explain and understand. Once the tree is trained, a model optimized java object (MOJO) representation of the tree is saved. H2o provides a way to visualize the trained tree in detail using the MOJO and Graphviz."
   ]
  },
  {
   "cell_type": "code",
   "execution_count": 13,
   "metadata": {},
   "outputs": [
    {
     "name": "stdout",
     "output_type": "stream",
     "text": [
      "drf Model Build progress: |███████████████████████████████████████████████| 100%\n",
      "Generated MOJO path:\n",
      " C:\\Users\\manan\\Desktop\\Engineering Management\\Fall 2018\\dt_surrogate_mojo.zip\n"
     ]
    }
   ],
   "source": [
    "model_id = 'dt_surrogate_mojo' # gives MOJO artifact a recognizable name\n",
    "\n",
    "# initialize single tree surrogate model\n",
    "surrogate = H2ORandomForestEstimator(ntrees=1,          # use only one tree\n",
    "                                     sample_rate=1,     # use all rows in that tree\n",
    "                                     mtries=-2,         # use all columns in that tree\n",
    "                                     max_depth=3,       # shallow trees are easier to understand\n",
    "                                     seed=12345,        # random seed for reproducibility\n",
    "                                     model_id=model_id) # gives MOJO artifact a recognizable name\n",
    "\n",
    "# train single tree surrogate model\n",
    "surrogate.train(x=X, y=yhat, training_frame=test_yhat)\n",
    "\n",
    "# persist MOJO (compiled, representation of trained model)\n",
    "# from which to generate plot of surrogate\n",
    "mojo_path = surrogate.download_mojo(path='.')\n",
    "print('Generated MOJO path:\\n', mojo_path)"
   ]
  },
  {
   "cell_type": "markdown",
   "metadata": {},
   "source": [
    "### Create GraphViz dot file\n",
    "GraphViz is an open source graph visualization tool. To plot the trained decision tree surrogate model, a special h2o class, PrintMojo, is executed against the MOJO to create a GraphViz dot file representation of the tree.\n",
    "\n",
    "Reference:\n",
    "\n",
    "http://www.graphviz.org/ (to download and install)\n",
    "\n",
    "http://docs.h2o.ai/h2o/latest-stable/h2o-genmodel/javadoc/index.html\n",
    "\n",
    "\n",
    "This library is provided by [MIT License](https://graphviz.readthedocs.io/en/stable/license.html)"
   ]
  },
  {
   "cell_type": "code",
   "execution_count": 14,
   "metadata": {},
   "outputs": [
    {
     "name": "stdout",
     "output_type": "stream",
     "text": [
      "Discovered H2O jar path:\n",
      " C:\\Users\\manan\\Anaconda3\\lib\\site-packages\\h2o\\backend\\bin\\h2o.jar\n",
      "\n",
      "Calling external process ...\n",
      "java -cp C:\\Users\\manan\\Anaconda3\\lib\\site-packages\\h2o\\backend\\bin\\h2o.jar hex.genmodel.tools.PrintMojo --tree 0 -i C:\\Users\\manan\\Desktop\\Engineering Management\\Fall 2018\\dt_surrogate_mojo.zip -o dt_surrogate_mojo.gv --title Credit Card Default Decision Tree Surrogate\n"
     ]
    }
   ],
   "source": [
    "# Plot title\n",
    "title = 'Credit Card Default Decision Tree Surrogate'  \n",
    "\n",
    "# locate h2o jar\n",
    "hs = H2OLocalServer()\n",
    "h2o_jar_path = hs._find_jar()\n",
    "print('Discovered H2O jar path:\\n', h2o_jar_path)\n",
    "\n",
    "# construct command line call to generate graphviz version of \n",
    "# surrogate tree see for more information: \n",
    "gv_file_name = model_id + '.gv'\n",
    "gv_args = str('-cp ' + h2o_jar_path +\n",
    "              ' hex.genmodel.tools.PrintMojo --tree 0 -i '\n",
    "              + mojo_path + ' -o').split()\n",
    "gv_args.insert(0, 'java')\n",
    "gv_args.append(gv_file_name)\n",
    "if title is not None:\n",
    "    gv_args = gv_args + ['--title', title]\n",
    "    \n",
    "# call \n",
    "print()\n",
    "print('Calling external process ...')\n",
    "print(' '.join(gv_args))\n",
    "_ = subprocess.call(gv_args)"
   ]
  },
  {
   "cell_type": "markdown",
   "metadata": {},
   "source": [
    "Then a GraphViz command line tool is used to create a static PNG image from the dot file ...\n",
    "\n"
   ]
  },
  {
   "cell_type": "code",
   "execution_count": 22,
   "metadata": {},
   "outputs": [
    {
     "name": "stdout",
     "output_type": "stream",
     "text": [
      "Calling external process ...\n",
      "dot -Tpng dt_surrogate_mojo.gv -o dt_surrogate_mojo.png\n"
     ]
    }
   ],
   "source": [
    "# construct call to generate PNG from \n",
    "# graphviz representation of the tree\n",
    "png_file_name = model_id + '.png'\n",
    "png_args = str('dot -Tpng ' + gv_file_name + ' -o ' + png_file_name)\n",
    "png_args = png_args.split()\n",
    "\n",
    "# call\n",
    "print('Calling external process ...')\n",
    "print(' '.join(png_args))\n",
    "_ = subprocess.call(png_args)"
   ]
  },
  {
   "cell_type": "code",
   "execution_count": 26,
   "metadata": {},
   "outputs": [
    {
     "data": {
      "image/png": "dt_surrogate_mojo.png",
      "text/plain": [
       "<IPython.core.display.Image object>"
      ]
     },
     "execution_count": 26,
     "metadata": {},
     "output_type": "execute_result"
    }
   ],
   "source": [
    "display(Image((png_file_name)))"
   ]
  },
  {
   "cell_type": "markdown",
   "metadata": {},
   "source": [
    "### Analyze surrogate model and comparing the GBM variable importance\n",
    "\n",
    "The displayed tree is comparable with the global GBM variable importance. A simple heuristic rule for variable importance in a decision tree relates to the depth and frequency at which a variable is split on in a tree: \n",
    " 1. Variables used higher in the tree and more frequently in the tree are more important\n",
    " 2. Most of the variables pictured in this tree also appear as highly important in the GBM variable importance plot\n",
    " \n",
    "In both cases, PAY_0 is appearing as crucially important, with other payment behavior variables following close behind. The surrogate decision tree enables users to understand and confirm not only what input variables are important, but also how their values contribute to model decisions."
   ]
  },
  {
   "cell_type": "markdown",
   "metadata": {},
   "source": [
    "### Genrating reason codes using LOCO(Leave One Covariate Out)\n",
    "\n",
    "Local behavior for any given row of data and prediction can be analyzed and validated using LOCO. Here the local contribution of an input variable to a prediction for a single row of data is estimated by rescoring the GBM on that row one time for each input variable, each time leaving out one input variable.\n",
    "\n",
    "Reference:\n",
    "\n",
    " http://www.stat.cmu.edu/~ryantibs/papers/conformal.pdf"
   ]
  },
  {
   "cell_type": "markdown",
   "metadata": {},
   "source": [
    "### Calculating LOCO\n",
    "\n",
    "To implement LOCO, GBM model predicitions are calculated once for the test data and then again for each input variable, setting the entire input variable column to missing. Once the prediction without the variable is found for every row of data in the test set, that column vector of predictions on corrupted data can be subtracted from the column vector of predictions on the original, non-corrupted data to estimate the local contribution of that variable for each prediction in the test data.\n",
    "\n",
    "LOCO accuracy can be obtained by noting that the contributions for each prediction plus the overall average of DEFAULT_NEXT_MONTH always sum to the model predictions."
   ]
  },
  {
   "cell_type": "code",
   "execution_count": 27,
   "metadata": {},
   "outputs": [
    {
     "name": "stdout",
     "output_type": "stream",
     "text": [
      "Calculating LOCO contributions ...\n",
      "LOCO Progress: LIMIT_BAL (1/23) ...\n",
      "LOCO Progress: SEX (2/23) ...\n",
      "LOCO Progress: EDUCATION (3/23) ...\n",
      "LOCO Progress: MARRIAGE (4/23) ...\n",
      "LOCO Progress: AGE (5/23) ...\n",
      "LOCO Progress: PAY_0 (6/23) ...\n",
      "LOCO Progress: PAY_2 (7/23) ...\n",
      "LOCO Progress: PAY_3 (8/23) ...\n",
      "LOCO Progress: PAY_4 (9/23) ...\n",
      "LOCO Progress: PAY_5 (10/23) ...\n",
      "LOCO Progress: PAY_6 (11/23) ...\n",
      "LOCO Progress: BILL_AMT1 (12/23) ...\n",
      "LOCO Progress: BILL_AMT2 (13/23) ...\n",
      "LOCO Progress: BILL_AMT3 (14/23) ...\n",
      "LOCO Progress: BILL_AMT4 (15/23) ...\n",
      "LOCO Progress: BILL_AMT5 (16/23) ...\n",
      "LOCO Progress: BILL_AMT6 (17/23) ...\n",
      "LOCO Progress: PAY_AMT1 (18/23) ...\n",
      "LOCO Progress: PAY_AMT2 (19/23) ...\n",
      "LOCO Progress: PAY_AMT3 (20/23) ...\n",
      "LOCO Progress: PAY_AMT4 (21/23) ...\n",
      "LOCO Progress: PAY_AMT5 (22/23) ...\n",
      "LOCO Progress: PAY_AMT6 (23/23) ...\n",
      "\n",
      "Scaling contributions ...\n",
      "Done.\n"
     ]
    },
    {
     "data": {
      "text/html": [
       "<div>\n",
       "<style>\n",
       "    .dataframe thead tr:only-child th {\n",
       "        text-align: right;\n",
       "    }\n",
       "\n",
       "    .dataframe thead th {\n",
       "        text-align: left;\n",
       "    }\n",
       "\n",
       "    .dataframe tbody tr th {\n",
       "        vertical-align: top;\n",
       "    }\n",
       "</style>\n",
       "<table border=\"1\" class=\"dataframe\">\n",
       "  <thead>\n",
       "    <tr style=\"text-align: right;\">\n",
       "      <th></th>\n",
       "      <th>ID</th>\n",
       "      <th>p_DEFAULT_NEXT_MONTH</th>\n",
       "      <th>LIMIT_BAL</th>\n",
       "      <th>SEX</th>\n",
       "      <th>EDUCATION</th>\n",
       "      <th>MARRIAGE</th>\n",
       "      <th>AGE</th>\n",
       "      <th>PAY_0</th>\n",
       "      <th>PAY_2</th>\n",
       "      <th>PAY_3</th>\n",
       "      <th>...</th>\n",
       "      <th>BILL_AMT3</th>\n",
       "      <th>BILL_AMT4</th>\n",
       "      <th>BILL_AMT5</th>\n",
       "      <th>BILL_AMT6</th>\n",
       "      <th>PAY_AMT1</th>\n",
       "      <th>PAY_AMT2</th>\n",
       "      <th>PAY_AMT3</th>\n",
       "      <th>PAY_AMT4</th>\n",
       "      <th>PAY_AMT5</th>\n",
       "      <th>PAY_AMT6</th>\n",
       "    </tr>\n",
       "  </thead>\n",
       "  <tbody>\n",
       "    <tr>\n",
       "      <th>0</th>\n",
       "      <td>4</td>\n",
       "      <td>0.144991</td>\n",
       "      <td>-0.079758</td>\n",
       "      <td>-0.000000</td>\n",
       "      <td>-0.00000</td>\n",
       "      <td>-0.009143</td>\n",
       "      <td>-0.001728</td>\n",
       "      <td>-0.000000</td>\n",
       "      <td>-0.000000</td>\n",
       "      <td>-0.000000</td>\n",
       "      <td>...</td>\n",
       "      <td>-0.002113</td>\n",
       "      <td>0.005768</td>\n",
       "      <td>-0.000000</td>\n",
       "      <td>-0.000000</td>\n",
       "      <td>-0.000000</td>\n",
       "      <td>-0.000000</td>\n",
       "      <td>-0.000000</td>\n",
       "      <td>-0.000000</td>\n",
       "      <td>-0.000000</td>\n",
       "      <td>-0.005340</td>\n",
       "    </tr>\n",
       "    <tr>\n",
       "      <th>1</th>\n",
       "      <td>8</td>\n",
       "      <td>0.128193</td>\n",
       "      <td>-0.020007</td>\n",
       "      <td>-0.000000</td>\n",
       "      <td>-0.00000</td>\n",
       "      <td>-0.000000</td>\n",
       "      <td>-0.000000</td>\n",
       "      <td>0.011403</td>\n",
       "      <td>-0.000000</td>\n",
       "      <td>0.045036</td>\n",
       "      <td>...</td>\n",
       "      <td>0.010062</td>\n",
       "      <td>-0.000000</td>\n",
       "      <td>-0.059467</td>\n",
       "      <td>0.015406</td>\n",
       "      <td>-0.028304</td>\n",
       "      <td>-0.036129</td>\n",
       "      <td>-0.067713</td>\n",
       "      <td>-0.000000</td>\n",
       "      <td>0.057314</td>\n",
       "      <td>-0.000000</td>\n",
       "    </tr>\n",
       "    <tr>\n",
       "      <th>2</th>\n",
       "      <td>10</td>\n",
       "      <td>0.179911</td>\n",
       "      <td>-0.024094</td>\n",
       "      <td>-0.002945</td>\n",
       "      <td>-0.00000</td>\n",
       "      <td>-0.000000</td>\n",
       "      <td>-0.009850</td>\n",
       "      <td>0.003778</td>\n",
       "      <td>-0.000000</td>\n",
       "      <td>0.005310</td>\n",
       "      <td>...</td>\n",
       "      <td>-0.000000</td>\n",
       "      <td>-0.000000</td>\n",
       "      <td>-0.000000</td>\n",
       "      <td>-0.000000</td>\n",
       "      <td>-0.005015</td>\n",
       "      <td>-0.003077</td>\n",
       "      <td>-0.009657</td>\n",
       "      <td>0.019491</td>\n",
       "      <td>-0.000000</td>\n",
       "      <td>-0.004973</td>\n",
       "    </tr>\n",
       "    <tr>\n",
       "      <th>3</th>\n",
       "      <td>16</td>\n",
       "      <td>0.325205</td>\n",
       "      <td>0.012617</td>\n",
       "      <td>0.000000</td>\n",
       "      <td>0.00000</td>\n",
       "      <td>0.004043</td>\n",
       "      <td>0.000000</td>\n",
       "      <td>0.027090</td>\n",
       "      <td>0.055267</td>\n",
       "      <td>0.000000</td>\n",
       "      <td>...</td>\n",
       "      <td>0.000000</td>\n",
       "      <td>-0.003265</td>\n",
       "      <td>0.000000</td>\n",
       "      <td>0.000000</td>\n",
       "      <td>0.005403</td>\n",
       "      <td>0.000000</td>\n",
       "      <td>0.000000</td>\n",
       "      <td>0.000000</td>\n",
       "      <td>0.000000</td>\n",
       "      <td>0.000000</td>\n",
       "    </tr>\n",
       "    <tr>\n",
       "      <th>4</th>\n",
       "      <td>17</td>\n",
       "      <td>0.408821</td>\n",
       "      <td>0.033188</td>\n",
       "      <td>0.000000</td>\n",
       "      <td>0.00186</td>\n",
       "      <td>0.000000</td>\n",
       "      <td>0.000000</td>\n",
       "      <td>0.000000</td>\n",
       "      <td>0.000000</td>\n",
       "      <td>0.051523</td>\n",
       "      <td>...</td>\n",
       "      <td>-0.001966</td>\n",
       "      <td>0.000000</td>\n",
       "      <td>0.000000</td>\n",
       "      <td>0.000000</td>\n",
       "      <td>0.000000</td>\n",
       "      <td>0.000000</td>\n",
       "      <td>0.000000</td>\n",
       "      <td>0.001247</td>\n",
       "      <td>0.000000</td>\n",
       "      <td>0.008397</td>\n",
       "    </tr>\n",
       "  </tbody>\n",
       "</table>\n",
       "<p>5 rows × 25 columns</p>\n",
       "</div>"
      ],
      "text/plain": [
       "   ID  p_DEFAULT_NEXT_MONTH  LIMIT_BAL       SEX  EDUCATION  MARRIAGE  \\\n",
       "0   4              0.144991  -0.079758 -0.000000   -0.00000 -0.009143   \n",
       "1   8              0.128193  -0.020007 -0.000000   -0.00000 -0.000000   \n",
       "2  10              0.179911  -0.024094 -0.002945   -0.00000 -0.000000   \n",
       "3  16              0.325205   0.012617  0.000000    0.00000  0.004043   \n",
       "4  17              0.408821   0.033188  0.000000    0.00186  0.000000   \n",
       "\n",
       "        AGE     PAY_0     PAY_2     PAY_3    ...     BILL_AMT3  BILL_AMT4  \\\n",
       "0 -0.001728 -0.000000 -0.000000 -0.000000    ...     -0.002113   0.005768   \n",
       "1 -0.000000  0.011403 -0.000000  0.045036    ...      0.010062  -0.000000   \n",
       "2 -0.009850  0.003778 -0.000000  0.005310    ...     -0.000000  -0.000000   \n",
       "3  0.000000  0.027090  0.055267  0.000000    ...      0.000000  -0.003265   \n",
       "4  0.000000  0.000000  0.000000  0.051523    ...     -0.001966   0.000000   \n",
       "\n",
       "   BILL_AMT5  BILL_AMT6  PAY_AMT1  PAY_AMT2  PAY_AMT3  PAY_AMT4  PAY_AMT5  \\\n",
       "0  -0.000000  -0.000000 -0.000000 -0.000000 -0.000000 -0.000000 -0.000000   \n",
       "1  -0.059467   0.015406 -0.028304 -0.036129 -0.067713 -0.000000  0.057314   \n",
       "2  -0.000000  -0.000000 -0.005015 -0.003077 -0.009657  0.019491 -0.000000   \n",
       "3   0.000000   0.000000  0.005403  0.000000  0.000000  0.000000  0.000000   \n",
       "4   0.000000   0.000000  0.000000  0.000000  0.000000  0.001247  0.000000   \n",
       "\n",
       "   PAY_AMT6  \n",
       "0 -0.005340  \n",
       "1 -0.000000  \n",
       "2 -0.004973  \n",
       "3  0.000000  \n",
       "4  0.008397  \n",
       "\n",
       "[5 rows x 25 columns]"
      ]
     },
     "execution_count": 27,
     "metadata": {},
     "output_type": "execute_result"
    }
   ],
   "source": [
    "h2o.no_progress() # turn off h2o gratuitous progress bars\n",
    "\n",
    "# create set of original predictions and row ID\n",
    "preds2 = test['ID'].cbind(model.predict(test).drop(['predict', 'p0']))\n",
    "preds2.columns = ['ID', yhat]\n",
    "\n",
    "# calculate LOCO for each variable\n",
    "print('Calculating LOCO contributions ...')\n",
    "for k, i in enumerate(X):\n",
    "\n",
    "    # train and predict with x_i set to missing\n",
    "    test_loco = h2o.deep_copy(test, 'test_loco')\n",
    "    test_loco[i] = np.nan\n",
    "    preds_loco = model.predict(test_loco).drop(['predict','p0'])\n",
    "    \n",
    "    # create a new, named column for the LOCO prediction\n",
    "    preds_loco.columns = [i]\n",
    "    preds2 = preds2.cbind(preds_loco)\n",
    "    \n",
    "    # subtract the LOCO prediction from the original prediction\n",
    "    preds2[i] = preds2[yhat] - preds2[i]\n",
    "    \n",
    "    # update progress\n",
    "    print('LOCO Progress: ' + i + ' (' + str(k+1) + '/' + str(len(X)) + ') ...')\n",
    "    \n",
    "# scale contributions to sum to yhat - y_0\n",
    "print('\\nScaling contributions ...')\n",
    "\n",
    "y_0 = test[y].mean()[0]\n",
    "preds2_pd = preds2.as_data_frame()\n",
    "pred_ = preds2_pd[yhat]\n",
    "scaler = (pred_ - y_0) / preds2_pd[X].sum(axis=1)\n",
    "preds2_pd[X] = preds2_pd[X].multiply(scaler, axis=0)   \n",
    "\n",
    "print('Done.')  \n",
    "\n",
    "preds2_pd.head()\n"
   ]
  },
  {
   "cell_type": "markdown",
   "metadata": {},
   "source": [
    "Reason codes can be easily extracted from LOCO local variable contribution values by simply ranking the variables that played the largest role in any given decision"
   ]
  },
  {
   "cell_type": "markdown",
   "metadata": {},
   "source": [
    "### Function for finding percentile indices\n",
    "\n",
    "The function below finds and returns the row indices for the minimum, the maximum, and the deciles of one column in terms of another, in this case the model predictions (p_DEFAULT_NEXT_MONTH) and the row identifier (ID), respectively. These indices are used as a starting point for finding potentially interesting predictions. Outlying predictions found through residual analysis is another group of potentially interesting local predictions to analyze with LOCO"
   ]
  },
  {
   "cell_type": "code",
   "execution_count": 28,
   "metadata": {},
   "outputs": [
    {
     "data": {
      "text/plain": [
       "{0: 28716,\n",
       " 10: 8942,\n",
       " 20: 28257,\n",
       " 30: 4074,\n",
       " 40: 13411,\n",
       " 50: 16633,\n",
       " 60: 2402,\n",
       " 70: 19769,\n",
       " 80: 25069,\n",
       " 90: 21372,\n",
       " 99: 29116}"
      ]
     },
     "execution_count": 28,
     "metadata": {},
     "output_type": "execute_result"
    }
   ],
   "source": [
    "def get_percentile_dict(yhat, id_, frame):\n",
    "\n",
    "    \"\"\" Returns the minimum, maximum, and percentiles of a column, yhat, \n",
    "        as the indices based on another column id_.\n",
    "    \n",
    "    Args:\n",
    "        yhat: Column in which to find percentiles.\n",
    "        id_: Id column that stores indices for percentiles of yhat.\n",
    "        frame: H2OFrame containing yhat and id_. \n",
    "    \n",
    "    Returns:\n",
    "        Dictionary of percentile values and index column values.\n",
    "    \n",
    "    \"\"\"\n",
    "    \n",
    "    # convert to Pandas and sort \n",
    "    sort_df = preds2_pd.copy(deep=True)\n",
    "    sort_df.sort_values(yhat, inplace=True)\n",
    "    sort_df.reset_index(inplace=True)\n",
    "\n",
    "    # find top and bottom percentiles\n",
    "    percentiles_dict = {}\n",
    "    percentiles_dict[0] = sort_df.loc[0, id_]\n",
    "    percentiles_dict[99] = sort_df.loc[sort_df.shape[0]-1, id_]\n",
    "    inc = sort_df.shape[0]//10\n",
    "    \n",
    "    # find 10th-90th percentiles    \n",
    "    for i in range(1, 10):\n",
    "        percentiles_dict[i * 10] = sort_df.loc[i * inc,  id_]\n",
    "\n",
    "    return percentiles_dict\n",
    "\n",
    "# display percentiles dictionary\n",
    "# ID values for rows\n",
    "# from lowest prediction \n",
    "# to highest prediction\n",
    "percentile_dict = get_percentile_dict(yhat, 'ID', preds2_pd)\n",
    "percentile_dict"
   ]
  },
  {
   "cell_type": "markdown",
   "metadata": {},
   "source": [
    "### Plot some reason codes for a risky customer\n",
    "\n",
    "Investigating customers with very high or low predicted probabilities to determine if their local explanations justify their extreme predictions is typically a productive exercise in boundary testing, model debugging, and validation. Reason codes are generated for the customer with the highest probability of default in the test data set below in cell 18, but LOCO can create local explanations for any or all rows in the training or test datasets, and on new data."
   ]
  },
  {
   "cell_type": "code",
   "execution_count": 29,
   "metadata": {},
   "outputs": [
    {
     "data": {
      "image/png": "[encoded data removed]",
      "text/plain": [
       "<matplotlib.figure.Figure at 0x212f2b95a58>"
      ]
     },
     "metadata": {},
     "output_type": "display_data"
    }
   ],
   "source": [
    "# select single customer\n",
    "# convert to Pandas\n",
    "# drop prediction and row ID\n",
    "\n",
    "risky_loco = preds2_pd[preds2_pd['ID'] == int(percentile_dict[99])].drop(['ID', yhat], axis=1)   \n",
    "\n",
    "# transpose into column vector and sort        \n",
    "risky_loco = risky_loco.T.sort_values(by=8674, ascending=False)[:5]\n",
    "\n",
    "# plot\n",
    "_ = risky_loco.plot(kind='bar', \n",
    "                    title='Top Five Reason Codes for a Risky Customer\\n', \n",
    "                    legend=False)"
   ]
  },
  {
   "cell_type": "code",
   "execution_count": 30,
   "metadata": {},
   "outputs": [
    {
     "data": {
      "text/html": [
       "<table>\n",
       "<thead>\n",
       "<tr><th style=\"text-align: right;\">   ID</th><th style=\"text-align: right;\">  LIMIT_BAL</th><th>SEX   </th><th>EDUCATION  </th><th>MARRIAGE  </th><th style=\"text-align: right;\">  AGE</th><th>PAY_0        </th><th>PAY_2        </th><th>PAY_3        </th><th>PAY_4        </th><th>PAY_5        </th><th>PAY_6        </th><th style=\"text-align: right;\">  BILL_AMT1</th><th style=\"text-align: right;\">  BILL_AMT2</th><th style=\"text-align: right;\">  BILL_AMT3</th><th style=\"text-align: right;\">  BILL_AMT4</th><th style=\"text-align: right;\">  BILL_AMT5</th><th style=\"text-align: right;\">  BILL_AMT6</th><th style=\"text-align: right;\">  PAY_AMT1</th><th style=\"text-align: right;\">  PAY_AMT2</th><th style=\"text-align: right;\">  PAY_AMT3</th><th style=\"text-align: right;\">  PAY_AMT4</th><th style=\"text-align: right;\">  PAY_AMT5</th><th style=\"text-align: right;\">  PAY_AMT6</th><th style=\"text-align: right;\">  DEFAULT_NEXT_MONTH</th><th style=\"text-align: right;\">  p_DEFAULT_NEXT_MONTH</th></tr>\n",
       "</thead>\n",
       "<tbody>\n",
       "<tr><td style=\"text-align: right;\">29116</td><td style=\"text-align: right;\">      20000</td><td>female</td><td>university </td><td>married   </td><td style=\"text-align: right;\">   59</td><td>3 month delay</td><td>2 month delay</td><td>3 month delay</td><td>2 month delay</td><td>2 month delay</td><td>4 month delay</td><td style=\"text-align: right;\">       8803</td><td style=\"text-align: right;\">      11137</td><td style=\"text-align: right;\">      10672</td><td style=\"text-align: right;\">      11201</td><td style=\"text-align: right;\">      12721</td><td style=\"text-align: right;\">      11946</td><td style=\"text-align: right;\">      2800</td><td style=\"text-align: right;\">         0</td><td style=\"text-align: right;\">      1000</td><td style=\"text-align: right;\">      2000</td><td style=\"text-align: right;\">         0</td><td style=\"text-align: right;\">         0</td><td style=\"text-align: right;\">                   1</td><td style=\"text-align: right;\">              0.895285</td></tr>\n",
       "</tbody>\n",
       "</table>"
      ]
     },
     "metadata": {},
     "output_type": "display_data"
    },
    {
     "data": {
      "text/plain": []
     },
     "execution_count": 30,
     "metadata": {},
     "output_type": "execute_result"
    }
   ],
   "source": [
    "test_yhat[test_yhat['ID'] == int(percentile_dict[99]), :] \n",
    "\n",
    "#The local contributions for this customer appear reasonable,when considering her payment information. \n",
    "#Her most recent payment was 3 months late and her payment for 6 months previous was 4 months late"
   ]
  },
  {
   "cell_type": "markdown",
   "metadata": {},
   "source": [
    "To generate reason codes for the model's decision, the locally important variable and its value are used together. If this customer was denied future credit based on this model and data, the top five LOCO-based reason codes for the automated decision would be:\n",
    "\n",
    "1. Most recent payment is 3 months delayed.\n",
    "2. 6th most recent payment is 4 months delayed.\n",
    "3. 3rd most recent payment is 3 months delayed.\n",
    "4. 5th most recent payment is 2 months delayed.\n",
    "5. Customer age is 59\n",
    "\n",
    "(variables like AGE and SEX cannot be used in credit lending decisions)"
   ]
  },
  {
   "cell_type": "markdown",
   "metadata": {},
   "source": [
    "### Generate ensemble LOCO reason codes\n",
    "\n",
    "#### Train multiple models.\n",
    "\n",
    "To create ensemble explanations, several accurate models are trained. The models and their predictions on the test data are stored in Python lists."
   ]
  },
  {
   "cell_type": "code",
   "execution_count": 31,
   "metadata": {},
   "outputs": [
    {
     "name": "stdout",
     "output_type": "stream",
     "text": [
      "Training Progress: model 1/10, AUC = 0.7830 ...\n",
      "Training Progress: model 2/10, AUC = 0.7809 ...\n",
      "Training Progress: model 3/10, AUC = 0.7787 ...\n",
      "Training Progress: model 4/10, AUC = 0.7826 ...\n",
      "Training Progress: model 5/10, AUC = 0.7804 ...\n",
      "Training Progress: model 6/10, AUC = 0.7800 ...\n",
      "Training Progress: model 7/10, AUC = 0.7801 ...\n",
      "Training Progress: model 8/10, AUC = 0.7799 ...\n",
      "Training Progress: model 9/10, AUC = 0.7796 ...\n",
      "Training Progress: model 10/10, AUC = 0.7811 ...\n",
      "Done.\n"
     ]
    }
   ],
   "source": [
    "n_models = 10 # select number of models\n",
    "\n",
    "# lists for holding models and predictions\n",
    "models = []\n",
    "pred_frames = []\n",
    "\n",
    "for i in range(0, n_models):\n",
    "\n",
    "    # initialize and store models\n",
    "    models.append(H2OGradientBoostingEstimator(ntrees=150,\n",
    "                                               max_depth=4,\n",
    "                                               sample_rate=0.9 - ((i + 1)*0.01),     # perturb sample rate\n",
    "                                               col_sample_rate=0.9 - ((i + 1)*0.01), # perturb column sample rate\n",
    "                                               #balance_classes=True,                # sample to balance 0/1 distribution of target - helps LOCO\n",
    "                                               stopping_rounds=5,                    # stop if validation error does not decrease for 5 iterations (trees)\n",
    "                                               seed=i + 1))                          # new random seed for each model\n",
    "    \n",
    "    # train models\n",
    "    models[i].train(y=y, x=X, training_frame=train, validation_frame=test)\n",
    "    \n",
    "    # store predictions\n",
    "    pred_frames.append(test['ID'].cbind(models[i].predict(test).drop(['predict','p0'])))\n",
    "    pred_frames[i].columns = ['ID', yhat]\n",
    "    \n",
    "    # update progress\n",
    "    print('Training Progress: model %d/%d, AUC = %.4f ...' % (i + 1, n_models, models[i].auc(valid=True)))\n",
    "\n",
    "print('Done.')\n"
   ]
  },
  {
   "cell_type": "markdown",
   "metadata": {},
   "source": [
    "#### Calculate LOCO for each model\n",
    "LOCO is calculated on the test data for each model, each input, and each row of data in the test set using the stored models and predictions."
   ]
  },
  {
   "cell_type": "code",
   "execution_count": 32,
   "metadata": {},
   "outputs": [
    {
     "name": "stdout",
     "output_type": "stream",
     "text": [
      "LOCO Progress: model 1/10 ...\n",
      "LOCO Progress: model 2/10 ...\n",
      "LOCO Progress: model 3/10 ...\n",
      "LOCO Progress: model 4/10 ...\n",
      "LOCO Progress: model 5/10 ...\n",
      "LOCO Progress: model 6/10 ...\n",
      "LOCO Progress: model 7/10 ...\n",
      "LOCO Progress: model 8/10 ...\n",
      "LOCO Progress: model 9/10 ...\n",
      "LOCO Progress: model 10/10 ...\n",
      "Task Completed.\n"
     ]
    }
   ],
   "source": [
    "# for each new model ...\n",
    "for k, model in enumerate(models):\n",
    "\n",
    "    # calculate LOCO for each input variable \n",
    "    for i in X:\n",
    "\n",
    "        # train and predict with Xi set to missing\n",
    "        test_loco = h2o.deep_copy(test, 'test_loco')\n",
    "        test_loco[i] = np.nan\n",
    "        preds_loco = model.predict(test_loco).drop(['predict','p0'])\n",
    "\n",
    "        # create a new, named column for the LOCO prediction\n",
    "        preds_loco.columns = [i]\n",
    "        pred_frames[k] = pred_frames[k].cbind(preds_loco)\n",
    "\n",
    "        # subtract the LOCO prediction from the original prediction\n",
    "        pred_frames[k][i] = pred_frames[k][yhat] - pred_frames[k][i]\n",
    "        \n",
    "    # update progress    \n",
    "    print('LOCO Progress: model %d/%d ...' % (k + 1, n_models))\n",
    "\n",
    "print('Task Completed.')"
   ]
  },
  {
   "cell_type": "markdown",
   "metadata": {},
   "source": [
    "#### Collect LOCO values for each model for a risky customer\n",
    "To create ensemble explanations for a single row, the LOCO values for each variable in the row are averaged across all models. Single-model and mean LOCO values for the most risky person in the test set are displayed below"
   ]
  },
  {
   "cell_type": "code",
   "execution_count": 33,
   "metadata": {},
   "outputs": [
    {
     "data": {
      "text/html": [
       "<div>\n",
       "<style>\n",
       "    .dataframe thead tr:only-child th {\n",
       "        text-align: right;\n",
       "    }\n",
       "\n",
       "    .dataframe thead th {\n",
       "        text-align: left;\n",
       "    }\n",
       "\n",
       "    .dataframe tbody tr th {\n",
       "        vertical-align: top;\n",
       "    }\n",
       "</style>\n",
       "<table border=\"1\" class=\"dataframe\">\n",
       "  <thead>\n",
       "    <tr style=\"text-align: right;\">\n",
       "      <th></th>\n",
       "      <th>Loco 1</th>\n",
       "      <th>Loco 2</th>\n",
       "      <th>Loco 3</th>\n",
       "      <th>Loco 4</th>\n",
       "      <th>Loco 5</th>\n",
       "      <th>Loco 6</th>\n",
       "      <th>Loco 7</th>\n",
       "      <th>Loco 8</th>\n",
       "      <th>Loco 9</th>\n",
       "      <th>Loco 10</th>\n",
       "      <th>Mean Local Importance</th>\n",
       "      <th>Scaled Mean Local Importance</th>\n",
       "      <th>Std. Dev. Local Importance</th>\n",
       "    </tr>\n",
       "  </thead>\n",
       "  <tbody>\n",
       "    <tr>\n",
       "      <th>LIMIT_BAL</th>\n",
       "      <td>0.009020</td>\n",
       "      <td>-0.006295</td>\n",
       "      <td>0.012483</td>\n",
       "      <td>0.001345</td>\n",
       "      <td>0.015150</td>\n",
       "      <td>-0.006688</td>\n",
       "      <td>-0.002158</td>\n",
       "      <td>-0.009428</td>\n",
       "      <td>-0.002005</td>\n",
       "      <td>-0.005503</td>\n",
       "      <td>0.000592</td>\n",
       "      <td>0.000911</td>\n",
       "      <td>0.008229</td>\n",
       "    </tr>\n",
       "    <tr>\n",
       "      <th>SEX</th>\n",
       "      <td>0.002880</td>\n",
       "      <td>0.000000</td>\n",
       "      <td>0.000000</td>\n",
       "      <td>0.000000</td>\n",
       "      <td>0.000000</td>\n",
       "      <td>0.000000</td>\n",
       "      <td>0.000000</td>\n",
       "      <td>0.000000</td>\n",
       "      <td>0.000000</td>\n",
       "      <td>0.000000</td>\n",
       "      <td>0.000288</td>\n",
       "      <td>0.000443</td>\n",
       "      <td>0.000864</td>\n",
       "    </tr>\n",
       "    <tr>\n",
       "      <th>EDUCATION</th>\n",
       "      <td>0.000000</td>\n",
       "      <td>0.000000</td>\n",
       "      <td>0.000000</td>\n",
       "      <td>0.000000</td>\n",
       "      <td>0.000000</td>\n",
       "      <td>0.000000</td>\n",
       "      <td>0.000000</td>\n",
       "      <td>0.000000</td>\n",
       "      <td>0.000000</td>\n",
       "      <td>0.000000</td>\n",
       "      <td>0.000000</td>\n",
       "      <td>0.000000</td>\n",
       "      <td>0.000000</td>\n",
       "    </tr>\n",
       "    <tr>\n",
       "      <th>MARRIAGE</th>\n",
       "      <td>0.038816</td>\n",
       "      <td>0.030219</td>\n",
       "      <td>0.049574</td>\n",
       "      <td>0.044072</td>\n",
       "      <td>0.034987</td>\n",
       "      <td>0.083513</td>\n",
       "      <td>0.053444</td>\n",
       "      <td>0.034809</td>\n",
       "      <td>0.051611</td>\n",
       "      <td>0.097880</td>\n",
       "      <td>0.051892</td>\n",
       "      <td>0.079812</td>\n",
       "      <td>0.020981</td>\n",
       "    </tr>\n",
       "    <tr>\n",
       "      <th>AGE</th>\n",
       "      <td>0.017150</td>\n",
       "      <td>0.066226</td>\n",
       "      <td>0.015365</td>\n",
       "      <td>0.019450</td>\n",
       "      <td>0.047277</td>\n",
       "      <td>0.008411</td>\n",
       "      <td>0.019311</td>\n",
       "      <td>0.019194</td>\n",
       "      <td>0.064969</td>\n",
       "      <td>0.047981</td>\n",
       "      <td>0.032533</td>\n",
       "      <td>0.050037</td>\n",
       "      <td>0.020689</td>\n",
       "    </tr>\n",
       "    <tr>\n",
       "      <th>PAY_0</th>\n",
       "      <td>0.168290</td>\n",
       "      <td>0.108870</td>\n",
       "      <td>0.155368</td>\n",
       "      <td>0.123913</td>\n",
       "      <td>0.103977</td>\n",
       "      <td>0.094563</td>\n",
       "      <td>0.129808</td>\n",
       "      <td>0.166523</td>\n",
       "      <td>0.163303</td>\n",
       "      <td>0.118950</td>\n",
       "      <td>0.133356</td>\n",
       "      <td>0.205106</td>\n",
       "      <td>0.026417</td>\n",
       "    </tr>\n",
       "    <tr>\n",
       "      <th>PAY_2</th>\n",
       "      <td>0.002299</td>\n",
       "      <td>0.023128</td>\n",
       "      <td>0.029913</td>\n",
       "      <td>0.064136</td>\n",
       "      <td>0.047839</td>\n",
       "      <td>0.003387</td>\n",
       "      <td>0.044296</td>\n",
       "      <td>0.002752</td>\n",
       "      <td>0.021887</td>\n",
       "      <td>0.028216</td>\n",
       "      <td>0.026785</td>\n",
       "      <td>0.041196</td>\n",
       "      <td>0.019796</td>\n",
       "    </tr>\n",
       "    <tr>\n",
       "      <th>PAY_3</th>\n",
       "      <td>0.081584</td>\n",
       "      <td>0.099051</td>\n",
       "      <td>0.047630</td>\n",
       "      <td>0.046408</td>\n",
       "      <td>0.044800</td>\n",
       "      <td>0.016914</td>\n",
       "      <td>0.038656</td>\n",
       "      <td>0.046357</td>\n",
       "      <td>0.088166</td>\n",
       "      <td>0.054055</td>\n",
       "      <td>0.056362</td>\n",
       "      <td>0.086687</td>\n",
       "      <td>0.023988</td>\n",
       "    </tr>\n",
       "    <tr>\n",
       "      <th>PAY_4</th>\n",
       "      <td>0.021944</td>\n",
       "      <td>0.043668</td>\n",
       "      <td>0.039892</td>\n",
       "      <td>-0.009098</td>\n",
       "      <td>0.021445</td>\n",
       "      <td>0.022628</td>\n",
       "      <td>0.043056</td>\n",
       "      <td>0.038197</td>\n",
       "      <td>0.063759</td>\n",
       "      <td>0.021841</td>\n",
       "      <td>0.030733</td>\n",
       "      <td>0.047269</td>\n",
       "      <td>0.018559</td>\n",
       "    </tr>\n",
       "    <tr>\n",
       "      <th>PAY_5</th>\n",
       "      <td>0.038949</td>\n",
       "      <td>0.033023</td>\n",
       "      <td>0.033604</td>\n",
       "      <td>0.069855</td>\n",
       "      <td>0.024448</td>\n",
       "      <td>0.038036</td>\n",
       "      <td>0.031212</td>\n",
       "      <td>0.020676</td>\n",
       "      <td>0.063064</td>\n",
       "      <td>0.072998</td>\n",
       "      <td>0.042587</td>\n",
       "      <td>0.065499</td>\n",
       "      <td>0.017979</td>\n",
       "    </tr>\n",
       "    <tr>\n",
       "      <th>PAY_6</th>\n",
       "      <td>0.027700</td>\n",
       "      <td>0.023585</td>\n",
       "      <td>0.027220</td>\n",
       "      <td>-0.023089</td>\n",
       "      <td>0.005430</td>\n",
       "      <td>0.005204</td>\n",
       "      <td>0.022503</td>\n",
       "      <td>0.029180</td>\n",
       "      <td>0.028095</td>\n",
       "      <td>0.030959</td>\n",
       "      <td>0.017679</td>\n",
       "      <td>0.027190</td>\n",
       "      <td>0.016231</td>\n",
       "    </tr>\n",
       "    <tr>\n",
       "      <th>BILL_AMT1</th>\n",
       "      <td>0.004282</td>\n",
       "      <td>0.043126</td>\n",
       "      <td>0.002133</td>\n",
       "      <td>0.025375</td>\n",
       "      <td>0.001071</td>\n",
       "      <td>0.004628</td>\n",
       "      <td>0.018029</td>\n",
       "      <td>0.004658</td>\n",
       "      <td>0.021524</td>\n",
       "      <td>0.027100</td>\n",
       "      <td>0.015193</td>\n",
       "      <td>0.023367</td>\n",
       "      <td>0.013362</td>\n",
       "    </tr>\n",
       "    <tr>\n",
       "      <th>BILL_AMT2</th>\n",
       "      <td>0.005006</td>\n",
       "      <td>0.001032</td>\n",
       "      <td>0.000000</td>\n",
       "      <td>0.000000</td>\n",
       "      <td>0.031767</td>\n",
       "      <td>0.000000</td>\n",
       "      <td>0.008615</td>\n",
       "      <td>0.000000</td>\n",
       "      <td>0.000000</td>\n",
       "      <td>0.000000</td>\n",
       "      <td>0.004642</td>\n",
       "      <td>0.007139</td>\n",
       "      <td>0.009455</td>\n",
       "    </tr>\n",
       "    <tr>\n",
       "      <th>BILL_AMT3</th>\n",
       "      <td>-0.000512</td>\n",
       "      <td>-0.000137</td>\n",
       "      <td>0.000000</td>\n",
       "      <td>0.000000</td>\n",
       "      <td>0.000000</td>\n",
       "      <td>0.000000</td>\n",
       "      <td>0.000000</td>\n",
       "      <td>0.000000</td>\n",
       "      <td>-0.001648</td>\n",
       "      <td>0.000000</td>\n",
       "      <td>-0.000230</td>\n",
       "      <td>-0.000353</td>\n",
       "      <td>0.000497</td>\n",
       "    </tr>\n",
       "    <tr>\n",
       "      <th>BILL_AMT4</th>\n",
       "      <td>-0.000989</td>\n",
       "      <td>-0.000218</td>\n",
       "      <td>0.000000</td>\n",
       "      <td>0.000000</td>\n",
       "      <td>0.000000</td>\n",
       "      <td>-0.010070</td>\n",
       "      <td>0.000000</td>\n",
       "      <td>-0.005586</td>\n",
       "      <td>0.000000</td>\n",
       "      <td>-0.001738</td>\n",
       "      <td>-0.001860</td>\n",
       "      <td>-0.002861</td>\n",
       "      <td>0.003195</td>\n",
       "    </tr>\n",
       "    <tr>\n",
       "      <th>BILL_AMT5</th>\n",
       "      <td>0.000000</td>\n",
       "      <td>-0.002158</td>\n",
       "      <td>0.000000</td>\n",
       "      <td>0.003339</td>\n",
       "      <td>0.000000</td>\n",
       "      <td>0.000000</td>\n",
       "      <td>0.000000</td>\n",
       "      <td>0.004020</td>\n",
       "      <td>-0.010965</td>\n",
       "      <td>0.009204</td>\n",
       "      <td>0.000344</td>\n",
       "      <td>0.000529</td>\n",
       "      <td>0.004855</td>\n",
       "    </tr>\n",
       "    <tr>\n",
       "      <th>BILL_AMT6</th>\n",
       "      <td>0.000000</td>\n",
       "      <td>0.000000</td>\n",
       "      <td>0.000000</td>\n",
       "      <td>0.000000</td>\n",
       "      <td>0.006478</td>\n",
       "      <td>0.000000</td>\n",
       "      <td>0.000000</td>\n",
       "      <td>0.000000</td>\n",
       "      <td>0.000000</td>\n",
       "      <td>0.000000</td>\n",
       "      <td>0.000648</td>\n",
       "      <td>0.000996</td>\n",
       "      <td>0.001943</td>\n",
       "    </tr>\n",
       "    <tr>\n",
       "      <th>PAY_AMT1</th>\n",
       "      <td>0.000000</td>\n",
       "      <td>0.002728</td>\n",
       "      <td>0.000000</td>\n",
       "      <td>0.000000</td>\n",
       "      <td>0.000000</td>\n",
       "      <td>0.003919</td>\n",
       "      <td>0.000000</td>\n",
       "      <td>0.000000</td>\n",
       "      <td>0.000000</td>\n",
       "      <td>0.000000</td>\n",
       "      <td>0.000665</td>\n",
       "      <td>0.001022</td>\n",
       "      <td>0.001356</td>\n",
       "    </tr>\n",
       "    <tr>\n",
       "      <th>PAY_AMT2</th>\n",
       "      <td>0.007334</td>\n",
       "      <td>0.005627</td>\n",
       "      <td>0.000000</td>\n",
       "      <td>-0.001350</td>\n",
       "      <td>0.004503</td>\n",
       "      <td>0.002450</td>\n",
       "      <td>0.000000</td>\n",
       "      <td>0.001922</td>\n",
       "      <td>0.000000</td>\n",
       "      <td>0.000985</td>\n",
       "      <td>0.002147</td>\n",
       "      <td>0.003302</td>\n",
       "      <td>0.002685</td>\n",
       "    </tr>\n",
       "    <tr>\n",
       "      <th>PAY_AMT3</th>\n",
       "      <td>0.000000</td>\n",
       "      <td>0.000000</td>\n",
       "      <td>0.000000</td>\n",
       "      <td>0.000000</td>\n",
       "      <td>0.000000</td>\n",
       "      <td>0.000000</td>\n",
       "      <td>0.000000</td>\n",
       "      <td>0.000000</td>\n",
       "      <td>0.000000</td>\n",
       "      <td>0.005040</td>\n",
       "      <td>0.000504</td>\n",
       "      <td>0.000775</td>\n",
       "      <td>0.001512</td>\n",
       "    </tr>\n",
       "    <tr>\n",
       "      <th>PAY_AMT4</th>\n",
       "      <td>0.000000</td>\n",
       "      <td>0.000000</td>\n",
       "      <td>0.000000</td>\n",
       "      <td>-0.006528</td>\n",
       "      <td>0.000000</td>\n",
       "      <td>0.000000</td>\n",
       "      <td>0.000000</td>\n",
       "      <td>0.000000</td>\n",
       "      <td>0.000000</td>\n",
       "      <td>0.000000</td>\n",
       "      <td>-0.000653</td>\n",
       "      <td>-0.001004</td>\n",
       "      <td>0.001959</td>\n",
       "    </tr>\n",
       "    <tr>\n",
       "      <th>PAY_AMT5</th>\n",
       "      <td>0.025840</td>\n",
       "      <td>0.025339</td>\n",
       "      <td>0.016906</td>\n",
       "      <td>0.016336</td>\n",
       "      <td>0.001440</td>\n",
       "      <td>0.004975</td>\n",
       "      <td>0.029793</td>\n",
       "      <td>0.045810</td>\n",
       "      <td>0.019439</td>\n",
       "      <td>0.047491</td>\n",
       "      <td>0.023337</td>\n",
       "      <td>0.035893</td>\n",
       "      <td>0.014362</td>\n",
       "    </tr>\n",
       "    <tr>\n",
       "      <th>PAY_AMT6</th>\n",
       "      <td>-0.000455</td>\n",
       "      <td>-0.000031</td>\n",
       "      <td>0.000000</td>\n",
       "      <td>-0.009342</td>\n",
       "      <td>-0.000800</td>\n",
       "      <td>-0.000556</td>\n",
       "      <td>0.000000</td>\n",
       "      <td>0.000000</td>\n",
       "      <td>0.000000</td>\n",
       "      <td>0.000000</td>\n",
       "      <td>-0.001118</td>\n",
       "      <td>-0.001720</td>\n",
       "      <td>0.002755</td>\n",
       "    </tr>\n",
       "  </tbody>\n",
       "</table>\n",
       "</div>"
      ],
      "text/plain": [
       "             Loco 1    Loco 2    Loco 3    Loco 4    Loco 5    Loco 6  \\\n",
       "LIMIT_BAL  0.009020 -0.006295  0.012483  0.001345  0.015150 -0.006688   \n",
       "SEX        0.002880  0.000000  0.000000  0.000000  0.000000  0.000000   \n",
       "EDUCATION  0.000000  0.000000  0.000000  0.000000  0.000000  0.000000   \n",
       "MARRIAGE   0.038816  0.030219  0.049574  0.044072  0.034987  0.083513   \n",
       "AGE        0.017150  0.066226  0.015365  0.019450  0.047277  0.008411   \n",
       "PAY_0      0.168290  0.108870  0.155368  0.123913  0.103977  0.094563   \n",
       "PAY_2      0.002299  0.023128  0.029913  0.064136  0.047839  0.003387   \n",
       "PAY_3      0.081584  0.099051  0.047630  0.046408  0.044800  0.016914   \n",
       "PAY_4      0.021944  0.043668  0.039892 -0.009098  0.021445  0.022628   \n",
       "PAY_5      0.038949  0.033023  0.033604  0.069855  0.024448  0.038036   \n",
       "PAY_6      0.027700  0.023585  0.027220 -0.023089  0.005430  0.005204   \n",
       "BILL_AMT1  0.004282  0.043126  0.002133  0.025375  0.001071  0.004628   \n",
       "BILL_AMT2  0.005006  0.001032  0.000000  0.000000  0.031767  0.000000   \n",
       "BILL_AMT3 -0.000512 -0.000137  0.000000  0.000000  0.000000  0.000000   \n",
       "BILL_AMT4 -0.000989 -0.000218  0.000000  0.000000  0.000000 -0.010070   \n",
       "BILL_AMT5  0.000000 -0.002158  0.000000  0.003339  0.000000  0.000000   \n",
       "BILL_AMT6  0.000000  0.000000  0.000000  0.000000  0.006478  0.000000   \n",
       "PAY_AMT1   0.000000  0.002728  0.000000  0.000000  0.000000  0.003919   \n",
       "PAY_AMT2   0.007334  0.005627  0.000000 -0.001350  0.004503  0.002450   \n",
       "PAY_AMT3   0.000000  0.000000  0.000000  0.000000  0.000000  0.000000   \n",
       "PAY_AMT4   0.000000  0.000000  0.000000 -0.006528  0.000000  0.000000   \n",
       "PAY_AMT5   0.025840  0.025339  0.016906  0.016336  0.001440  0.004975   \n",
       "PAY_AMT6  -0.000455 -0.000031  0.000000 -0.009342 -0.000800 -0.000556   \n",
       "\n",
       "             Loco 7    Loco 8    Loco 9   Loco 10  Mean Local Importance  \\\n",
       "LIMIT_BAL -0.002158 -0.009428 -0.002005 -0.005503               0.000592   \n",
       "SEX        0.000000  0.000000  0.000000  0.000000               0.000288   \n",
       "EDUCATION  0.000000  0.000000  0.000000  0.000000               0.000000   \n",
       "MARRIAGE   0.053444  0.034809  0.051611  0.097880               0.051892   \n",
       "AGE        0.019311  0.019194  0.064969  0.047981               0.032533   \n",
       "PAY_0      0.129808  0.166523  0.163303  0.118950               0.133356   \n",
       "PAY_2      0.044296  0.002752  0.021887  0.028216               0.026785   \n",
       "PAY_3      0.038656  0.046357  0.088166  0.054055               0.056362   \n",
       "PAY_4      0.043056  0.038197  0.063759  0.021841               0.030733   \n",
       "PAY_5      0.031212  0.020676  0.063064  0.072998               0.042587   \n",
       "PAY_6      0.022503  0.029180  0.028095  0.030959               0.017679   \n",
       "BILL_AMT1  0.018029  0.004658  0.021524  0.027100               0.015193   \n",
       "BILL_AMT2  0.008615  0.000000  0.000000  0.000000               0.004642   \n",
       "BILL_AMT3  0.000000  0.000000 -0.001648  0.000000              -0.000230   \n",
       "BILL_AMT4  0.000000 -0.005586  0.000000 -0.001738              -0.001860   \n",
       "BILL_AMT5  0.000000  0.004020 -0.010965  0.009204               0.000344   \n",
       "BILL_AMT6  0.000000  0.000000  0.000000  0.000000               0.000648   \n",
       "PAY_AMT1   0.000000  0.000000  0.000000  0.000000               0.000665   \n",
       "PAY_AMT2   0.000000  0.001922  0.000000  0.000985               0.002147   \n",
       "PAY_AMT3   0.000000  0.000000  0.000000  0.005040               0.000504   \n",
       "PAY_AMT4   0.000000  0.000000  0.000000  0.000000              -0.000653   \n",
       "PAY_AMT5   0.029793  0.045810  0.019439  0.047491               0.023337   \n",
       "PAY_AMT6   0.000000  0.000000  0.000000  0.000000              -0.001118   \n",
       "\n",
       "           Scaled Mean Local Importance  Std. Dev. Local Importance  \n",
       "LIMIT_BAL                      0.000911                    0.008229  \n",
       "SEX                            0.000443                    0.000864  \n",
       "EDUCATION                      0.000000                    0.000000  \n",
       "MARRIAGE                       0.079812                    0.020981  \n",
       "AGE                            0.050037                    0.020689  \n",
       "PAY_0                          0.205106                    0.026417  \n",
       "PAY_2                          0.041196                    0.019796  \n",
       "PAY_3                          0.086687                    0.023988  \n",
       "PAY_4                          0.047269                    0.018559  \n",
       "PAY_5                          0.065499                    0.017979  \n",
       "PAY_6                          0.027190                    0.016231  \n",
       "BILL_AMT1                      0.023367                    0.013362  \n",
       "BILL_AMT2                      0.007139                    0.009455  \n",
       "BILL_AMT3                     -0.000353                    0.000497  \n",
       "BILL_AMT4                     -0.002861                    0.003195  \n",
       "BILL_AMT5                      0.000529                    0.004855  \n",
       "BILL_AMT6                      0.000996                    0.001943  \n",
       "PAY_AMT1                       0.001022                    0.001356  \n",
       "PAY_AMT2                       0.003302                    0.002685  \n",
       "PAY_AMT3                       0.000775                    0.001512  \n",
       "PAY_AMT4                      -0.001004                    0.001959  \n",
       "PAY_AMT5                       0.035893                    0.014362  \n",
       "PAY_AMT6                      -0.001720                    0.002755  "
      ]
     },
     "execution_count": 33,
     "metadata": {},
     "output_type": "execute_result"
    }
   ],
   "source": [
    "# holds predictions for a specific row \n",
    "risky_loco_frames = []\n",
    "\n",
    "# column names for Pandas DataFrame of combined LOCO prediction\n",
    "col_names = ['Loco ' + str(i) for i in range(1, n_models + 1)]\n",
    "\n",
    "# for each new model ...\n",
    "for i in range(0, n_models):\n",
    "    \n",
    "    # collect LOCO for that model and a specific row \n",
    "    # as a column vector in a Pandas DataFrame\n",
    "    preds = pred_frames[i]\n",
    "    risky_loco_frames.append(preds[preds['ID'] == int(percentile_dict[99]), :] # row for risky person\n",
    "                             .as_data_frame()                                  # convert to Pandas\n",
    "                             .drop(['ID', yhat], axis=1)                       # drop predictions and row ID\n",
    "                             .T)                                               # Transpose into column vector\n",
    "\n",
    "# bind LOCO for each row as column vectors \n",
    "# into the same Pandas DataFrame\n",
    "loco_ensemble = pd.concat(risky_loco_frames, axis=1) \n",
    "\n",
    "# update column names\n",
    "loco_ensemble.columns = col_names\n",
    "\n",
    "# mean local importance across models\n",
    "loco_ensemble['Mean Local Importance'] = loco_ensemble.mean(axis=1)\n",
    "\n",
    "# scale contribs\n",
    "scaler = (test_yhat[test_yhat['ID'] == int(percentile_dict[99]), yhat] - y_0) /\\\n",
    "    (loco_ensemble['Mean Local Importance'].sum())\n",
    "loco_ensemble['Scaled Mean Local Importance'] = loco_ensemble['Mean Local Importance'] * scaler[0, 0]\n",
    "\n",
    "# std deviation\n",
    "loco_ensemble['Std. Dev. Local Importance'] = loco_ensemble\\\n",
    "                                              .drop('Scaled Mean Local Importance', axis=1)\\\n",
    "                                              .std(axis=1)\n",
    "        \n",
    "# display\n",
    "loco_ensemble"
   ]
  },
  {
   "cell_type": "markdown",
   "metadata": {},
   "source": [
    "#### Plotting the reason code for risky customer"
   ]
  },
  {
   "cell_type": "code",
   "execution_count": 34,
   "metadata": {},
   "outputs": [
    {
     "data": {
      "image/png": "[encoded data removed]",
      "text/plain": [
       "<matplotlib.figure.Figure at 0x212f2b0bbe0>"
      ]
     },
     "metadata": {},
     "output_type": "display_data"
    }
   ],
   "source": [
    "risky_mean_loco = loco_ensemble['Mean Local Importance'].sort_values(ascending=False)[:5]\n",
    "_ = risky_mean_loco.plot(kind='bar', \n",
    "                         title='Top Five Reason Codes for a Risky Customer\\n', \n",
    "                         color='b',\n",
    "                         legend=False)"
   ]
  },
  {
   "cell_type": "code",
   "execution_count": 35,
   "metadata": {},
   "outputs": [
    {
     "name": "stdout",
     "output_type": "stream",
     "text": [
      "Are you sure you want to shutdown the H2O instance running at http://127.0.0.1:54321 (Y/N)? y\n",
      "H2O session _sid_88f8 closed.\n"
     ]
    }
   ],
   "source": [
    "h2o.cluster().shutdown(prompt=True)"
   ]
  },
  {
   "cell_type": "markdown",
   "metadata": {},
   "source": [
    "### Summary\n",
    "\n",
    "In this notebook, a complex GBM classifier was trained to predict credit card defaults and explained at a global scale with a decision tree surrogate model and explained at a local scale with LOCO. An ensemble LOCO approach was also introduced to stabilize approximate explanations. The decision tree surrogate creates an overall approximate flowchart for the GBM's decision processes and LOCO can be used to create reason codes for each model prediction. All of these techniques enhance the transparency of the complex model, which in turn enables greater accountability for the model's predictions. "
   ]
  }
 ],
 "metadata": {
  "kernelspec": {
   "display_name": "Python 3",
   "language": "python",
   "name": "python3"
  },
  "language_info": {
   "codemirror_mode": {
    "name": "ipython",
    "version": 3
   },
   "file_extension": ".py",
   "mimetype": "text/x-python",
   "name": "python",
   "nbconvert_exporter": "python",
   "pygments_lexer": "ipython3",
   "version": "3.6.3"
  }
 },
 "nbformat": 4,
 "nbformat_minor": 2
}
