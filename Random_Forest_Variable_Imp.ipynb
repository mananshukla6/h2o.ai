{
 "cells": [
  {
   "cell_type": "markdown",
   "metadata": {},
   "source": [
    "# Distributed Random Forest\n",
    "\n",
    "Distributed Random Forest (DRF) is a powerful classification and regression tool. When given a set of data, DRF generates a forest of classification or regression trees, rather than a single classification or regression tree. Each of these trees is a weak learner built on a subset of rows and columns. More trees will reduce the variance. Both classification and regression take the average prediction over all of their trees to make a final prediction, whether predicting for a class or numeric value. (Note: For a categorical response column, DRF maps factors (e.g. ‘dog’, ‘cat’, ‘mouse) in lexicographic order to a name lookup array with integer indices (e.g. ‘cat -> 0, ‘dog’ -> 1, ‘mouse’ -> 2.)\n",
    "\n",
    "\n",
    "References:\n",
    "\n",
    "https://github.com/nikbearbrown/CSYE_7245/tree/master/H2O\n",
    "\n",
    "https://www.statistik.uni-dortmund.de/useR-2008/slides/Strobl+Zeileis.pdf\n",
    "\n",
    "https://papers.nips.cc/paper/4928-understanding-variable-importances-in-forests-of-randomized-trees.pdf\n",
    "\n",
    "https://www.displayr.com/how-is-variable-importance-calculated-for-a-random-forest/\n",
    "\n",
    "http://docs.h2o.ai/h2o/latest-stable/h2o-docs/variable-importance.html\n",
    "\n",
    "https://github.com/h2oai/h2o-2\n",
    "\n",
    "https://aichamp.wordpress.com/2017/04/11/working-with-variable-importance-data-with-models-in-h2o/"
   ]
  },
  {
   "cell_type": "markdown",
   "metadata": {},
   "source": [
    "#### Dataset : [Metro Bike Share Trip Data](https://www.kaggle.com/cityofLA/los-angeles-metro-bike-share-trip-data)\n",
    "\n",
    "**Context: This is a dataset hosted by the city of Los Angeles. The organization has an open data platform and they update their information according the amount of data that is brought in.**  \n",
    "\n",
    "  \n",
    "| Data Type     | Number of Columns|\n",
    "|:------------- |:---------------- |\n",
    "| Numeric       |10                |\n",
    "| Date Type     |2                 |\n",
    "| String        |4                 |\n"
   ]
  },
  {
   "cell_type": "code",
   "execution_count": 1,
   "metadata": {
    "collapsed": true
   },
   "outputs": [],
   "source": [
    "import h2o\n",
    "from h2o.automl import H2OAutoML\n",
    "import random, os, sys\n",
    "from datetime import datetime\n",
    "import pandas as pd\n",
    "import logging\n",
    "import csv\n",
    "import optparse\n",
    "import time\n",
    "import json\n",
    "from distutils.util import strtobool"
   ]
  },
  {
   "cell_type": "code",
   "execution_count": 2,
   "metadata": {},
   "outputs": [
    {
     "name": "stderr",
     "output_type": "stream",
     "text": [
      "C:\\Users\\manan\\Anaconda3\\lib\\site-packages\\IPython\\core\\interactiveshell.py:2698: DtypeWarning: Columns (14) have mixed types. Specify dtype option on import or set low_memory=False.\n",
      "  interactivity=interactivity, compiler=compiler, result=result)\n"
     ]
    }
   ],
   "source": [
    "reads = pd.read_csv(\"metro-bike-share-trip-data.csv\")"
   ]
  },
  {
   "cell_type": "code",
   "execution_count": 3,
   "metadata": {},
   "outputs": [
    {
     "data": {
      "text/plain": [
       "[1933383,\n",
       " 300,\n",
       " '2016-07-07T10:32:00',\n",
       " '2016-07-07T10:37:00',\n",
       " 3016.0,\n",
       " 34.0528984,\n",
       " -118.24156,\n",
       " 3016.0,\n",
       " 34.0528984,\n",
       " -118.24156,\n",
       " 5861.0,\n",
       " 365.0,\n",
       " 'Round Trip',\n",
       " 'Flex Pass',\n",
       " \"{'longitude': '-118.24156', 'latitude': '34.0528984', 'needs_recoding': False}\",\n",
       " \"{'longitude': '-118.24156', 'latitude': '34.0528984', 'needs_recoding': False}\"]"
      ]
     },
     "execution_count": 3,
     "metadata": {},
     "output_type": "execute_result"
    }
   ],
   "source": [
    "reads.values.tolist()[2]"
   ]
  },
  {
   "cell_type": "code",
   "execution_count": 4,
   "metadata": {},
   "outputs": [
    {
     "data": {
      "text/html": [
       "<div>\n",
       "<style>\n",
       "    .dataframe thead tr:only-child th {\n",
       "        text-align: right;\n",
       "    }\n",
       "\n",
       "    .dataframe thead th {\n",
       "        text-align: left;\n",
       "    }\n",
       "\n",
       "    .dataframe tbody tr th {\n",
       "        vertical-align: top;\n",
       "    }\n",
       "</style>\n",
       "<table border=\"1\" class=\"dataframe\">\n",
       "  <thead>\n",
       "    <tr style=\"text-align: right;\">\n",
       "      <th></th>\n",
       "      <th>Trip ID</th>\n",
       "      <th>Duration</th>\n",
       "      <th>Start Time</th>\n",
       "      <th>End Time</th>\n",
       "      <th>Starting Station ID</th>\n",
       "      <th>Starting Station Latitude</th>\n",
       "      <th>Starting Station Longitude</th>\n",
       "      <th>Ending Station ID</th>\n",
       "      <th>Ending Station Latitude</th>\n",
       "      <th>Ending Station Longitude</th>\n",
       "      <th>Bike ID</th>\n",
       "      <th>Plan Duration</th>\n",
       "      <th>Trip Route Category</th>\n",
       "      <th>Passholder Type</th>\n",
       "      <th>Starting Lat-Long</th>\n",
       "      <th>Ending Lat-Long</th>\n",
       "    </tr>\n",
       "  </thead>\n",
       "  <tbody>\n",
       "    <tr>\n",
       "      <th>0</th>\n",
       "      <td>1912818</td>\n",
       "      <td>180</td>\n",
       "      <td>2016-07-07T04:17:00</td>\n",
       "      <td>2016-07-07T04:20:00</td>\n",
       "      <td>3014.0</td>\n",
       "      <td>34.056610</td>\n",
       "      <td>-118.23721</td>\n",
       "      <td>3014.0</td>\n",
       "      <td>34.056610</td>\n",
       "      <td>-118.23721</td>\n",
       "      <td>6281.0</td>\n",
       "      <td>30.0</td>\n",
       "      <td>Round Trip</td>\n",
       "      <td>Monthly Pass</td>\n",
       "      <td>{'longitude': '-118.23721', 'latitude': '34.05...</td>\n",
       "      <td>{'longitude': '-118.23721', 'latitude': '34.05...</td>\n",
       "    </tr>\n",
       "    <tr>\n",
       "      <th>1</th>\n",
       "      <td>1919661</td>\n",
       "      <td>1980</td>\n",
       "      <td>2016-07-07T06:00:00</td>\n",
       "      <td>2016-07-07T06:33:00</td>\n",
       "      <td>3014.0</td>\n",
       "      <td>34.056610</td>\n",
       "      <td>-118.23721</td>\n",
       "      <td>3014.0</td>\n",
       "      <td>34.056610</td>\n",
       "      <td>-118.23721</td>\n",
       "      <td>6281.0</td>\n",
       "      <td>30.0</td>\n",
       "      <td>Round Trip</td>\n",
       "      <td>Monthly Pass</td>\n",
       "      <td>{'longitude': '-118.23721', 'latitude': '34.05...</td>\n",
       "      <td>{'longitude': '-118.23721', 'latitude': '34.05...</td>\n",
       "    </tr>\n",
       "    <tr>\n",
       "      <th>2</th>\n",
       "      <td>1933383</td>\n",
       "      <td>300</td>\n",
       "      <td>2016-07-07T10:32:00</td>\n",
       "      <td>2016-07-07T10:37:00</td>\n",
       "      <td>3016.0</td>\n",
       "      <td>34.052898</td>\n",
       "      <td>-118.24156</td>\n",
       "      <td>3016.0</td>\n",
       "      <td>34.052898</td>\n",
       "      <td>-118.24156</td>\n",
       "      <td>5861.0</td>\n",
       "      <td>365.0</td>\n",
       "      <td>Round Trip</td>\n",
       "      <td>Flex Pass</td>\n",
       "      <td>{'longitude': '-118.24156', 'latitude': '34.05...</td>\n",
       "      <td>{'longitude': '-118.24156', 'latitude': '34.05...</td>\n",
       "    </tr>\n",
       "    <tr>\n",
       "      <th>3</th>\n",
       "      <td>1944197</td>\n",
       "      <td>10860</td>\n",
       "      <td>2016-07-07T10:37:00</td>\n",
       "      <td>2016-07-07T13:38:00</td>\n",
       "      <td>3016.0</td>\n",
       "      <td>34.052898</td>\n",
       "      <td>-118.24156</td>\n",
       "      <td>3016.0</td>\n",
       "      <td>34.052898</td>\n",
       "      <td>-118.24156</td>\n",
       "      <td>5861.0</td>\n",
       "      <td>365.0</td>\n",
       "      <td>Round Trip</td>\n",
       "      <td>Flex Pass</td>\n",
       "      <td>{'longitude': '-118.24156', 'latitude': '34.05...</td>\n",
       "      <td>{'longitude': '-118.24156', 'latitude': '34.05...</td>\n",
       "    </tr>\n",
       "    <tr>\n",
       "      <th>4</th>\n",
       "      <td>1940317</td>\n",
       "      <td>420</td>\n",
       "      <td>2016-07-07T12:51:00</td>\n",
       "      <td>2016-07-07T12:58:00</td>\n",
       "      <td>3032.0</td>\n",
       "      <td>34.049889</td>\n",
       "      <td>-118.25588</td>\n",
       "      <td>3032.0</td>\n",
       "      <td>34.049889</td>\n",
       "      <td>-118.25588</td>\n",
       "      <td>6674.0</td>\n",
       "      <td>0.0</td>\n",
       "      <td>Round Trip</td>\n",
       "      <td>Walk-up</td>\n",
       "      <td>{'longitude': '-118.25588', 'latitude': '34.04...</td>\n",
       "      <td>{'longitude': '-118.25588', 'latitude': '34.04...</td>\n",
       "    </tr>\n",
       "  </tbody>\n",
       "</table>\n",
       "</div>"
      ],
      "text/plain": [
       "   Trip ID  Duration           Start Time             End Time  \\\n",
       "0  1912818       180  2016-07-07T04:17:00  2016-07-07T04:20:00   \n",
       "1  1919661      1980  2016-07-07T06:00:00  2016-07-07T06:33:00   \n",
       "2  1933383       300  2016-07-07T10:32:00  2016-07-07T10:37:00   \n",
       "3  1944197     10860  2016-07-07T10:37:00  2016-07-07T13:38:00   \n",
       "4  1940317       420  2016-07-07T12:51:00  2016-07-07T12:58:00   \n",
       "\n",
       "   Starting Station ID  Starting Station Latitude  Starting Station Longitude  \\\n",
       "0               3014.0                  34.056610                  -118.23721   \n",
       "1               3014.0                  34.056610                  -118.23721   \n",
       "2               3016.0                  34.052898                  -118.24156   \n",
       "3               3016.0                  34.052898                  -118.24156   \n",
       "4               3032.0                  34.049889                  -118.25588   \n",
       "\n",
       "   Ending Station ID  Ending Station Latitude  Ending Station Longitude  \\\n",
       "0             3014.0                34.056610                -118.23721   \n",
       "1             3014.0                34.056610                -118.23721   \n",
       "2             3016.0                34.052898                -118.24156   \n",
       "3             3016.0                34.052898                -118.24156   \n",
       "4             3032.0                34.049889                -118.25588   \n",
       "\n",
       "   Bike ID  Plan Duration Trip Route Category Passholder Type  \\\n",
       "0   6281.0           30.0          Round Trip    Monthly Pass   \n",
       "1   6281.0           30.0          Round Trip    Monthly Pass   \n",
       "2   5861.0          365.0          Round Trip       Flex Pass   \n",
       "3   5861.0          365.0          Round Trip       Flex Pass   \n",
       "4   6674.0            0.0          Round Trip         Walk-up   \n",
       "\n",
       "                                   Starting Lat-Long  \\\n",
       "0  {'longitude': '-118.23721', 'latitude': '34.05...   \n",
       "1  {'longitude': '-118.23721', 'latitude': '34.05...   \n",
       "2  {'longitude': '-118.24156', 'latitude': '34.05...   \n",
       "3  {'longitude': '-118.24156', 'latitude': '34.05...   \n",
       "4  {'longitude': '-118.25588', 'latitude': '34.04...   \n",
       "\n",
       "                                     Ending Lat-Long  \n",
       "0  {'longitude': '-118.23721', 'latitude': '34.05...  \n",
       "1  {'longitude': '-118.23721', 'latitude': '34.05...  \n",
       "2  {'longitude': '-118.24156', 'latitude': '34.05...  \n",
       "3  {'longitude': '-118.24156', 'latitude': '34.05...  \n",
       "4  {'longitude': '-118.25588', 'latitude': '34.04...  "
      ]
     },
     "execution_count": 4,
     "metadata": {},
     "output_type": "execute_result"
    }
   ],
   "source": [
    "reads.head()"
   ]
  },
  {
   "cell_type": "code",
   "execution_count": 6,
   "metadata": {
    "collapsed": true
   },
   "outputs": [],
   "source": [
    "# Setting up the default parameters\n",
    "data_path=None\n",
    "all_variables=None\n",
    "test_path=None\n",
    "target='Passholder Type'\n",
    "nthreads=1 \n",
    "min_mem_size=6 \n",
    "run_time=600\n",
    "classification=False\n",
    "scale=False\n",
    "max_models=5   \n",
    "model_path=None\n",
    "balance_y=False \n",
    "balance_threshold=0.2\n",
    "name=None \n",
    "server_path=None  \n",
    "analysis=0"
   ]
  },
  {
   "cell_type": "code",
   "execution_count": 7,
   "metadata": {},
   "outputs": [
    {
     "data": {
      "text/plain": [
       "<function h2o.h2o.get_model>"
      ]
     },
     "execution_count": 7,
     "metadata": {},
     "output_type": "execute_result"
    }
   ],
   "source": [
    "h2o.get_model"
   ]
  },
  {
   "cell_type": "code",
   "execution_count": 8,
   "metadata": {
    "collapsed": true
   },
   "outputs": [],
   "source": [
    "# Functions\n",
    "\n",
    "def alphabet(n):\n",
    "  alpha='0123456789abcdefghijklmnopqrstuvwxyzABCDEFGHIJKLMNOPQRSTUVWXYZ'    \n",
    "  str=''\n",
    "  r=len(alpha)-1   \n",
    "  while len(str)<n:\n",
    "    i=random.randint(0,r)\n",
    "    str+=alpha[i]   \n",
    "  return str\n",
    "  \n",
    "#This function returns a randomly generated string from alpha after comapring it with the length of the string with the provided \n",
    "#variable 'n'\n",
    "\n",
    "def set_meta_data(analysis,run_id,server,data,test,model_path,target,run_time,classification,scale,model,balance,balance_threshold,name,path,nthreads,min_mem_size):\n",
    "  m_data={}\n",
    "  m_data['start_time'] = time.time()\n",
    "  m_data['target']=target\n",
    "  m_data['server_path']=server\n",
    "  m_data['data_path']=data \n",
    "  m_data['test_path']=test\n",
    "  m_data['max_models']=model\n",
    "  m_data['run_time']=run_time\n",
    "  m_data['run_id'] =run_id\n",
    "  m_data['scale']=scale\n",
    "  m_data['classification']=classification\n",
    "  m_data['scale']=False\n",
    "  m_data['model_path']=model_path\n",
    "  m_data['balance']=balance\n",
    "  m_data['balance_threshold']=balance_threshold\n",
    "  m_data['project'] =name\n",
    "  m_data['end_time'] = time.time()\n",
    "  m_data['execution_time'] = 0.0\n",
    "  m_data['run_path'] =path\n",
    "  m_data['nthreads'] = nthreads\n",
    "  m_data['min_mem_size'] = min_mem_size\n",
    "  m_data['analysis'] = analysis\n",
    "  return m_data\n",
    "\n",
    "\n",
    "def dict_to_json(dct,n):\n",
    "  j = json.dumps(dct, indent=4)\n",
    "  f = open(n, 'w')\n",
    "  print(j, file=f)\n",
    "  f.close()\n",
    "  \n",
    "  \n",
    "def stackedensemble(mod):\n",
    "    coef_norm=None\n",
    "    try:\n",
    "      metalearner = h2o.get_model(mod.metalearner()['name'])\n",
    "      coef_norm=metalearner.coef_norm()\n",
    "    except:\n",
    "      pass        \n",
    "    return coef_norm\n",
    "\n",
    "def stackedensemble_df(df):\n",
    "    bm_algo={ 'GBM': None,'GLM': None,'DRF': None,'XRT': None,'Dee': None}\n",
    "    for index, row in df.iterrows():\n",
    "      if len(row['model_id'])>3:\n",
    "        key=row['model_id'][0:3]\n",
    "        if key in bm_algo:\n",
    "          if bm_algo[key] is None:\n",
    "                bm_algo[key]=row['model_id']\n",
    "    bm=list(bm_algo.values()) \n",
    "    bm=list(filter(None.__ne__, bm))             \n",
    "    return bm\n",
    "\n",
    "def se_stats(modl):\n",
    "    d={}\n",
    "    d['algo']=modl.algo\n",
    "    d['model_id']=modl.model_id   \n",
    "    d['auc']=modl.auc()   \n",
    "    d['roc']=modl.roc()\n",
    "    d['mse']=modl.mse()   \n",
    "    d['null_degrees_of_freedom']=modl.null_degrees_of_freedom()\n",
    "    d['null_deviance']=modl.null_deviance()\n",
    "    d['residual_degrees_of_freedom']=modl.residual_degrees_of_freedom()   \n",
    "    d['residual_deviance']=modl.residual_deviance()\n",
    "    d['rmse']=modl.rmse()\n",
    "    return d\n",
    "\n",
    "def get_model_by_algo(algo,models_dict):\n",
    "    mod=None\n",
    "    mod_id=None    \n",
    "    for m in list(models_dict.keys()):\n",
    "        if m[0:3]==algo:\n",
    "            mod_id=m\n",
    "            mod=h2o.get_model(m)      \n",
    "    return mod,mod_id     \n",
    "    \n",
    "    \n",
    "def gbm_stats(modl):\n",
    "    d={}\n",
    "    d['algo']=modl.algo\n",
    "    d['model_id']=modl.model_id   \n",
    "    d['varimp']=modl.varimp()  \n",
    "    return d\n",
    "    \n",
    "    \n",
    "def dl_stats(modl):\n",
    "    d={}\n",
    "    d['algo']=modl.algo\n",
    "    d['model_id']=modl.model_id   \n",
    "    d['varimp']=modl.varimp()  \n",
    "    return d\n",
    "    \n",
    "    \n",
    "def drf_stats(modl):\n",
    "    d={}\n",
    "    d['algo']=modl.algo\n",
    "    d['model_id']=modl.model_id   \n",
    "    d['varimp']=modl.varimp()  \n",
    "    d['roc']=modl.roc()      \n",
    "    return d\n",
    "    \n",
    "def xrt_stats(modl):\n",
    "    d={}\n",
    "    d['algo']=modl.algo\n",
    "    d['model_id']=modl.model_id   \n",
    "    d['varimp']=modl.varimp()  \n",
    "    d['roc']=modl.roc()      \n",
    "    return d\n",
    "    \n",
    "    \n",
    "def glm_stats(modl):\n",
    "    d={}\n",
    "    d['algo']=modl.algo\n",
    "    d['model_id']=modl.model_id   \n",
    "    d['coef']=modl.coef()  \n",
    "    d['coef_norm']=modl.coef_norm()      \n",
    "    return d\n",
    "    \n",
    "def model_performance_stats(perf):\n",
    "    d={}\n",
    "    try:    \n",
    "      d['mse']=perf.mse()\n",
    "    except:\n",
    "      pass      \n",
    "    try:    \n",
    "      d['rmse']=perf.rmse() \n",
    "    except:\n",
    "      pass      \n",
    "    try:    \n",
    "      d['null_degrees_of_freedom']=perf.null_degrees_of_freedom()\n",
    "    except:\n",
    "      pass      \n",
    "    try:    \n",
    "      d['residual_degrees_of_freedom']=perf.residual_degrees_of_freedom()\n",
    "    except:\n",
    "      pass      \n",
    "    try:    \n",
    "      d['residual_deviance']=perf.residual_deviance() \n",
    "    except:\n",
    "      pass      \n",
    "    try:    \n",
    "      d['null_deviance']=perf.null_deviance() \n",
    "    except:\n",
    "      pass      \n",
    "    try:    \n",
    "      d['aic']=perf.aic() \n",
    "    except:\n",
    "      pass      \n",
    "    try:\n",
    "      d['logloss']=perf.logloss() \n",
    "    except:\n",
    "      pass    \n",
    "    try:\n",
    "      d['auc']=perf.auc()\n",
    "    except:\n",
    "      pass  \n",
    "    try:\n",
    "      d['gini']=perf.gini()\n",
    "    except:\n",
    "      pass    \n",
    "    return d\n",
    "    \n",
    "def impute_missing_values(df, x, scal=False):\n",
    "    # determine column types\n",
    "    ints, reals, enums = [], [], []\n",
    "    for key, val in df.types.items():\n",
    "        if key in x:\n",
    "            if val == 'enum':\n",
    "                enums.append(key)\n",
    "            elif val == 'int':\n",
    "                ints.append(key)            \n",
    "            else: \n",
    "                reals.append(key)    \n",
    "    _ = df[reals].impute(method='mean')\n",
    "    _ = df[ints].impute(method='median')\n",
    "    if scal:\n",
    "        df[reals] = df[reals].scale()\n",
    "        df[ints] = df[ints].scale()    \n",
    "    return\n",
    "\n",
    "\n",
    "def get_independent_variables(df, targ):\n",
    "    C = [name for name in df.columns if name != targ]\n",
    "    # determine column types\n",
    "    ints, reals, enums = [], [], []\n",
    "    for key, val in df.types.items():\n",
    "        if key in C:\n",
    "            if val == 'enum':\n",
    "                enums.append(key)\n",
    "            elif val == 'int':\n",
    "                ints.append(key)            \n",
    "            else: \n",
    "                reals.append(key)    \n",
    "    x=ints+enums+reals\n",
    "    return x\n",
    "    \n",
    "def get_all_variables_csv(i):\n",
    "    ivd={}\n",
    "    try:\n",
    "      iv = pd.read_csv(i,header=None)\n",
    "    except:\n",
    "      sys.exit(1)    \n",
    "    col=iv.values.tolist()[0]\n",
    "    dt=iv.values.tolist()[1]\n",
    "    i=0\n",
    "    for c in col:\n",
    "      ivd[c.strip()]=dt[i].strip()\n",
    "      i+=1        \n",
    "    return ivd\n",
    "    \n",
    "    \n",
    "\n",
    "def check_all_variables(df,dct,y=None):     \n",
    "    targ=list(dct.keys())     \n",
    "    for key, val in df.types.items():\n",
    "        if key in targ:\n",
    "          if dct[key] not in ['real','int','enum']:                      \n",
    "            targ.remove(key)  \n",
    "    for key, val in df.types.items():\n",
    "        if key in targ:            \n",
    "          if dct[key] != val:\n",
    "            print('convert ',key,' ',dct[key],' ',val)\n",
    "            if dct[key]=='enum':\n",
    "                try:\n",
    "                  df[key] = df[key].asfactor() \n",
    "                except:\n",
    "                  targ.remove(key)                 \n",
    "            if dct[key]=='int': \n",
    "                try:                \n",
    "                  df[key] = df[key].asnumeric() \n",
    "                except:\n",
    "                  targ.remove(key)                  \n",
    "            if dct[key]=='real':\n",
    "                try:                \n",
    "                  df[key] = df[key].asnumeric()  \n",
    "                except:\n",
    "                  targ.remove(key)                  \n",
    "    if y is None:\n",
    "      y=df.columns[-1] \n",
    "    if y in targ:\n",
    "      targ.remove(y)\n",
    "    else:\n",
    "      y=targ.pop()            \n",
    "    return targ    \n",
    "    \n",
    "def predictions(mod,data,run_id):\n",
    "    test = h2o.import_file(data)\n",
    "    mod_perf=mod_best.model_performance(test)\n",
    "              \n",
    "    stats_test={}\n",
    "    stats_test=model_performance_stats(mod_perf)\n",
    "\n",
    "    n=run_id+'_test_stats.json'\n",
    "    dict_to_json(stats_test,n) \n",
    "\n",
    "    try:    \n",
    "      cf=mod_perf.confusion_matrix(metrics=[\"f1\",\"f2\",\"f0point5\",\"accuracy\",\"precision\",\"recall\",\"specificity\",\"absolute_mcc\",\"min_per_class_accuracy\",\"mean_per_class_accuracy\"])\n",
    "      cf_df=cf[0].table.as_data_frame()\n",
    "      cf_df.to_csv(run_id+'_test_confusion_matrix.csv')\n",
    "    except:\n",
    "      pass\n",
    "\n",
    "    predictions = mod_best.predict(test)\n",
    "    predictions_df=test.cbind(predictions).as_data_frame() \n",
    "    predictions_df.to_csv(run_id+'_predictions.csv')\n",
    "    return\n",
    "\n",
    "def predictions_test(mod,test,run_id):\n",
    "    mod_perf=mod_best.model_performance(test)          \n",
    "    stats_test={}\n",
    "    stats_test=model_performance_stats(mod_perf)\n",
    "    n=run_id+'_test_stats.json'\n",
    "    dict_to_json(stats_test,n) \n",
    "    try:\n",
    "      cf=mod_perf.confusion_matrix(metrics=[\"f1\",\"f2\",\"f0point5\",\"accuracy\",\"precision\",\"recall\",\"specificity\",\"absolute_mcc\",\"min_per_class_accuracy\",\"mean_per_class_accuracy\"])\n",
    "      cf_df=cf[0].table.as_data_frame()\n",
    "      cf_df.to_csv(run_id+'_test_confusion_matrix.csv')\n",
    "    except:\n",
    "      pass\n",
    "    predictions = mod_best.predict(test)    \n",
    "    predictions_df=test.cbind(predictions).as_data_frame() \n",
    "    predictions_df.to_csv(run_id+'_predictions.csv')\n",
    "    return predictions\n",
    "\n",
    "def check_X(x,df):\n",
    "    for name in x:\n",
    "        if name not in df.columns:\n",
    "          x.remove(name)  \n",
    "    return x    \n",
    "    \n",
    "    \n",
    "def get_stacked_ensemble(model_set):\n",
    "    se=None\n",
    "    for model in model_set:\n",
    "      if 'BestOfFamily' in model:\n",
    "        se=model\n",
    "    if se is None:     \n",
    "      for model in model_set:\n",
    "        if 'AllModels'in model:\n",
    "          se=model           \n",
    "    return se       \n",
    "#\n",
    "\n",
    "\n",
    "def get_variables_types(df):\n",
    "    d={}\n",
    "    for key, val in df.types.items():\n",
    "        d[key]=val           \n",
    "    return d    \n",
    "    \n",
    "#  End Functions"
   ]
  },
  {
   "cell_type": "code",
   "execution_count": 9,
   "metadata": {
    "collapsed": true
   },
   "outputs": [],
   "source": [
    "data_path='C:/Users/manan/Desktop/Engineering Management/Fall 2018/Independent Study/ANNUUR/metro-bike-share-trip-data.csv'"
   ]
  },
  {
   "cell_type": "code",
   "execution_count": 10,
   "metadata": {
    "collapsed": true
   },
   "outputs": [],
   "source": [
    "# all_variables='/Users/bear/Downloads/H2O/AML/data/logistic_regression_bin_class_ad_conversion_fields.csv'\n",
    "# all_variables='/Users/bear/Downloads/H2O/AML/data/logistic_regression_bin_class_ad_conversion_fields_reg.csv'\n",
    "all_variables=None"
   ]
  },
  {
   "cell_type": "code",
   "execution_count": 92,
   "metadata": {
    "collapsed": true
   },
   "outputs": [],
   "source": [
    "# classification=True"
   ]
  },
  {
   "cell_type": "code",
   "execution_count": 11,
   "metadata": {},
   "outputs": [
    {
     "name": "stdout",
     "output_type": "stream",
     "text": [
      "4CSKMCAaq\n"
     ]
    }
   ],
   "source": [
    "run_id=alphabet(9)\n",
    "if server_path==None:\n",
    "  server_path=os.path.abspath(os.curdir)\n",
    "os.chdir(server_path) \n",
    "run_dir = os.path.join(server_path,run_id)\n",
    "os.mkdir(run_dir)\n",
    "os.chdir(run_dir)    \n",
    "\n",
    "# run_id to std out\n",
    "print (run_id) "
   ]
  },
  {
   "cell_type": "code",
   "execution_count": 15,
   "metadata": {},
   "outputs": [
    {
     "name": "stdout",
     "output_type": "stream",
     "text": [
      "Checking whether there is an H2O instance running at http://localhost:54321..... not found.\n",
      "Attempting to start a local H2O server...\n",
      "; Java HotSpot(TM) 64-Bit Server VM (build 25.181-b13, mixed mode)\n",
      "  Starting server from C:\\Users\\manan\\Anaconda3\\lib\\site-packages\\h2o\\backend\\bin\\h2o.jar\n",
      "  Ice root: C:\\Users\\manan\\AppData\\Local\\Temp\\tmpmi4g0fu5\n",
      "  JVM stdout: C:\\Users\\manan\\AppData\\Local\\Temp\\tmpmi4g0fu5\\h2o_Manan_Shukla_started_from_python.out\n",
      "  JVM stderr: C:\\Users\\manan\\AppData\\Local\\Temp\\tmpmi4g0fu5\\h2o_Manan_Shukla_started_from_python.err\n",
      "  Server is running at http://127.0.0.1:54321\n",
      "Connecting to H2O server at http://127.0.0.1:54321... successful.\n"
     ]
    },
    {
     "data": {
      "text/html": [
       "<div style=\"overflow:auto\"><table style=\"width:50%\"><tr><td>H2O cluster uptime:</td>\n",
       "<td>02 secs</td></tr>\n",
       "<tr><td>H2O cluster timezone:</td>\n",
       "<td>America/New_York</td></tr>\n",
       "<tr><td>H2O data parsing timezone:</td>\n",
       "<td>UTC</td></tr>\n",
       "<tr><td>H2O cluster version:</td>\n",
       "<td>3.20.0.9</td></tr>\n",
       "<tr><td>H2O cluster version age:</td>\n",
       "<td>2 months and 8 days </td></tr>\n",
       "<tr><td>H2O cluster name:</td>\n",
       "<td>H2O_from_python_Manan_Shukla_gsaci1</td></tr>\n",
       "<tr><td>H2O cluster total nodes:</td>\n",
       "<td>1</td></tr>\n",
       "<tr><td>H2O cluster free memory:</td>\n",
       "<td>3.530 Gb</td></tr>\n",
       "<tr><td>H2O cluster total cores:</td>\n",
       "<td>4</td></tr>\n",
       "<tr><td>H2O cluster allowed cores:</td>\n",
       "<td>4</td></tr>\n",
       "<tr><td>H2O cluster status:</td>\n",
       "<td>accepting new members, healthy</td></tr>\n",
       "<tr><td>H2O connection url:</td>\n",
       "<td>http://127.0.0.1:54321</td></tr>\n",
       "<tr><td>H2O connection proxy:</td>\n",
       "<td>None</td></tr>\n",
       "<tr><td>H2O internal security:</td>\n",
       "<td>False</td></tr>\n",
       "<tr><td>H2O API Extensions:</td>\n",
       "<td>Algos, AutoML, Core V3, Core V4</td></tr>\n",
       "<tr><td>Python version:</td>\n",
       "<td>3.6.3 final</td></tr></table></div>"
      ],
      "text/plain": [
       "--------------------------  -----------------------------------\n",
       "H2O cluster uptime:         02 secs\n",
       "H2O cluster timezone:       America/New_York\n",
       "H2O data parsing timezone:  UTC\n",
       "H2O cluster version:        3.20.0.9\n",
       "H2O cluster version age:    2 months and 8 days\n",
       "H2O cluster name:           H2O_from_python_Manan_Shukla_gsaci1\n",
       "H2O cluster total nodes:    1\n",
       "H2O cluster free memory:    3.530 Gb\n",
       "H2O cluster total cores:    4\n",
       "H2O cluster allowed cores:  4\n",
       "H2O cluster status:         accepting new members, healthy\n",
       "H2O connection url:         http://127.0.0.1:54321\n",
       "H2O connection proxy:\n",
       "H2O internal security:      False\n",
       "H2O API Extensions:         Algos, AutoML, Core V3, Core V4\n",
       "Python version:             3.6.3 final\n",
       "--------------------------  -----------------------------------"
      ]
     },
     "metadata": {},
     "output_type": "display_data"
    }
   ],
   "source": [
    "# 65535 Highest port no\n",
    "h2o.init()"
   ]
  },
  {
   "cell_type": "code",
   "execution_count": 12,
   "metadata": {},
   "outputs": [
    {
     "name": "stdout",
     "output_type": "stream",
     "text": [
      "{'start_time': 1544423992.7211893, 'target': 'Passholder Type', 'server_path': 'C:\\\\Users\\\\manan\\\\Desktop\\\\Engineering Management\\\\Fall 2018\\\\Independent Study\\\\ANNUUR', 'data_path': 'C:/Users/manan/Desktop/Engineering Management/Fall 2018/Independent Study/ANNUUR/metro-bike-share-trip-data.csv', 'test_path': None, 'max_models': 5, 'run_time': 600, 'run_id': '4CSKMCAaq', 'scale': False, 'classification': False, 'model_path': None, 'balance': False, 'balance_threshold': 0.2, 'project': None, 'end_time': 1544423992.7211893, 'execution_time': 0.0, 'run_path': 'C:\\\\Users\\\\manan\\\\Desktop\\\\Engineering Management\\\\Fall 2018\\\\Independent Study\\\\ANNUUR\\\\4CSKMCAaq', 'nthreads': 1, 'min_mem_size': 6, 'analysis': 0}\n"
     ]
    }
   ],
   "source": [
    "# meta data\n",
    "meta_data = set_meta_data(analysis, run_id,server_path,data_path,test_path,model_path,target,run_time,classification,scale,max_models,balance_y,balance_threshold,name,run_dir,nthreads,min_mem_size)\n",
    "print(meta_data)  "
   ]
  },
  {
   "cell_type": "code",
   "execution_count": 13,
   "metadata": {},
   "outputs": [
    {
     "name": "stdout",
     "output_type": "stream",
     "text": [
      "C:/Users/manan/Desktop/Engineering Management/Fall 2018/Independent Study/ANNUUR/metro-bike-share-trip-data.csv\n"
     ]
    }
   ],
   "source": [
    "print(data_path)"
   ]
  },
  {
   "cell_type": "code",
   "execution_count": 16,
   "metadata": {},
   "outputs": [
    {
     "name": "stdout",
     "output_type": "stream",
     "text": [
      "Parse progress: |█████████████████████████████████████████████████████████| 100%\n"
     ]
    }
   ],
   "source": [
    "df = h2o.import_file(data_path)"
   ]
  },
  {
   "cell_type": "code",
   "execution_count": 17,
   "metadata": {},
   "outputs": [
    {
     "data": {
      "text/html": [
       "<table>\n",
       "<thead>\n",
       "<tr><th style=\"text-align: right;\">    Trip ID</th><th style=\"text-align: right;\">  Duration</th><th>Start Time         </th><th>End Time           </th><th style=\"text-align: right;\">  Starting Station ID</th><th style=\"text-align: right;\">  Starting Station Latitude</th><th style=\"text-align: right;\">  Starting Station Longitude</th><th style=\"text-align: right;\">  Ending Station ID</th><th style=\"text-align: right;\">  Ending Station Latitude</th><th style=\"text-align: right;\">  Ending Station Longitude</th><th style=\"text-align: right;\">  Bike ID</th><th style=\"text-align: right;\">  Plan Duration</th><th>Trip Route Category  </th><th>Passholder Type  </th><th>Starting Lat-Long                                                             </th><th>Ending Lat-Long                                                               </th></tr>\n",
       "</thead>\n",
       "<tbody>\n",
       "<tr><td style=\"text-align: right;\">1.91282e+06</td><td style=\"text-align: right;\">       180</td><td>2016-07-07T04:17:00</td><td>2016-07-07T04:20:00</td><td style=\"text-align: right;\">                 3014</td><td style=\"text-align: right;\">                    34.0566</td><td style=\"text-align: right;\">                    -118.237</td><td style=\"text-align: right;\">               3014</td><td style=\"text-align: right;\">                  34.0566</td><td style=\"text-align: right;\">                  -118.237</td><td style=\"text-align: right;\">     6281</td><td style=\"text-align: right;\">             30</td><td>Round Trip           </td><td>Monthly Pass     </td><td>{'longitude': '-118.23721', 'latitude': '34.0566101', 'needs_recoding': False}</td><td>{'longitude': '-118.23721', 'latitude': '34.0566101', 'needs_recoding': False}</td></tr>\n",
       "<tr><td style=\"text-align: right;\">1.91966e+06</td><td style=\"text-align: right;\">      1980</td><td>2016-07-07T06:00:00</td><td>2016-07-07T06:33:00</td><td style=\"text-align: right;\">                 3014</td><td style=\"text-align: right;\">                    34.0566</td><td style=\"text-align: right;\">                    -118.237</td><td style=\"text-align: right;\">               3014</td><td style=\"text-align: right;\">                  34.0566</td><td style=\"text-align: right;\">                  -118.237</td><td style=\"text-align: right;\">     6281</td><td style=\"text-align: right;\">             30</td><td>Round Trip           </td><td>Monthly Pass     </td><td>{'longitude': '-118.23721', 'latitude': '34.0566101', 'needs_recoding': False}</td><td>{'longitude': '-118.23721', 'latitude': '34.0566101', 'needs_recoding': False}</td></tr>\n",
       "<tr><td style=\"text-align: right;\">1.93338e+06</td><td style=\"text-align: right;\">       300</td><td>2016-07-07T10:32:00</td><td>2016-07-07T10:37:00</td><td style=\"text-align: right;\">                 3016</td><td style=\"text-align: right;\">                    34.0529</td><td style=\"text-align: right;\">                    -118.242</td><td style=\"text-align: right;\">               3016</td><td style=\"text-align: right;\">                  34.0529</td><td style=\"text-align: right;\">                  -118.242</td><td style=\"text-align: right;\">     5861</td><td style=\"text-align: right;\">            365</td><td>Round Trip           </td><td>Flex Pass        </td><td>{'longitude': '-118.24156', 'latitude': '34.0528984', 'needs_recoding': False}</td><td>{'longitude': '-118.24156', 'latitude': '34.0528984', 'needs_recoding': False}</td></tr>\n",
       "<tr><td style=\"text-align: right;\">1.9442e+06 </td><td style=\"text-align: right;\">     10860</td><td>2016-07-07T10:37:00</td><td>2016-07-07T13:38:00</td><td style=\"text-align: right;\">                 3016</td><td style=\"text-align: right;\">                    34.0529</td><td style=\"text-align: right;\">                    -118.242</td><td style=\"text-align: right;\">               3016</td><td style=\"text-align: right;\">                  34.0529</td><td style=\"text-align: right;\">                  -118.242</td><td style=\"text-align: right;\">     5861</td><td style=\"text-align: right;\">            365</td><td>Round Trip           </td><td>Flex Pass        </td><td>{'longitude': '-118.24156', 'latitude': '34.0528984', 'needs_recoding': False}</td><td>{'longitude': '-118.24156', 'latitude': '34.0528984', 'needs_recoding': False}</td></tr>\n",
       "<tr><td style=\"text-align: right;\">1.94032e+06</td><td style=\"text-align: right;\">       420</td><td>2016-07-07T12:51:00</td><td>2016-07-07T12:58:00</td><td style=\"text-align: right;\">                 3032</td><td style=\"text-align: right;\">                    34.0499</td><td style=\"text-align: right;\">                    -118.256</td><td style=\"text-align: right;\">               3032</td><td style=\"text-align: right;\">                  34.0499</td><td style=\"text-align: right;\">                  -118.256</td><td style=\"text-align: right;\">     6674</td><td style=\"text-align: right;\">              0</td><td>Round Trip           </td><td>Walk-up          </td><td>{'longitude': '-118.25588', 'latitude': '34.0498886', 'needs_recoding': False}</td><td>{'longitude': '-118.25588', 'latitude': '34.0498886', 'needs_recoding': False}</td></tr>\n",
       "<tr><td style=\"text-align: right;\">1.94408e+06</td><td style=\"text-align: right;\">       780</td><td>2016-07-07T12:51:00</td><td>2016-07-07T13:04:00</td><td style=\"text-align: right;\">                 3021</td><td style=\"text-align: right;\">                    34.0456</td><td style=\"text-align: right;\">                    -118.237</td><td style=\"text-align: right;\">               3054</td><td style=\"text-align: right;\">                  34.0392</td><td style=\"text-align: right;\">                  -118.236</td><td style=\"text-align: right;\">     6717</td><td style=\"text-align: right;\">             30</td><td>One Way              </td><td>Monthly Pass     </td><td>{'longitude': '-118.23703', 'latitude': '34.0456085', 'needs_recoding': False}</td><td>{'longitude': '-118.23649', 'latitude': '34.0392189', 'needs_recoding': False}</td></tr>\n",
       "<tr><td style=\"text-align: right;\">1.94407e+06</td><td style=\"text-align: right;\">       600</td><td>2016-07-07T12:54:00</td><td>2016-07-07T13:04:00</td><td style=\"text-align: right;\">                 3022</td><td style=\"text-align: right;\">                    34.0461</td><td style=\"text-align: right;\">                    -118.233</td><td style=\"text-align: right;\">               3014</td><td style=\"text-align: right;\">                  34.0566</td><td style=\"text-align: right;\">                  -118.237</td><td style=\"text-align: right;\">     5721</td><td style=\"text-align: right;\">             30</td><td>One Way              </td><td>Monthly Pass     </td><td>{'longitude': '-118.23309', 'latitude': '34.0460701', 'needs_recoding': False}</td><td>{'longitude': '-118.23721', 'latitude': '34.0566101', 'needs_recoding': False}</td></tr>\n",
       "<tr><td style=\"text-align: right;\">1.94407e+06</td><td style=\"text-align: right;\">       600</td><td>2016-07-07T12:59:00</td><td>2016-07-07T13:09:00</td><td style=\"text-align: right;\">                 3076</td><td style=\"text-align: right;\">                    34.0406</td><td style=\"text-align: right;\">                    -118.254</td><td style=\"text-align: right;\">               3005</td><td style=\"text-align: right;\">                  34.0485</td><td style=\"text-align: right;\">                  -118.259</td><td style=\"text-align: right;\">     5957</td><td style=\"text-align: right;\">            365</td><td>One Way              </td><td>Flex Pass        </td><td>{'longitude': '-118.25384', 'latitude': '34.0405998', 'needs_recoding': False}</td><td>{'longitude': '-118.25905', 'latitude': '34.0485497', 'needs_recoding': False}</td></tr>\n",
       "<tr><td style=\"text-align: right;\">1.94406e+06</td><td style=\"text-align: right;\">      2880</td><td>2016-07-07T13:01:00</td><td>2016-07-07T13:49:00</td><td style=\"text-align: right;\">                 3031</td><td style=\"text-align: right;\">                    34.0447</td><td style=\"text-align: right;\">                    -118.252</td><td style=\"text-align: right;\">               3031</td><td style=\"text-align: right;\">                  34.0447</td><td style=\"text-align: right;\">                  -118.252</td><td style=\"text-align: right;\">     6137</td><td style=\"text-align: right;\">            365</td><td>Round Trip           </td><td>Flex Pass        </td><td>{'longitude': '-118.25244', 'latitude': '34.0447006', 'needs_recoding': False}</td><td>{'longitude': '-118.25244', 'latitude': '34.0447006', 'needs_recoding': False}</td></tr>\n",
       "<tr><td style=\"text-align: right;\">1.94406e+06</td><td style=\"text-align: right;\">       960</td><td>2016-07-07T13:01:00</td><td>2016-07-07T13:17:00</td><td style=\"text-align: right;\">                 3031</td><td style=\"text-align: right;\">                    34.0447</td><td style=\"text-align: right;\">                    -118.252</td><td style=\"text-align: right;\">               3078</td><td style=\"text-align: right;\">                  34.0643</td><td style=\"text-align: right;\">                  -118.239</td><td style=\"text-align: right;\">     6351</td><td style=\"text-align: right;\">             30</td><td>One Way              </td><td>Monthly Pass     </td><td>{'longitude': '-118.25244', 'latitude': '34.0447006', 'needs_recoding': False}</td><td>{'longitude': '-118.23894', 'latitude': '34.0642815', 'needs_recoding': False}</td></tr>\n",
       "</tbody>\n",
       "</table>"
      ]
     },
     "metadata": {},
     "output_type": "display_data"
    },
    {
     "data": {
      "text/plain": []
     },
     "execution_count": 17,
     "metadata": {},
     "output_type": "execute_result"
    }
   ],
   "source": [
    "df.head()"
   ]
  },
  {
   "cell_type": "code",
   "execution_count": 18,
   "metadata": {},
   "outputs": [
    {
     "name": "stdout",
     "output_type": "stream",
     "text": [
      "Rows:132427\n",
      "Cols:16\n",
      "\n",
      "\n"
     ]
    },
    {
     "data": {
      "text/html": [
       "<table>\n",
       "<thead>\n",
       "<tr><th>       </th><th>Trip ID           </th><th>Duration          </th><th>Start Time         </th><th>End Time           </th><th>Starting Station ID  </th><th>Starting Station Latitude  </th><th>Starting Station Longitude  </th><th>Ending Station ID  </th><th>Ending Station Latitude  </th><th>Ending Station Longitude  </th><th>Bike ID          </th><th>Plan Duration    </th><th>Trip Route Category  </th><th>Passholder Type  </th><th>Starting Lat-Long                                                             </th><th>Ending Lat-Long                                                               </th></tr>\n",
       "</thead>\n",
       "<tbody>\n",
       "<tr><td>type   </td><td>int               </td><td>int               </td><td>enum               </td><td>enum               </td><td>int                  </td><td>real                       </td><td>real                        </td><td>int                </td><td>real                     </td><td>real                      </td><td>int              </td><td>int              </td><td>enum                 </td><td>enum             </td><td>enum                                                                          </td><td>enum                                                                          </td></tr>\n",
       "<tr><td>mins   </td><td>1912818.0         </td><td>60.0              </td><td>                   </td><td>                   </td><td>3000.0               </td><td>0.0                        </td><td>-118.472832                 </td><td>3000.0             </td><td>0.0                      </td><td>-118.472832               </td><td>1349.0           </td><td>0.0              </td><td>                     </td><td>                 </td><td>                                                                              </td><td>                                                                              </td></tr>\n",
       "<tr><td>mean   </td><td>11530012.457806952</td><td>1555.3015623702115</td><td>                   </td><td>                   </td><td>3043.0207540329893   </td><td>34.0393087583038           </td><td>-118.22153406446637         </td><td>3042.3867196650804 </td><td>34.03461425703101        </td><td>-118.2066415739633        </td><td>6193.618878240707</td><td>44.82196702136549</td><td>                     </td><td>                 </td><td>                                                                              </td><td>                                                                              </td></tr>\n",
       "<tr><td>maxs   </td><td>23794218.0        </td><td>86400.0           </td><td>                   </td><td>                   </td><td>4108.0               </td><td>34.0642815                 </td><td>0.0                         </td><td>4108.0             </td><td>34.0642815               </td><td>0.0                       </td><td>6728.0           </td><td>365.0            </td><td>                     </td><td>                 </td><td>                                                                              </td><td>                                                                              </td></tr>\n",
       "<tr><td>sigma  </td><td>6369461.533031412 </td><td>5814.241812583598 </td><td>                   </td><td>                   </td><td>37.74202119985789    </td><td>0.5293364348227377         </td><td>1.838335432859621           </td><td>43.08439999253781  </td><td>0.6507059152410839       </td><td>2.259912704392353         </td><td>293.60675542048  </td><td>90.41157881756699</td><td>                     </td><td>                 </td><td>                                                                              </td><td>                                                                              </td></tr>\n",
       "<tr><td>zeros  </td><td>0                 </td><td>0                 </td><td>                   </td><td>                   </td><td>0                    </td><td>32                         </td><td>32                          </td><td>0                  </td><td>48                       </td><td>48                        </td><td>0                </td><td>41224            </td><td>                     </td><td>                 </td><td>                                                                              </td><td>                                                                              </td></tr>\n",
       "<tr><td>missing</td><td>0                 </td><td>0                 </td><td>0                  </td><td>0                  </td><td>19                   </td><td>48                         </td><td>48                          </td><td>96                 </td><td>1051                     </td><td>1051                      </td><td>10               </td><td>766              </td><td>0                    </td><td>0                </td><td>33805                                                                         </td><td>1051                                                                          </td></tr>\n",
       "<tr><td>0      </td><td>1912818.0         </td><td>180.0             </td><td>2016-07-07T04:17:00</td><td>2016-07-07T04:20:00</td><td>3014.0               </td><td>34.0566101                 </td><td>-118.23721                  </td><td>3014.0             </td><td>34.0566101               </td><td>-118.23721                </td><td>6281.0           </td><td>30.0             </td><td>Round Trip           </td><td>Monthly Pass     </td><td>{'longitude': '-118.23721', 'latitude': '34.0566101', 'needs_recoding': False}</td><td>{'longitude': '-118.23721', 'latitude': '34.0566101', 'needs_recoding': False}</td></tr>\n",
       "<tr><td>1      </td><td>1919661.0         </td><td>1980.0            </td><td>2016-07-07T06:00:00</td><td>2016-07-07T06:33:00</td><td>3014.0               </td><td>34.0566101                 </td><td>-118.23721                  </td><td>3014.0             </td><td>34.0566101               </td><td>-118.23721                </td><td>6281.0           </td><td>30.0             </td><td>Round Trip           </td><td>Monthly Pass     </td><td>{'longitude': '-118.23721', 'latitude': '34.0566101', 'needs_recoding': False}</td><td>{'longitude': '-118.23721', 'latitude': '34.0566101', 'needs_recoding': False}</td></tr>\n",
       "<tr><td>2      </td><td>1933383.0         </td><td>300.0             </td><td>2016-07-07T10:32:00</td><td>2016-07-07T10:37:00</td><td>3016.0               </td><td>34.0528984                 </td><td>-118.24156                  </td><td>3016.0             </td><td>34.0528984               </td><td>-118.24156                </td><td>5861.0           </td><td>365.0            </td><td>Round Trip           </td><td>Flex Pass        </td><td>{'longitude': '-118.24156', 'latitude': '34.0528984', 'needs_recoding': False}</td><td>{'longitude': '-118.24156', 'latitude': '34.0528984', 'needs_recoding': False}</td></tr>\n",
       "<tr><td>3      </td><td>1944197.0         </td><td>10860.0           </td><td>2016-07-07T10:37:00</td><td>2016-07-07T13:38:00</td><td>3016.0               </td><td>34.0528984                 </td><td>-118.24156                  </td><td>3016.0             </td><td>34.0528984               </td><td>-118.24156                </td><td>5861.0           </td><td>365.0            </td><td>Round Trip           </td><td>Flex Pass        </td><td>{'longitude': '-118.24156', 'latitude': '34.0528984', 'needs_recoding': False}</td><td>{'longitude': '-118.24156', 'latitude': '34.0528984', 'needs_recoding': False}</td></tr>\n",
       "<tr><td>4      </td><td>1940317.0         </td><td>420.0             </td><td>2016-07-07T12:51:00</td><td>2016-07-07T12:58:00</td><td>3032.0               </td><td>34.0498886                 </td><td>-118.25588                  </td><td>3032.0             </td><td>34.0498886               </td><td>-118.25588                </td><td>6674.0           </td><td>0.0              </td><td>Round Trip           </td><td>Walk-up          </td><td>{'longitude': '-118.25588', 'latitude': '34.0498886', 'needs_recoding': False}</td><td>{'longitude': '-118.25588', 'latitude': '34.0498886', 'needs_recoding': False}</td></tr>\n",
       "<tr><td>5      </td><td>1944075.0         </td><td>780.0             </td><td>2016-07-07T12:51:00</td><td>2016-07-07T13:04:00</td><td>3021.0               </td><td>34.0456085                 </td><td>-118.23703                  </td><td>3054.0             </td><td>34.0392189               </td><td>-118.23649                </td><td>6717.0           </td><td>30.0             </td><td>One Way              </td><td>Monthly Pass     </td><td>{'longitude': '-118.23703', 'latitude': '34.0456085', 'needs_recoding': False}</td><td>{'longitude': '-118.23649', 'latitude': '34.0392189', 'needs_recoding': False}</td></tr>\n",
       "<tr><td>6      </td><td>1944073.0         </td><td>600.0             </td><td>2016-07-07T12:54:00</td><td>2016-07-07T13:04:00</td><td>3022.0               </td><td>34.0460701                 </td><td>-118.23309                  </td><td>3014.0             </td><td>34.0566101               </td><td>-118.23721                </td><td>5721.0           </td><td>30.0             </td><td>One Way              </td><td>Monthly Pass     </td><td>{'longitude': '-118.23309', 'latitude': '34.0460701', 'needs_recoding': False}</td><td>{'longitude': '-118.23721', 'latitude': '34.0566101', 'needs_recoding': False}</td></tr>\n",
       "<tr><td>7      </td><td>1944067.0         </td><td>600.0             </td><td>2016-07-07T12:59:00</td><td>2016-07-07T13:09:00</td><td>3076.0               </td><td>34.0405998                 </td><td>-118.25384                  </td><td>3005.0             </td><td>34.0485497               </td><td>-118.25905                </td><td>5957.0           </td><td>365.0            </td><td>One Way              </td><td>Flex Pass        </td><td>{'longitude': '-118.25384', 'latitude': '34.0405998', 'needs_recoding': False}</td><td>{'longitude': '-118.25905', 'latitude': '34.0485497', 'needs_recoding': False}</td></tr>\n",
       "<tr><td>8      </td><td>1944062.0         </td><td>2880.0            </td><td>2016-07-07T13:01:00</td><td>2016-07-07T13:49:00</td><td>3031.0               </td><td>34.0447006                 </td><td>-118.25244                  </td><td>3031.0             </td><td>34.0447006               </td><td>-118.25244                </td><td>6137.0           </td><td>365.0            </td><td>Round Trip           </td><td>Flex Pass        </td><td>{'longitude': '-118.25244', 'latitude': '34.0447006', 'needs_recoding': False}</td><td>{'longitude': '-118.25244', 'latitude': '34.0447006', 'needs_recoding': False}</td></tr>\n",
       "<tr><td>9      </td><td>1944063.0         </td><td>960.0             </td><td>2016-07-07T13:01:00</td><td>2016-07-07T13:17:00</td><td>3031.0               </td><td>34.0447006                 </td><td>-118.25244                  </td><td>3078.0             </td><td>34.0642815               </td><td>-118.23894                </td><td>6351.0           </td><td>30.0             </td><td>One Way              </td><td>Monthly Pass     </td><td>{'longitude': '-118.25244', 'latitude': '34.0447006', 'needs_recoding': False}</td><td>{'longitude': '-118.23894', 'latitude': '34.0642815', 'needs_recoding': False}</td></tr>\n",
       "</tbody>\n",
       "</table>"
      ]
     },
     "metadata": {},
     "output_type": "display_data"
    }
   ],
   "source": [
    "df.describe()"
   ]
  },
  {
   "cell_type": "code",
   "execution_count": 19,
   "metadata": {},
   "outputs": [
    {
     "data": {
      "text/plain": [
       "\"\\nimport sys\\nsys.stdout = open('describe.txt', 'w')\\nprint ('test')\\n\""
      ]
     },
     "execution_count": 19,
     "metadata": {},
     "output_type": "execute_result"
    }
   ],
   "source": [
    "'''\n",
    "import sys\n",
    "sys.stdout = open('describe.txt', 'w')\n",
    "print ('test')\n",
    "'''"
   ]
  },
  {
   "cell_type": "markdown",
   "metadata": {},
   "source": [
    ";erwj;lrwj;ljerw;lewr;lwer "
   ]
  },
  {
   "cell_type": "code",
   "execution_count": 20,
   "metadata": {
    "collapsed": true
   },
   "outputs": [],
   "source": [
    "# dependent variable\n",
    "# assign target and inputs for classification or regression\n",
    "if target==None:\n",
    "  target=df.columns[-1]   \n",
    "y = target"
   ]
  },
  {
   "cell_type": "code",
   "execution_count": 21,
   "metadata": {},
   "outputs": [
    {
     "name": "stdout",
     "output_type": "stream",
     "text": [
      "Passholder Type\n"
     ]
    }
   ],
   "source": [
    "print(y)"
   ]
  },
  {
   "cell_type": "code",
   "execution_count": 22,
   "metadata": {
    "scrolled": true
   },
   "outputs": [
    {
     "name": "stdout",
     "output_type": "stream",
     "text": [
      "None\n"
     ]
    }
   ],
   "source": [
    "print(all_variables)"
   ]
  },
  {
   "cell_type": "code",
   "execution_count": 23,
   "metadata": {
    "collapsed": true
   },
   "outputs": [],
   "source": [
    "if all_variables is not None:\n",
    "  ivd=get_all_variables_csv(all_variables)\n",
    "  print(ivd)    \n",
    "  X=check_all_variables(df,ivd,y)\n",
    "  print(X)"
   ]
  },
  {
   "cell_type": "code",
   "execution_count": 24,
   "metadata": {},
   "outputs": [
    {
     "name": "stdout",
     "output_type": "stream",
     "text": [
      "Rows:132427\n",
      "Cols:16\n",
      "\n",
      "\n"
     ]
    },
    {
     "data": {
      "text/html": [
       "<table>\n",
       "<thead>\n",
       "<tr><th>       </th><th>Trip ID           </th><th>Duration          </th><th>Start Time         </th><th>End Time           </th><th>Starting Station ID  </th><th>Starting Station Latitude  </th><th>Starting Station Longitude  </th><th>Ending Station ID  </th><th>Ending Station Latitude  </th><th>Ending Station Longitude  </th><th>Bike ID          </th><th>Plan Duration    </th><th>Trip Route Category  </th><th>Passholder Type  </th><th>Starting Lat-Long                                                             </th><th>Ending Lat-Long                                                               </th></tr>\n",
       "</thead>\n",
       "<tbody>\n",
       "<tr><td>type   </td><td>int               </td><td>int               </td><td>enum               </td><td>enum               </td><td>int                  </td><td>real                       </td><td>real                        </td><td>int                </td><td>real                     </td><td>real                      </td><td>int              </td><td>int              </td><td>enum                 </td><td>enum             </td><td>enum                                                                          </td><td>enum                                                                          </td></tr>\n",
       "<tr><td>mins   </td><td>1912818.0         </td><td>60.0              </td><td>                   </td><td>                   </td><td>3000.0               </td><td>0.0                        </td><td>-118.472832                 </td><td>3000.0             </td><td>0.0                      </td><td>-118.472832               </td><td>1349.0           </td><td>0.0              </td><td>                     </td><td>                 </td><td>                                                                              </td><td>                                                                              </td></tr>\n",
       "<tr><td>mean   </td><td>11530012.457806952</td><td>1555.3015623702115</td><td>                   </td><td>                   </td><td>3043.0207540329893   </td><td>34.0393087583038           </td><td>-118.22153406446637         </td><td>3042.3867196650804 </td><td>34.03461425703101        </td><td>-118.2066415739633        </td><td>6193.618878240707</td><td>44.82196702136549</td><td>                     </td><td>                 </td><td>                                                                              </td><td>                                                                              </td></tr>\n",
       "<tr><td>maxs   </td><td>23794218.0        </td><td>86400.0           </td><td>                   </td><td>                   </td><td>4108.0               </td><td>34.0642815                 </td><td>0.0                         </td><td>4108.0             </td><td>34.0642815               </td><td>0.0                       </td><td>6728.0           </td><td>365.0            </td><td>                     </td><td>                 </td><td>                                                                              </td><td>                                                                              </td></tr>\n",
       "<tr><td>sigma  </td><td>6369461.533031412 </td><td>5814.241812583598 </td><td>                   </td><td>                   </td><td>37.74202119985789    </td><td>0.5293364348227377         </td><td>1.838335432859621           </td><td>43.08439999253781  </td><td>0.6507059152410839       </td><td>2.259912704392353         </td><td>293.60675542048  </td><td>90.41157881756699</td><td>                     </td><td>                 </td><td>                                                                              </td><td>                                                                              </td></tr>\n",
       "<tr><td>zeros  </td><td>0                 </td><td>0                 </td><td>                   </td><td>                   </td><td>0                    </td><td>32                         </td><td>32                          </td><td>0                  </td><td>48                       </td><td>48                        </td><td>0                </td><td>41224            </td><td>                     </td><td>                 </td><td>                                                                              </td><td>                                                                              </td></tr>\n",
       "<tr><td>missing</td><td>0                 </td><td>0                 </td><td>0                  </td><td>0                  </td><td>19                   </td><td>48                         </td><td>48                          </td><td>96                 </td><td>1051                     </td><td>1051                      </td><td>10               </td><td>766              </td><td>0                    </td><td>0                </td><td>33805                                                                         </td><td>1051                                                                          </td></tr>\n",
       "<tr><td>0      </td><td>1912818.0         </td><td>180.0             </td><td>2016-07-07T04:17:00</td><td>2016-07-07T04:20:00</td><td>3014.0               </td><td>34.0566101                 </td><td>-118.23721                  </td><td>3014.0             </td><td>34.0566101               </td><td>-118.23721                </td><td>6281.0           </td><td>30.0             </td><td>Round Trip           </td><td>Monthly Pass     </td><td>{'longitude': '-118.23721', 'latitude': '34.0566101', 'needs_recoding': False}</td><td>{'longitude': '-118.23721', 'latitude': '34.0566101', 'needs_recoding': False}</td></tr>\n",
       "<tr><td>1      </td><td>1919661.0         </td><td>1980.0            </td><td>2016-07-07T06:00:00</td><td>2016-07-07T06:33:00</td><td>3014.0               </td><td>34.0566101                 </td><td>-118.23721                  </td><td>3014.0             </td><td>34.0566101               </td><td>-118.23721                </td><td>6281.0           </td><td>30.0             </td><td>Round Trip           </td><td>Monthly Pass     </td><td>{'longitude': '-118.23721', 'latitude': '34.0566101', 'needs_recoding': False}</td><td>{'longitude': '-118.23721', 'latitude': '34.0566101', 'needs_recoding': False}</td></tr>\n",
       "<tr><td>2      </td><td>1933383.0         </td><td>300.0             </td><td>2016-07-07T10:32:00</td><td>2016-07-07T10:37:00</td><td>3016.0               </td><td>34.0528984                 </td><td>-118.24156                  </td><td>3016.0             </td><td>34.0528984               </td><td>-118.24156                </td><td>5861.0           </td><td>365.0            </td><td>Round Trip           </td><td>Flex Pass        </td><td>{'longitude': '-118.24156', 'latitude': '34.0528984', 'needs_recoding': False}</td><td>{'longitude': '-118.24156', 'latitude': '34.0528984', 'needs_recoding': False}</td></tr>\n",
       "<tr><td>3      </td><td>1944197.0         </td><td>10860.0           </td><td>2016-07-07T10:37:00</td><td>2016-07-07T13:38:00</td><td>3016.0               </td><td>34.0528984                 </td><td>-118.24156                  </td><td>3016.0             </td><td>34.0528984               </td><td>-118.24156                </td><td>5861.0           </td><td>365.0            </td><td>Round Trip           </td><td>Flex Pass        </td><td>{'longitude': '-118.24156', 'latitude': '34.0528984', 'needs_recoding': False}</td><td>{'longitude': '-118.24156', 'latitude': '34.0528984', 'needs_recoding': False}</td></tr>\n",
       "<tr><td>4      </td><td>1940317.0         </td><td>420.0             </td><td>2016-07-07T12:51:00</td><td>2016-07-07T12:58:00</td><td>3032.0               </td><td>34.0498886                 </td><td>-118.25588                  </td><td>3032.0             </td><td>34.0498886               </td><td>-118.25588                </td><td>6674.0           </td><td>0.0              </td><td>Round Trip           </td><td>Walk-up          </td><td>{'longitude': '-118.25588', 'latitude': '34.0498886', 'needs_recoding': False}</td><td>{'longitude': '-118.25588', 'latitude': '34.0498886', 'needs_recoding': False}</td></tr>\n",
       "<tr><td>5      </td><td>1944075.0         </td><td>780.0             </td><td>2016-07-07T12:51:00</td><td>2016-07-07T13:04:00</td><td>3021.0               </td><td>34.0456085                 </td><td>-118.23703                  </td><td>3054.0             </td><td>34.0392189               </td><td>-118.23649                </td><td>6717.0           </td><td>30.0             </td><td>One Way              </td><td>Monthly Pass     </td><td>{'longitude': '-118.23703', 'latitude': '34.0456085', 'needs_recoding': False}</td><td>{'longitude': '-118.23649', 'latitude': '34.0392189', 'needs_recoding': False}</td></tr>\n",
       "<tr><td>6      </td><td>1944073.0         </td><td>600.0             </td><td>2016-07-07T12:54:00</td><td>2016-07-07T13:04:00</td><td>3022.0               </td><td>34.0460701                 </td><td>-118.23309                  </td><td>3014.0             </td><td>34.0566101               </td><td>-118.23721                </td><td>5721.0           </td><td>30.0             </td><td>One Way              </td><td>Monthly Pass     </td><td>{'longitude': '-118.23309', 'latitude': '34.0460701', 'needs_recoding': False}</td><td>{'longitude': '-118.23721', 'latitude': '34.0566101', 'needs_recoding': False}</td></tr>\n",
       "<tr><td>7      </td><td>1944067.0         </td><td>600.0             </td><td>2016-07-07T12:59:00</td><td>2016-07-07T13:09:00</td><td>3076.0               </td><td>34.0405998                 </td><td>-118.25384                  </td><td>3005.0             </td><td>34.0485497               </td><td>-118.25905                </td><td>5957.0           </td><td>365.0            </td><td>One Way              </td><td>Flex Pass        </td><td>{'longitude': '-118.25384', 'latitude': '34.0405998', 'needs_recoding': False}</td><td>{'longitude': '-118.25905', 'latitude': '34.0485497', 'needs_recoding': False}</td></tr>\n",
       "<tr><td>8      </td><td>1944062.0         </td><td>2880.0            </td><td>2016-07-07T13:01:00</td><td>2016-07-07T13:49:00</td><td>3031.0               </td><td>34.0447006                 </td><td>-118.25244                  </td><td>3031.0             </td><td>34.0447006               </td><td>-118.25244                </td><td>6137.0           </td><td>365.0            </td><td>Round Trip           </td><td>Flex Pass        </td><td>{'longitude': '-118.25244', 'latitude': '34.0447006', 'needs_recoding': False}</td><td>{'longitude': '-118.25244', 'latitude': '34.0447006', 'needs_recoding': False}</td></tr>\n",
       "<tr><td>9      </td><td>1944063.0         </td><td>960.0             </td><td>2016-07-07T13:01:00</td><td>2016-07-07T13:17:00</td><td>3031.0               </td><td>34.0447006                 </td><td>-118.25244                  </td><td>3078.0             </td><td>34.0642815               </td><td>-118.23894                </td><td>6351.0           </td><td>30.0             </td><td>One Way              </td><td>Monthly Pass     </td><td>{'longitude': '-118.25244', 'latitude': '34.0447006', 'needs_recoding': False}</td><td>{'longitude': '-118.23894', 'latitude': '34.0642815', 'needs_recoding': False}</td></tr>\n",
       "</tbody>\n",
       "</table>"
      ]
     },
     "metadata": {},
     "output_type": "display_data"
    }
   ],
   "source": [
    "df.describe()"
   ]
  },
  {
   "cell_type": "markdown",
   "metadata": {},
   "source": [
    "### Selecting the Independent variable\n",
    "* Imputing the missing values"
   ]
  },
  {
   "cell_type": "code",
   "execution_count": 25,
   "metadata": {
    "collapsed": true
   },
   "outputs": [],
   "source": [
    "# independent variables\n",
    "\n",
    "X = []  \n",
    "if all_variables is None:\n",
    "  X=get_independent_variables(df, target)  \n",
    "else: \n",
    "  ivd=get_all_variables_csv(all_variables)    \n",
    "  X=check_all_variables(df, ivd)\n",
    "\n",
    "\n",
    "X=check_X(X,df)\n",
    "\n",
    "\n",
    "# Add independent variables\n",
    "\n",
    "meta_data['X']=X  \n",
    "\n",
    "\n",
    "# impute missing values\n",
    "\n",
    "_=impute_missing_values(df,X, scale)"
   ]
  },
  {
   "cell_type": "code",
   "execution_count": 26,
   "metadata": {
    "collapsed": true
   },
   "outputs": [],
   "source": [
    "if analysis == 3:\n",
    "  classification=False\n",
    "elif analysis == 2:\n",
    "  classification=True\n",
    "elif analysis == 1:\n",
    "  classification=True"
   ]
  },
  {
   "cell_type": "code",
   "execution_count": 27,
   "metadata": {},
   "outputs": [
    {
     "name": "stdout",
     "output_type": "stream",
     "text": [
      "False\n"
     ]
    }
   ],
   "source": [
    "print(classification)"
   ]
  },
  {
   "cell_type": "code",
   "execution_count": 28,
   "metadata": {
    "collapsed": true
   },
   "outputs": [],
   "source": [
    "if classification:\n",
    "    df[y] = df[y].asfactor()"
   ]
  },
  {
   "cell_type": "code",
   "execution_count": 34,
   "metadata": {
    "collapsed": true
   },
   "outputs": [],
   "source": [
    "def check_y(y,df):\n",
    "    ok=False\n",
    "    C = [name for name in df.columns if name == y]\n",
    "    for key, val in df.types.items():\n",
    "        if key in C:\n",
    "            if val in ['real','int','enum']:        \n",
    "                ok=True         \n",
    "                return ok, val"
   ]
  },
  {
   "cell_type": "code",
   "execution_count": 35,
   "metadata": {
    "collapsed": true
   },
   "outputs": [],
   "source": [
    "ok,val=check_y(y,df)"
   ]
  },
  {
   "cell_type": "code",
   "execution_count": 36,
   "metadata": {},
   "outputs": [
    {
     "name": "stdout",
     "output_type": "stream",
     "text": [
      "[['Flex Pass', 'Monthly Pass', 'Staff Annual', 'Walk-up']]\n"
     ]
    }
   ],
   "source": [
    "if val=='enum':\n",
    "    print(df[y].levels())"
   ]
  },
  {
   "cell_type": "code",
   "execution_count": 37,
   "metadata": {},
   "outputs": [
    {
     "name": "stdout",
     "output_type": "stream",
     "text": [
      "Rows:132427\n",
      "Cols:16\n",
      "\n",
      "\n"
     ]
    },
    {
     "data": {
      "text/html": [
       "<table>\n",
       "<thead>\n",
       "<tr><th>       </th><th>Trip ID           </th><th>Duration          </th><th>Start Time         </th><th>End Time           </th><th>Starting Station ID  </th><th>Starting Station Latitude  </th><th>Starting Station Longitude  </th><th>Ending Station ID  </th><th>Ending Station Latitude  </th><th>Ending Station Longitude  </th><th>Bike ID           </th><th>Plan Duration     </th><th>Trip Route Category  </th><th>Passholder Type  </th><th>Starting Lat-Long                                                             </th><th>Ending Lat-Long                                                               </th></tr>\n",
       "</thead>\n",
       "<tbody>\n",
       "<tr><td>type   </td><td>int               </td><td>int               </td><td>enum               </td><td>enum               </td><td>real                 </td><td>real                       </td><td>real                        </td><td>real               </td><td>real                     </td><td>real                      </td><td>real              </td><td>real              </td><td>enum                 </td><td>enum             </td><td>enum                                                                          </td><td>enum                                                                          </td></tr>\n",
       "<tr><td>mins   </td><td>1912818.0         </td><td>60.0              </td><td>                   </td><td>                   </td><td>3000.0               </td><td>0.0                        </td><td>-118.472832                 </td><td>3000.0             </td><td>0.0                      </td><td>-118.472832               </td><td>1349.0            </td><td>0.0               </td><td>                     </td><td>                 </td><td>                                                                              </td><td>                                                                              </td></tr>\n",
       "<tr><td>mean   </td><td>11530012.457806952</td><td>1555.3015623702115</td><td>                   </td><td>                   </td><td>3043.020754032988    </td><td>34.039308758303825         </td><td>-118.22153406446643         </td><td>3042.386719665082  </td><td>34.034614257031          </td><td>-118.20664157396324       </td><td>6193.618878240708 </td><td>44.821967021365474</td><td>                     </td><td>                 </td><td>                                                                              </td><td>                                                                              </td></tr>\n",
       "<tr><td>maxs   </td><td>23794218.0        </td><td>86400.0           </td><td>                   </td><td>                   </td><td>4108.0               </td><td>34.0642815                 </td><td>0.0                         </td><td>4108.0             </td><td>34.0642815               </td><td>0.0                       </td><td>6728.0            </td><td>365.0             </td><td>                     </td><td>                 </td><td>                                                                              </td><td>                                                                              </td></tr>\n",
       "<tr><td>sigma  </td><td>6369461.533031412 </td><td>5814.241812583598 </td><td>                   </td><td>                   </td><td>37.73931355888747    </td><td>0.5292404927430479         </td><td>1.8380022350803011          </td><td>43.06878050591668  </td><td>0.6481186051327203       </td><td>2.2509269324066663        </td><td>293.59566951973255</td><td>90.14971290953852 </td><td>                     </td><td>                 </td><td>                                                                              </td><td>                                                                              </td></tr>\n",
       "<tr><td>zeros  </td><td>0                 </td><td>0                 </td><td>                   </td><td>                   </td><td>0                    </td><td>32                         </td><td>32                          </td><td>0                  </td><td>48                       </td><td>48                        </td><td>0                 </td><td>41224             </td><td>                     </td><td>                 </td><td>                                                                              </td><td>                                                                              </td></tr>\n",
       "<tr><td>missing</td><td>0                 </td><td>0                 </td><td>0                  </td><td>0                  </td><td>0                    </td><td>0                          </td><td>0                           </td><td>0                  </td><td>0                        </td><td>0                         </td><td>0                 </td><td>0                 </td><td>0                    </td><td>0                </td><td>33805                                                                         </td><td>1051                                                                          </td></tr>\n",
       "<tr><td>0      </td><td>1912818.0         </td><td>180.0             </td><td>2016-07-07T04:17:00</td><td>2016-07-07T04:20:00</td><td>3014.0               </td><td>34.0566101                 </td><td>-118.23721                  </td><td>3014.0             </td><td>34.0566101               </td><td>-118.23721                </td><td>6281.0            </td><td>30.0              </td><td>Round Trip           </td><td>Monthly Pass     </td><td>{'longitude': '-118.23721', 'latitude': '34.0566101', 'needs_recoding': False}</td><td>{'longitude': '-118.23721', 'latitude': '34.0566101', 'needs_recoding': False}</td></tr>\n",
       "<tr><td>1      </td><td>1919661.0         </td><td>1980.0            </td><td>2016-07-07T06:00:00</td><td>2016-07-07T06:33:00</td><td>3014.0               </td><td>34.0566101                 </td><td>-118.23721                  </td><td>3014.0             </td><td>34.0566101               </td><td>-118.23721                </td><td>6281.0            </td><td>30.0              </td><td>Round Trip           </td><td>Monthly Pass     </td><td>{'longitude': '-118.23721', 'latitude': '34.0566101', 'needs_recoding': False}</td><td>{'longitude': '-118.23721', 'latitude': '34.0566101', 'needs_recoding': False}</td></tr>\n",
       "<tr><td>2      </td><td>1933383.0         </td><td>300.0             </td><td>2016-07-07T10:32:00</td><td>2016-07-07T10:37:00</td><td>3016.0               </td><td>34.0528984                 </td><td>-118.24156                  </td><td>3016.0             </td><td>34.0528984               </td><td>-118.24156                </td><td>5861.0            </td><td>365.0             </td><td>Round Trip           </td><td>Flex Pass        </td><td>{'longitude': '-118.24156', 'latitude': '34.0528984', 'needs_recoding': False}</td><td>{'longitude': '-118.24156', 'latitude': '34.0528984', 'needs_recoding': False}</td></tr>\n",
       "<tr><td>3      </td><td>1944197.0         </td><td>10860.0           </td><td>2016-07-07T10:37:00</td><td>2016-07-07T13:38:00</td><td>3016.0               </td><td>34.0528984                 </td><td>-118.24156                  </td><td>3016.0             </td><td>34.0528984               </td><td>-118.24156                </td><td>5861.0            </td><td>365.0             </td><td>Round Trip           </td><td>Flex Pass        </td><td>{'longitude': '-118.24156', 'latitude': '34.0528984', 'needs_recoding': False}</td><td>{'longitude': '-118.24156', 'latitude': '34.0528984', 'needs_recoding': False}</td></tr>\n",
       "<tr><td>4      </td><td>1940317.0         </td><td>420.0             </td><td>2016-07-07T12:51:00</td><td>2016-07-07T12:58:00</td><td>3032.0               </td><td>34.0498886                 </td><td>-118.25588                  </td><td>3032.0             </td><td>34.0498886               </td><td>-118.25588                </td><td>6674.0            </td><td>0.0               </td><td>Round Trip           </td><td>Walk-up          </td><td>{'longitude': '-118.25588', 'latitude': '34.0498886', 'needs_recoding': False}</td><td>{'longitude': '-118.25588', 'latitude': '34.0498886', 'needs_recoding': False}</td></tr>\n",
       "<tr><td>5      </td><td>1944075.0         </td><td>780.0             </td><td>2016-07-07T12:51:00</td><td>2016-07-07T13:04:00</td><td>3021.0               </td><td>34.0456085                 </td><td>-118.23703                  </td><td>3054.0             </td><td>34.0392189               </td><td>-118.23649                </td><td>6717.0            </td><td>30.0              </td><td>One Way              </td><td>Monthly Pass     </td><td>{'longitude': '-118.23703', 'latitude': '34.0456085', 'needs_recoding': False}</td><td>{'longitude': '-118.23649', 'latitude': '34.0392189', 'needs_recoding': False}</td></tr>\n",
       "<tr><td>6      </td><td>1944073.0         </td><td>600.0             </td><td>2016-07-07T12:54:00</td><td>2016-07-07T13:04:00</td><td>3022.0               </td><td>34.0460701                 </td><td>-118.23309                  </td><td>3014.0             </td><td>34.0566101               </td><td>-118.23721                </td><td>5721.0            </td><td>30.0              </td><td>One Way              </td><td>Monthly Pass     </td><td>{'longitude': '-118.23309', 'latitude': '34.0460701', 'needs_recoding': False}</td><td>{'longitude': '-118.23721', 'latitude': '34.0566101', 'needs_recoding': False}</td></tr>\n",
       "<tr><td>7      </td><td>1944067.0         </td><td>600.0             </td><td>2016-07-07T12:59:00</td><td>2016-07-07T13:09:00</td><td>3076.0               </td><td>34.0405998                 </td><td>-118.25384                  </td><td>3005.0             </td><td>34.0485497               </td><td>-118.25905                </td><td>5957.0            </td><td>365.0             </td><td>One Way              </td><td>Flex Pass        </td><td>{'longitude': '-118.25384', 'latitude': '34.0405998', 'needs_recoding': False}</td><td>{'longitude': '-118.25905', 'latitude': '34.0485497', 'needs_recoding': False}</td></tr>\n",
       "<tr><td>8      </td><td>1944062.0         </td><td>2880.0            </td><td>2016-07-07T13:01:00</td><td>2016-07-07T13:49:00</td><td>3031.0               </td><td>34.0447006                 </td><td>-118.25244                  </td><td>3031.0             </td><td>34.0447006               </td><td>-118.25244                </td><td>6137.0            </td><td>365.0             </td><td>Round Trip           </td><td>Flex Pass        </td><td>{'longitude': '-118.25244', 'latitude': '34.0447006', 'needs_recoding': False}</td><td>{'longitude': '-118.25244', 'latitude': '34.0447006', 'needs_recoding': False}</td></tr>\n",
       "<tr><td>9      </td><td>1944063.0         </td><td>960.0             </td><td>2016-07-07T13:01:00</td><td>2016-07-07T13:17:00</td><td>3031.0               </td><td>34.0447006                 </td><td>-118.25244                  </td><td>3078.0             </td><td>34.0642815               </td><td>-118.23894                </td><td>6351.0            </td><td>30.0              </td><td>One Way              </td><td>Monthly Pass     </td><td>{'longitude': '-118.25244', 'latitude': '34.0447006', 'needs_recoding': False}</td><td>{'longitude': '-118.23894', 'latitude': '34.0642815', 'needs_recoding': False}</td></tr>\n",
       "</tbody>\n",
       "</table>"
      ]
     },
     "metadata": {},
     "output_type": "display_data"
    }
   ],
   "source": [
    "df.describe()"
   ]
  },
  {
   "cell_type": "code",
   "execution_count": 38,
   "metadata": {},
   "outputs": [
    {
     "data": {
      "text/plain": [
       "{'Bike ID': 'int',\n",
       " 'Duration': 'int',\n",
       " 'End Time': 'enum',\n",
       " 'Ending Lat-Long': 'enum',\n",
       " 'Ending Station ID': 'int',\n",
       " 'Ending Station Latitude': 'real',\n",
       " 'Ending Station Longitude': 'real',\n",
       " 'Passholder Type': 'enum',\n",
       " 'Plan Duration': 'int',\n",
       " 'Start Time': 'enum',\n",
       " 'Starting Lat-Long': 'enum',\n",
       " 'Starting Station ID': 'int',\n",
       " 'Starting Station Latitude': 'real',\n",
       " 'Starting Station Longitude': 'real',\n",
       " 'Trip ID': 'int',\n",
       " 'Trip Route Category': 'enum'}"
      ]
     },
     "execution_count": 38,
     "metadata": {},
     "output_type": "execute_result"
    }
   ],
   "source": [
    "allV=get_variables_types(df)\n",
    "allV"
   ]
  },
  {
   "cell_type": "code",
   "execution_count": 39,
   "metadata": {
    "collapsed": true
   },
   "outputs": [],
   "source": [
    "meta_data['variables']=allV"
   ]
  },
  {
   "cell_type": "code",
   "execution_count": 40,
   "metadata": {
    "collapsed": true
   },
   "outputs": [],
   "source": [
    "train, test = df.split_frame([0.9])\n",
    "train,x_test = df.split_frame([0.3])"
   ]
  },
  {
   "cell_type": "code",
   "execution_count": 41,
   "metadata": {},
   "outputs": [
    {
     "data": {
      "text/plain": [
       "(39652, 16)"
      ]
     },
     "execution_count": 41,
     "metadata": {},
     "output_type": "execute_result"
    }
   ],
   "source": [
    "train.shape"
   ]
  },
  {
   "cell_type": "code",
   "execution_count": 42,
   "metadata": {
    "collapsed": true
   },
   "outputs": [],
   "source": [
    "# Set up AutoML\n",
    "aml = H2OAutoML(max_runtime_secs=run_time,project_name = name)"
   ]
  },
  {
   "cell_type": "code",
   "execution_count": 43,
   "metadata": {
    "collapsed": true
   },
   "outputs": [],
   "source": [
    "model_start_time = time.time()"
   ]
  },
  {
   "cell_type": "code",
   "execution_count": 44,
   "metadata": {},
   "outputs": [
    {
     "name": "stdout",
     "output_type": "stream",
     "text": [
      "AutoML progress: |████████████████████████████████████████████████████████ (cancelled) 100%\n"
     ]
    },
    {
     "ename": "H2OJobCancelled",
     "evalue": "Job<$03017f00000132d4ffffffff$_8b95919a60c2b36453f1d21f5f19497b> was cancelled by the user.",
     "output_type": "error",
     "traceback": [
      "\u001b[1;31m---------------------------------------------------------------------------\u001b[0m",
      "\u001b[1;31mH2OJobCancelled\u001b[0m                           Traceback (most recent call last)",
      "\u001b[1;32m<ipython-input-44-a83f5d6880bf>\u001b[0m in \u001b[0;36m<module>\u001b[1;34m()\u001b[0m\n\u001b[1;32m----> 1\u001b[1;33m \u001b[0maml\u001b[0m\u001b[1;33m.\u001b[0m\u001b[0mtrain\u001b[0m\u001b[1;33m(\u001b[0m\u001b[0mx\u001b[0m\u001b[1;33m=\u001b[0m\u001b[0mX\u001b[0m\u001b[1;33m,\u001b[0m\u001b[0my\u001b[0m\u001b[1;33m=\u001b[0m\u001b[0my\u001b[0m\u001b[1;33m,\u001b[0m\u001b[0mtraining_frame\u001b[0m\u001b[1;33m=\u001b[0m\u001b[0mdf\u001b[0m\u001b[1;33m)\u001b[0m\u001b[1;33m\u001b[0m\u001b[0m\n\u001b[0m",
      "\u001b[1;32m~\\Anaconda3\\lib\\site-packages\\h2o\\automl\\autoh2o.py\u001b[0m in \u001b[0;36mtrain\u001b[1;34m(self, x, y, training_frame, fold_column, weights_column, validation_frame, leaderboard_frame)\u001b[0m\n\u001b[0;32m    361\u001b[0m \u001b[1;33m\u001b[0m\u001b[0m\n\u001b[0;32m    362\u001b[0m         \u001b[0mself\u001b[0m\u001b[1;33m.\u001b[0m\u001b[0m_job\u001b[0m \u001b[1;33m=\u001b[0m \u001b[0mH2OJob\u001b[0m\u001b[1;33m(\u001b[0m\u001b[0mresp\u001b[0m\u001b[1;33m[\u001b[0m\u001b[1;34m'job'\u001b[0m\u001b[1;33m]\u001b[0m\u001b[1;33m,\u001b[0m \u001b[1;34m\"AutoML\"\u001b[0m\u001b[1;33m)\u001b[0m\u001b[1;33m\u001b[0m\u001b[0m\n\u001b[1;32m--> 363\u001b[1;33m         \u001b[0mself\u001b[0m\u001b[1;33m.\u001b[0m\u001b[0m_job\u001b[0m\u001b[1;33m.\u001b[0m\u001b[0mpoll\u001b[0m\u001b[1;33m(\u001b[0m\u001b[1;33m)\u001b[0m\u001b[1;33m\u001b[0m\u001b[0m\n\u001b[0m\u001b[0;32m    364\u001b[0m         \u001b[0mself\u001b[0m\u001b[1;33m.\u001b[0m\u001b[0m_fetch\u001b[0m\u001b[1;33m(\u001b[0m\u001b[1;33m)\u001b[0m\u001b[1;33m\u001b[0m\u001b[0m\n\u001b[0;32m    365\u001b[0m \u001b[1;33m\u001b[0m\u001b[0m\n",
      "\u001b[1;32m~\\Anaconda3\\lib\\site-packages\\h2o\\job.py\u001b[0m in \u001b[0;36mpoll\u001b[1;34m(self, verbose_model_scoring_history)\u001b[0m\n\u001b[0;32m     71\u001b[0m         \u001b[1;31m# check if failed... and politely print relevant message\u001b[0m\u001b[1;33m\u001b[0m\u001b[1;33m\u001b[0m\u001b[0m\n\u001b[0;32m     72\u001b[0m         \u001b[1;32mif\u001b[0m \u001b[0mself\u001b[0m\u001b[1;33m.\u001b[0m\u001b[0mstatus\u001b[0m \u001b[1;33m==\u001b[0m \u001b[1;34m\"CANCELLED\"\u001b[0m\u001b[1;33m:\u001b[0m\u001b[1;33m\u001b[0m\u001b[0m\n\u001b[1;32m---> 73\u001b[1;33m             \u001b[1;32mraise\u001b[0m \u001b[0mH2OJobCancelled\u001b[0m\u001b[1;33m(\u001b[0m\u001b[1;34m\"Job<%s> was cancelled by the user.\"\u001b[0m \u001b[1;33m%\u001b[0m \u001b[0mself\u001b[0m\u001b[1;33m.\u001b[0m\u001b[0mjob_key\u001b[0m\u001b[1;33m)\u001b[0m\u001b[1;33m\u001b[0m\u001b[0m\n\u001b[0m\u001b[0;32m     74\u001b[0m         \u001b[1;32mif\u001b[0m \u001b[0mself\u001b[0m\u001b[1;33m.\u001b[0m\u001b[0mstatus\u001b[0m \u001b[1;33m==\u001b[0m \u001b[1;34m\"FAILED\"\u001b[0m\u001b[1;33m:\u001b[0m\u001b[1;33m\u001b[0m\u001b[0m\n\u001b[0;32m     75\u001b[0m             \u001b[1;32mif\u001b[0m \u001b[1;33m(\u001b[0m\u001b[0misinstance\u001b[0m\u001b[1;33m(\u001b[0m\u001b[0mself\u001b[0m\u001b[1;33m.\u001b[0m\u001b[0mjob\u001b[0m\u001b[1;33m,\u001b[0m \u001b[0mdict\u001b[0m\u001b[1;33m)\u001b[0m\u001b[1;33m)\u001b[0m \u001b[1;32mand\u001b[0m \u001b[1;33m(\u001b[0m\u001b[1;34m\"stacktrace\"\u001b[0m \u001b[1;32min\u001b[0m \u001b[0mlist\u001b[0m\u001b[1;33m(\u001b[0m\u001b[0mself\u001b[0m\u001b[1;33m.\u001b[0m\u001b[0mjob\u001b[0m\u001b[1;33m)\u001b[0m\u001b[1;33m)\u001b[0m\u001b[1;33m:\u001b[0m\u001b[1;33m\u001b[0m\u001b[0m\n",
      "\u001b[1;31mH2OJobCancelled\u001b[0m: Job<$03017f00000132d4ffffffff$_8b95919a60c2b36453f1d21f5f19497b> was cancelled by the user."
     ]
    }
   ],
   "source": [
    "aml.train(x=X,y=y,training_frame=df)"
   ]
  },
  {
   "cell_type": "code",
   "execution_count": 122,
   "metadata": {
    "collapsed": true
   },
   "outputs": [],
   "source": [
    "meta_data['model_execution_time'] = time.time() - model_start_time"
   ]
  },
  {
   "cell_type": "code",
   "execution_count": 123,
   "metadata": {
    "collapsed": true
   },
   "outputs": [],
   "source": [
    "# get leaderboard\n",
    "aml_leaderboard_df=aml.leaderboard.as_data_frame()"
   ]
  },
  {
   "cell_type": "code",
   "execution_count": 124,
   "metadata": {},
   "outputs": [
    {
     "data": {
      "text/html": [
       "<div>\n",
       "<style>\n",
       "    .dataframe thead tr:only-child th {\n",
       "        text-align: right;\n",
       "    }\n",
       "\n",
       "    .dataframe thead th {\n",
       "        text-align: left;\n",
       "    }\n",
       "\n",
       "    .dataframe tbody tr th {\n",
       "        vertical-align: top;\n",
       "    }\n",
       "</style>\n",
       "<table border=\"1\" class=\"dataframe\">\n",
       "  <thead>\n",
       "    <tr style=\"text-align: right;\">\n",
       "      <th></th>\n",
       "      <th>model_id</th>\n",
       "      <th>mean_residual_deviance</th>\n",
       "      <th>rmse</th>\n",
       "      <th>mse</th>\n",
       "      <th>mae</th>\n",
       "      <th>rmsle</th>\n",
       "    </tr>\n",
       "  </thead>\n",
       "  <tbody>\n",
       "    <tr>\n",
       "      <th>0</th>\n",
       "      <td>StackedEnsemble_AllModels_0_AutoML_20180911_165725</td>\n",
       "      <td>0.699153</td>\n",
       "      <td>0.836154</td>\n",
       "      <td>0.699153</td>\n",
       "      <td>0.584355</td>\n",
       "      <td>0.103589</td>\n",
       "    </tr>\n",
       "    <tr>\n",
       "      <th>1</th>\n",
       "      <td>GBM_grid_0_AutoML_20180911_165725_model_4</td>\n",
       "      <td>0.772541</td>\n",
       "      <td>0.878943</td>\n",
       "      <td>0.772541</td>\n",
       "      <td>0.613218</td>\n",
       "      <td>0.109507</td>\n",
       "    </tr>\n",
       "    <tr>\n",
       "      <th>2</th>\n",
       "      <td>GBM_grid_0_AutoML_20180911_165725_model_13</td>\n",
       "      <td>0.796443</td>\n",
       "      <td>0.892436</td>\n",
       "      <td>0.796443</td>\n",
       "      <td>0.656173</td>\n",
       "      <td>0.091876</td>\n",
       "    </tr>\n",
       "    <tr>\n",
       "      <th>3</th>\n",
       "      <td>StackedEnsemble_BestOfFamily_0_AutoML_20180911_165725</td>\n",
       "      <td>0.800052</td>\n",
       "      <td>0.894456</td>\n",
       "      <td>0.800052</td>\n",
       "      <td>0.618665</td>\n",
       "      <td>0.113842</td>\n",
       "    </tr>\n",
       "    <tr>\n",
       "      <th>4</th>\n",
       "      <td>GBM_grid_0_AutoML_20180911_165725_model_19</td>\n",
       "      <td>0.805763</td>\n",
       "      <td>0.897643</td>\n",
       "      <td>0.805763</td>\n",
       "      <td>0.619135</td>\n",
       "      <td>0.104288</td>\n",
       "    </tr>\n",
       "    <tr>\n",
       "      <th>5</th>\n",
       "      <td>GBM_grid_0_AutoML_20180911_165725_model_1</td>\n",
       "      <td>1.056889</td>\n",
       "      <td>1.028051</td>\n",
       "      <td>1.056889</td>\n",
       "      <td>0.746915</td>\n",
       "      <td>0.113832</td>\n",
       "    </tr>\n",
       "    <tr>\n",
       "      <th>6</th>\n",
       "      <td>GBM_grid_0_AutoML_20180911_165725_model_6</td>\n",
       "      <td>1.100144</td>\n",
       "      <td>1.048878</td>\n",
       "      <td>1.100144</td>\n",
       "      <td>0.725743</td>\n",
       "      <td>0.127928</td>\n",
       "    </tr>\n",
       "    <tr>\n",
       "      <th>7</th>\n",
       "      <td>GBM_grid_0_AutoML_20180911_165725_model_7</td>\n",
       "      <td>1.236186</td>\n",
       "      <td>1.111839</td>\n",
       "      <td>1.236186</td>\n",
       "      <td>0.757219</td>\n",
       "      <td>0.134491</td>\n",
       "    </tr>\n",
       "    <tr>\n",
       "      <th>8</th>\n",
       "      <td>GBM_grid_0_AutoML_20180911_165725_model_26</td>\n",
       "      <td>1.261679</td>\n",
       "      <td>1.123245</td>\n",
       "      <td>1.261679</td>\n",
       "      <td>0.776453</td>\n",
       "      <td>0.121459</td>\n",
       "    </tr>\n",
       "    <tr>\n",
       "      <th>9</th>\n",
       "      <td>GBM_grid_0_AutoML_20180911_165725_model_2</td>\n",
       "      <td>1.274768</td>\n",
       "      <td>1.129056</td>\n",
       "      <td>1.274768</td>\n",
       "      <td>0.776065</td>\n",
       "      <td>0.125758</td>\n",
       "    </tr>\n",
       "    <tr>\n",
       "      <th>10</th>\n",
       "      <td>GBM_grid_0_AutoML_20180911_165725_model_22</td>\n",
       "      <td>1.278034</td>\n",
       "      <td>1.130502</td>\n",
       "      <td>1.278034</td>\n",
       "      <td>0.766001</td>\n",
       "      <td>0.120574</td>\n",
       "    </tr>\n",
       "    <tr>\n",
       "      <th>11</th>\n",
       "      <td>GBM_grid_0_AutoML_20180911_165725_model_21</td>\n",
       "      <td>1.369263</td>\n",
       "      <td>1.170155</td>\n",
       "      <td>1.369263</td>\n",
       "      <td>0.814244</td>\n",
       "      <td>0.119023</td>\n",
       "    </tr>\n",
       "    <tr>\n",
       "      <th>12</th>\n",
       "      <td>GBM_grid_0_AutoML_20180911_165725_model_36</td>\n",
       "      <td>1.524025</td>\n",
       "      <td>1.234514</td>\n",
       "      <td>1.524025</td>\n",
       "      <td>0.888807</td>\n",
       "      <td>0.126197</td>\n",
       "    </tr>\n",
       "    <tr>\n",
       "      <th>13</th>\n",
       "      <td>GBM_grid_0_AutoML_20180911_165725_model_0</td>\n",
       "      <td>1.732378</td>\n",
       "      <td>1.316198</td>\n",
       "      <td>1.732378</td>\n",
       "      <td>0.971902</td>\n",
       "      <td>0.117014</td>\n",
       "    </tr>\n",
       "    <tr>\n",
       "      <th>14</th>\n",
       "      <td>GBM_grid_0_AutoML_20180911_165725_model_3</td>\n",
       "      <td>1.829779</td>\n",
       "      <td>1.352693</td>\n",
       "      <td>1.829779</td>\n",
       "      <td>0.967970</td>\n",
       "      <td>0.142621</td>\n",
       "    </tr>\n",
       "    <tr>\n",
       "      <th>15</th>\n",
       "      <td>GBM_grid_0_AutoML_20180911_165725_model_31</td>\n",
       "      <td>2.167153</td>\n",
       "      <td>1.472125</td>\n",
       "      <td>2.167153</td>\n",
       "      <td>1.086473</td>\n",
       "      <td>0.139924</td>\n",
       "    </tr>\n",
       "    <tr>\n",
       "      <th>16</th>\n",
       "      <td>GBM_grid_0_AutoML_20180911_165725_model_5</td>\n",
       "      <td>2.422297</td>\n",
       "      <td>1.556373</td>\n",
       "      <td>2.422297</td>\n",
       "      <td>1.093089</td>\n",
       "      <td>0.147333</td>\n",
       "    </tr>\n",
       "    <tr>\n",
       "      <th>17</th>\n",
       "      <td>GBM_grid_0_AutoML_20180911_165725_model_32</td>\n",
       "      <td>2.587524</td>\n",
       "      <td>1.608578</td>\n",
       "      <td>2.587524</td>\n",
       "      <td>1.141070</td>\n",
       "      <td>0.162033</td>\n",
       "    </tr>\n",
       "    <tr>\n",
       "      <th>18</th>\n",
       "      <td>GBM_grid_0_AutoML_20180911_165725_model_8</td>\n",
       "      <td>2.588641</td>\n",
       "      <td>1.608925</td>\n",
       "      <td>2.588641</td>\n",
       "      <td>1.126003</td>\n",
       "      <td>0.162016</td>\n",
       "    </tr>\n",
       "    <tr>\n",
       "      <th>19</th>\n",
       "      <td>GBM_grid_0_AutoML_20180911_165725_model_18</td>\n",
       "      <td>2.825908</td>\n",
       "      <td>1.681044</td>\n",
       "      <td>2.825908</td>\n",
       "      <td>1.294949</td>\n",
       "      <td>0.156773</td>\n",
       "    </tr>\n",
       "    <tr>\n",
       "      <th>20</th>\n",
       "      <td>GLM_grid_0_AutoML_20180911_165725_model_0</td>\n",
       "      <td>3.105844</td>\n",
       "      <td>1.762341</td>\n",
       "      <td>3.105844</td>\n",
       "      <td>1.294660</td>\n",
       "      <td>0.184919</td>\n",
       "    </tr>\n",
       "    <tr>\n",
       "      <th>21</th>\n",
       "      <td>GBM_grid_0_AutoML_20180911_165725_model_37</td>\n",
       "      <td>3.673188</td>\n",
       "      <td>1.916556</td>\n",
       "      <td>3.673188</td>\n",
       "      <td>1.348878</td>\n",
       "      <td>0.171553</td>\n",
       "    </tr>\n",
       "    <tr>\n",
       "      <th>22</th>\n",
       "      <td>DeepLearning_0_AutoML_20180911_165725</td>\n",
       "      <td>4.014114</td>\n",
       "      <td>2.003525</td>\n",
       "      <td>4.014114</td>\n",
       "      <td>1.514668</td>\n",
       "      <td>0.190918</td>\n",
       "    </tr>\n",
       "    <tr>\n",
       "      <th>23</th>\n",
       "      <td>GBM_grid_0_AutoML_20180911_165725_model_10</td>\n",
       "      <td>4.770076</td>\n",
       "      <td>2.184050</td>\n",
       "      <td>4.770076</td>\n",
       "      <td>1.587841</td>\n",
       "      <td>0.210313</td>\n",
       "    </tr>\n",
       "    <tr>\n",
       "      <th>24</th>\n",
       "      <td>GBM_grid_0_AutoML_20180911_165725_model_25</td>\n",
       "      <td>4.932912</td>\n",
       "      <td>2.221016</td>\n",
       "      <td>4.932912</td>\n",
       "      <td>1.639050</td>\n",
       "      <td>0.231548</td>\n",
       "    </tr>\n",
       "    <tr>\n",
       "      <th>25</th>\n",
       "      <td>GBM_grid_0_AutoML_20180911_165725_model_16</td>\n",
       "      <td>5.187303</td>\n",
       "      <td>2.277565</td>\n",
       "      <td>5.187303</td>\n",
       "      <td>1.684263</td>\n",
       "      <td>0.228978</td>\n",
       "    </tr>\n",
       "    <tr>\n",
       "      <th>26</th>\n",
       "      <td>GBM_grid_0_AutoML_20180911_165725_model_33</td>\n",
       "      <td>5.321157</td>\n",
       "      <td>2.306763</td>\n",
       "      <td>5.321157</td>\n",
       "      <td>1.764571</td>\n",
       "      <td>0.192319</td>\n",
       "    </tr>\n",
       "    <tr>\n",
       "      <th>27</th>\n",
       "      <td>DRF_0_AutoML_20180911_165725</td>\n",
       "      <td>5.929395</td>\n",
       "      <td>2.435035</td>\n",
       "      <td>5.929395</td>\n",
       "      <td>1.796851</td>\n",
       "      <td>0.194273</td>\n",
       "    </tr>\n",
       "    <tr>\n",
       "      <th>28</th>\n",
       "      <td>XRT_0_AutoML_20180911_165725</td>\n",
       "      <td>6.010363</td>\n",
       "      <td>2.451604</td>\n",
       "      <td>6.010363</td>\n",
       "      <td>1.788272</td>\n",
       "      <td>0.199768</td>\n",
       "    </tr>\n",
       "    <tr>\n",
       "      <th>29</th>\n",
       "      <td>GBM_grid_0_AutoML_20180911_165725_model_27</td>\n",
       "      <td>6.623116</td>\n",
       "      <td>2.573542</td>\n",
       "      <td>6.623116</td>\n",
       "      <td>2.007393</td>\n",
       "      <td>0.241202</td>\n",
       "    </tr>\n",
       "    <tr>\n",
       "      <th>30</th>\n",
       "      <td>GBM_grid_0_AutoML_20180911_165725_model_11</td>\n",
       "      <td>7.880114</td>\n",
       "      <td>2.807154</td>\n",
       "      <td>7.880114</td>\n",
       "      <td>2.082899</td>\n",
       "      <td>0.210186</td>\n",
       "    </tr>\n",
       "    <tr>\n",
       "      <th>31</th>\n",
       "      <td>GBM_grid_0_AutoML_20180911_165725_model_28</td>\n",
       "      <td>8.352408</td>\n",
       "      <td>2.890053</td>\n",
       "      <td>8.352408</td>\n",
       "      <td>2.214708</td>\n",
       "      <td>0.229336</td>\n",
       "    </tr>\n",
       "    <tr>\n",
       "      <th>32</th>\n",
       "      <td>GBM_grid_0_AutoML_20180911_165725_model_9</td>\n",
       "      <td>16.188879</td>\n",
       "      <td>4.023541</td>\n",
       "      <td>16.188879</td>\n",
       "      <td>3.034763</td>\n",
       "      <td>0.306221</td>\n",
       "    </tr>\n",
       "    <tr>\n",
       "      <th>33</th>\n",
       "      <td>GBM_grid_0_AutoML_20180911_165725_model_23</td>\n",
       "      <td>17.012309</td>\n",
       "      <td>4.124598</td>\n",
       "      <td>17.012309</td>\n",
       "      <td>3.288605</td>\n",
       "      <td>0.315771</td>\n",
       "    </tr>\n",
       "    <tr>\n",
       "      <th>34</th>\n",
       "      <td>GBM_grid_0_AutoML_20180911_165725_model_30</td>\n",
       "      <td>18.761218</td>\n",
       "      <td>4.331422</td>\n",
       "      <td>18.761218</td>\n",
       "      <td>3.355449</td>\n",
       "      <td>0.298189</td>\n",
       "    </tr>\n",
       "    <tr>\n",
       "      <th>35</th>\n",
       "      <td>GBM_grid_0_AutoML_20180911_165725_model_20</td>\n",
       "      <td>25.404390</td>\n",
       "      <td>5.040277</td>\n",
       "      <td>25.404390</td>\n",
       "      <td>4.125647</td>\n",
       "      <td>0.372810</td>\n",
       "    </tr>\n",
       "    <tr>\n",
       "      <th>36</th>\n",
       "      <td>GBM_grid_0_AutoML_20180911_165725_model_14</td>\n",
       "      <td>26.236290</td>\n",
       "      <td>5.122137</td>\n",
       "      <td>26.236290</td>\n",
       "      <td>4.180197</td>\n",
       "      <td>0.378837</td>\n",
       "    </tr>\n",
       "    <tr>\n",
       "      <th>37</th>\n",
       "      <td>GBM_grid_0_AutoML_20180911_165725_model_12</td>\n",
       "      <td>26.376455</td>\n",
       "      <td>5.135801</td>\n",
       "      <td>26.376455</td>\n",
       "      <td>4.207204</td>\n",
       "      <td>0.379174</td>\n",
       "    </tr>\n",
       "    <tr>\n",
       "      <th>38</th>\n",
       "      <td>GBM_grid_0_AutoML_20180911_165725_model_15</td>\n",
       "      <td>27.251373</td>\n",
       "      <td>5.220285</td>\n",
       "      <td>27.251373</td>\n",
       "      <td>4.276460</td>\n",
       "      <td>0.384478</td>\n",
       "    </tr>\n",
       "    <tr>\n",
       "      <th>39</th>\n",
       "      <td>GBM_grid_0_AutoML_20180911_165725_model_17</td>\n",
       "      <td>27.390722</td>\n",
       "      <td>5.233615</td>\n",
       "      <td>27.390722</td>\n",
       "      <td>4.286758</td>\n",
       "      <td>0.385496</td>\n",
       "    </tr>\n",
       "  </tbody>\n",
       "</table>\n",
       "</div>"
      ],
      "text/plain": [
       "                                                 model_id  \\\n",
       "0      StackedEnsemble_AllModels_0_AutoML_20180911_165725   \n",
       "1               GBM_grid_0_AutoML_20180911_165725_model_4   \n",
       "2              GBM_grid_0_AutoML_20180911_165725_model_13   \n",
       "3   StackedEnsemble_BestOfFamily_0_AutoML_20180911_165725   \n",
       "4              GBM_grid_0_AutoML_20180911_165725_model_19   \n",
       "5               GBM_grid_0_AutoML_20180911_165725_model_1   \n",
       "6               GBM_grid_0_AutoML_20180911_165725_model_6   \n",
       "7               GBM_grid_0_AutoML_20180911_165725_model_7   \n",
       "8              GBM_grid_0_AutoML_20180911_165725_model_26   \n",
       "9               GBM_grid_0_AutoML_20180911_165725_model_2   \n",
       "10             GBM_grid_0_AutoML_20180911_165725_model_22   \n",
       "11             GBM_grid_0_AutoML_20180911_165725_model_21   \n",
       "12             GBM_grid_0_AutoML_20180911_165725_model_36   \n",
       "13              GBM_grid_0_AutoML_20180911_165725_model_0   \n",
       "14              GBM_grid_0_AutoML_20180911_165725_model_3   \n",
       "15             GBM_grid_0_AutoML_20180911_165725_model_31   \n",
       "16              GBM_grid_0_AutoML_20180911_165725_model_5   \n",
       "17             GBM_grid_0_AutoML_20180911_165725_model_32   \n",
       "18              GBM_grid_0_AutoML_20180911_165725_model_8   \n",
       "19             GBM_grid_0_AutoML_20180911_165725_model_18   \n",
       "20              GLM_grid_0_AutoML_20180911_165725_model_0   \n",
       "21             GBM_grid_0_AutoML_20180911_165725_model_37   \n",
       "22                  DeepLearning_0_AutoML_20180911_165725   \n",
       "23             GBM_grid_0_AutoML_20180911_165725_model_10   \n",
       "24             GBM_grid_0_AutoML_20180911_165725_model_25   \n",
       "25             GBM_grid_0_AutoML_20180911_165725_model_16   \n",
       "26             GBM_grid_0_AutoML_20180911_165725_model_33   \n",
       "27                           DRF_0_AutoML_20180911_165725   \n",
       "28                           XRT_0_AutoML_20180911_165725   \n",
       "29             GBM_grid_0_AutoML_20180911_165725_model_27   \n",
       "30             GBM_grid_0_AutoML_20180911_165725_model_11   \n",
       "31             GBM_grid_0_AutoML_20180911_165725_model_28   \n",
       "32              GBM_grid_0_AutoML_20180911_165725_model_9   \n",
       "33             GBM_grid_0_AutoML_20180911_165725_model_23   \n",
       "34             GBM_grid_0_AutoML_20180911_165725_model_30   \n",
       "35             GBM_grid_0_AutoML_20180911_165725_model_20   \n",
       "36             GBM_grid_0_AutoML_20180911_165725_model_14   \n",
       "37             GBM_grid_0_AutoML_20180911_165725_model_12   \n",
       "38             GBM_grid_0_AutoML_20180911_165725_model_15   \n",
       "39             GBM_grid_0_AutoML_20180911_165725_model_17   \n",
       "\n",
       "    mean_residual_deviance      rmse        mse       mae     rmsle  \n",
       "0                 0.699153  0.836154   0.699153  0.584355  0.103589  \n",
       "1                 0.772541  0.878943   0.772541  0.613218  0.109507  \n",
       "2                 0.796443  0.892436   0.796443  0.656173  0.091876  \n",
       "3                 0.800052  0.894456   0.800052  0.618665  0.113842  \n",
       "4                 0.805763  0.897643   0.805763  0.619135  0.104288  \n",
       "5                 1.056889  1.028051   1.056889  0.746915  0.113832  \n",
       "6                 1.100144  1.048878   1.100144  0.725743  0.127928  \n",
       "7                 1.236186  1.111839   1.236186  0.757219  0.134491  \n",
       "8                 1.261679  1.123245   1.261679  0.776453  0.121459  \n",
       "9                 1.274768  1.129056   1.274768  0.776065  0.125758  \n",
       "10                1.278034  1.130502   1.278034  0.766001  0.120574  \n",
       "11                1.369263  1.170155   1.369263  0.814244  0.119023  \n",
       "12                1.524025  1.234514   1.524025  0.888807  0.126197  \n",
       "13                1.732378  1.316198   1.732378  0.971902  0.117014  \n",
       "14                1.829779  1.352693   1.829779  0.967970  0.142621  \n",
       "15                2.167153  1.472125   2.167153  1.086473  0.139924  \n",
       "16                2.422297  1.556373   2.422297  1.093089  0.147333  \n",
       "17                2.587524  1.608578   2.587524  1.141070  0.162033  \n",
       "18                2.588641  1.608925   2.588641  1.126003  0.162016  \n",
       "19                2.825908  1.681044   2.825908  1.294949  0.156773  \n",
       "20                3.105844  1.762341   3.105844  1.294660  0.184919  \n",
       "21                3.673188  1.916556   3.673188  1.348878  0.171553  \n",
       "22                4.014114  2.003525   4.014114  1.514668  0.190918  \n",
       "23                4.770076  2.184050   4.770076  1.587841  0.210313  \n",
       "24                4.932912  2.221016   4.932912  1.639050  0.231548  \n",
       "25                5.187303  2.277565   5.187303  1.684263  0.228978  \n",
       "26                5.321157  2.306763   5.321157  1.764571  0.192319  \n",
       "27                5.929395  2.435035   5.929395  1.796851  0.194273  \n",
       "28                6.010363  2.451604   6.010363  1.788272  0.199768  \n",
       "29                6.623116  2.573542   6.623116  2.007393  0.241202  \n",
       "30                7.880114  2.807154   7.880114  2.082899  0.210186  \n",
       "31                8.352408  2.890053   8.352408  2.214708  0.229336  \n",
       "32               16.188879  4.023541  16.188879  3.034763  0.306221  \n",
       "33               17.012309  4.124598  17.012309  3.288605  0.315771  \n",
       "34               18.761218  4.331422  18.761218  3.355449  0.298189  \n",
       "35               25.404390  5.040277  25.404390  4.125647  0.372810  \n",
       "36               26.236290  5.122137  26.236290  4.180197  0.378837  \n",
       "37               26.376455  5.135801  26.376455  4.207204  0.379174  \n",
       "38               27.251373  5.220285  27.251373  4.276460  0.384478  \n",
       "39               27.390722  5.233615  27.390722  4.286758  0.385496  "
      ]
     },
     "execution_count": 124,
     "metadata": {},
     "output_type": "execute_result"
    }
   ],
   "source": [
    "aml_leaderboard_df"
   ]
  },
  {
   "cell_type": "code",
   "execution_count": 125,
   "metadata": {
    "collapsed": true
   },
   "outputs": [],
   "source": [
    "# STart best model as first model\n",
    "\n",
    "model_set=aml_leaderboard_df['model_id']\n",
    "mod_best=h2o.get_model(model_set[0])\n"
   ]
  },
  {
   "cell_type": "code",
   "execution_count": 126,
   "metadata": {},
   "outputs": [
    {
     "data": {
      "text/plain": [
       "'StackedEnsemble_AllModels_0_AutoML_20180911_165725'"
      ]
     },
     "execution_count": 126,
     "metadata": {},
     "output_type": "execute_result"
    }
   ],
   "source": [
    "mod_best._id"
   ]
  },
  {
   "cell_type": "code",
   "execution_count": null,
   "metadata": {
    "collapsed": true
   },
   "outputs": [],
   "source": [
    "model_set1"
   ]
  },
  {
   "cell_type": "code",
   "execution_count": 127,
   "metadata": {
    "collapsed": true
   },
   "outputs": [],
   "source": [
    "# Get stacked ensemble  \n",
    "se=get_stacked_ensemble(model_set)"
   ]
  },
  {
   "cell_type": "code",
   "execution_count": 128,
   "metadata": {},
   "outputs": [
    {
     "name": "stdout",
     "output_type": "stream",
     "text": [
      "StackedEnsemble_BestOfFamily_0_AutoML_20180911_165725\n"
     ]
    }
   ],
   "source": [
    "print(se)"
   ]
  },
  {
   "cell_type": "code",
   "execution_count": 129,
   "metadata": {
    "collapsed": true
   },
   "outputs": [],
   "source": [
    "if se is not None:\n",
    "  mod_best=h2o.get_model(se)"
   ]
  },
  {
   "cell_type": "code",
   "execution_count": null,
   "metadata": {
    "collapsed": true
   },
   "outputs": [],
   "source": [
    "mod_best.confusion_matrix(data=train)"
   ]
  },
  {
   "cell_type": "code",
   "execution_count": 131,
   "metadata": {},
   "outputs": [
    {
     "data": {
      "text/plain": [
       "'StackedEnsemble_BestOfFamily_0_AutoML_20180911_165725'"
      ]
     },
     "execution_count": 131,
     "metadata": {},
     "output_type": "execute_result"
    }
   ],
   "source": [
    "mod_best._id"
   ]
  },
  {
   "cell_type": "code",
   "execution_count": 132,
   "metadata": {},
   "outputs": [
    {
     "data": {
      "text/plain": [
       "<function h2o.model.model_base.ModelBase._get_metrics>"
      ]
     },
     "execution_count": 132,
     "metadata": {},
     "output_type": "execute_result"
    }
   ],
   "source": [
    "mod_best._get_metrics"
   ]
  },
  {
   "cell_type": "code",
   "execution_count": 133,
   "metadata": {},
   "outputs": [
    {
     "data": {
      "text/plain": [
       "h2o.estimators.stackedensemble.H2OStackedEnsembleEstimator"
      ]
     },
     "execution_count": 133,
     "metadata": {},
     "output_type": "execute_result"
    }
   ],
   "source": [
    "type(mod_best)"
   ]
  },
  {
   "cell_type": "code",
   "execution_count": 134,
   "metadata": {},
   "outputs": [
    {
     "name": "stdout",
     "output_type": "stream",
     "text": [
      "Model Details\n",
      "=============\n",
      "H2OStackedEnsembleEstimator :  Stacked Ensemble\n",
      "Model Key:  StackedEnsemble_BestOfFamily_0_AutoML_20180911_165725\n",
      "No model summary for this model\n",
      "\n",
      "\n",
      "ModelMetricsRegressionGLM: stackedensemble\n",
      "** Reported on train data. **\n",
      "\n",
      "MSE: 0.2656240839673641\n",
      "RMSE: 0.5153873145192498\n",
      "MAE: 0.37835965719714737\n",
      "RMSLE: 0.07721728464557322\n",
      "R^2: 0.9903186553874367\n",
      "Mean Residual Deviance: 0.2656240839673641\n",
      "Null degrees of freedom: 157\n",
      "Residual degrees of freedom: 152\n",
      "Null deviance: 4334.997559366069\n",
      "Residual deviance: 41.968605266843525\n",
      "AIC: 252.9282128040255\n",
      "\n",
      "ModelMetricsRegressionGLM: stackedensemble\n",
      "** Reported on validation data. **\n",
      "\n",
      "MSE: 0.4091217177636795\n",
      "RMSE: 0.6396262328607852\n",
      "MAE: 0.5050625669918949\n",
      "RMSLE: 0.04683398783969261\n",
      "R^2: 0.9840218140842899\n",
      "Mean Residual Deviance: 0.4091217177636795\n",
      "Null degrees of freedom: 41\n",
      "Residual degrees of freedom: 36\n",
      "Null deviance: 1083.943065834998\n",
      "Residual deviance: 17.18311214607454\n",
      "AIC: 95.6536489009044\n",
      "\n",
      "ModelMetricsRegressionGLM: stackedensemble\n",
      "** Reported on cross-validation data. **\n",
      "\n",
      "MSE: 0.8000518451583354\n",
      "RMSE: 0.8944561728549563\n",
      "MAE: 0.6186652808215861\n",
      "RMSLE: 0.11384154078130584\n",
      "R^2: 0.9708400778076788\n",
      "Mean Residual Deviance: 0.8000518451583354\n",
      "Null degrees of freedom: 157\n",
      "Residual degrees of freedom: 153\n",
      "Null deviance: 4375.375773959217\n",
      "Residual deviance: 126.40819153501698\n",
      "AIC: 425.1381344720268\n",
      "<bound method ModelBase.coef_norm of >\n"
     ]
    }
   ],
   "source": [
    "mods=mod_best.coef_norm\n",
    "print(mods)"
   ]
  },
  {
   "cell_type": "code",
   "execution_count": 136,
   "metadata": {
    "collapsed": true
   },
   "outputs": [],
   "source": [
    "bm=stackedensemble_df(aml_leaderboard_df)"
   ]
  },
  {
   "cell_type": "code",
   "execution_count": 137,
   "metadata": {},
   "outputs": [
    {
     "data": {
      "text/plain": [
       "['GBM_grid_0_AutoML_20180911_165725_model_4',\n",
       " 'GLM_grid_0_AutoML_20180911_165725_model_0',\n",
       " 'DRF_0_AutoML_20180911_165725',\n",
       " 'XRT_0_AutoML_20180911_165725',\n",
       " 'DeepLearning_0_AutoML_20180911_165725']"
      ]
     },
     "execution_count": 137,
     "metadata": {},
     "output_type": "execute_result"
    }
   ],
   "source": [
    "bm"
   ]
  },
  {
   "cell_type": "code",
   "execution_count": 138,
   "metadata": {},
   "outputs": [
    {
     "data": {
      "text/html": [
       "<div>\n",
       "<style>\n",
       "    .dataframe thead tr:only-child th {\n",
       "        text-align: right;\n",
       "    }\n",
       "\n",
       "    .dataframe thead th {\n",
       "        text-align: left;\n",
       "    }\n",
       "\n",
       "    .dataframe tbody tr th {\n",
       "        vertical-align: top;\n",
       "    }\n",
       "</style>\n",
       "<table border=\"1\" class=\"dataframe\">\n",
       "  <thead>\n",
       "    <tr style=\"text-align: right;\">\n",
       "      <th></th>\n",
       "      <th>model_id</th>\n",
       "      <th>mean_residual_deviance</th>\n",
       "      <th>rmse</th>\n",
       "      <th>mse</th>\n",
       "      <th>mae</th>\n",
       "      <th>rmsle</th>\n",
       "    </tr>\n",
       "  </thead>\n",
       "  <tbody>\n",
       "    <tr>\n",
       "      <th>0</th>\n",
       "      <td>StackedEnsemble_AllModels_0_AutoML_20180911_165725</td>\n",
       "      <td>0.699153</td>\n",
       "      <td>0.836154</td>\n",
       "      <td>0.699153</td>\n",
       "      <td>0.584355</td>\n",
       "      <td>0.103589</td>\n",
       "    </tr>\n",
       "    <tr>\n",
       "      <th>1</th>\n",
       "      <td>GBM_grid_0_AutoML_20180911_165725_model_4</td>\n",
       "      <td>0.772541</td>\n",
       "      <td>0.878943</td>\n",
       "      <td>0.772541</td>\n",
       "      <td>0.613218</td>\n",
       "      <td>0.109507</td>\n",
       "    </tr>\n",
       "    <tr>\n",
       "      <th>2</th>\n",
       "      <td>GBM_grid_0_AutoML_20180911_165725_model_13</td>\n",
       "      <td>0.796443</td>\n",
       "      <td>0.892436</td>\n",
       "      <td>0.796443</td>\n",
       "      <td>0.656173</td>\n",
       "      <td>0.091876</td>\n",
       "    </tr>\n",
       "    <tr>\n",
       "      <th>3</th>\n",
       "      <td>StackedEnsemble_BestOfFamily_0_AutoML_20180911_165725</td>\n",
       "      <td>0.800052</td>\n",
       "      <td>0.894456</td>\n",
       "      <td>0.800052</td>\n",
       "      <td>0.618665</td>\n",
       "      <td>0.113842</td>\n",
       "    </tr>\n",
       "    <tr>\n",
       "      <th>4</th>\n",
       "      <td>GBM_grid_0_AutoML_20180911_165725_model_19</td>\n",
       "      <td>0.805763</td>\n",
       "      <td>0.897643</td>\n",
       "      <td>0.805763</td>\n",
       "      <td>0.619135</td>\n",
       "      <td>0.104288</td>\n",
       "    </tr>\n",
       "    <tr>\n",
       "      <th>5</th>\n",
       "      <td>GBM_grid_0_AutoML_20180911_165725_model_1</td>\n",
       "      <td>1.056889</td>\n",
       "      <td>1.028051</td>\n",
       "      <td>1.056889</td>\n",
       "      <td>0.746915</td>\n",
       "      <td>0.113832</td>\n",
       "    </tr>\n",
       "    <tr>\n",
       "      <th>6</th>\n",
       "      <td>GBM_grid_0_AutoML_20180911_165725_model_6</td>\n",
       "      <td>1.100144</td>\n",
       "      <td>1.048878</td>\n",
       "      <td>1.100144</td>\n",
       "      <td>0.725743</td>\n",
       "      <td>0.127928</td>\n",
       "    </tr>\n",
       "    <tr>\n",
       "      <th>7</th>\n",
       "      <td>GBM_grid_0_AutoML_20180911_165725_model_7</td>\n",
       "      <td>1.236186</td>\n",
       "      <td>1.111839</td>\n",
       "      <td>1.236186</td>\n",
       "      <td>0.757219</td>\n",
       "      <td>0.134491</td>\n",
       "    </tr>\n",
       "    <tr>\n",
       "      <th>8</th>\n",
       "      <td>GBM_grid_0_AutoML_20180911_165725_model_26</td>\n",
       "      <td>1.261679</td>\n",
       "      <td>1.123245</td>\n",
       "      <td>1.261679</td>\n",
       "      <td>0.776453</td>\n",
       "      <td>0.121459</td>\n",
       "    </tr>\n",
       "    <tr>\n",
       "      <th>9</th>\n",
       "      <td>GBM_grid_0_AutoML_20180911_165725_model_2</td>\n",
       "      <td>1.274768</td>\n",
       "      <td>1.129056</td>\n",
       "      <td>1.274768</td>\n",
       "      <td>0.776065</td>\n",
       "      <td>0.125758</td>\n",
       "    </tr>\n",
       "    <tr>\n",
       "      <th>10</th>\n",
       "      <td>GBM_grid_0_AutoML_20180911_165725_model_22</td>\n",
       "      <td>1.278034</td>\n",
       "      <td>1.130502</td>\n",
       "      <td>1.278034</td>\n",
       "      <td>0.766001</td>\n",
       "      <td>0.120574</td>\n",
       "    </tr>\n",
       "    <tr>\n",
       "      <th>11</th>\n",
       "      <td>GBM_grid_0_AutoML_20180911_165725_model_21</td>\n",
       "      <td>1.369263</td>\n",
       "      <td>1.170155</td>\n",
       "      <td>1.369263</td>\n",
       "      <td>0.814244</td>\n",
       "      <td>0.119023</td>\n",
       "    </tr>\n",
       "    <tr>\n",
       "      <th>12</th>\n",
       "      <td>GBM_grid_0_AutoML_20180911_165725_model_36</td>\n",
       "      <td>1.524025</td>\n",
       "      <td>1.234514</td>\n",
       "      <td>1.524025</td>\n",
       "      <td>0.888807</td>\n",
       "      <td>0.126197</td>\n",
       "    </tr>\n",
       "    <tr>\n",
       "      <th>13</th>\n",
       "      <td>GBM_grid_0_AutoML_20180911_165725_model_0</td>\n",
       "      <td>1.732378</td>\n",
       "      <td>1.316198</td>\n",
       "      <td>1.732378</td>\n",
       "      <td>0.971902</td>\n",
       "      <td>0.117014</td>\n",
       "    </tr>\n",
       "    <tr>\n",
       "      <th>14</th>\n",
       "      <td>GBM_grid_0_AutoML_20180911_165725_model_3</td>\n",
       "      <td>1.829779</td>\n",
       "      <td>1.352693</td>\n",
       "      <td>1.829779</td>\n",
       "      <td>0.967970</td>\n",
       "      <td>0.142621</td>\n",
       "    </tr>\n",
       "    <tr>\n",
       "      <th>15</th>\n",
       "      <td>GBM_grid_0_AutoML_20180911_165725_model_31</td>\n",
       "      <td>2.167153</td>\n",
       "      <td>1.472125</td>\n",
       "      <td>2.167153</td>\n",
       "      <td>1.086473</td>\n",
       "      <td>0.139924</td>\n",
       "    </tr>\n",
       "    <tr>\n",
       "      <th>16</th>\n",
       "      <td>GBM_grid_0_AutoML_20180911_165725_model_5</td>\n",
       "      <td>2.422297</td>\n",
       "      <td>1.556373</td>\n",
       "      <td>2.422297</td>\n",
       "      <td>1.093089</td>\n",
       "      <td>0.147333</td>\n",
       "    </tr>\n",
       "    <tr>\n",
       "      <th>17</th>\n",
       "      <td>GBM_grid_0_AutoML_20180911_165725_model_32</td>\n",
       "      <td>2.587524</td>\n",
       "      <td>1.608578</td>\n",
       "      <td>2.587524</td>\n",
       "      <td>1.141070</td>\n",
       "      <td>0.162033</td>\n",
       "    </tr>\n",
       "    <tr>\n",
       "      <th>18</th>\n",
       "      <td>GBM_grid_0_AutoML_20180911_165725_model_8</td>\n",
       "      <td>2.588641</td>\n",
       "      <td>1.608925</td>\n",
       "      <td>2.588641</td>\n",
       "      <td>1.126003</td>\n",
       "      <td>0.162016</td>\n",
       "    </tr>\n",
       "    <tr>\n",
       "      <th>19</th>\n",
       "      <td>GBM_grid_0_AutoML_20180911_165725_model_18</td>\n",
       "      <td>2.825908</td>\n",
       "      <td>1.681044</td>\n",
       "      <td>2.825908</td>\n",
       "      <td>1.294949</td>\n",
       "      <td>0.156773</td>\n",
       "    </tr>\n",
       "    <tr>\n",
       "      <th>20</th>\n",
       "      <td>GLM_grid_0_AutoML_20180911_165725_model_0</td>\n",
       "      <td>3.105844</td>\n",
       "      <td>1.762341</td>\n",
       "      <td>3.105844</td>\n",
       "      <td>1.294660</td>\n",
       "      <td>0.184919</td>\n",
       "    </tr>\n",
       "    <tr>\n",
       "      <th>21</th>\n",
       "      <td>GBM_grid_0_AutoML_20180911_165725_model_37</td>\n",
       "      <td>3.673188</td>\n",
       "      <td>1.916556</td>\n",
       "      <td>3.673188</td>\n",
       "      <td>1.348878</td>\n",
       "      <td>0.171553</td>\n",
       "    </tr>\n",
       "    <tr>\n",
       "      <th>22</th>\n",
       "      <td>DeepLearning_0_AutoML_20180911_165725</td>\n",
       "      <td>4.014114</td>\n",
       "      <td>2.003525</td>\n",
       "      <td>4.014114</td>\n",
       "      <td>1.514668</td>\n",
       "      <td>0.190918</td>\n",
       "    </tr>\n",
       "    <tr>\n",
       "      <th>23</th>\n",
       "      <td>GBM_grid_0_AutoML_20180911_165725_model_10</td>\n",
       "      <td>4.770076</td>\n",
       "      <td>2.184050</td>\n",
       "      <td>4.770076</td>\n",
       "      <td>1.587841</td>\n",
       "      <td>0.210313</td>\n",
       "    </tr>\n",
       "    <tr>\n",
       "      <th>24</th>\n",
       "      <td>GBM_grid_0_AutoML_20180911_165725_model_25</td>\n",
       "      <td>4.932912</td>\n",
       "      <td>2.221016</td>\n",
       "      <td>4.932912</td>\n",
       "      <td>1.639050</td>\n",
       "      <td>0.231548</td>\n",
       "    </tr>\n",
       "    <tr>\n",
       "      <th>25</th>\n",
       "      <td>GBM_grid_0_AutoML_20180911_165725_model_16</td>\n",
       "      <td>5.187303</td>\n",
       "      <td>2.277565</td>\n",
       "      <td>5.187303</td>\n",
       "      <td>1.684263</td>\n",
       "      <td>0.228978</td>\n",
       "    </tr>\n",
       "    <tr>\n",
       "      <th>26</th>\n",
       "      <td>GBM_grid_0_AutoML_20180911_165725_model_33</td>\n",
       "      <td>5.321157</td>\n",
       "      <td>2.306763</td>\n",
       "      <td>5.321157</td>\n",
       "      <td>1.764571</td>\n",
       "      <td>0.192319</td>\n",
       "    </tr>\n",
       "    <tr>\n",
       "      <th>27</th>\n",
       "      <td>DRF_0_AutoML_20180911_165725</td>\n",
       "      <td>5.929395</td>\n",
       "      <td>2.435035</td>\n",
       "      <td>5.929395</td>\n",
       "      <td>1.796851</td>\n",
       "      <td>0.194273</td>\n",
       "    </tr>\n",
       "    <tr>\n",
       "      <th>28</th>\n",
       "      <td>XRT_0_AutoML_20180911_165725</td>\n",
       "      <td>6.010363</td>\n",
       "      <td>2.451604</td>\n",
       "      <td>6.010363</td>\n",
       "      <td>1.788272</td>\n",
       "      <td>0.199768</td>\n",
       "    </tr>\n",
       "    <tr>\n",
       "      <th>29</th>\n",
       "      <td>GBM_grid_0_AutoML_20180911_165725_model_27</td>\n",
       "      <td>6.623116</td>\n",
       "      <td>2.573542</td>\n",
       "      <td>6.623116</td>\n",
       "      <td>2.007393</td>\n",
       "      <td>0.241202</td>\n",
       "    </tr>\n",
       "    <tr>\n",
       "      <th>30</th>\n",
       "      <td>GBM_grid_0_AutoML_20180911_165725_model_11</td>\n",
       "      <td>7.880114</td>\n",
       "      <td>2.807154</td>\n",
       "      <td>7.880114</td>\n",
       "      <td>2.082899</td>\n",
       "      <td>0.210186</td>\n",
       "    </tr>\n",
       "    <tr>\n",
       "      <th>31</th>\n",
       "      <td>GBM_grid_0_AutoML_20180911_165725_model_28</td>\n",
       "      <td>8.352408</td>\n",
       "      <td>2.890053</td>\n",
       "      <td>8.352408</td>\n",
       "      <td>2.214708</td>\n",
       "      <td>0.229336</td>\n",
       "    </tr>\n",
       "    <tr>\n",
       "      <th>32</th>\n",
       "      <td>GBM_grid_0_AutoML_20180911_165725_model_9</td>\n",
       "      <td>16.188879</td>\n",
       "      <td>4.023541</td>\n",
       "      <td>16.188879</td>\n",
       "      <td>3.034763</td>\n",
       "      <td>0.306221</td>\n",
       "    </tr>\n",
       "    <tr>\n",
       "      <th>33</th>\n",
       "      <td>GBM_grid_0_AutoML_20180911_165725_model_23</td>\n",
       "      <td>17.012309</td>\n",
       "      <td>4.124598</td>\n",
       "      <td>17.012309</td>\n",
       "      <td>3.288605</td>\n",
       "      <td>0.315771</td>\n",
       "    </tr>\n",
       "    <tr>\n",
       "      <th>34</th>\n",
       "      <td>GBM_grid_0_AutoML_20180911_165725_model_30</td>\n",
       "      <td>18.761218</td>\n",
       "      <td>4.331422</td>\n",
       "      <td>18.761218</td>\n",
       "      <td>3.355449</td>\n",
       "      <td>0.298189</td>\n",
       "    </tr>\n",
       "    <tr>\n",
       "      <th>35</th>\n",
       "      <td>GBM_grid_0_AutoML_20180911_165725_model_20</td>\n",
       "      <td>25.404390</td>\n",
       "      <td>5.040277</td>\n",
       "      <td>25.404390</td>\n",
       "      <td>4.125647</td>\n",
       "      <td>0.372810</td>\n",
       "    </tr>\n",
       "    <tr>\n",
       "      <th>36</th>\n",
       "      <td>GBM_grid_0_AutoML_20180911_165725_model_14</td>\n",
       "      <td>26.236290</td>\n",
       "      <td>5.122137</td>\n",
       "      <td>26.236290</td>\n",
       "      <td>4.180197</td>\n",
       "      <td>0.378837</td>\n",
       "    </tr>\n",
       "    <tr>\n",
       "      <th>37</th>\n",
       "      <td>GBM_grid_0_AutoML_20180911_165725_model_12</td>\n",
       "      <td>26.376455</td>\n",
       "      <td>5.135801</td>\n",
       "      <td>26.376455</td>\n",
       "      <td>4.207204</td>\n",
       "      <td>0.379174</td>\n",
       "    </tr>\n",
       "    <tr>\n",
       "      <th>38</th>\n",
       "      <td>GBM_grid_0_AutoML_20180911_165725_model_15</td>\n",
       "      <td>27.251373</td>\n",
       "      <td>5.220285</td>\n",
       "      <td>27.251373</td>\n",
       "      <td>4.276460</td>\n",
       "      <td>0.384478</td>\n",
       "    </tr>\n",
       "    <tr>\n",
       "      <th>39</th>\n",
       "      <td>GBM_grid_0_AutoML_20180911_165725_model_17</td>\n",
       "      <td>27.390722</td>\n",
       "      <td>5.233615</td>\n",
       "      <td>27.390722</td>\n",
       "      <td>4.286758</td>\n",
       "      <td>0.385496</td>\n",
       "    </tr>\n",
       "  </tbody>\n",
       "</table>\n",
       "</div>"
      ],
      "text/plain": [
       "                                                 model_id  \\\n",
       "0      StackedEnsemble_AllModels_0_AutoML_20180911_165725   \n",
       "1               GBM_grid_0_AutoML_20180911_165725_model_4   \n",
       "2              GBM_grid_0_AutoML_20180911_165725_model_13   \n",
       "3   StackedEnsemble_BestOfFamily_0_AutoML_20180911_165725   \n",
       "4              GBM_grid_0_AutoML_20180911_165725_model_19   \n",
       "5               GBM_grid_0_AutoML_20180911_165725_model_1   \n",
       "6               GBM_grid_0_AutoML_20180911_165725_model_6   \n",
       "7               GBM_grid_0_AutoML_20180911_165725_model_7   \n",
       "8              GBM_grid_0_AutoML_20180911_165725_model_26   \n",
       "9               GBM_grid_0_AutoML_20180911_165725_model_2   \n",
       "10             GBM_grid_0_AutoML_20180911_165725_model_22   \n",
       "11             GBM_grid_0_AutoML_20180911_165725_model_21   \n",
       "12             GBM_grid_0_AutoML_20180911_165725_model_36   \n",
       "13              GBM_grid_0_AutoML_20180911_165725_model_0   \n",
       "14              GBM_grid_0_AutoML_20180911_165725_model_3   \n",
       "15             GBM_grid_0_AutoML_20180911_165725_model_31   \n",
       "16              GBM_grid_0_AutoML_20180911_165725_model_5   \n",
       "17             GBM_grid_0_AutoML_20180911_165725_model_32   \n",
       "18              GBM_grid_0_AutoML_20180911_165725_model_8   \n",
       "19             GBM_grid_0_AutoML_20180911_165725_model_18   \n",
       "20              GLM_grid_0_AutoML_20180911_165725_model_0   \n",
       "21             GBM_grid_0_AutoML_20180911_165725_model_37   \n",
       "22                  DeepLearning_0_AutoML_20180911_165725   \n",
       "23             GBM_grid_0_AutoML_20180911_165725_model_10   \n",
       "24             GBM_grid_0_AutoML_20180911_165725_model_25   \n",
       "25             GBM_grid_0_AutoML_20180911_165725_model_16   \n",
       "26             GBM_grid_0_AutoML_20180911_165725_model_33   \n",
       "27                           DRF_0_AutoML_20180911_165725   \n",
       "28                           XRT_0_AutoML_20180911_165725   \n",
       "29             GBM_grid_0_AutoML_20180911_165725_model_27   \n",
       "30             GBM_grid_0_AutoML_20180911_165725_model_11   \n",
       "31             GBM_grid_0_AutoML_20180911_165725_model_28   \n",
       "32              GBM_grid_0_AutoML_20180911_165725_model_9   \n",
       "33             GBM_grid_0_AutoML_20180911_165725_model_23   \n",
       "34             GBM_grid_0_AutoML_20180911_165725_model_30   \n",
       "35             GBM_grid_0_AutoML_20180911_165725_model_20   \n",
       "36             GBM_grid_0_AutoML_20180911_165725_model_14   \n",
       "37             GBM_grid_0_AutoML_20180911_165725_model_12   \n",
       "38             GBM_grid_0_AutoML_20180911_165725_model_15   \n",
       "39             GBM_grid_0_AutoML_20180911_165725_model_17   \n",
       "\n",
       "    mean_residual_deviance      rmse        mse       mae     rmsle  \n",
       "0                 0.699153  0.836154   0.699153  0.584355  0.103589  \n",
       "1                 0.772541  0.878943   0.772541  0.613218  0.109507  \n",
       "2                 0.796443  0.892436   0.796443  0.656173  0.091876  \n",
       "3                 0.800052  0.894456   0.800052  0.618665  0.113842  \n",
       "4                 0.805763  0.897643   0.805763  0.619135  0.104288  \n",
       "5                 1.056889  1.028051   1.056889  0.746915  0.113832  \n",
       "6                 1.100144  1.048878   1.100144  0.725743  0.127928  \n",
       "7                 1.236186  1.111839   1.236186  0.757219  0.134491  \n",
       "8                 1.261679  1.123245   1.261679  0.776453  0.121459  \n",
       "9                 1.274768  1.129056   1.274768  0.776065  0.125758  \n",
       "10                1.278034  1.130502   1.278034  0.766001  0.120574  \n",
       "11                1.369263  1.170155   1.369263  0.814244  0.119023  \n",
       "12                1.524025  1.234514   1.524025  0.888807  0.126197  \n",
       "13                1.732378  1.316198   1.732378  0.971902  0.117014  \n",
       "14                1.829779  1.352693   1.829779  0.967970  0.142621  \n",
       "15                2.167153  1.472125   2.167153  1.086473  0.139924  \n",
       "16                2.422297  1.556373   2.422297  1.093089  0.147333  \n",
       "17                2.587524  1.608578   2.587524  1.141070  0.162033  \n",
       "18                2.588641  1.608925   2.588641  1.126003  0.162016  \n",
       "19                2.825908  1.681044   2.825908  1.294949  0.156773  \n",
       "20                3.105844  1.762341   3.105844  1.294660  0.184919  \n",
       "21                3.673188  1.916556   3.673188  1.348878  0.171553  \n",
       "22                4.014114  2.003525   4.014114  1.514668  0.190918  \n",
       "23                4.770076  2.184050   4.770076  1.587841  0.210313  \n",
       "24                4.932912  2.221016   4.932912  1.639050  0.231548  \n",
       "25                5.187303  2.277565   5.187303  1.684263  0.228978  \n",
       "26                5.321157  2.306763   5.321157  1.764571  0.192319  \n",
       "27                5.929395  2.435035   5.929395  1.796851  0.194273  \n",
       "28                6.010363  2.451604   6.010363  1.788272  0.199768  \n",
       "29                6.623116  2.573542   6.623116  2.007393  0.241202  \n",
       "30                7.880114  2.807154   7.880114  2.082899  0.210186  \n",
       "31                8.352408  2.890053   8.352408  2.214708  0.229336  \n",
       "32               16.188879  4.023541  16.188879  3.034763  0.306221  \n",
       "33               17.012309  4.124598  17.012309  3.288605  0.315771  \n",
       "34               18.761218  4.331422  18.761218  3.355449  0.298189  \n",
       "35               25.404390  5.040277  25.404390  4.125647  0.372810  \n",
       "36               26.236290  5.122137  26.236290  4.180197  0.378837  \n",
       "37               26.376455  5.135801  26.376455  4.207204  0.379174  \n",
       "38               27.251373  5.220285  27.251373  4.276460  0.384478  \n",
       "39               27.390722  5.233615  27.390722  4.286758  0.385496  "
      ]
     },
     "execution_count": 138,
     "metadata": {},
     "output_type": "execute_result"
    }
   ],
   "source": [
    "aml_leaderboard_df"
   ]
  },
  {
   "cell_type": "code",
   "execution_count": 139,
   "metadata": {
    "collapsed": true
   },
   "outputs": [],
   "source": [
    "#  Get best_models and coef_norm()\n",
    "best_models={}\n",
    "best_models=helperfunc.stackedensemble(mod_best)\n",
    "bm=[]\n",
    "if best_models is not None: \n",
    "    if 'Intercept' in best_models.keys():\n",
    "        del best_models['Intercept']\n",
    "    bm=list(best_models.keys())\n",
    "else:\n",
    "    best_models={}\n",
    "    bm=stackedensemble_df(aml_leaderboard_df)   \n",
    "    for b in bm:   \n",
    "        best_models[b]=None\n",
    "\n",
    "if mod_best.model_id not in bm:\n",
    "    bm.append(mod_best.model_id)"
   ]
  },
  {
   "cell_type": "code",
   "execution_count": 140,
   "metadata": {},
   "outputs": [
    {
     "data": {
      "text/plain": [
       "['GBM_grid_0_AutoML_20180911_165725_model_4',\n",
       " 'GLM_grid_0_AutoML_20180911_165725_model_0',\n",
       " 'DeepLearning_0_AutoML_20180911_165725',\n",
       " 'DRF_0_AutoML_20180911_165725',\n",
       " 'XRT_0_AutoML_20180911_165725',\n",
       " 'StackedEnsemble_BestOfFamily_0_AutoML_20180911_165725']"
      ]
     },
     "execution_count": 140,
     "metadata": {},
     "output_type": "execute_result"
    }
   ],
   "source": [
    "bm"
   ]
  },
  {
   "cell_type": "code",
   "execution_count": 141,
   "metadata": {
    "collapsed": true
   },
   "outputs": [],
   "source": [
    "# Best of Family leaderboard\n",
    "\n",
    "aml_leaderboard_df=aml_leaderboard_df.loc[aml_leaderboard_df['model_id'].isin(bm)]\n"
   ]
  },
  {
   "cell_type": "code",
   "execution_count": 142,
   "metadata": {},
   "outputs": [
    {
     "data": {
      "text/html": [
       "<div>\n",
       "<style>\n",
       "    .dataframe thead tr:only-child th {\n",
       "        text-align: right;\n",
       "    }\n",
       "\n",
       "    .dataframe thead th {\n",
       "        text-align: left;\n",
       "    }\n",
       "\n",
       "    .dataframe tbody tr th {\n",
       "        vertical-align: top;\n",
       "    }\n",
       "</style>\n",
       "<table border=\"1\" class=\"dataframe\">\n",
       "  <thead>\n",
       "    <tr style=\"text-align: right;\">\n",
       "      <th></th>\n",
       "      <th>model_id</th>\n",
       "      <th>mean_residual_deviance</th>\n",
       "      <th>rmse</th>\n",
       "      <th>mse</th>\n",
       "      <th>mae</th>\n",
       "      <th>rmsle</th>\n",
       "    </tr>\n",
       "  </thead>\n",
       "  <tbody>\n",
       "    <tr>\n",
       "      <th>1</th>\n",
       "      <td>GBM_grid_0_AutoML_20180911_165725_model_4</td>\n",
       "      <td>0.772541</td>\n",
       "      <td>0.878943</td>\n",
       "      <td>0.772541</td>\n",
       "      <td>0.613218</td>\n",
       "      <td>0.109507</td>\n",
       "    </tr>\n",
       "    <tr>\n",
       "      <th>3</th>\n",
       "      <td>StackedEnsemble_BestOfFamily_0_AutoML_20180911_165725</td>\n",
       "      <td>0.800052</td>\n",
       "      <td>0.894456</td>\n",
       "      <td>0.800052</td>\n",
       "      <td>0.618665</td>\n",
       "      <td>0.113842</td>\n",
       "    </tr>\n",
       "    <tr>\n",
       "      <th>20</th>\n",
       "      <td>GLM_grid_0_AutoML_20180911_165725_model_0</td>\n",
       "      <td>3.105844</td>\n",
       "      <td>1.762341</td>\n",
       "      <td>3.105844</td>\n",
       "      <td>1.294660</td>\n",
       "      <td>0.184919</td>\n",
       "    </tr>\n",
       "    <tr>\n",
       "      <th>22</th>\n",
       "      <td>DeepLearning_0_AutoML_20180911_165725</td>\n",
       "      <td>4.014114</td>\n",
       "      <td>2.003525</td>\n",
       "      <td>4.014114</td>\n",
       "      <td>1.514668</td>\n",
       "      <td>0.190918</td>\n",
       "    </tr>\n",
       "    <tr>\n",
       "      <th>27</th>\n",
       "      <td>DRF_0_AutoML_20180911_165725</td>\n",
       "      <td>5.929395</td>\n",
       "      <td>2.435035</td>\n",
       "      <td>5.929395</td>\n",
       "      <td>1.796851</td>\n",
       "      <td>0.194273</td>\n",
       "    </tr>\n",
       "    <tr>\n",
       "      <th>28</th>\n",
       "      <td>XRT_0_AutoML_20180911_165725</td>\n",
       "      <td>6.010363</td>\n",
       "      <td>2.451604</td>\n",
       "      <td>6.010363</td>\n",
       "      <td>1.788272</td>\n",
       "      <td>0.199768</td>\n",
       "    </tr>\n",
       "  </tbody>\n",
       "</table>\n",
       "</div>"
      ],
      "text/plain": [
       "                                                 model_id  \\\n",
       "1               GBM_grid_0_AutoML_20180911_165725_model_4   \n",
       "3   StackedEnsemble_BestOfFamily_0_AutoML_20180911_165725   \n",
       "20              GLM_grid_0_AutoML_20180911_165725_model_0   \n",
       "22                  DeepLearning_0_AutoML_20180911_165725   \n",
       "27                           DRF_0_AutoML_20180911_165725   \n",
       "28                           XRT_0_AutoML_20180911_165725   \n",
       "\n",
       "    mean_residual_deviance      rmse       mse       mae     rmsle  \n",
       "1                 0.772541  0.878943  0.772541  0.613218  0.109507  \n",
       "3                 0.800052  0.894456  0.800052  0.618665  0.113842  \n",
       "20                3.105844  1.762341  3.105844  1.294660  0.184919  \n",
       "22                4.014114  2.003525  4.014114  1.514668  0.190918  \n",
       "27                5.929395  2.435035  5.929395  1.796851  0.194273  \n",
       "28                6.010363  2.451604  6.010363  1.788272  0.199768  "
      ]
     },
     "execution_count": 142,
     "metadata": {},
     "output_type": "execute_result"
    }
   ],
   "source": [
    "aml_leaderboard_df"
   ]
  },
  {
   "cell_type": "code",
   "execution_count": 143,
   "metadata": {
    "collapsed": true
   },
   "outputs": [],
   "source": [
    "# save leaderboard\n",
    "leaderboard_stats=run_id+'_leaderboard.csv'\n",
    "aml_leaderboard_df.to_csv(leaderboard_stats)"
   ]
  },
  {
   "cell_type": "code",
   "execution_count": 144,
   "metadata": {},
   "outputs": [
    {
     "name": "stdout",
     "output_type": "stream",
     "text": [
      "GBM_grid_0_AutoML_20180911_165725_model_4\n"
     ]
    }
   ],
   "source": [
    "top=aml_leaderboard_df.iloc[0]['model_id']\n",
    "print(top)"
   ]
  },
  {
   "cell_type": "code",
   "execution_count": 145,
   "metadata": {},
   "outputs": [
    {
     "name": "stdout",
     "output_type": "stream",
     "text": [
      "GBM_grid_0_AutoML_20180911_165725_model_4\n",
      "gbm\n"
     ]
    }
   ],
   "source": [
    "mod_best=h2o.get_model(top)\n",
    "print(mod_best._id)\n",
    "print(mod_best.algo)"
   ]
  },
  {
   "cell_type": "code",
   "execution_count": 146,
   "metadata": {
    "collapsed": true
   },
   "outputs": [],
   "source": [
    "meta_data['mod_best']=mod_best._id\n",
    "meta_data['mod_best_algo']=mod_best.algo"
   ]
  },
  {
   "cell_type": "code",
   "execution_count": 147,
   "metadata": {
    "collapsed": true
   },
   "outputs": [],
   "source": [
    "meta_data['models']=bm"
   ]
  },
  {
   "cell_type": "code",
   "execution_count": 148,
   "metadata": {
    "collapsed": true
   },
   "outputs": [],
   "source": [
    "models_path=os.path.join(run_dir,'models')\n",
    "for mod in bm:\n",
    "  try:   \n",
    "    m=h2o.get_model(mod) \n",
    "    h2o.save_model(m, path = models_path)\n",
    "  except:    \n",
    "    pass    "
   ]
  },
  {
   "cell_type": "code",
   "execution_count": 1,
   "metadata": {
    "collapsed": true
   },
   "outputs": [],
   "source": [
    "print(models_path)"
   ]
  },
  {
   "cell_type": "markdown",
   "metadata": {},
   "source": [
    "## Individual Model"
   ]
  },
  {
   "cell_type": "code",
   "execution_count": 150,
   "metadata": {},
   "outputs": [
    {
     "name": "stdout",
     "output_type": "stream",
     "text": [
      "{'algo': 'gbm', 'model_id': 'GBM_grid_0_AutoML_20180911_165725_model_4', 'varimp': [('TV', 17376.125, 1.0, 0.685929063968572), ('radio', 7794.36328125, 0.44856740390909944, 0.30768541949018097), ('newspaper', 131.0323944091797, 0.007540944509157231, 0.0051725530086051625), ('ID', 30.727092742919922, 0.0017683512718123242, 0.0012129635326418615)]}\n"
     ]
    }
   ],
   "source": [
    "# GBM\n",
    " \n",
    "mod,mod_id=get_model_by_algo(\"GBM\",best_models)\n",
    "if mod is not None:\n",
    "    try:     \n",
    "        sh_df=mod.scoring_history()\n",
    "        sh_df.to_csv(run_id+'_gbm_scoring_history.csv') \n",
    "    except:\n",
    "        pass   \n",
    "    try:     \n",
    "        stats_gbm={}\n",
    "        stats_gbm=gbm_stats(mod)\n",
    "        n=run_id+'_gbm_stats.json'\n",
    "        dict_to_json(stats_gbm,n)\n",
    "        print(stats_gbm)\n",
    "    except:\n",
    "        pass        "
   ]
  },
  {
   "cell_type": "code",
   "execution_count": null,
   "metadata": {
    "collapsed": true
   },
   "outputs": [],
   "source": [
    "print(gbm_mod)"
   ]
  },
  {
   "cell_type": "code",
   "execution_count": null,
   "metadata": {
    "collapsed": true
   },
   "outputs": [],
   "source": [
    "gbm_mod.varimp_plot()"
   ]
  },
  {
   "cell_type": "markdown",
   "metadata": {},
   "source": [
    "## Distributed Random Forest"
   ]
  },
  {
   "cell_type": "code",
   "execution_count": null,
   "metadata": {
    "collapsed": true
   },
   "outputs": [],
   "source": [
    "drf_mod,mod_id=helperfunc.get_model_by_algo(\"DRF\",best_models)\n",
    "if mod is not None:\n",
    "    try:     \n",
    "        sh_df=mod.scoring_history()\n",
    "        sh_df.to_csv(run_id+'_drf_scoring_history.csv') \n",
    "    except:\n",
    "         pass  \n",
    "    try: \n",
    "        stats_drf={}\n",
    "        stats_drf=helperfunc.drf_stats(drf_mod)\n",
    "        n=run_id+'_drf_stats.json'\n",
    "        dict_to_json(stats_drf,n)\n",
    "        print(stats_drf)\n",
    "    except:\n",
    "         pass"
   ]
  },
  {
   "cell_type": "markdown",
   "metadata": {},
   "source": [
    "Gain/lift plot and partial dependency plots can not be plotted for multiclass classification models.  \n",
    "\n",
    "**Requirments to plot Gain/lift and Partial plots are:**\n",
    "* models that include only numerical values\n",
    "* Column must contain actual binary class labels"
   ]
  },
  {
   "cell_type": "markdown",
   "metadata": {},
   "source": [
    "## Generalized Linear Models"
   ]
  },
  {
   "cell_type": "code",
   "execution_count": null,
   "metadata": {
    "collapsed": true
   },
   "outputs": [],
   "source": [
    "glm_mod,mod_id=helperfunc.get_model_by_algo(\"GLM\",best_models)\n",
    "if mod is not None:\n",
    "    try:     \n",
    "        stats_glm={}\n",
    "        stats_glm=glm_stats(mod)\n",
    "        n=run_id+'_glm_stats.json'\n",
    "        dict_to_json(stats_glm,n)\n",
    "        print(stats_glm)\n",
    "    except:\n",
    "        pass"
   ]
  },
  {
   "cell_type": "markdown",
   "metadata": {},
   "source": [
    "### Statistics for Gradient Boosting Machine"
   ]
  },
  {
   "cell_type": "code",
   "execution_count": null,
   "metadata": {
    "collapsed": true
   },
   "outputs": [],
   "source": [
    "gbm_mod.confusion_matrix(data=test)"
   ]
  },
  {
   "cell_type": "code",
   "execution_count": null,
   "metadata": {
    "collapsed": true
   },
   "outputs": [],
   "source": [
    "gbm_mod.varimp_plot()"
   ]
  },
  {
   "cell_type": "code",
   "execution_count": null,
   "metadata": {
    "collapsed": true
   },
   "outputs": [],
   "source": [
    "drf_mod.confusion_matrix(data=test)"
   ]
  },
  {
   "cell_type": "code",
   "execution_count": null,
   "metadata": {
    "collapsed": true
   },
   "outputs": [],
   "source": [
    "drf_mod.varimp_plot()"
   ]
  },
  {
   "cell_type": "markdown",
   "metadata": {},
   "source": [
    "#### Statistics for Gradient Random Tree"
   ]
  },
  {
   "cell_type": "code",
   "execution_count": null,
   "metadata": {
    "collapsed": true
   },
   "outputs": [],
   "source": [
    "glm_mod.confusion_matrix(data=test)"
   ]
  },
  {
   "cell_type": "code",
   "execution_count": null,
   "metadata": {
    "collapsed": true
   },
   "outputs": [],
   "source": [
    "glm_mod.coef_norm"
   ]
  },
  {
   "cell_type": "markdown",
   "metadata": {},
   "source": [
    "## Predictions"
   ]
  },
  {
   "cell_type": "code",
   "execution_count": null,
   "metadata": {
    "collapsed": true
   },
   "outputs": [],
   "source": [
    "predictions_df=predictions_test(mod_best,test,run_id)"
   ]
  },
  {
   "cell_type": "code",
   "execution_count": null,
   "metadata": {
    "collapsed": true
   },
   "outputs": [],
   "source": [
    "predictions_df.head()"
   ]
  },
  {
   "cell_type": "code",
   "execution_count": null,
   "metadata": {
    "collapsed": true
   },
   "outputs": [],
   "source": [
    "modbest_pred = mod_best.predict(test_data=test)"
   ]
  },
  {
   "cell_type": "code",
   "execution_count": null,
   "metadata": {
    "collapsed": true
   },
   "outputs": [],
   "source": [
    "y_true = test['Passholder Type'].as_data_frame()\n",
    "y_pred = modbest_pred['predict'].as_data_frame()\n",
    "confusion_matrix(y_true['Passholder Type'], y_pred['predict'])"
   ]
  },
  {
   "cell_type": "code",
   "execution_count": null,
   "metadata": {
    "collapsed": true
   },
   "outputs": [],
   "source": [
    "result = confusion_matrix(y_true['Passholder Type'], y_pred['predict'])\n",
    "target_col = len(df['Passholder Type'].unique())\n",
    "prediction = 0\n",
    "for i in (0,target_col - 1):\n",
    "    prediction =  prediction + result[i,i]\n",
    "print('Accuracy for Gbm model is: ',prediction/len(test)*100)"
   ]
  },
  {
   "cell_type": "code",
   "execution_count": null,
   "metadata": {
    "collapsed": true
   },
   "outputs": [],
   "source": [
    "gbm_pred = gbm_mod.predict(test_data=test)"
   ]
  },
  {
   "cell_type": "code",
   "execution_count": null,
   "metadata": {
    "collapsed": true
   },
   "outputs": [],
   "source": [
    "y_true = test['Passholder Type'].as_data_frame()\n",
    "y_pred = gbm_pred['predict'].as_data_frame()\n",
    "confusion_matrix(y_true['Passholder Type'], y_pred['predict'])"
   ]
  },
  {
   "cell_type": "code",
   "execution_count": null,
   "metadata": {
    "collapsed": true
   },
   "outputs": [],
   "source": [
    "result = confusion_matrix(y_true['Passholder Type'], y_pred['predict'])\n",
    "target_col = len(df['Passholder Type'].unique())\n",
    "prediction = 0\n",
    "for i in (0,target_col - 1):\n",
    "    prediction =  prediction + result[i,i]\n",
    "print('Accuracy for Gbm model is: ',prediction/len(test)*100)"
   ]
  },
  {
   "cell_type": "code",
   "execution_count": null,
   "metadata": {
    "collapsed": true
   },
   "outputs": [],
   "source": [
    "drf_pred = drf_mod.predict(test_data=test)"
   ]
  },
  {
   "cell_type": "code",
   "execution_count": null,
   "metadata": {
    "collapsed": true
   },
   "outputs": [],
   "source": [
    "y_true = test['Passholder Type'].as_data_frame()\n",
    "y_pred = drf_pred['predict'].as_data_frame()\n",
    "confusion_matrix(y_true['Passholder Type'], y_pred['predict'])"
   ]
  },
  {
   "cell_type": "code",
   "execution_count": null,
   "metadata": {
    "collapsed": true
   },
   "outputs": [],
   "source": [
    "result = confusion_matrix(y_true['Passholder Type'], y_pred['predict'])\n",
    "target_col = len(df['Passholder Type'].unique())\n",
    "prediction = 0\n",
    "for i in (0,target_col - 1):\n",
    "    prediction =  prediction + result[i,i]\n",
    "print('Accuracy for DRF model is: ',prediction/len(test)*100)"
   ]
  },
  {
   "cell_type": "code",
   "execution_count": null,
   "metadata": {
    "collapsed": true
   },
   "outputs": [],
   "source": [
    "glm_pred = glm_mod.predict(test_data=test)"
   ]
  },
  {
   "cell_type": "code",
   "execution_count": null,
   "metadata": {
    "collapsed": true
   },
   "outputs": [],
   "source": [
    "y_true = test['Passholder Type'].as_data_frame()\n",
    "y_pred = glm_pred['predict'].as_data_frame()\n",
    "confusion_matrix(y_true['Passholder Type'], y_pred['predict'])"
   ]
  },
  {
   "cell_type": "code",
   "execution_count": null,
   "metadata": {
    "collapsed": true
   },
   "outputs": [],
   "source": [
    "result = confusion_matrix(y_true['Passholder Type'], y_pred['predict'])\n",
    "target_col = len(df['Passholder Type'].unique())\n",
    "prediction = 0\n",
    "for i in (0,target_col - 1):\n",
    "    prediction =  prediction + result[i,i]\n",
    "print('Accuracy for XRT model is: ',prediction/len(test)*100)"
   ]
  },
  {
   "cell_type": "markdown",
   "metadata": {},
   "source": [
    "## Prediction Analysis:\n",
    "\n",
    "\n",
    "| Algorithms                         | Accuracy     |\n",
    "|------------- ------------          | ------------ |\n",
    "| Best Of Family model               |**99.92%**    |\n",
    "| GBM Model                          |**99.93%**    |\n",
    "| DRF Model                          |**98.83%**    |\n",
    "| XRT Model                          |**97.12%**    |\n",
    "\n",
    "* Based on the above table we can infer that the GBM model is giving us the best results.\n",
    "* Even though the AUC of Best of family model was better, but when comes to prediction the GBM is performing better.\n",
    "* H2O models predicts the labels based on the probability ratio"
   ]
  },
  {
   "cell_type": "code",
   "execution_count": null,
   "metadata": {
    "collapsed": true
   },
   "outputs": [],
   "source": [
    "# Update and save meta data\n",
    "\n",
    "meta_data['end_time'] = time.time()\n",
    "meta_data['execution_time'] = meta_data['end_time'] - meta_data['start_time']\n",
    "  \n",
    "n=run_id+'_meta_data.json'\n",
    "dict_to_json(meta_data,n)"
   ]
  },
  {
   "cell_type": "code",
   "execution_count": null,
   "metadata": {
    "collapsed": true
   },
   "outputs": [],
   "source": [
    "meta_data"
   ]
  },
  {
   "cell_type": "code",
   "execution_count": 162,
   "metadata": {
    "collapsed": true
   },
   "outputs": [],
   "source": [
    "# Clean up\n",
    "\n",
    "os.chdir(server_path)\n",
    "\n",
    "\n",
    "# h2o.cluster().shutdown()\n",
    "\n",
    "\n",
    "# h2o.cluster().shutdown()"
   ]
  },
  {
   "cell_type": "code",
   "execution_count": 163,
   "metadata": {},
   "outputs": [
    {
     "name": "stdout",
     "output_type": "stream",
     "text": [
      "H2O session _sid_a21f closed.\n"
     ]
    }
   ],
   "source": [
    "h2o.cluster().shutdown()"
   ]
  }
 ],
 "metadata": {
  "kernelspec": {
   "display_name": "Python 3",
   "language": "python",
   "name": "python3"
  },
  "language_info": {
   "codemirror_mode": {
    "name": "ipython",
    "version": 3
   },
   "file_extension": ".py",
   "mimetype": "text/x-python",
   "name": "python",
   "nbconvert_exporter": "python",
   "pygments_lexer": "ipython3",
   "version": "3.6.3"
  }
 },
 "nbformat": 4,
 "nbformat_minor": 2
}
